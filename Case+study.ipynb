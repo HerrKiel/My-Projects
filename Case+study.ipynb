{
 "cells": [
  {
   "cell_type": "code",
   "execution_count": 66,
   "metadata": {},
   "outputs": [],
   "source": [
    "import pandas as pd\n",
    "import numpy as np\n",
    "import matplotlib.pyplot as plt\n",
    "import seaborn as sns\n",
    "%matplotlib inline\n",
    "import os\n",
    "\n",
    "from sklearn.model_selection import KFold, cross_val_predict, cross_val_score, train_test_split\n",
    "from sklearn.ensemble import RandomForestClassifier, ExtraTreesClassifier\n",
    "from xgboost import XGBClassifier"
   ]
  },
  {
   "cell_type": "code",
   "execution_count": 67,
   "metadata": {
    "scrolled": true
   },
   "outputs": [
    {
     "name": "stdout",
     "output_type": "stream",
     "text": [
      "((147072, 11), (50000, 10))\n"
     ]
    }
   ],
   "source": [
    "train = pd.read_csv(\"./Train.csv\")\n",
    "test = pd.read_csv(\"./Eval.csv\")\n",
    "\n",
    "print(train.shape, test.shape)"
   ]
  },
  {
   "cell_type": "code",
   "execution_count": 68,
   "metadata": {
    "collapsed": true
   },
   "outputs": [],
   "source": [
    "def desc_stats(df):\n",
    "    desc = df.describe()\n",
    "    desc.loc['Unique'] = [len(df[col].unique()) for col in desc.columns]\n",
    "    desc.loc['95%'] = [df[col].quantile(0.95) for col in desc.columns]\n",
    "    desc.loc['99%'] = [df[col].quantile(0.99) for col in desc.columns]\n",
    "    desc.loc[\"Missing\"] = [df[col].isnull().sum() for col in desc.columns]\n",
    "    return desc.T"
   ]
  },
  {
   "cell_type": "code",
   "execution_count": 69,
   "metadata": {
    "scrolled": false
   },
   "outputs": [
    {
     "data": {
      "text/plain": [
       "0.0    0.93349\n",
       "1.0    0.06651\n",
       "Name: class_col, dtype: float64"
      ]
     },
     "execution_count": 69,
     "metadata": {},
     "output_type": "execute_result"
    }
   ],
   "source": [
    "train['class_col'].value_counts(normalize=True)"
   ]
  },
  {
   "cell_type": "code",
   "execution_count": 70,
   "metadata": {
    "scrolled": true
   },
   "outputs": [
    {
     "data": {
      "text/plain": [
       "variable_0    47072\n",
       "variable_1    47072\n",
       "variable_2    47072\n",
       "variable_3    47072\n",
       "variable_4    47072\n",
       "variable_5    47072\n",
       "variable_6    47072\n",
       "variable_7    47072\n",
       "variable_8    47072\n",
       "variable_9    47072\n",
       "class_col     47072\n",
       "dtype: int64"
      ]
     },
     "execution_count": 70,
     "metadata": {},
     "output_type": "execute_result"
    }
   ],
   "source": [
    "train.isnull().sum()"
   ]
  },
  {
   "cell_type": "markdown",
   "metadata": {},
   "source": [
    "We have 47072 missing values for all features. So we should delete all the data rows from train."
   ]
  },
  {
   "cell_type": "code",
   "execution_count": 71,
   "metadata": {},
   "outputs": [
    {
     "data": {
      "text/plain": [
       "(100000, 11)"
      ]
     },
     "execution_count": 71,
     "metadata": {},
     "output_type": "execute_result"
    }
   ],
   "source": [
    "train = train.loc[train['class_col'].notnull()]\n",
    "train.shape"
   ]
  },
  {
   "cell_type": "code",
   "execution_count": 72,
   "metadata": {
    "scrolled": true
   },
   "outputs": [
    {
     "data": {
      "text/html": [
       "<div>\n",
       "<style>\n",
       "    .dataframe thead tr:only-child th {\n",
       "        text-align: right;\n",
       "    }\n",
       "\n",
       "    .dataframe thead th {\n",
       "        text-align: left;\n",
       "    }\n",
       "\n",
       "    .dataframe tbody tr th {\n",
       "        vertical-align: top;\n",
       "    }\n",
       "</style>\n",
       "<table border=\"1\" class=\"dataframe\">\n",
       "  <thead>\n",
       "    <tr style=\"text-align: right;\">\n",
       "      <th></th>\n",
       "      <th>count</th>\n",
       "      <th>mean</th>\n",
       "      <th>std</th>\n",
       "      <th>min</th>\n",
       "      <th>25%</th>\n",
       "      <th>50%</th>\n",
       "      <th>75%</th>\n",
       "      <th>max</th>\n",
       "      <th>Unique</th>\n",
       "      <th>95%</th>\n",
       "      <th>99%</th>\n",
       "      <th>Missing</th>\n",
       "    </tr>\n",
       "  </thead>\n",
       "  <tbody>\n",
       "    <tr>\n",
       "      <th>variable_0</th>\n",
       "      <td>100000.0</td>\n",
       "      <td>12.107321</td>\n",
       "      <td>528.035137</td>\n",
       "      <td>-0.291358</td>\n",
       "      <td>-0.234323</td>\n",
       "      <td>0.001486</td>\n",
       "      <td>0.759917</td>\n",
       "      <td>95823.652220</td>\n",
       "      <td>84517.0</td>\n",
       "      <td>1.598362</td>\n",
       "      <td>1.763693</td>\n",
       "      <td>0.0</td>\n",
       "    </tr>\n",
       "    <tr>\n",
       "      <th>variable_1</th>\n",
       "      <td>100000.0</td>\n",
       "      <td>0.013599</td>\n",
       "      <td>0.671062</td>\n",
       "      <td>-2.363636</td>\n",
       "      <td>-0.500000</td>\n",
       "      <td>0.000000</td>\n",
       "      <td>0.500000</td>\n",
       "      <td>2.590909</td>\n",
       "      <td>85.0</td>\n",
       "      <td>1.181818</td>\n",
       "      <td>1.590909</td>\n",
       "      <td>0.0</td>\n",
       "    </tr>\n",
       "    <tr>\n",
       "      <th>variable_2</th>\n",
       "      <td>100000.0</td>\n",
       "      <td>0.433970</td>\n",
       "      <td>4.324017</td>\n",
       "      <td>0.000000</td>\n",
       "      <td>0.000000</td>\n",
       "      <td>0.000000</td>\n",
       "      <td>0.000000</td>\n",
       "      <td>98.000000</td>\n",
       "      <td>16.0</td>\n",
       "      <td>2.000000</td>\n",
       "      <td>4.000000</td>\n",
       "      <td>0.0</td>\n",
       "    </tr>\n",
       "    <tr>\n",
       "      <th>variable_3</th>\n",
       "      <td>100000.0</td>\n",
       "      <td>500.308938</td>\n",
       "      <td>2181.510949</td>\n",
       "      <td>-0.528734</td>\n",
       "      <td>-0.275459</td>\n",
       "      <td>0.000119</td>\n",
       "      <td>0.721373</td>\n",
       "      <td>318121.775400</td>\n",
       "      <td>79055.0</td>\n",
       "      <td>3539.749705</td>\n",
       "      <td>7229.917076</td>\n",
       "      <td>0.0</td>\n",
       "    </tr>\n",
       "    <tr>\n",
       "      <th>variable_4</th>\n",
       "      <td>100000.0</td>\n",
       "      <td>0.167428</td>\n",
       "      <td>1.843019</td>\n",
       "      <td>-0.744872</td>\n",
       "      <td>-0.471368</td>\n",
       "      <td>0.004530</td>\n",
       "      <td>0.520085</td>\n",
       "      <td>305.932051</td>\n",
       "      <td>11928.0</td>\n",
       "      <td>1.562821</td>\n",
       "      <td>3.221026</td>\n",
       "      <td>0.0</td>\n",
       "    </tr>\n",
       "    <tr>\n",
       "      <th>variable_5</th>\n",
       "      <td>100000.0</td>\n",
       "      <td>0.079292</td>\n",
       "      <td>0.860352</td>\n",
       "      <td>-1.333333</td>\n",
       "      <td>-0.500000</td>\n",
       "      <td>0.000000</td>\n",
       "      <td>0.500000</td>\n",
       "      <td>8.333333</td>\n",
       "      <td>55.0</td>\n",
       "      <td>1.666667</td>\n",
       "      <td>2.833333</td>\n",
       "      <td>0.0</td>\n",
       "    </tr>\n",
       "    <tr>\n",
       "      <th>variable_6</th>\n",
       "      <td>100000.0</td>\n",
       "      <td>0.277340</td>\n",
       "      <td>4.301489</td>\n",
       "      <td>0.000000</td>\n",
       "      <td>0.000000</td>\n",
       "      <td>0.000000</td>\n",
       "      <td>0.000000</td>\n",
       "      <td>98.000000</td>\n",
       "      <td>19.0</td>\n",
       "      <td>1.000000</td>\n",
       "      <td>3.000000</td>\n",
       "      <td>0.0</td>\n",
       "    </tr>\n",
       "    <tr>\n",
       "      <th>variable_7</th>\n",
       "      <td>100000.0</td>\n",
       "      <td>0.010735</td>\n",
       "      <td>0.571463</td>\n",
       "      <td>-0.500000</td>\n",
       "      <td>-0.500000</td>\n",
       "      <td>0.000000</td>\n",
       "      <td>0.500000</td>\n",
       "      <td>26.500000</td>\n",
       "      <td>27.0</td>\n",
       "      <td>1.000000</td>\n",
       "      <td>2.000000</td>\n",
       "      <td>0.0</td>\n",
       "    </tr>\n",
       "    <tr>\n",
       "      <th>variable_8</th>\n",
       "      <td>100000.0</td>\n",
       "      <td>0.251830</td>\n",
       "      <td>4.287297</td>\n",
       "      <td>0.000000</td>\n",
       "      <td>0.000000</td>\n",
       "      <td>0.000000</td>\n",
       "      <td>0.000000</td>\n",
       "      <td>98.000000</td>\n",
       "      <td>11.0</td>\n",
       "      <td>1.000000</td>\n",
       "      <td>2.000000</td>\n",
       "      <td>0.0</td>\n",
       "    </tr>\n",
       "    <tr>\n",
       "      <th>variable_9</th>\n",
       "      <td>100000.0</td>\n",
       "      <td>0.740360</td>\n",
       "      <td>1.108458</td>\n",
       "      <td>0.000000</td>\n",
       "      <td>0.000000</td>\n",
       "      <td>0.000000</td>\n",
       "      <td>1.000000</td>\n",
       "      <td>20.000000</td>\n",
       "      <td>12.0</td>\n",
       "      <td>3.000000</td>\n",
       "      <td>4.000000</td>\n",
       "      <td>0.0</td>\n",
       "    </tr>\n",
       "    <tr>\n",
       "      <th>class_col</th>\n",
       "      <td>100000.0</td>\n",
       "      <td>0.066510</td>\n",
       "      <td>0.249173</td>\n",
       "      <td>0.000000</td>\n",
       "      <td>0.000000</td>\n",
       "      <td>0.000000</td>\n",
       "      <td>0.000000</td>\n",
       "      <td>1.000000</td>\n",
       "      <td>2.0</td>\n",
       "      <td>1.000000</td>\n",
       "      <td>1.000000</td>\n",
       "      <td>0.0</td>\n",
       "    </tr>\n",
       "  </tbody>\n",
       "</table>\n",
       "</div>"
      ],
      "text/plain": [
       "               count        mean          std       min       25%       50%  \\\n",
       "variable_0  100000.0   12.107321   528.035137 -0.291358 -0.234323  0.001486   \n",
       "variable_1  100000.0    0.013599     0.671062 -2.363636 -0.500000  0.000000   \n",
       "variable_2  100000.0    0.433970     4.324017  0.000000  0.000000  0.000000   \n",
       "variable_3  100000.0  500.308938  2181.510949 -0.528734 -0.275459  0.000119   \n",
       "variable_4  100000.0    0.167428     1.843019 -0.744872 -0.471368  0.004530   \n",
       "variable_5  100000.0    0.079292     0.860352 -1.333333 -0.500000  0.000000   \n",
       "variable_6  100000.0    0.277340     4.301489  0.000000  0.000000  0.000000   \n",
       "variable_7  100000.0    0.010735     0.571463 -0.500000 -0.500000  0.000000   \n",
       "variable_8  100000.0    0.251830     4.287297  0.000000  0.000000  0.000000   \n",
       "variable_9  100000.0    0.740360     1.108458  0.000000  0.000000  0.000000   \n",
       "class_col   100000.0    0.066510     0.249173  0.000000  0.000000  0.000000   \n",
       "\n",
       "                 75%            max   Unique          95%          99%  \\\n",
       "variable_0  0.759917   95823.652220  84517.0     1.598362     1.763693   \n",
       "variable_1  0.500000       2.590909     85.0     1.181818     1.590909   \n",
       "variable_2  0.000000      98.000000     16.0     2.000000     4.000000   \n",
       "variable_3  0.721373  318121.775400  79055.0  3539.749705  7229.917076   \n",
       "variable_4  0.520085     305.932051  11928.0     1.562821     3.221026   \n",
       "variable_5  0.500000       8.333333     55.0     1.666667     2.833333   \n",
       "variable_6  0.000000      98.000000     19.0     1.000000     3.000000   \n",
       "variable_7  0.500000      26.500000     27.0     1.000000     2.000000   \n",
       "variable_8  0.000000      98.000000     11.0     1.000000     2.000000   \n",
       "variable_9  1.000000      20.000000     12.0     3.000000     4.000000   \n",
       "class_col   0.000000       1.000000      2.0     1.000000     1.000000   \n",
       "\n",
       "            Missing  \n",
       "variable_0      0.0  \n",
       "variable_1      0.0  \n",
       "variable_2      0.0  \n",
       "variable_3      0.0  \n",
       "variable_4      0.0  \n",
       "variable_5      0.0  \n",
       "variable_6      0.0  \n",
       "variable_7      0.0  \n",
       "variable_8      0.0  \n",
       "variable_9      0.0  \n",
       "class_col       0.0  "
      ]
     },
     "execution_count": 72,
     "metadata": {},
     "output_type": "execute_result"
    }
   ],
   "source": [
    "desc_stats(train)"
   ]
  },
  {
   "cell_type": "code",
   "execution_count": 73,
   "metadata": {
    "scrolled": true
   },
   "outputs": [
    {
     "data": {
      "text/html": [
       "<div>\n",
       "<style>\n",
       "    .dataframe thead tr:only-child th {\n",
       "        text-align: right;\n",
       "    }\n",
       "\n",
       "    .dataframe thead th {\n",
       "        text-align: left;\n",
       "    }\n",
       "\n",
       "    .dataframe tbody tr th {\n",
       "        vertical-align: top;\n",
       "    }\n",
       "</style>\n",
       "<table border=\"1\" class=\"dataframe\">\n",
       "  <thead>\n",
       "    <tr style=\"text-align: right;\">\n",
       "      <th></th>\n",
       "      <th>count</th>\n",
       "      <th>mean</th>\n",
       "      <th>std</th>\n",
       "      <th>min</th>\n",
       "      <th>25%</th>\n",
       "      <th>50%</th>\n",
       "      <th>75%</th>\n",
       "      <th>max</th>\n",
       "      <th>Unique</th>\n",
       "      <th>95%</th>\n",
       "      <th>99%</th>\n",
       "      <th>Missing</th>\n",
       "    </tr>\n",
       "  </thead>\n",
       "  <tbody>\n",
       "    <tr>\n",
       "      <th>variable_0</th>\n",
       "      <td>50000.0</td>\n",
       "      <td>9.200853</td>\n",
       "      <td>332.590404</td>\n",
       "      <td>-0.291358</td>\n",
       "      <td>-0.235981</td>\n",
       "      <td>-0.003010</td>\n",
       "      <td>0.777610</td>\n",
       "      <td>38765.433550</td>\n",
       "      <td>42459.0</td>\n",
       "      <td>1.598362</td>\n",
       "      <td>1.798480</td>\n",
       "      <td>0.0</td>\n",
       "    </tr>\n",
       "    <tr>\n",
       "      <th>variable_1</th>\n",
       "      <td>50000.0</td>\n",
       "      <td>0.013057</td>\n",
       "      <td>0.672228</td>\n",
       "      <td>-1.409091</td>\n",
       "      <td>-0.500000</td>\n",
       "      <td>0.000000</td>\n",
       "      <td>0.500000</td>\n",
       "      <td>2.409091</td>\n",
       "      <td>80.0</td>\n",
       "      <td>1.181818</td>\n",
       "      <td>1.590909</td>\n",
       "      <td>0.0</td>\n",
       "    </tr>\n",
       "    <tr>\n",
       "      <th>variable_2</th>\n",
       "      <td>50000.0</td>\n",
       "      <td>0.395160</td>\n",
       "      <td>3.917054</td>\n",
       "      <td>0.000000</td>\n",
       "      <td>0.000000</td>\n",
       "      <td>0.000000</td>\n",
       "      <td>0.000000</td>\n",
       "      <td>98.000000</td>\n",
       "      <td>14.0</td>\n",
       "      <td>2.000000</td>\n",
       "      <td>4.000000</td>\n",
       "      <td>0.0</td>\n",
       "    </tr>\n",
       "    <tr>\n",
       "      <th>variable_3</th>\n",
       "      <td>50000.0</td>\n",
       "      <td>525.559732</td>\n",
       "      <td>4050.842439</td>\n",
       "      <td>-0.528734</td>\n",
       "      <td>-0.277842</td>\n",
       "      <td>-0.000336</td>\n",
       "      <td>0.729060</td>\n",
       "      <td>475581.611600</td>\n",
       "      <td>41393.0</td>\n",
       "      <td>3509.382410</td>\n",
       "      <td>7072.670749</td>\n",
       "      <td>0.0</td>\n",
       "    </tr>\n",
       "    <tr>\n",
       "      <th>variable_4</th>\n",
       "      <td>50000.0</td>\n",
       "      <td>0.173164</td>\n",
       "      <td>2.893111</td>\n",
       "      <td>-0.744872</td>\n",
       "      <td>-0.488462</td>\n",
       "      <td>-0.004188</td>\n",
       "      <td>0.511538</td>\n",
       "      <td>513.571367</td>\n",
       "      <td>8739.0</td>\n",
       "      <td>1.569846</td>\n",
       "      <td>3.172436</td>\n",
       "      <td>0.0</td>\n",
       "    </tr>\n",
       "    <tr>\n",
       "      <th>variable_5</th>\n",
       "      <td>50000.0</td>\n",
       "      <td>0.067797</td>\n",
       "      <td>0.852204</td>\n",
       "      <td>-1.333333</td>\n",
       "      <td>-0.500000</td>\n",
       "      <td>0.000000</td>\n",
       "      <td>0.500000</td>\n",
       "      <td>8.166667</td>\n",
       "      <td>54.0</td>\n",
       "      <td>1.666667</td>\n",
       "      <td>2.666667</td>\n",
       "      <td>0.0</td>\n",
       "    </tr>\n",
       "    <tr>\n",
       "      <th>variable_6</th>\n",
       "      <td>50000.0</td>\n",
       "      <td>0.243240</td>\n",
       "      <td>3.891429</td>\n",
       "      <td>0.000000</td>\n",
       "      <td>0.000000</td>\n",
       "      <td>0.000000</td>\n",
       "      <td>0.000000</td>\n",
       "      <td>98.000000</td>\n",
       "      <td>15.0</td>\n",
       "      <td>1.000000</td>\n",
       "      <td>3.000000</td>\n",
       "      <td>0.0</td>\n",
       "    </tr>\n",
       "    <tr>\n",
       "      <th>variable_7</th>\n",
       "      <td>50000.0</td>\n",
       "      <td>0.005890</td>\n",
       "      <td>0.551486</td>\n",
       "      <td>-0.500000</td>\n",
       "      <td>-0.500000</td>\n",
       "      <td>0.000000</td>\n",
       "      <td>0.500000</td>\n",
       "      <td>14.000000</td>\n",
       "      <td>20.0</td>\n",
       "      <td>1.000000</td>\n",
       "      <td>1.500000</td>\n",
       "      <td>0.0</td>\n",
       "    </tr>\n",
       "    <tr>\n",
       "      <th>variable_8</th>\n",
       "      <td>50000.0</td>\n",
       "      <td>0.217500</td>\n",
       "      <td>3.877403</td>\n",
       "      <td>0.000000</td>\n",
       "      <td>0.000000</td>\n",
       "      <td>0.000000</td>\n",
       "      <td>0.000000</td>\n",
       "      <td>98.000000</td>\n",
       "      <td>13.0</td>\n",
       "      <td>1.000000</td>\n",
       "      <td>2.000000</td>\n",
       "      <td>0.0</td>\n",
       "    </tr>\n",
       "    <tr>\n",
       "      <th>variable_9</th>\n",
       "      <td>50000.0</td>\n",
       "      <td>0.731520</td>\n",
       "      <td>1.104130</td>\n",
       "      <td>0.000000</td>\n",
       "      <td>0.000000</td>\n",
       "      <td>0.000000</td>\n",
       "      <td>1.000000</td>\n",
       "      <td>13.000000</td>\n",
       "      <td>12.0</td>\n",
       "      <td>3.000000</td>\n",
       "      <td>4.000000</td>\n",
       "      <td>0.0</td>\n",
       "    </tr>\n",
       "  </tbody>\n",
       "</table>\n",
       "</div>"
      ],
      "text/plain": [
       "              count        mean          std       min       25%       50%  \\\n",
       "variable_0  50000.0    9.200853   332.590404 -0.291358 -0.235981 -0.003010   \n",
       "variable_1  50000.0    0.013057     0.672228 -1.409091 -0.500000  0.000000   \n",
       "variable_2  50000.0    0.395160     3.917054  0.000000  0.000000  0.000000   \n",
       "variable_3  50000.0  525.559732  4050.842439 -0.528734 -0.277842 -0.000336   \n",
       "variable_4  50000.0    0.173164     2.893111 -0.744872 -0.488462 -0.004188   \n",
       "variable_5  50000.0    0.067797     0.852204 -1.333333 -0.500000  0.000000   \n",
       "variable_6  50000.0    0.243240     3.891429  0.000000  0.000000  0.000000   \n",
       "variable_7  50000.0    0.005890     0.551486 -0.500000 -0.500000  0.000000   \n",
       "variable_8  50000.0    0.217500     3.877403  0.000000  0.000000  0.000000   \n",
       "variable_9  50000.0    0.731520     1.104130  0.000000  0.000000  0.000000   \n",
       "\n",
       "                 75%            max   Unique          95%          99%  \\\n",
       "variable_0  0.777610   38765.433550  42459.0     1.598362     1.798480   \n",
       "variable_1  0.500000       2.409091     80.0     1.181818     1.590909   \n",
       "variable_2  0.000000      98.000000     14.0     2.000000     4.000000   \n",
       "variable_3  0.729060  475581.611600  41393.0  3509.382410  7072.670749   \n",
       "variable_4  0.511538     513.571367   8739.0     1.569846     3.172436   \n",
       "variable_5  0.500000       8.166667     54.0     1.666667     2.666667   \n",
       "variable_6  0.000000      98.000000     15.0     1.000000     3.000000   \n",
       "variable_7  0.500000      14.000000     20.0     1.000000     1.500000   \n",
       "variable_8  0.000000      98.000000     13.0     1.000000     2.000000   \n",
       "variable_9  1.000000      13.000000     12.0     3.000000     4.000000   \n",
       "\n",
       "            Missing  \n",
       "variable_0      0.0  \n",
       "variable_1      0.0  \n",
       "variable_2      0.0  \n",
       "variable_3      0.0  \n",
       "variable_4      0.0  \n",
       "variable_5      0.0  \n",
       "variable_6      0.0  \n",
       "variable_7      0.0  \n",
       "variable_8      0.0  \n",
       "variable_9      0.0  "
      ]
     },
     "execution_count": 73,
     "metadata": {},
     "output_type": "execute_result"
    }
   ],
   "source": [
    "desc_stats(test)"
   ]
  },
  {
   "cell_type": "markdown",
   "metadata": {},
   "source": [
    "Good to see that all variables in train and test have similar distributions"
   ]
  },
  {
   "cell_type": "code",
   "execution_count": 74,
   "metadata": {},
   "outputs": [
    {
     "data": {
      "text/html": [
       "<div>\n",
       "<style>\n",
       "    .dataframe thead tr:only-child th {\n",
       "        text-align: right;\n",
       "    }\n",
       "\n",
       "    .dataframe thead th {\n",
       "        text-align: left;\n",
       "    }\n",
       "\n",
       "    .dataframe tbody tr th {\n",
       "        vertical-align: top;\n",
       "    }\n",
       "</style>\n",
       "<table border=\"1\" class=\"dataframe\">\n",
       "  <thead>\n",
       "    <tr style=\"text-align: right;\">\n",
       "      <th></th>\n",
       "      <th>variable_0</th>\n",
       "      <th>variable_1</th>\n",
       "      <th>variable_2</th>\n",
       "      <th>variable_3</th>\n",
       "      <th>variable_4</th>\n",
       "      <th>variable_5</th>\n",
       "      <th>variable_6</th>\n",
       "      <th>variable_7</th>\n",
       "      <th>variable_8</th>\n",
       "      <th>variable_9</th>\n",
       "      <th>class_col</th>\n",
       "    </tr>\n",
       "  </thead>\n",
       "  <tbody>\n",
       "    <tr>\n",
       "      <th>0</th>\n",
       "      <td>1.616623</td>\n",
       "      <td>-0.909091</td>\n",
       "      <td>3.0</td>\n",
       "      <td>-0.041629</td>\n",
       "      <td>0.284188</td>\n",
       "      <td>0.166667</td>\n",
       "      <td>0.0</td>\n",
       "      <td>0.0</td>\n",
       "      <td>1.0</td>\n",
       "      <td>2.0</td>\n",
       "      <td>0.0</td>\n",
       "    </tr>\n",
       "    <tr>\n",
       "      <th>1</th>\n",
       "      <td>-0.029310</td>\n",
       "      <td>1.500000</td>\n",
       "      <td>0.0</td>\n",
       "      <td>0.551353</td>\n",
       "      <td>-0.515812</td>\n",
       "      <td>0.166667</td>\n",
       "      <td>0.0</td>\n",
       "      <td>-0.5</td>\n",
       "      <td>0.0</td>\n",
       "      <td>0.0</td>\n",
       "      <td>0.0</td>\n",
       "    </tr>\n",
       "    <tr>\n",
       "      <th>2</th>\n",
       "      <td>1.598362</td>\n",
       "      <td>0.227273</td>\n",
       "      <td>0.0</td>\n",
       "      <td>-0.280171</td>\n",
       "      <td>-0.385897</td>\n",
       "      <td>-1.166667</td>\n",
       "      <td>0.0</td>\n",
       "      <td>-0.5</td>\n",
       "      <td>0.0</td>\n",
       "      <td>0.0</td>\n",
       "      <td>0.0</td>\n",
       "    </tr>\n",
       "    <tr>\n",
       "      <th>3</th>\n",
       "      <td>0.355677</td>\n",
       "      <td>0.954545</td>\n",
       "      <td>0.0</td>\n",
       "      <td>-0.101158</td>\n",
       "      <td>0.158718</td>\n",
       "      <td>-0.333333</td>\n",
       "      <td>0.0</td>\n",
       "      <td>0.0</td>\n",
       "      <td>0.0</td>\n",
       "      <td>0.0</td>\n",
       "      <td>0.0</td>\n",
       "    </tr>\n",
       "    <tr>\n",
       "      <th>4</th>\n",
       "      <td>-0.291358</td>\n",
       "      <td>0.590909</td>\n",
       "      <td>0.0</td>\n",
       "      <td>-0.299727</td>\n",
       "      <td>0.696838</td>\n",
       "      <td>0.000000</td>\n",
       "      <td>0.0</td>\n",
       "      <td>0.5</td>\n",
       "      <td>0.0</td>\n",
       "      <td>0.0</td>\n",
       "      <td>0.0</td>\n",
       "    </tr>\n",
       "  </tbody>\n",
       "</table>\n",
       "</div>"
      ],
      "text/plain": [
       "   variable_0  variable_1  variable_2  variable_3  variable_4  variable_5  \\\n",
       "0    1.616623   -0.909091         3.0   -0.041629    0.284188    0.166667   \n",
       "1   -0.029310    1.500000         0.0    0.551353   -0.515812    0.166667   \n",
       "2    1.598362    0.227273         0.0   -0.280171   -0.385897   -1.166667   \n",
       "3    0.355677    0.954545         0.0   -0.101158    0.158718   -0.333333   \n",
       "4   -0.291358    0.590909         0.0   -0.299727    0.696838    0.000000   \n",
       "\n",
       "   variable_6  variable_7  variable_8  variable_9  class_col  \n",
       "0         0.0         0.0         1.0         2.0        0.0  \n",
       "1         0.0        -0.5         0.0         0.0        0.0  \n",
       "2         0.0        -0.5         0.0         0.0        0.0  \n",
       "3         0.0         0.0         0.0         0.0        0.0  \n",
       "4         0.0         0.5         0.0         0.0        0.0  "
      ]
     },
     "execution_count": 74,
     "metadata": {},
     "output_type": "execute_result"
    }
   ],
   "source": [
    "train.head()"
   ]
  },
  {
   "cell_type": "code",
   "execution_count": 75,
   "metadata": {
    "scrolled": true
   },
   "outputs": [
    {
     "data": {
      "image/png": "[encoded data removed]",
      "text/plain": [
       "<matplotlib.figure.Figure at 0x1067e4a90>"
      ]
     },
     "metadata": {},
     "output_type": "display_data"
    },
    {
     "data": {
      "image/png": "[encoded data removed]",
      "text/plain": [
       "<matplotlib.figure.Figure at 0x1a117ee790>"
      ]
     },
     "metadata": {},
     "output_type": "display_data"
    },
    {
     "data": {
      "image/png": "[encoded data removed]",
      "text/plain": [
       "<matplotlib.figure.Figure at 0x1a11d5b190>"
      ]
     },
     "metadata": {},
     "output_type": "display_data"
    },
    {
     "data": {
      "image/png": "[encoded data removed]",
      "text/plain": [
       "<matplotlib.figure.Figure at 0x1a176d49d0>"
      ]
     },
     "metadata": {},
     "output_type": "display_data"
    },
    {
     "data": {
      "image/png": "[encoded data removed]",
      "text/plain": [
       "<matplotlib.figure.Figure at 0x1a759ba3d0>"
      ]
     },
     "metadata": {},
     "output_type": "display_data"
    }
   ],
   "source": [
    "for col in ['variable_2', 'variable_6', 'variable_7','variable_8', 'variable_9']:\n",
    "    train.groupby(col)['class_col'].value_counts(normalize=True).unstack().plot.bar()    "
   ]
  },
  {
   "cell_type": "code",
   "execution_count": 76,
   "metadata": {},
   "outputs": [
    {
     "data": {
      "image/png": "[encoded data removed]",
      "text/plain": [
       "<matplotlib.figure.Figure at 0x1a1691ae50>"
      ]
     },
     "metadata": {},
     "output_type": "display_data"
    }
   ],
   "source": [
    "np.log(train['variable_3']+1).plot.hist(bins=10)\n",
    "plt.show()"
   ]
  },
  {
   "cell_type": "code",
   "execution_count": 77,
   "metadata": {},
   "outputs": [
    {
     "data": {
      "image/png": "[encoded data removed]",
      "text/plain": [
       "<matplotlib.figure.Figure at 0x1a1b056c90>"
      ]
     },
     "metadata": {},
     "output_type": "display_data"
    }
   ],
   "source": [
    "np.log(train['variable_0']+1).plot.hist(bins=10)\n",
    "plt.show()"
   ]
  },
  {
   "cell_type": "code",
   "execution_count": 78,
   "metadata": {
    "collapsed": true
   },
   "outputs": [],
   "source": [
    "train['variable_0_lg'] = np.log(train['variable_0']+1)\n",
    "train['variable_3_lg'] = np.log(train['variable_3']+1)\n",
    "\n",
    "test['variable_0_lg'] = np.log(test['variable_0']+1)\n",
    "test['variable_3_lg'] = np.log(test['variable_3']+1)"
   ]
  },
  {
   "cell_type": "code",
   "execution_count": 79,
   "metadata": {},
   "outputs": [
    {
     "data": {
      "text/plain": [
       "(-1, 4)"
      ]
     },
     "execution_count": 79,
     "metadata": {},
     "output_type": "execute_result"
    },
    {
     "data": {
      "image/png": "[encoded data removed]",
      "text/plain": [
       "<matplotlib.figure.Figure at 0x1a1bf51350>"
      ]
     },
     "metadata": {},
     "output_type": "display_data"
    }
   ],
   "source": [
    "train.boxplot(column='variable_0', by = 'class_col')\n",
    "plt.ylim(-1,4)"
   ]
  },
  {
   "cell_type": "code",
   "execution_count": 80,
   "metadata": {},
   "outputs": [
    {
     "data": {
      "text/plain": [
       "(-2, 3)"
      ]
     },
     "execution_count": 80,
     "metadata": {},
     "output_type": "execute_result"
    },
    {
     "data": {
      "image/png": "[encoded data removed]",
      "text/plain": [
       "<matplotlib.figure.Figure at 0x1a1c596390>"
      ]
     },
     "metadata": {},
     "output_type": "display_data"
    }
   ],
   "source": [
    "train.boxplot(column='variable_1', by = 'class_col')\n",
    "plt.ylim(-2,3)"
   ]
  },
  {
   "cell_type": "code",
   "execution_count": 81,
   "metadata": {},
   "outputs": [
    {
     "data": {
      "text/plain": [
       "(194, 13)"
      ]
     },
     "execution_count": 81,
     "metadata": {},
     "output_type": "execute_result"
    }
   ],
   "source": [
    "train.loc[train['variable_2'] > 10].shape"
   ]
  },
  {
   "cell_type": "code",
   "execution_count": 82,
   "metadata": {},
   "outputs": [
    {
     "data": {
      "text/plain": [
       "(-2, 5)"
      ]
     },
     "execution_count": 82,
     "metadata": {},
     "output_type": "execute_result"
    },
    {
     "data": {
      "image/png": "[encoded data removed]",
      "text/plain": [
       "<matplotlib.figure.Figure at 0x1a1b46a610>"
      ]
     },
     "metadata": {},
     "output_type": "display_data"
    }
   ],
   "source": [
    "train.boxplot(column='variable_3', by = 'class_col')\n",
    "plt.ylim(-2,5)"
   ]
  },
  {
   "cell_type": "code",
   "execution_count": 83,
   "metadata": {},
   "outputs": [
    {
     "data": {
      "text/plain": [
       "(2532, 13)"
      ]
     },
     "execution_count": 83,
     "metadata": {},
     "output_type": "execute_result"
    }
   ],
   "source": [
    "train.loc[train['variable_3'] > 5000].shape"
   ]
  },
  {
   "cell_type": "code",
   "execution_count": 84,
   "metadata": {},
   "outputs": [
    {
     "data": {
      "text/plain": [
       "(-2, 3)"
      ]
     },
     "execution_count": 84,
     "metadata": {},
     "output_type": "execute_result"
    },
    {
     "data": {
      "image/png": "[encoded data removed]",
      "text/plain": [
       "<matplotlib.figure.Figure at 0x1a1029f390>"
      ]
     },
     "metadata": {},
     "output_type": "display_data"
    }
   ],
   "source": [
    "train.boxplot(column='variable_4', by = 'class_col')\n",
    "plt.ylim(-2,3)"
   ]
  },
  {
   "cell_type": "code",
   "execution_count": 85,
   "metadata": {
    "collapsed": true
   },
   "outputs": [],
   "source": [
    "# Lets create dummy columns of categorical variables\n",
    "for col in ['variable_2', 'variable_6', 'variable_7','variable_8', 'variable_9']:\n",
    "    train[col] = train[col].astype('object')\n",
    "    test[col] = test[col].astype('object')"
   ]
  },
  {
   "cell_type": "code",
   "execution_count": 86,
   "metadata": {},
   "outputs": [
    {
     "data": {
      "text/html": [
       "<div>\n",
       "<style>\n",
       "    .dataframe thead tr:only-child th {\n",
       "        text-align: right;\n",
       "    }\n",
       "\n",
       "    .dataframe thead th {\n",
       "        text-align: left;\n",
       "    }\n",
       "\n",
       "    .dataframe tbody tr th {\n",
       "        vertical-align: top;\n",
       "    }\n",
       "</style>\n",
       "<table border=\"1\" class=\"dataframe\">\n",
       "  <thead>\n",
       "    <tr style=\"text-align: right;\">\n",
       "      <th></th>\n",
       "      <th>variable_0</th>\n",
       "      <th>variable_1</th>\n",
       "      <th>variable_3</th>\n",
       "      <th>variable_4</th>\n",
       "      <th>variable_5</th>\n",
       "      <th>class_col</th>\n",
       "      <th>variable_0_lg</th>\n",
       "      <th>variable_3_lg</th>\n",
       "      <th>variable_2_0.0</th>\n",
       "      <th>variable_2_1.0</th>\n",
       "      <th>...</th>\n",
       "      <th>variable_9_2.0</th>\n",
       "      <th>variable_9_3.0</th>\n",
       "      <th>variable_9_4.0</th>\n",
       "      <th>variable_9_5.0</th>\n",
       "      <th>variable_9_6.0</th>\n",
       "      <th>variable_9_7.0</th>\n",
       "      <th>variable_9_8.0</th>\n",
       "      <th>variable_9_9.0</th>\n",
       "      <th>variable_9_10.0</th>\n",
       "      <th>variable_9_20.0</th>\n",
       "    </tr>\n",
       "  </thead>\n",
       "  <tbody>\n",
       "    <tr>\n",
       "      <th>0</th>\n",
       "      <td>1.616623</td>\n",
       "      <td>-0.909091</td>\n",
       "      <td>-0.041629</td>\n",
       "      <td>0.284188</td>\n",
       "      <td>0.166667</td>\n",
       "      <td>0.0</td>\n",
       "      <td>0.961885</td>\n",
       "      <td>-0.042520</td>\n",
       "      <td>0</td>\n",
       "      <td>0</td>\n",
       "      <td>...</td>\n",
       "      <td>1</td>\n",
       "      <td>0</td>\n",
       "      <td>0</td>\n",
       "      <td>0</td>\n",
       "      <td>0</td>\n",
       "      <td>0</td>\n",
       "      <td>0</td>\n",
       "      <td>0</td>\n",
       "      <td>0</td>\n",
       "      <td>0</td>\n",
       "    </tr>\n",
       "    <tr>\n",
       "      <th>1</th>\n",
       "      <td>-0.029310</td>\n",
       "      <td>1.500000</td>\n",
       "      <td>0.551353</td>\n",
       "      <td>-0.515812</td>\n",
       "      <td>0.166667</td>\n",
       "      <td>0.0</td>\n",
       "      <td>-0.029749</td>\n",
       "      <td>0.439128</td>\n",
       "      <td>1</td>\n",
       "      <td>0</td>\n",
       "      <td>...</td>\n",
       "      <td>0</td>\n",
       "      <td>0</td>\n",
       "      <td>0</td>\n",
       "      <td>0</td>\n",
       "      <td>0</td>\n",
       "      <td>0</td>\n",
       "      <td>0</td>\n",
       "      <td>0</td>\n",
       "      <td>0</td>\n",
       "      <td>0</td>\n",
       "    </tr>\n",
       "    <tr>\n",
       "      <th>2</th>\n",
       "      <td>1.598362</td>\n",
       "      <td>0.227273</td>\n",
       "      <td>-0.280171</td>\n",
       "      <td>-0.385897</td>\n",
       "      <td>-1.166667</td>\n",
       "      <td>0.0</td>\n",
       "      <td>0.954881</td>\n",
       "      <td>-0.328742</td>\n",
       "      <td>1</td>\n",
       "      <td>0</td>\n",
       "      <td>...</td>\n",
       "      <td>0</td>\n",
       "      <td>0</td>\n",
       "      <td>0</td>\n",
       "      <td>0</td>\n",
       "      <td>0</td>\n",
       "      <td>0</td>\n",
       "      <td>0</td>\n",
       "      <td>0</td>\n",
       "      <td>0</td>\n",
       "      <td>0</td>\n",
       "    </tr>\n",
       "    <tr>\n",
       "      <th>3</th>\n",
       "      <td>0.355677</td>\n",
       "      <td>0.954545</td>\n",
       "      <td>-0.101158</td>\n",
       "      <td>0.158718</td>\n",
       "      <td>-0.333333</td>\n",
       "      <td>0.0</td>\n",
       "      <td>0.304301</td>\n",
       "      <td>-0.106648</td>\n",
       "      <td>1</td>\n",
       "      <td>0</td>\n",
       "      <td>...</td>\n",
       "      <td>0</td>\n",
       "      <td>0</td>\n",
       "      <td>0</td>\n",
       "      <td>0</td>\n",
       "      <td>0</td>\n",
       "      <td>0</td>\n",
       "      <td>0</td>\n",
       "      <td>0</td>\n",
       "      <td>0</td>\n",
       "      <td>0</td>\n",
       "    </tr>\n",
       "    <tr>\n",
       "      <th>4</th>\n",
       "      <td>-0.291358</td>\n",
       "      <td>0.590909</td>\n",
       "      <td>-0.299727</td>\n",
       "      <td>0.696838</td>\n",
       "      <td>0.000000</td>\n",
       "      <td>0.0</td>\n",
       "      <td>-0.344406</td>\n",
       "      <td>-0.356285</td>\n",
       "      <td>1</td>\n",
       "      <td>0</td>\n",
       "      <td>...</td>\n",
       "      <td>0</td>\n",
       "      <td>0</td>\n",
       "      <td>0</td>\n",
       "      <td>0</td>\n",
       "      <td>0</td>\n",
       "      <td>0</td>\n",
       "      <td>0</td>\n",
       "      <td>0</td>\n",
       "      <td>0</td>\n",
       "      <td>0</td>\n",
       "    </tr>\n",
       "  </tbody>\n",
       "</table>\n",
       "<p>5 rows × 93 columns</p>\n",
       "</div>"
      ],
      "text/plain": [
       "   variable_0  variable_1  variable_3  variable_4  variable_5  class_col  \\\n",
       "0    1.616623   -0.909091   -0.041629    0.284188    0.166667        0.0   \n",
       "1   -0.029310    1.500000    0.551353   -0.515812    0.166667        0.0   \n",
       "2    1.598362    0.227273   -0.280171   -0.385897   -1.166667        0.0   \n",
       "3    0.355677    0.954545   -0.101158    0.158718   -0.333333        0.0   \n",
       "4   -0.291358    0.590909   -0.299727    0.696838    0.000000        0.0   \n",
       "\n",
       "   variable_0_lg  variable_3_lg  variable_2_0.0  variable_2_1.0  \\\n",
       "0       0.961885      -0.042520               0               0   \n",
       "1      -0.029749       0.439128               1               0   \n",
       "2       0.954881      -0.328742               1               0   \n",
       "3       0.304301      -0.106648               1               0   \n",
       "4      -0.344406      -0.356285               1               0   \n",
       "\n",
       "        ...         variable_9_2.0  variable_9_3.0  variable_9_4.0  \\\n",
       "0       ...                      1               0               0   \n",
       "1       ...                      0               0               0   \n",
       "2       ...                      0               0               0   \n",
       "3       ...                      0               0               0   \n",
       "4       ...                      0               0               0   \n",
       "\n",
       "   variable_9_5.0  variable_9_6.0  variable_9_7.0  variable_9_8.0  \\\n",
       "0               0               0               0               0   \n",
       "1               0               0               0               0   \n",
       "2               0               0               0               0   \n",
       "3               0               0               0               0   \n",
       "4               0               0               0               0   \n",
       "\n",
       "   variable_9_9.0  variable_9_10.0  variable_9_20.0  \n",
       "0               0                0                0  \n",
       "1               0                0                0  \n",
       "2               0                0                0  \n",
       "3               0                0                0  \n",
       "4               0                0                0  \n",
       "\n",
       "[5 rows x 93 columns]"
      ]
     },
     "execution_count": 86,
     "metadata": {},
     "output_type": "execute_result"
    }
   ],
   "source": [
    "train = pd.get_dummies(train,prefix_sep='_')\n",
    "test = pd.get_dummies(test,prefix_sep='_')\n",
    "train.head()"
   ]
  },
  {
   "cell_type": "code",
   "execution_count": 87,
   "metadata": {},
   "outputs": [],
   "source": [
    "train = train.drop(labels=['variable_0','variable_3'],axis=1)\n",
    "test = test.drop(labels=['variable_0','variable_3'],axis=1)"
   ]
  },
  {
   "cell_type": "code",
   "execution_count": 88,
   "metadata": {},
   "outputs": [
    {
     "name": "stdout",
     "output_type": "stream",
     "text": [
      "((70000, 90), (30000, 90))\n"
     ]
    }
   ],
   "source": [
    "X= train.drop(labels=['class_col'], axis=1)\n",
    "y=train['class_col']\n",
    "X_train, X_test, y_train, y_test = train_test_split(X,y,test_size=.3)\n",
    "print(X_train.shape, X_test.shape)"
   ]
  },
  {
   "cell_type": "code",
   "execution_count": 89,
   "metadata": {
    "collapsed": true
   },
   "outputs": [],
   "source": [
    "clf = RandomForestClassifier()\n",
    "model = clf.fit(X_train, y_train)\n",
    "pred_rf = clf.predict(X_test)\n",
    "from sklearn import metrics\n",
    "acc = metrics.accuracy_score(y_test,pred_rf)"
   ]
  },
  {
   "cell_type": "code",
   "execution_count": 90,
   "metadata": {},
   "outputs": [
    {
     "name": "stdout",
     "output_type": "stream",
     "text": [
      "mean accuracy: 0.931533346202, all: [ 0.93010699  0.934       0.93049305]\n",
      "mean precision: 0.454679157468, all: [ 0.45132743  0.49090909  0.42180095]\n",
      "mean recall: 0.148867726239, all: [ 0.15859031  0.15124816  0.13676471]\n",
      "mean roc_auc: 0.781657304462, all: [ 0.78754593  0.77536467  0.78206132]\n"
     ]
    }
   ],
   "source": [
    "for metric in ['accuracy', 'precision', 'recall', 'roc_auc']:\n",
    "    scores = cross_val_score(clf, X_test, y_test, scoring=metric)\n",
    "    print(\"mean {}: {}, all: {}\".format(metric, scores.mean(), scores))"
   ]
  },
  {
   "cell_type": "code",
   "execution_count": 91,
   "metadata": {},
   "outputs": [
    {
     "data": {
      "text/plain": [
       "array([[27634,   324],\n",
       "       [ 1718,   324]])"
      ]
     },
     "execution_count": 91,
     "metadata": {},
     "output_type": "execute_result"
    }
   ],
   "source": [
    "metrics.confusion_matrix(y_test, pred_rf)"
   ]
  },
  {
   "cell_type": "code",
   "execution_count": 59,
   "metadata": {
    "collapsed": true
   },
   "outputs": [],
   "source": [
    "# results dont look very good... high false postive rates.. low precision and low recall"
   ]
  },
  {
   "cell_type": "code",
   "execution_count": 60,
   "metadata": {
    "collapsed": true
   },
   "outputs": [],
   "source": [
    "# Lets try various models to find which model gives better ROC"
   ]
  },
  {
   "cell_type": "code",
   "execution_count": null,
   "metadata": {},
   "outputs": [
    {
     "name": "stdout",
     "output_type": "stream",
     "text": [
      "model: DecisionTreeClassifier ...\n",
      "time: 2.848s\n",
      "roc_auc: 0.266\n",
      "\n",
      "model: GaussianNB ...\n",
      "time: 0.765s\n",
      "roc_auc: 0.383\n",
      "\n",
      "model: SVC ...\n"
     ]
    }
   ],
   "source": [
    "# Model selection\n",
    "def score_model(clf):\n",
    "    print (\"model: {} ...\".format(clf.__class__.__name__))\n",
    "    start = time.time()\n",
    "    scores = cross_val_score(clf, X_train, y_train, scoring='f1', cv=5) \n",
    "    end = time.time()\n",
    "    print(\"time: {:.3f}s\".format(end - start))\n",
    "    print(\"roc_auc: {:.3f}\\n\".format(scores.mean()))\n",
    "\n",
    "from sklearn.tree import DecisionTreeClassifier\n",
    "from sklearn.naive_bayes import GaussianNB\n",
    "from sklearn.linear_model import LogisticRegression\n",
    "from sklearn.ensemble import RandomForestClassifier \n",
    "from sklearn import svm\n",
    "from sklearn.model_selection import cross_val_score, train_test_split\n",
    "import xgboost as xgb\n",
    "from xgboost.sklearn import XGBClassifier\n",
    "import time\n",
    "\n",
    "score_model(DecisionTreeClassifier())\n",
    "score_model(GaussianNB())\n",
    "score_model(svm.SVC(kernel='linear', C = 1.0))\n",
    "score_model(LogisticRegression())\n",
    "score_model(RandomForestClassifier())\n",
    "score_model(XGBClassifier())"
   ]
  },
  {
   "cell_type": "code",
   "execution_count": 98,
   "metadata": {},
   "outputs": [
    {
     "ename": "TypeError",
     "evalue": "unhashable type",
     "output_type": "error",
     "traceback": [
      "\u001b[0;31m---------------------------------------------------------------------------\u001b[0m",
      "\u001b[0;31mTypeError\u001b[0m                                 Traceback (most recent call last)",
      "\u001b[0;32m<ipython-input-98-b15ec82fdfa5>\u001b[0m in \u001b[0;36m<module>\u001b[0;34m()\u001b[0m\n\u001b[1;32m     15\u001b[0m \u001b[0mplt\u001b[0m\u001b[0;34m.\u001b[0m\u001b[0msubplots_adjust\u001b[0m\u001b[0;34m(\u001b[0m\u001b[0mwspace\u001b[0m\u001b[0;34m=\u001b[0m\u001b[0;36m0.4\u001b[0m\u001b[0;34m,\u001b[0m \u001b[0mhspace\u001b[0m\u001b[0;34m=\u001b[0m\u001b[0;36m0.4\u001b[0m\u001b[0;34m)\u001b[0m\u001b[0;34m\u001b[0m\u001b[0m\n\u001b[1;32m     16\u001b[0m \u001b[0;34m\u001b[0m\u001b[0m\n\u001b[0;32m---> 17\u001b[0;31m \u001b[0mX0\u001b[0m\u001b[0;34m,\u001b[0m \u001b[0mX1\u001b[0m \u001b[0;34m=\u001b[0m \u001b[0mX\u001b[0m\u001b[0;34m[\u001b[0m\u001b[0;34m:\u001b[0m\u001b[0;34m,\u001b[0m \u001b[0;36m0\u001b[0m\u001b[0;34m]\u001b[0m\u001b[0;34m,\u001b[0m \u001b[0mX\u001b[0m\u001b[0;34m[\u001b[0m\u001b[0;34m:\u001b[0m\u001b[0;34m,\u001b[0m \u001b[0;36m1\u001b[0m\u001b[0;34m]\u001b[0m\u001b[0;34m\u001b[0m\u001b[0m\n\u001b[0m\u001b[1;32m     18\u001b[0m \u001b[0mxx\u001b[0m\u001b[0;34m,\u001b[0m \u001b[0myy\u001b[0m \u001b[0;34m=\u001b[0m \u001b[0mmake_meshgrid\u001b[0m\u001b[0;34m(\u001b[0m\u001b[0mX0\u001b[0m\u001b[0;34m,\u001b[0m \u001b[0mX1\u001b[0m\u001b[0;34m)\u001b[0m\u001b[0;34m\u001b[0m\u001b[0m\n\u001b[1;32m     19\u001b[0m \u001b[0;34m\u001b[0m\u001b[0m\n",
      "\u001b[0;32m/Users/ipm/anaconda/lib/python2.7/site-packages/pandas/core/frame.pyc\u001b[0m in \u001b[0;36m__getitem__\u001b[0;34m(self, key)\u001b[0m\n\u001b[1;32m   1962\u001b[0m             \u001b[0;32mreturn\u001b[0m \u001b[0mself\u001b[0m\u001b[0;34m.\u001b[0m\u001b[0m_getitem_multilevel\u001b[0m\u001b[0;34m(\u001b[0m\u001b[0mkey\u001b[0m\u001b[0;34m)\u001b[0m\u001b[0;34m\u001b[0m\u001b[0m\n\u001b[1;32m   1963\u001b[0m         \u001b[0;32melse\u001b[0m\u001b[0;34m:\u001b[0m\u001b[0;34m\u001b[0m\u001b[0m\n\u001b[0;32m-> 1964\u001b[0;31m             \u001b[0;32mreturn\u001b[0m \u001b[0mself\u001b[0m\u001b[0;34m.\u001b[0m\u001b[0m_getitem_column\u001b[0m\u001b[0;34m(\u001b[0m\u001b[0mkey\u001b[0m\u001b[0;34m)\u001b[0m\u001b[0;34m\u001b[0m\u001b[0m\n\u001b[0m\u001b[1;32m   1965\u001b[0m \u001b[0;34m\u001b[0m\u001b[0m\n\u001b[1;32m   1966\u001b[0m     \u001b[0;32mdef\u001b[0m \u001b[0m_getitem_column\u001b[0m\u001b[0;34m(\u001b[0m\u001b[0mself\u001b[0m\u001b[0;34m,\u001b[0m \u001b[0mkey\u001b[0m\u001b[0;34m)\u001b[0m\u001b[0;34m:\u001b[0m\u001b[0;34m\u001b[0m\u001b[0m\n",
      "\u001b[0;32m/Users/ipm/anaconda/lib/python2.7/site-packages/pandas/core/frame.pyc\u001b[0m in \u001b[0;36m_getitem_column\u001b[0;34m(self, key)\u001b[0m\n\u001b[1;32m   1969\u001b[0m         \u001b[0;31m# get column\u001b[0m\u001b[0;34m\u001b[0m\u001b[0;34m\u001b[0m\u001b[0m\n\u001b[1;32m   1970\u001b[0m         \u001b[0;32mif\u001b[0m \u001b[0mself\u001b[0m\u001b[0;34m.\u001b[0m\u001b[0mcolumns\u001b[0m\u001b[0;34m.\u001b[0m\u001b[0mis_unique\u001b[0m\u001b[0;34m:\u001b[0m\u001b[0;34m\u001b[0m\u001b[0m\n\u001b[0;32m-> 1971\u001b[0;31m             \u001b[0;32mreturn\u001b[0m \u001b[0mself\u001b[0m\u001b[0;34m.\u001b[0m\u001b[0m_get_item_cache\u001b[0m\u001b[0;34m(\u001b[0m\u001b[0mkey\u001b[0m\u001b[0;34m)\u001b[0m\u001b[0;34m\u001b[0m\u001b[0m\n\u001b[0m\u001b[1;32m   1972\u001b[0m \u001b[0;34m\u001b[0m\u001b[0m\n\u001b[1;32m   1973\u001b[0m         \u001b[0;31m# duplicate columns & possible reduce dimensionality\u001b[0m\u001b[0;34m\u001b[0m\u001b[0;34m\u001b[0m\u001b[0m\n",
      "\u001b[0;32m/Users/ipm/anaconda/lib/python2.7/site-packages/pandas/core/generic.pyc\u001b[0m in \u001b[0;36m_get_item_cache\u001b[0;34m(self, item)\u001b[0m\n\u001b[1;32m   1641\u001b[0m         \u001b[0;34m\"\"\"Return the cached item, item represents a label indexer.\"\"\"\u001b[0m\u001b[0;34m\u001b[0m\u001b[0m\n\u001b[1;32m   1642\u001b[0m         \u001b[0mcache\u001b[0m \u001b[0;34m=\u001b[0m \u001b[0mself\u001b[0m\u001b[0;34m.\u001b[0m\u001b[0m_item_cache\u001b[0m\u001b[0;34m\u001b[0m\u001b[0m\n\u001b[0;32m-> 1643\u001b[0;31m         \u001b[0mres\u001b[0m \u001b[0;34m=\u001b[0m \u001b[0mcache\u001b[0m\u001b[0;34m.\u001b[0m\u001b[0mget\u001b[0m\u001b[0;34m(\u001b[0m\u001b[0mitem\u001b[0m\u001b[0;34m)\u001b[0m\u001b[0;34m\u001b[0m\u001b[0m\n\u001b[0m\u001b[1;32m   1644\u001b[0m         \u001b[0;32mif\u001b[0m \u001b[0mres\u001b[0m \u001b[0;32mis\u001b[0m \u001b[0mNone\u001b[0m\u001b[0;34m:\u001b[0m\u001b[0;34m\u001b[0m\u001b[0m\n\u001b[1;32m   1645\u001b[0m             \u001b[0mvalues\u001b[0m \u001b[0;34m=\u001b[0m \u001b[0mself\u001b[0m\u001b[0;34m.\u001b[0m\u001b[0m_data\u001b[0m\u001b[0;34m.\u001b[0m\u001b[0mget\u001b[0m\u001b[0;34m(\u001b[0m\u001b[0mitem\u001b[0m\u001b[0;34m)\u001b[0m\u001b[0;34m\u001b[0m\u001b[0m\n",
      "\u001b[0;31mTypeError\u001b[0m: unhashable type"
     ]
    },
    {
     "data": {
      "image/png": "[encoded data removed]",
      "text/plain": [
       "<matplotlib.figure.Figure at 0x1a12f0c290>"
      ]
     },
     "metadata": {},
     "output_type": "display_data"
    }
   ],
   "source": [
    "clf = svm.SVC(kernel='linear', C = 1.0)\n",
    "sv = clf.fit(X_train, y_train)\n",
    "sv."
   ]
  },
  {
   "cell_type": "code",
   "execution_count": 49,
   "metadata": {},
   "outputs": [
    {
     "name": "stdout",
     "output_type": "stream",
     "text": [
      "Fitting the model\n",
      "Training model completed\n",
      "2.72884252203\n",
      "gamma: 1\n",
      "reg_alpha: 0.07\n",
      "[ 0.  0.  0. ...,  0.  0.  0.]\n",
      "0:05:27.574682\n"
     ]
    }
   ],
   "source": [
    "# Parameter tunning in Xtreme gradient Boosting\n",
    "import datetime\n",
    "import sys\n",
    "import math\n",
    " \n",
    "import numpy as np\n",
    "from sklearn.grid_search import GridSearchCV\n",
    " \n",
    "#sys.path.append('xgboost/wrapper/')\n",
    "import xgboost as xgb\n",
    " \n",
    "class XGBoostClassifier():\n",
    "    def __init__(self, num_boost_round=10, **params):\n",
    "        self.clf = None\n",
    "        self.num_boost_round = num_boost_round\n",
    "        self.params = params\n",
    "        self.params.update({'objective': 'multi:softprob'})\n",
    " \n",
    "    def fit(self, X, y, num_boost_round=None):\n",
    "        num_boost_round = num_boost_round or self.num_boost_round\n",
    "        self.label2num = dict((label, i) for i, label in enumerate(sorted(set(y))))\n",
    "        dtrain = xgb.DMatrix(X, label=[self.label2num[label] for label in y])\n",
    "        self.clf = xgb.train(params=self.params, dtrain=dtrain, num_boost_round=num_boost_round)\n",
    " \n",
    "    def predict(self, X):\n",
    "        num2label = dict((i, label)for label, i in self.label2num.items())\n",
    "        Y = self.predict_proba(X)\n",
    "        y = np.argmax(Y, axis=1)\n",
    "        return np.array([num2label[i] for i in y])\n",
    " \n",
    "    def predict_proba(self, X):\n",
    "        dtest = xgb.DMatrix(X)\n",
    "        return self.clf.predict(dtest)\n",
    " \n",
    "    def score(self, X, y):\n",
    "        Y = self.predict_proba(X)\n",
    "        return 1 / logloss(y, Y)\n",
    " \n",
    "    def get_params(self, deep=True):\n",
    "        return self.params\n",
    " \n",
    "    def set_params(self, **params):\n",
    "        if 'num_boost_round' in params:\n",
    "            self.num_boost_round = params.pop('num_boost_round')\n",
    "        if 'objective' in params:\n",
    "            del params['objective']\n",
    "        self.params.update(params)\n",
    "        return self\n",
    "    \n",
    "    \n",
    "def logloss(y_true, Y_pred):\n",
    "    label2num = dict((name, i) for i, name in enumerate(sorted(set(y_true))))\n",
    "    return -1 * sum(math.log(y[label2num[label]]) if y[label2num[label]] > 0 else -np.inf for y, label in zip(Y_pred, y_true)) / len(Y_pred)\n",
    "\n",
    "\n",
    "def main():\n",
    "    clf = XGBoostClassifier(\n",
    "        eval_metric = 'logloss',\n",
    "        num_class = 2,\n",
    "        nthread = 4,\n",
    "        eta = 0.07,\n",
    "        num_boost_round = 10,\n",
    "        max_depth = 9,\n",
    "        min_child_weight = 1,\n",
    "        subsample = 0.85,\n",
    "        colsample_bytree = 0.8,\n",
    "        silent = 1,\n",
    "        reg_alpha=0.07,\n",
    "        gamma = 0.9\n",
    "        )\n",
    "    parameters = {\n",
    "        'gamma':[0.6, 0.7,0.8,0.9,1],\n",
    "        #'num_boost_round': [50, 100, 150,250,500],\n",
    "        #'eta': [0.1,0.15,0.2],\n",
    "        'reg_alpha':[0.067,0.07, 0.072,0.075],\n",
    "        #'max_depth': [5,7,8],\n",
    "        #'min_child_weight':[1,2,3]\n",
    "        #'subsample': [0.9, 0.8, 0.85, 0.95],\n",
    "        #'colsample_bytree': [0.8,0.85, 0.9, 0.95],\n",
    "    }\n",
    "    clf = GridSearchCV(clf, parameters, n_jobs=1, cv=3)\n",
    "    print(\"Fitting the model\")\n",
    "    clf.fit(X_train,y_train)\n",
    "    print(\"Training model completed\")\n",
    "    best_parameters, score, _ = max(clf.grid_scores_, key=lambda x: x[1])\n",
    "    print(score)\n",
    "    for param_name in sorted(best_parameters.keys()):\n",
    "        print(\"%s: %r\" % (param_name, best_parameters[param_name]))\n",
    "                \n",
    "    print(clf.predict(X_test))\n",
    "\n",
    "\n",
    "if __name__ == '__main__':\n",
    "    start_time=datetime.datetime.now()\n",
    "    main()\n",
    "    print(datetime.datetime.now()-start_time)\n"
   ]
  },
  {
   "cell_type": "code",
   "execution_count": 27,
   "metadata": {},
   "outputs": [
    {
     "name": "stdout",
     "output_type": "stream",
     "text": [
      "((70000, 90), (70000,))\n"
     ]
    },
    {
     "ename": "XGBoostError",
     "evalue": "[20:14:27] src/objective/regression_obj.cc:90: Check failed: (preds.size()) == (info.labels.size()) labels are not correctly providedpreds.size=140000, label.size=70000",
     "output_type": "error",
     "traceback": [
      "\u001b[0;31m---------------------------------------------------------------------------\u001b[0m",
      "\u001b[0;31mXGBoostError\u001b[0m                              Traceback (most recent call last)",
      "\u001b[0;32m<ipython-input-27-ab5f79bcf5cd>\u001b[0m in \u001b[0;36m<module>\u001b[0;34m()\u001b[0m\n\u001b[1;32m     22\u001b[0m     \u001b[0;32mreturn\u001b[0m \u001b[0mmodel\u001b[0m\u001b[0;34m\u001b[0m\u001b[0m\n\u001b[1;32m     23\u001b[0m \u001b[0;34m\u001b[0m\u001b[0m\n\u001b[0;32m---> 24\u001b[0;31m \u001b[0mmodel\u001b[0m \u001b[0;34m=\u001b[0m \u001b[0mrunXGB\u001b[0m\u001b[0;34m(\u001b[0m\u001b[0mX_train\u001b[0m\u001b[0;34m,\u001b[0m \u001b[0my_train\u001b[0m\u001b[0;34m,\u001b[0m \u001b[0mseed_val\u001b[0m\u001b[0;34m=\u001b[0m\u001b[0;36m25\u001b[0m\u001b[0;34m)\u001b[0m\u001b[0;34m\u001b[0m\u001b[0m\n\u001b[0m\u001b[1;32m     25\u001b[0m \u001b[0mpreds\u001b[0m \u001b[0;34m=\u001b[0m \u001b[0mmodel\u001b[0m\u001b[0;34m.\u001b[0m\u001b[0mpredict\u001b[0m\u001b[0;34m(\u001b[0m\u001b[0mX_test\u001b[0m\u001b[0;34m)\u001b[0m\u001b[0;34m\u001b[0m\u001b[0m\n",
      "\u001b[0;32m<ipython-input-27-ab5f79bcf5cd>\u001b[0m in \u001b[0;36mrunXGB\u001b[0;34m(X_train, y_train, seed_val)\u001b[0m\n\u001b[1;32m     19\u001b[0m     \u001b[0mplst\u001b[0m \u001b[0;34m=\u001b[0m \u001b[0mlist\u001b[0m\u001b[0;34m(\u001b[0m\u001b[0mparam\u001b[0m\u001b[0;34m.\u001b[0m\u001b[0mitems\u001b[0m\u001b[0;34m(\u001b[0m\u001b[0;34m)\u001b[0m\u001b[0;34m)\u001b[0m\u001b[0;34m\u001b[0m\u001b[0m\n\u001b[1;32m     20\u001b[0m     \u001b[0mxgtrain\u001b[0m \u001b[0;34m=\u001b[0m \u001b[0mxgb\u001b[0m\u001b[0;34m.\u001b[0m\u001b[0mDMatrix\u001b[0m\u001b[0;34m(\u001b[0m\u001b[0mX_train\u001b[0m\u001b[0;34m,\u001b[0m \u001b[0mlabel\u001b[0m\u001b[0;34m=\u001b[0m\u001b[0my_train\u001b[0m\u001b[0;34m)\u001b[0m\u001b[0;34m\u001b[0m\u001b[0m\n\u001b[0;32m---> 21\u001b[0;31m     \u001b[0mmodel\u001b[0m \u001b[0;34m=\u001b[0m \u001b[0mxgb\u001b[0m\u001b[0;34m.\u001b[0m\u001b[0mtrain\u001b[0m\u001b[0;34m(\u001b[0m\u001b[0mplst\u001b[0m\u001b[0;34m,\u001b[0m \u001b[0mxgtrain\u001b[0m\u001b[0;34m,\u001b[0m \u001b[0mnum_rounds\u001b[0m\u001b[0;34m)\u001b[0m\u001b[0;34m\u001b[0m\u001b[0m\n\u001b[0m\u001b[1;32m     22\u001b[0m     \u001b[0;32mreturn\u001b[0m \u001b[0mmodel\u001b[0m\u001b[0;34m\u001b[0m\u001b[0m\n\u001b[1;32m     23\u001b[0m \u001b[0;34m\u001b[0m\u001b[0m\n",
      "\u001b[0;32m/Users/ipm/anaconda/lib/python2.7/site-packages/xgboost-0.6-py2.7.egg/xgboost/training.pyc\u001b[0m in \u001b[0;36mtrain\u001b[0;34m(params, dtrain, num_boost_round, evals, obj, feval, maximize, early_stopping_rounds, evals_result, verbose_eval, learning_rates, xgb_model, callbacks)\u001b[0m\n\u001b[1;32m    201\u001b[0m                            \u001b[0mevals\u001b[0m\u001b[0;34m=\u001b[0m\u001b[0mevals\u001b[0m\u001b[0;34m,\u001b[0m\u001b[0;34m\u001b[0m\u001b[0m\n\u001b[1;32m    202\u001b[0m                            \u001b[0mobj\u001b[0m\u001b[0;34m=\u001b[0m\u001b[0mobj\u001b[0m\u001b[0;34m,\u001b[0m \u001b[0mfeval\u001b[0m\u001b[0;34m=\u001b[0m\u001b[0mfeval\u001b[0m\u001b[0;34m,\u001b[0m\u001b[0;34m\u001b[0m\u001b[0m\n\u001b[0;32m--> 203\u001b[0;31m                            xgb_model=xgb_model, callbacks=callbacks)\n\u001b[0m\u001b[1;32m    204\u001b[0m \u001b[0;34m\u001b[0m\u001b[0m\n\u001b[1;32m    205\u001b[0m \u001b[0;34m\u001b[0m\u001b[0m\n",
      "\u001b[0;32m/Users/ipm/anaconda/lib/python2.7/site-packages/xgboost-0.6-py2.7.egg/xgboost/training.pyc\u001b[0m in \u001b[0;36m_train_internal\u001b[0;34m(params, dtrain, num_boost_round, evals, obj, feval, xgb_model, callbacks)\u001b[0m\n\u001b[1;32m     72\u001b[0m         \u001b[0;31m# Skip the first update if it is a recovery step.\u001b[0m\u001b[0;34m\u001b[0m\u001b[0;34m\u001b[0m\u001b[0m\n\u001b[1;32m     73\u001b[0m         \u001b[0;32mif\u001b[0m \u001b[0mversion\u001b[0m \u001b[0;34m%\u001b[0m \u001b[0;36m2\u001b[0m \u001b[0;34m==\u001b[0m \u001b[0;36m0\u001b[0m\u001b[0;34m:\u001b[0m\u001b[0;34m\u001b[0m\u001b[0m\n\u001b[0;32m---> 74\u001b[0;31m             \u001b[0mbst\u001b[0m\u001b[0;34m.\u001b[0m\u001b[0mupdate\u001b[0m\u001b[0;34m(\u001b[0m\u001b[0mdtrain\u001b[0m\u001b[0;34m,\u001b[0m \u001b[0mi\u001b[0m\u001b[0;34m,\u001b[0m \u001b[0mobj\u001b[0m\u001b[0;34m)\u001b[0m\u001b[0;34m\u001b[0m\u001b[0m\n\u001b[0m\u001b[1;32m     75\u001b[0m             \u001b[0mbst\u001b[0m\u001b[0;34m.\u001b[0m\u001b[0msave_rabit_checkpoint\u001b[0m\u001b[0;34m(\u001b[0m\u001b[0;34m)\u001b[0m\u001b[0;34m\u001b[0m\u001b[0m\n\u001b[1;32m     76\u001b[0m             \u001b[0mversion\u001b[0m \u001b[0;34m+=\u001b[0m \u001b[0;36m1\u001b[0m\u001b[0;34m\u001b[0m\u001b[0m\n",
      "\u001b[0;32m/Users/ipm/anaconda/lib/python2.7/site-packages/xgboost-0.6-py2.7.egg/xgboost/core.pyc\u001b[0m in \u001b[0;36mupdate\u001b[0;34m(self, dtrain, iteration, fobj)\u001b[0m\n\u001b[1;32m    817\u001b[0m \u001b[0;34m\u001b[0m\u001b[0m\n\u001b[1;32m    818\u001b[0m         \u001b[0;32mif\u001b[0m \u001b[0mfobj\u001b[0m \u001b[0;32mis\u001b[0m \u001b[0mNone\u001b[0m\u001b[0;34m:\u001b[0m\u001b[0;34m\u001b[0m\u001b[0m\n\u001b[0;32m--> 819\u001b[0;31m             \u001b[0m_check_call\u001b[0m\u001b[0;34m(\u001b[0m\u001b[0m_LIB\u001b[0m\u001b[0;34m.\u001b[0m\u001b[0mXGBoosterUpdateOneIter\u001b[0m\u001b[0;34m(\u001b[0m\u001b[0mself\u001b[0m\u001b[0;34m.\u001b[0m\u001b[0mhandle\u001b[0m\u001b[0;34m,\u001b[0m \u001b[0miteration\u001b[0m\u001b[0;34m,\u001b[0m \u001b[0mdtrain\u001b[0m\u001b[0;34m.\u001b[0m\u001b[0mhandle\u001b[0m\u001b[0;34m)\u001b[0m\u001b[0;34m)\u001b[0m\u001b[0;34m\u001b[0m\u001b[0m\n\u001b[0m\u001b[1;32m    820\u001b[0m         \u001b[0;32melse\u001b[0m\u001b[0;34m:\u001b[0m\u001b[0;34m\u001b[0m\u001b[0m\n\u001b[1;32m    821\u001b[0m             \u001b[0mpred\u001b[0m \u001b[0;34m=\u001b[0m \u001b[0mself\u001b[0m\u001b[0;34m.\u001b[0m\u001b[0mpredict\u001b[0m\u001b[0;34m(\u001b[0m\u001b[0mdtrain\u001b[0m\u001b[0;34m)\u001b[0m\u001b[0;34m\u001b[0m\u001b[0m\n",
      "\u001b[0;32m/Users/ipm/anaconda/lib/python2.7/site-packages/xgboost-0.6-py2.7.egg/xgboost/core.pyc\u001b[0m in \u001b[0;36m_check_call\u001b[0;34m(ret)\u001b[0m\n\u001b[1;32m    125\u001b[0m     \"\"\"\n\u001b[1;32m    126\u001b[0m     \u001b[0;32mif\u001b[0m \u001b[0mret\u001b[0m \u001b[0;34m!=\u001b[0m \u001b[0;36m0\u001b[0m\u001b[0;34m:\u001b[0m\u001b[0;34m\u001b[0m\u001b[0m\n\u001b[0;32m--> 127\u001b[0;31m         \u001b[0;32mraise\u001b[0m \u001b[0mXGBoostError\u001b[0m\u001b[0;34m(\u001b[0m\u001b[0m_LIB\u001b[0m\u001b[0;34m.\u001b[0m\u001b[0mXGBGetLastError\u001b[0m\u001b[0;34m(\u001b[0m\u001b[0;34m)\u001b[0m\u001b[0;34m)\u001b[0m\u001b[0;34m\u001b[0m\u001b[0m\n\u001b[0m\u001b[1;32m    128\u001b[0m \u001b[0;34m\u001b[0m\u001b[0m\n\u001b[1;32m    129\u001b[0m \u001b[0;34m\u001b[0m\u001b[0m\n",
      "\u001b[0;31mXGBoostError\u001b[0m: [20:14:27] src/objective/regression_obj.cc:90: Check failed: (preds.size()) == (info.labels.size()) labels are not correctly providedpreds.size=140000, label.size=70000"
     ]
    }
   ],
   "source": [
    "#xgtest = xgb.DMatrix(X_test)\n",
    "def runXGB(X_train, y_train, seed_val=25):\n",
    "    print(X_train.shape, y_train.shape)\n",
    "    param = {}\n",
    "    param['objective'] = 'binary:logistic'\n",
    "    param['eta'] = 0.2\n",
    "    param['max_depth'] = 8\n",
    "    param['silent'] = 1\n",
    "    param['num_class'] = 2\n",
    "    param['eval_metric'] = \"logloss\"\n",
    "    param['min_child_weight'] = 1\n",
    "    param['subsample'] = 0.8\n",
    "    param['colsample_bytree'] = 0.95\n",
    "    param['seed'] = seed_val\n",
    "    param['gamma'] = 0.8 \n",
    "    param['reg-alpha']=0.07\n",
    "    num_rounds = 100\n",
    "\n",
    "    plst = list(param.items())\n",
    "    xgtrain = xgb.DMatrix(X_train, label=y_train)\n",
    "    model = xgb.train(plst, xgtrain, num_rounds)\n",
    "    return model\n",
    "\n",
    "model = runXGB(X_train, y_train, seed_val=25)\n",
    "preds = model.predict(X_test)"
   ]
  },
  {
   "cell_type": "code",
   "execution_count": 36,
   "metadata": {},
   "outputs": [],
   "source": [
    "clf = XGBClassifier(\n",
    "    #num_class = 2,\n",
    "    nthread = 4,\n",
    "    learning_rate = 0.2,\n",
    "    n_estimators = 100,\n",
    "    max_depth = 8,\n",
    "    min_child_weight = 1,\n",
    "    subsample = 0.85,\n",
    "    colsample_bytree = 0.8,\n",
    "    silent = 1,\n",
    "    reg_alpha=0.07,\n",
    "    gamma = 0.9\n",
    "    )\n",
    "\n",
    "#clf = RandomForestClassifier()\n",
    "model = clf.fit(X_train, y_train)\n",
    "pred_xgb = clf.predict(X_test)"
   ]
  },
  {
   "cell_type": "code",
   "execution_count": 37,
   "metadata": {},
   "outputs": [
    {
     "data": {
      "text/html": [
       "<div>\n",
       "<style>\n",
       "    .dataframe thead tr:only-child th {\n",
       "        text-align: right;\n",
       "    }\n",
       "\n",
       "    .dataframe thead th {\n",
       "        text-align: left;\n",
       "    }\n",
       "\n",
       "    .dataframe tbody tr th {\n",
       "        vertical-align: top;\n",
       "    }\n",
       "</style>\n",
       "<table border=\"1\" class=\"dataframe\">\n",
       "  <thead>\n",
       "    <tr style=\"text-align: right;\">\n",
       "      <th>col_0</th>\n",
       "      <th>0.0</th>\n",
       "      <th>1.0</th>\n",
       "    </tr>\n",
       "    <tr>\n",
       "      <th>class_col</th>\n",
       "      <th></th>\n",
       "      <th></th>\n",
       "    </tr>\n",
       "  </thead>\n",
       "  <tbody>\n",
       "    <tr>\n",
       "      <th>0.0</th>\n",
       "      <td>27592</td>\n",
       "      <td>368</td>\n",
       "    </tr>\n",
       "    <tr>\n",
       "      <th>1.0</th>\n",
       "      <td>1632</td>\n",
       "      <td>408</td>\n",
       "    </tr>\n",
       "  </tbody>\n",
       "</table>\n",
       "</div>"
      ],
      "text/plain": [
       "col_0        0.0  1.0\n",
       "class_col            \n",
       "0.0        27592  368\n",
       "1.0         1632  408"
      ]
     },
     "execution_count": 37,
     "metadata": {},
     "output_type": "execute_result"
    }
   ],
   "source": [
    "pd.crosstab(y_test, pred_xgb)"
   ]
  },
  {
   "cell_type": "code",
   "execution_count": 61,
   "metadata": {},
   "outputs": [],
   "source": [
    "dtrain = xgb.DMatrix(X_train, label=y_train)\n",
    "dtest = xgb.DMatrix(X_test)\n",
    "\n",
    "param = {'max_depth': 10, 'eta': 0.2, 'silent': 0, 'objective': 'binary:logistic', 'subsample':0.85,\n",
    "        'colsample_bytree':0.8, 'reg_alpha':0.07, 'gamma':0.9}\n",
    "param['nthread'] = 4\n",
    "param['eval_metric'] = 'auc'\n",
    "\n",
    "num_round = 26\n",
    "bst = xgb.train(param, dtrain, num_round)"
   ]
  },
  {
   "cell_type": "code",
   "execution_count": 64,
   "metadata": {},
   "outputs": [
    {
     "name": "stdout",
     "output_type": "stream",
     "text": [
      "[0]\ttrain-logloss:0.547147+0.000113068\ttest-logloss:0.549486+0.000430575\n",
      "[1]\ttrain-logloss:0.448355+0.000653375\ttest-logloss:0.453071+0.000904311\n",
      "[2]\ttrain-logloss:0.377371+0.000549801\ttest-logloss:0.384726+0.00138416\n",
      "[3]\ttrain-logloss:0.325446+0.00152605\ttest-logloss:0.335103+0.00148364\n",
      "[4]\ttrain-logloss:0.285772+0.00150944\ttest-logloss:0.297647+0.00176145\n",
      "[5]\ttrain-logloss:0.255137+0.00144639\ttest-logloss:0.269593+0.00211496\n",
      "[6]\ttrain-logloss:0.231124+0.00119655\ttest-logloss:0.248048+0.00250382\n",
      "[7]\ttrain-logloss:0.212368+0.00117298\ttest-logloss:0.231592+0.00275251\n",
      "[8]\ttrain-logloss:0.197733+0.000856342\ttest-logloss:0.219054+0.00294277\n",
      "[9]\ttrain-logloss:0.185841+0.00107893\ttest-logloss:0.209537+0.00313103\n",
      "[10]\ttrain-logloss:0.176665+0.00149443\ttest-logloss:0.202332+0.00311346\n",
      "[11]\ttrain-logloss:0.16908+0.00146119\ttest-logloss:0.196958+0.00337788\n",
      "[12]\ttrain-logloss:0.162539+0.00117912\ttest-logloss:0.192713+0.00375073\n",
      "[13]\ttrain-logloss:0.157339+0.00122378\ttest-logloss:0.189544+0.00371939\n",
      "[14]\ttrain-logloss:0.152821+0.00118822\ttest-logloss:0.187104+0.00398233\n",
      "[15]\ttrain-logloss:0.148715+0.00107104\ttest-logloss:0.185161+0.00423736\n",
      "[16]\ttrain-logloss:0.145635+0.000915605\ttest-logloss:0.183847+0.00443168\n",
      "[17]\ttrain-logloss:0.14254+0.000926889\ttest-logloss:0.183033+0.00442149\n",
      "[18]\ttrain-logloss:0.140034+0.00113138\ttest-logloss:0.182247+0.00454738\n",
      "[19]\ttrain-logloss:0.137393+0.000801912\ttest-logloss:0.181748+0.00450298\n",
      "[20]\ttrain-logloss:0.135342+0.0010469\ttest-logloss:0.18157+0.00467299\n",
      "[21]\ttrain-logloss:0.133419+0.00102482\ttest-logloss:0.181404+0.00466932\n",
      "[22]\ttrain-logloss:0.131769+0.00102814\ttest-logloss:0.181381+0.00468538\n",
      "[23]\ttrain-logloss:0.130386+0.000865896\ttest-logloss:0.181379+0.00473314\n",
      "[24]\ttrain-logloss:0.129018+0.00098467\ttest-logloss:0.1815+0.00478853\n",
      "[25]\ttrain-logloss:0.127769+0.00100335\ttest-logloss:0.181497+0.00472659\n",
      "[26]\ttrain-logloss:0.126601+0.000876485\ttest-logloss:0.18162+0.00467062\n",
      "[27]\ttrain-logloss:0.125305+0.000942012\ttest-logloss:0.18173+0.00474455\n",
      "[28]\ttrain-logloss:0.124248+0.000874144\ttest-logloss:0.181896+0.00480368\n",
      "[29]\ttrain-logloss:0.123215+0.00089015\ttest-logloss:0.181951+0.00476034\n",
      "[30]\ttrain-logloss:0.122178+0.000719845\ttest-logloss:0.182225+0.00485413\n",
      "[31]\ttrain-logloss:0.121077+0.000968877\ttest-logloss:0.182492+0.00493735\n",
      "[32]\ttrain-logloss:0.120337+0.00084292\ttest-logloss:0.182564+0.0050026\n",
      "[33]\ttrain-logloss:0.119478+0.00100691\ttest-logloss:0.182718+0.00505886\n",
      "[34]\ttrain-logloss:0.1186+0.000871651\ttest-logloss:0.18289+0.00504585\n",
      "[35]\ttrain-logloss:0.117992+0.000741916\ttest-logloss:0.182946+0.00513344\n",
      "[36]\ttrain-logloss:0.117279+0.00065591\ttest-logloss:0.183152+0.00525446\n",
      "[37]\ttrain-logloss:0.11645+0.000652038\ttest-logloss:0.183315+0.00534865\n",
      "[38]\ttrain-logloss:0.11581+0.00104084\ttest-logloss:0.18341+0.00538841\n",
      "[39]\ttrain-logloss:0.115168+0.00120831\ttest-logloss:0.183477+0.00544625\n",
      "[40]\ttrain-logloss:0.114506+0.00129561\ttest-logloss:0.183623+0.00546867\n",
      "[41]\ttrain-logloss:0.113847+0.00142521\ttest-logloss:0.183727+0.00550355\n"
     ]
    },
    {
     "ename": "KeyboardInterrupt",
     "evalue": "",
     "output_type": "error",
     "traceback": [
      "\u001b[0;31m---------------------------------------------------------------------------\u001b[0m",
      "\u001b[0;31mKeyboardInterrupt\u001b[0m                         Traceback (most recent call last)",
      "\u001b[0;32m<ipython-input-64-41f21a5d586e>\u001b[0m in \u001b[0;36m<module>\u001b[0;34m()\u001b[0m\n\u001b[1;32m      2\u001b[0m xgb.cv(param, dtrain, num_round, nfold=5,\n\u001b[1;32m      3\u001b[0m        \u001b[0mmetrics\u001b[0m\u001b[0;34m=\u001b[0m\u001b[0;34m{\u001b[0m\u001b[0;34m'logloss'\u001b[0m\u001b[0;34m}\u001b[0m\u001b[0;34m,\u001b[0m \u001b[0mseed\u001b[0m\u001b[0;34m=\u001b[0m\u001b[0;36m0\u001b[0m\u001b[0;34m,\u001b[0m\u001b[0;34m\u001b[0m\u001b[0m\n\u001b[0;32m----> 4\u001b[0;31m        callbacks=[xgb.callback.print_evaluation(show_stdv=True)])\n\u001b[0m",
      "\u001b[0;32m/Users/ipm/anaconda/lib/python2.7/site-packages/xgboost-0.6-py2.7.egg/xgboost/training.pyc\u001b[0m in \u001b[0;36mcv\u001b[0;34m(params, dtrain, num_boost_round, nfold, stratified, folds, metrics, obj, feval, maximize, early_stopping_rounds, fpreproc, as_pandas, verbose_eval, show_stdv, seed, callbacks)\u001b[0m\n\u001b[1;32m    394\u001b[0m                            evaluation_result_list=None))\n\u001b[1;32m    395\u001b[0m         \u001b[0;32mfor\u001b[0m \u001b[0mfold\u001b[0m \u001b[0;32min\u001b[0m \u001b[0mcvfolds\u001b[0m\u001b[0;34m:\u001b[0m\u001b[0;34m\u001b[0m\u001b[0m\n\u001b[0;32m--> 396\u001b[0;31m             \u001b[0mfold\u001b[0m\u001b[0;34m.\u001b[0m\u001b[0mupdate\u001b[0m\u001b[0;34m(\u001b[0m\u001b[0mi\u001b[0m\u001b[0;34m,\u001b[0m \u001b[0mobj\u001b[0m\u001b[0;34m)\u001b[0m\u001b[0;34m\u001b[0m\u001b[0m\n\u001b[0m\u001b[1;32m    397\u001b[0m         \u001b[0mres\u001b[0m \u001b[0;34m=\u001b[0m \u001b[0maggcv\u001b[0m\u001b[0;34m(\u001b[0m\u001b[0;34m[\u001b[0m\u001b[0mf\u001b[0m\u001b[0;34m.\u001b[0m\u001b[0meval\u001b[0m\u001b[0;34m(\u001b[0m\u001b[0mi\u001b[0m\u001b[0;34m,\u001b[0m \u001b[0mfeval\u001b[0m\u001b[0;34m)\u001b[0m \u001b[0;32mfor\u001b[0m \u001b[0mf\u001b[0m \u001b[0;32min\u001b[0m \u001b[0mcvfolds\u001b[0m\u001b[0;34m]\u001b[0m\u001b[0;34m)\u001b[0m\u001b[0;34m\u001b[0m\u001b[0m\n\u001b[1;32m    398\u001b[0m \u001b[0;34m\u001b[0m\u001b[0m\n",
      "\u001b[0;32m/Users/ipm/anaconda/lib/python2.7/site-packages/xgboost-0.6-py2.7.egg/xgboost/training.pyc\u001b[0m in \u001b[0;36mupdate\u001b[0;34m(self, iteration, fobj)\u001b[0m\n\u001b[1;32m    215\u001b[0m     \u001b[0;32mdef\u001b[0m \u001b[0mupdate\u001b[0m\u001b[0;34m(\u001b[0m\u001b[0mself\u001b[0m\u001b[0;34m,\u001b[0m \u001b[0miteration\u001b[0m\u001b[0;34m,\u001b[0m \u001b[0mfobj\u001b[0m\u001b[0;34m)\u001b[0m\u001b[0;34m:\u001b[0m\u001b[0;34m\u001b[0m\u001b[0m\n\u001b[1;32m    216\u001b[0m         \u001b[0;34m\"\"\"\"Update the boosters for one iteration\"\"\"\u001b[0m\u001b[0;34m\u001b[0m\u001b[0m\n\u001b[0;32m--> 217\u001b[0;31m         \u001b[0mself\u001b[0m\u001b[0;34m.\u001b[0m\u001b[0mbst\u001b[0m\u001b[0;34m.\u001b[0m\u001b[0mupdate\u001b[0m\u001b[0;34m(\u001b[0m\u001b[0mself\u001b[0m\u001b[0;34m.\u001b[0m\u001b[0mdtrain\u001b[0m\u001b[0;34m,\u001b[0m \u001b[0miteration\u001b[0m\u001b[0;34m,\u001b[0m \u001b[0mfobj\u001b[0m\u001b[0;34m)\u001b[0m\u001b[0;34m\u001b[0m\u001b[0m\n\u001b[0m\u001b[1;32m    218\u001b[0m \u001b[0;34m\u001b[0m\u001b[0m\n\u001b[1;32m    219\u001b[0m     \u001b[0;32mdef\u001b[0m \u001b[0meval\u001b[0m\u001b[0;34m(\u001b[0m\u001b[0mself\u001b[0m\u001b[0;34m,\u001b[0m \u001b[0miteration\u001b[0m\u001b[0;34m,\u001b[0m \u001b[0mfeval\u001b[0m\u001b[0;34m)\u001b[0m\u001b[0;34m:\u001b[0m\u001b[0;34m\u001b[0m\u001b[0m\n",
      "\u001b[0;32m/Users/ipm/anaconda/lib/python2.7/site-packages/xgboost-0.6-py2.7.egg/xgboost/core.pyc\u001b[0m in \u001b[0;36mupdate\u001b[0;34m(self, dtrain, iteration, fobj)\u001b[0m\n\u001b[1;32m    817\u001b[0m \u001b[0;34m\u001b[0m\u001b[0m\n\u001b[1;32m    818\u001b[0m         \u001b[0;32mif\u001b[0m \u001b[0mfobj\u001b[0m \u001b[0;32mis\u001b[0m \u001b[0mNone\u001b[0m\u001b[0;34m:\u001b[0m\u001b[0;34m\u001b[0m\u001b[0m\n\u001b[0;32m--> 819\u001b[0;31m             \u001b[0m_check_call\u001b[0m\u001b[0;34m(\u001b[0m\u001b[0m_LIB\u001b[0m\u001b[0;34m.\u001b[0m\u001b[0mXGBoosterUpdateOneIter\u001b[0m\u001b[0;34m(\u001b[0m\u001b[0mself\u001b[0m\u001b[0;34m.\u001b[0m\u001b[0mhandle\u001b[0m\u001b[0;34m,\u001b[0m \u001b[0miteration\u001b[0m\u001b[0;34m,\u001b[0m \u001b[0mdtrain\u001b[0m\u001b[0;34m.\u001b[0m\u001b[0mhandle\u001b[0m\u001b[0;34m)\u001b[0m\u001b[0;34m)\u001b[0m\u001b[0;34m\u001b[0m\u001b[0m\n\u001b[0m\u001b[1;32m    820\u001b[0m         \u001b[0;32melse\u001b[0m\u001b[0;34m:\u001b[0m\u001b[0;34m\u001b[0m\u001b[0m\n\u001b[1;32m    821\u001b[0m             \u001b[0mpred\u001b[0m \u001b[0;34m=\u001b[0m \u001b[0mself\u001b[0m\u001b[0;34m.\u001b[0m\u001b[0mpredict\u001b[0m\u001b[0;34m(\u001b[0m\u001b[0mdtrain\u001b[0m\u001b[0;34m)\u001b[0m\u001b[0;34m\u001b[0m\u001b[0m\n",
      "\u001b[0;31mKeyboardInterrupt\u001b[0m: "
     ]
    }
   ],
   "source": [
    "num_round = 100\n",
    "xgb.cv(param, dtrain, num_round, nfold=5,\n",
    "       metrics={'logloss'}, seed=0,\n",
    "       callbacks=[xgb.callback.print_evaluation(show_stdv=True)])"
   ]
  },
  {
   "cell_type": "code",
   "execution_count": 59,
   "metadata": {},
   "outputs": [
    {
     "data": {
      "text/plain": [
       "<matplotlib.axes._subplots.AxesSubplot at 0x1a12dc53d0>"
      ]
     },
     "execution_count": 59,
     "metadata": {},
     "output_type": "execute_result"
    },
    {
     "data": {
      "image/png": "[encoded data removed]",
      "text/plain": [
       "<matplotlib.figure.Figure at 0x10691ca10>"
      ]
     },
     "metadata": {},
     "output_type": "display_data"
    }
   ],
   "source": [
    "xgb.plot_importance(bst)"
   ]
  },
  {
   "cell_type": "code",
   "execution_count": null,
   "metadata": {
    "collapsed": true
   },
   "outputs": [],
   "source": []
  }
 ],
 "metadata": {
  "anaconda-cloud": {},
  "kernelspec": {
   "display_name": "Python [Root]",
   "language": "python",
   "name": "Python [Root]"
  },
  "language_info": {
   "codemirror_mode": {
    "name": "ipython",
    "version": 2
   },
   "file_extension": ".py",
   "mimetype": "text/x-python",
   "name": "python",
   "nbconvert_exporter": "python",
   "pygments_lexer": "ipython2",
   "version": "2.7.12"
  }
 },
 "nbformat": 4,
 "nbformat_minor": 1
}
