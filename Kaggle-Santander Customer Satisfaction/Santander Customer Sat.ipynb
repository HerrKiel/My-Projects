{
 "cells": [
  {
   "cell_type": "code",
   "execution_count": 1,
   "metadata": {
    "collapsed": false
   },
   "outputs": [],
   "source": [
    "import pandas as pd\n",
    "import numpy as np\n",
    "import matplotlib.pyplot as plt\n",
    "import seaborn as sns\n",
    "%matplotlib inline\n",
    "from sklearn.tree import DecisionTreeClassifier\n",
    "from sklearn.naive_bayes import GaussianNB\n",
    "from sklearn.linear_model import LogisticRegression\n",
    "from sklearn.ensemble import RandomForestClassifier \n",
    "from sklearn.model_selection import cross_val_score, train_test_split\n",
    "import xgboost as xgb\n",
    "from xgboost.sklearn import XGBClassifier\n",
    "from sklearn import model_selection, metrics   #Additional scklearn functions\n",
    "from sklearn.model_selection import GridSearchCV   #Perforing grid search\n",
    "import time"
   ]
  },
  {
   "cell_type": "code",
   "execution_count": 2,
   "metadata": {
    "collapsed": false
   },
   "outputs": [],
   "source": [
    "df_train=pd.read_csv('../Santander - Cust Satisfaction/train.csv')\n",
    "df_test=pd.read_csv('../Santander - Cust Satisfaction/test.csv')"
   ]
  },
  {
   "cell_type": "code",
   "execution_count": 3,
   "metadata": {
    "collapsed": false
   },
   "outputs": [
    {
     "name": "stdout",
     "output_type": "stream",
     "text": [
      "('df_train.shape:', (76020, 371))\n",
      "('df_test.shape:', (75818, 370))\n",
      "0    0.960431\n",
      "1    0.039569\n",
      "Name: TARGET, dtype: float64\n"
     ]
    }
   ],
   "source": [
    "# Data summary\n",
    "print(\"df_train.shape:\", df_train.shape)\n",
    "print(\"df_test.shape:\", df_test.shape)\n",
    "print(df_train.TARGET.value_counts(normalize=True))\n",
    "# Imbalanced classes! Only 4% target values.."
   ]
  },
  {
   "cell_type": "code",
   "execution_count": 4,
   "metadata": {
    "collapsed": false
   },
   "outputs": [
    {
     "data": {
      "text/html": [
       "<div>\n",
       "<table border=\"1\" class=\"dataframe\">\n",
       "  <thead>\n",
       "    <tr style=\"text-align: right;\">\n",
       "      <th></th>\n",
       "      <th>count</th>\n",
       "      <th>mean</th>\n",
       "      <th>std</th>\n",
       "      <th>min</th>\n",
       "      <th>25%</th>\n",
       "      <th>50%</th>\n",
       "      <th>75%</th>\n",
       "      <th>max</th>\n",
       "      <th>unique</th>\n",
       "    </tr>\n",
       "  </thead>\n",
       "  <tbody>\n",
       "    <tr>\n",
       "      <th>ID</th>\n",
       "      <td>76020.0</td>\n",
       "      <td>75964.050723</td>\n",
       "      <td>43781.947379</td>\n",
       "      <td>1.00</td>\n",
       "      <td>38104.7500</td>\n",
       "      <td>76043.00</td>\n",
       "      <td>113748.7500</td>\n",
       "      <td>151838.00</td>\n",
       "      <td>76020.0</td>\n",
       "    </tr>\n",
       "    <tr>\n",
       "      <th>var3</th>\n",
       "      <td>76020.0</td>\n",
       "      <td>-1523.199277</td>\n",
       "      <td>39033.462364</td>\n",
       "      <td>-999999.00</td>\n",
       "      <td>2.0000</td>\n",
       "      <td>2.00</td>\n",
       "      <td>2.0000</td>\n",
       "      <td>238.00</td>\n",
       "      <td>208.0</td>\n",
       "    </tr>\n",
       "    <tr>\n",
       "      <th>var15</th>\n",
       "      <td>76020.0</td>\n",
       "      <td>33.212865</td>\n",
       "      <td>12.956486</td>\n",
       "      <td>5.00</td>\n",
       "      <td>23.0000</td>\n",
       "      <td>28.00</td>\n",
       "      <td>40.0000</td>\n",
       "      <td>105.00</td>\n",
       "      <td>100.0</td>\n",
       "    </tr>\n",
       "    <tr>\n",
       "      <th>imp_ent_var16_ult1</th>\n",
       "      <td>76020.0</td>\n",
       "      <td>86.208265</td>\n",
       "      <td>1614.757313</td>\n",
       "      <td>0.00</td>\n",
       "      <td>0.0000</td>\n",
       "      <td>0.00</td>\n",
       "      <td>0.0000</td>\n",
       "      <td>210000.00</td>\n",
       "      <td>596.0</td>\n",
       "    </tr>\n",
       "    <tr>\n",
       "      <th>imp_op_var39_comer_ult1</th>\n",
       "      <td>76020.0</td>\n",
       "      <td>72.363067</td>\n",
       "      <td>339.315831</td>\n",
       "      <td>0.00</td>\n",
       "      <td>0.0000</td>\n",
       "      <td>0.00</td>\n",
       "      <td>0.0000</td>\n",
       "      <td>12888.03</td>\n",
       "      <td>7551.0</td>\n",
       "    </tr>\n",
       "    <tr>\n",
       "      <th>imp_op_var39_comer_ult3</th>\n",
       "      <td>76020.0</td>\n",
       "      <td>119.529632</td>\n",
       "      <td>546.266294</td>\n",
       "      <td>0.00</td>\n",
       "      <td>0.0000</td>\n",
       "      <td>0.00</td>\n",
       "      <td>0.0000</td>\n",
       "      <td>21024.81</td>\n",
       "      <td>9099.0</td>\n",
       "    </tr>\n",
       "    <tr>\n",
       "      <th>imp_op_var40_comer_ult1</th>\n",
       "      <td>76020.0</td>\n",
       "      <td>3.559130</td>\n",
       "      <td>93.155749</td>\n",
       "      <td>0.00</td>\n",
       "      <td>0.0000</td>\n",
       "      <td>0.00</td>\n",
       "      <td>0.0000</td>\n",
       "      <td>8237.82</td>\n",
       "      <td>293.0</td>\n",
       "    </tr>\n",
       "    <tr>\n",
       "      <th>imp_op_var40_comer_ult3</th>\n",
       "      <td>76020.0</td>\n",
       "      <td>6.472698</td>\n",
       "      <td>153.737066</td>\n",
       "      <td>0.00</td>\n",
       "      <td>0.0000</td>\n",
       "      <td>0.00</td>\n",
       "      <td>0.0000</td>\n",
       "      <td>11073.57</td>\n",
       "      <td>346.0</td>\n",
       "    </tr>\n",
       "    <tr>\n",
       "      <th>imp_op_var40_efect_ult1</th>\n",
       "      <td>76020.0</td>\n",
       "      <td>0.412946</td>\n",
       "      <td>30.604864</td>\n",
       "      <td>0.00</td>\n",
       "      <td>0.0000</td>\n",
       "      <td>0.00</td>\n",
       "      <td>0.0000</td>\n",
       "      <td>6600.00</td>\n",
       "      <td>23.0</td>\n",
       "    </tr>\n",
       "    <tr>\n",
       "      <th>imp_op_var40_efect_ult3</th>\n",
       "      <td>76020.0</td>\n",
       "      <td>0.567352</td>\n",
       "      <td>36.513513</td>\n",
       "      <td>0.00</td>\n",
       "      <td>0.0000</td>\n",
       "      <td>0.00</td>\n",
       "      <td>0.0000</td>\n",
       "      <td>6600.00</td>\n",
       "      <td>29.0</td>\n",
       "    </tr>\n",
       "    <tr>\n",
       "      <th>imp_op_var40_ult1</th>\n",
       "      <td>76020.0</td>\n",
       "      <td>3.160715</td>\n",
       "      <td>95.268204</td>\n",
       "      <td>0.00</td>\n",
       "      <td>0.0000</td>\n",
       "      <td>0.00</td>\n",
       "      <td>0.0000</td>\n",
       "      <td>8237.82</td>\n",
       "      <td>224.0</td>\n",
       "    </tr>\n",
       "    <tr>\n",
       "      <th>imp_op_var41_comer_ult1</th>\n",
       "      <td>76020.0</td>\n",
       "      <td>68.803937</td>\n",
       "      <td>319.605516</td>\n",
       "      <td>0.00</td>\n",
       "      <td>0.0000</td>\n",
       "      <td>0.00</td>\n",
       "      <td>0.0000</td>\n",
       "      <td>12888.03</td>\n",
       "      <td>7421.0</td>\n",
       "    </tr>\n",
       "    <tr>\n",
       "      <th>imp_op_var41_comer_ult3</th>\n",
       "      <td>76020.0</td>\n",
       "      <td>113.056934</td>\n",
       "      <td>512.154823</td>\n",
       "      <td>0.00</td>\n",
       "      <td>0.0000</td>\n",
       "      <td>0.00</td>\n",
       "      <td>0.0000</td>\n",
       "      <td>16566.81</td>\n",
       "      <td>8961.0</td>\n",
       "    </tr>\n",
       "    <tr>\n",
       "      <th>imp_op_var41_efect_ult1</th>\n",
       "      <td>76020.0</td>\n",
       "      <td>68.205140</td>\n",
       "      <td>531.897917</td>\n",
       "      <td>0.00</td>\n",
       "      <td>0.0000</td>\n",
       "      <td>0.00</td>\n",
       "      <td>0.0000</td>\n",
       "      <td>45990.00</td>\n",
       "      <td>331.0</td>\n",
       "    </tr>\n",
       "    <tr>\n",
       "      <th>imp_op_var41_efect_ult3</th>\n",
       "      <td>76020.0</td>\n",
       "      <td>113.225058</td>\n",
       "      <td>950.086398</td>\n",
       "      <td>0.00</td>\n",
       "      <td>0.0000</td>\n",
       "      <td>0.00</td>\n",
       "      <td>0.0000</td>\n",
       "      <td>131100.00</td>\n",
       "      <td>454.0</td>\n",
       "    </tr>\n",
       "    <tr>\n",
       "      <th>imp_op_var41_ult1</th>\n",
       "      <td>76020.0</td>\n",
       "      <td>137.242763</td>\n",
       "      <td>697.712596</td>\n",
       "      <td>0.00</td>\n",
       "      <td>0.0000</td>\n",
       "      <td>0.00</td>\n",
       "      <td>0.0000</td>\n",
       "      <td>47598.09</td>\n",
       "      <td>8032.0</td>\n",
       "    </tr>\n",
       "    <tr>\n",
       "      <th>imp_op_var39_efect_ult1</th>\n",
       "      <td>76020.0</td>\n",
       "      <td>68.618087</td>\n",
       "      <td>535.473750</td>\n",
       "      <td>0.00</td>\n",
       "      <td>0.0000</td>\n",
       "      <td>0.00</td>\n",
       "      <td>0.0000</td>\n",
       "      <td>45990.00</td>\n",
       "      <td>336.0</td>\n",
       "    </tr>\n",
       "    <tr>\n",
       "      <th>imp_op_var39_efect_ult3</th>\n",
       "      <td>76020.0</td>\n",
       "      <td>113.792410</td>\n",
       "      <td>953.578624</td>\n",
       "      <td>0.00</td>\n",
       "      <td>0.0000</td>\n",
       "      <td>0.00</td>\n",
       "      <td>0.0000</td>\n",
       "      <td>131100.00</td>\n",
       "      <td>462.0</td>\n",
       "    </tr>\n",
       "    <tr>\n",
       "      <th>imp_op_var39_ult1</th>\n",
       "      <td>76020.0</td>\n",
       "      <td>140.403479</td>\n",
       "      <td>712.767240</td>\n",
       "      <td>0.00</td>\n",
       "      <td>0.0000</td>\n",
       "      <td>0.00</td>\n",
       "      <td>0.0000</td>\n",
       "      <td>47598.09</td>\n",
       "      <td>8149.0</td>\n",
       "    </tr>\n",
       "    <tr>\n",
       "      <th>imp_sal_var16_ult1</th>\n",
       "      <td>76020.0</td>\n",
       "      <td>5.477676</td>\n",
       "      <td>465.391149</td>\n",
       "      <td>0.00</td>\n",
       "      <td>0.0000</td>\n",
       "      <td>0.00</td>\n",
       "      <td>0.0000</td>\n",
       "      <td>105000.00</td>\n",
       "      <td>66.0</td>\n",
       "    </tr>\n",
       "    <tr>\n",
       "      <th>ind_var1_0</th>\n",
       "      <td>76020.0</td>\n",
       "      <td>0.011458</td>\n",
       "      <td>0.106425</td>\n",
       "      <td>0.00</td>\n",
       "      <td>0.0000</td>\n",
       "      <td>0.00</td>\n",
       "      <td>0.0000</td>\n",
       "      <td>1.00</td>\n",
       "      <td>2.0</td>\n",
       "    </tr>\n",
       "    <tr>\n",
       "      <th>ind_var1</th>\n",
       "      <td>76020.0</td>\n",
       "      <td>0.003762</td>\n",
       "      <td>0.061221</td>\n",
       "      <td>0.00</td>\n",
       "      <td>0.0000</td>\n",
       "      <td>0.00</td>\n",
       "      <td>0.0000</td>\n",
       "      <td>1.00</td>\n",
       "      <td>2.0</td>\n",
       "    </tr>\n",
       "    <tr>\n",
       "      <th>ind_var2_0</th>\n",
       "      <td>76020.0</td>\n",
       "      <td>0.000000</td>\n",
       "      <td>0.000000</td>\n",
       "      <td>0.00</td>\n",
       "      <td>0.0000</td>\n",
       "      <td>0.00</td>\n",
       "      <td>0.0000</td>\n",
       "      <td>0.00</td>\n",
       "      <td>1.0</td>\n",
       "    </tr>\n",
       "    <tr>\n",
       "      <th>ind_var2</th>\n",
       "      <td>76020.0</td>\n",
       "      <td>0.000000</td>\n",
       "      <td>0.000000</td>\n",
       "      <td>0.00</td>\n",
       "      <td>0.0000</td>\n",
       "      <td>0.00</td>\n",
       "      <td>0.0000</td>\n",
       "      <td>0.00</td>\n",
       "      <td>1.0</td>\n",
       "    </tr>\n",
       "    <tr>\n",
       "      <th>ind_var5_0</th>\n",
       "      <td>76020.0</td>\n",
       "      <td>0.958024</td>\n",
       "      <td>0.200535</td>\n",
       "      <td>0.00</td>\n",
       "      <td>1.0000</td>\n",
       "      <td>1.00</td>\n",
       "      <td>1.0000</td>\n",
       "      <td>1.00</td>\n",
       "      <td>2.0</td>\n",
       "    </tr>\n",
       "    <tr>\n",
       "      <th>ind_var5</th>\n",
       "      <td>76020.0</td>\n",
       "      <td>0.663760</td>\n",
       "      <td>0.472425</td>\n",
       "      <td>0.00</td>\n",
       "      <td>0.0000</td>\n",
       "      <td>1.00</td>\n",
       "      <td>1.0000</td>\n",
       "      <td>1.00</td>\n",
       "      <td>2.0</td>\n",
       "    </tr>\n",
       "    <tr>\n",
       "      <th>ind_var6_0</th>\n",
       "      <td>76020.0</td>\n",
       "      <td>0.000105</td>\n",
       "      <td>0.010258</td>\n",
       "      <td>0.00</td>\n",
       "      <td>0.0000</td>\n",
       "      <td>0.00</td>\n",
       "      <td>0.0000</td>\n",
       "      <td>1.00</td>\n",
       "      <td>2.0</td>\n",
       "    </tr>\n",
       "    <tr>\n",
       "      <th>ind_var6</th>\n",
       "      <td>76020.0</td>\n",
       "      <td>0.000026</td>\n",
       "      <td>0.005129</td>\n",
       "      <td>0.00</td>\n",
       "      <td>0.0000</td>\n",
       "      <td>0.00</td>\n",
       "      <td>0.0000</td>\n",
       "      <td>1.00</td>\n",
       "      <td>2.0</td>\n",
       "    </tr>\n",
       "    <tr>\n",
       "      <th>ind_var8_0</th>\n",
       "      <td>76020.0</td>\n",
       "      <td>0.032833</td>\n",
       "      <td>0.178202</td>\n",
       "      <td>0.00</td>\n",
       "      <td>0.0000</td>\n",
       "      <td>0.00</td>\n",
       "      <td>0.0000</td>\n",
       "      <td>1.00</td>\n",
       "      <td>2.0</td>\n",
       "    </tr>\n",
       "    <tr>\n",
       "      <th>ind_var8</th>\n",
       "      <td>76020.0</td>\n",
       "      <td>0.028598</td>\n",
       "      <td>0.166674</td>\n",
       "      <td>0.00</td>\n",
       "      <td>0.0000</td>\n",
       "      <td>0.00</td>\n",
       "      <td>0.0000</td>\n",
       "      <td>1.00</td>\n",
       "      <td>2.0</td>\n",
       "    </tr>\n",
       "    <tr>\n",
       "      <th>...</th>\n",
       "      <td>...</td>\n",
       "      <td>...</td>\n",
       "      <td>...</td>\n",
       "      <td>...</td>\n",
       "      <td>...</td>\n",
       "      <td>...</td>\n",
       "      <td>...</td>\n",
       "      <td>...</td>\n",
       "      <td>...</td>\n",
       "    </tr>\n",
       "    <tr>\n",
       "      <th>saldo_medio_var13_corto_hace2</th>\n",
       "      <td>76020.0</td>\n",
       "      <td>3639.419939</td>\n",
       "      <td>26359.174223</td>\n",
       "      <td>0.00</td>\n",
       "      <td>0.0000</td>\n",
       "      <td>0.00</td>\n",
       "      <td>0.0000</td>\n",
       "      <td>450000.00</td>\n",
       "      <td>1628.0</td>\n",
       "    </tr>\n",
       "    <tr>\n",
       "      <th>saldo_medio_var13_corto_hace3</th>\n",
       "      <td>76020.0</td>\n",
       "      <td>556.184178</td>\n",
       "      <td>7182.642532</td>\n",
       "      <td>0.00</td>\n",
       "      <td>0.0000</td>\n",
       "      <td>0.00</td>\n",
       "      <td>0.0000</td>\n",
       "      <td>304838.70</td>\n",
       "      <td>968.0</td>\n",
       "    </tr>\n",
       "    <tr>\n",
       "      <th>saldo_medio_var13_corto_ult1</th>\n",
       "      <td>76020.0</td>\n",
       "      <td>4852.261814</td>\n",
       "      <td>31886.615189</td>\n",
       "      <td>0.00</td>\n",
       "      <td>0.0000</td>\n",
       "      <td>0.00</td>\n",
       "      <td>0.0000</td>\n",
       "      <td>450000.00</td>\n",
       "      <td>943.0</td>\n",
       "    </tr>\n",
       "    <tr>\n",
       "      <th>saldo_medio_var13_corto_ult3</th>\n",
       "      <td>76020.0</td>\n",
       "      <td>3857.848542</td>\n",
       "      <td>25572.245055</td>\n",
       "      <td>0.00</td>\n",
       "      <td>0.0000</td>\n",
       "      <td>0.00</td>\n",
       "      <td>0.0000</td>\n",
       "      <td>450000.00</td>\n",
       "      <td>2576.0</td>\n",
       "    </tr>\n",
       "    <tr>\n",
       "      <th>saldo_medio_var13_largo_hace2</th>\n",
       "      <td>76020.0</td>\n",
       "      <td>771.227449</td>\n",
       "      <td>13082.155867</td>\n",
       "      <td>0.00</td>\n",
       "      <td>0.0000</td>\n",
       "      <td>0.00</td>\n",
       "      <td>0.0000</td>\n",
       "      <td>840000.00</td>\n",
       "      <td>295.0</td>\n",
       "    </tr>\n",
       "    <tr>\n",
       "      <th>saldo_medio_var13_largo_hace3</th>\n",
       "      <td>76020.0</td>\n",
       "      <td>162.170439</td>\n",
       "      <td>4698.868075</td>\n",
       "      <td>0.00</td>\n",
       "      <td>0.0000</td>\n",
       "      <td>0.00</td>\n",
       "      <td>0.0000</td>\n",
       "      <td>534000.00</td>\n",
       "      <td>264.0</td>\n",
       "    </tr>\n",
       "    <tr>\n",
       "      <th>saldo_medio_var13_largo_ult1</th>\n",
       "      <td>76020.0</td>\n",
       "      <td>956.950207</td>\n",
       "      <td>16006.980565</td>\n",
       "      <td>0.00</td>\n",
       "      <td>0.0000</td>\n",
       "      <td>0.00</td>\n",
       "      <td>0.0000</td>\n",
       "      <td>1500000.00</td>\n",
       "      <td>233.0</td>\n",
       "    </tr>\n",
       "    <tr>\n",
       "      <th>saldo_medio_var13_largo_ult3</th>\n",
       "      <td>76020.0</td>\n",
       "      <td>750.956273</td>\n",
       "      <td>12422.518373</td>\n",
       "      <td>0.00</td>\n",
       "      <td>0.0000</td>\n",
       "      <td>0.00</td>\n",
       "      <td>0.0000</td>\n",
       "      <td>1034482.74</td>\n",
       "      <td>511.0</td>\n",
       "    </tr>\n",
       "    <tr>\n",
       "      <th>saldo_medio_var13_medio_hace2</th>\n",
       "      <td>76020.0</td>\n",
       "      <td>0.175324</td>\n",
       "      <td>34.625518</td>\n",
       "      <td>0.00</td>\n",
       "      <td>0.0000</td>\n",
       "      <td>0.00</td>\n",
       "      <td>0.0000</td>\n",
       "      <td>7741.95</td>\n",
       "      <td>3.0</td>\n",
       "    </tr>\n",
       "    <tr>\n",
       "      <th>saldo_medio_var13_medio_hace3</th>\n",
       "      <td>76020.0</td>\n",
       "      <td>0.000000</td>\n",
       "      <td>0.000000</td>\n",
       "      <td>0.00</td>\n",
       "      <td>0.0000</td>\n",
       "      <td>0.00</td>\n",
       "      <td>0.0000</td>\n",
       "      <td>0.00</td>\n",
       "      <td>1.0</td>\n",
       "    </tr>\n",
       "    <tr>\n",
       "      <th>saldo_medio_var13_medio_ult1</th>\n",
       "      <td>76020.0</td>\n",
       "      <td>0.513023</td>\n",
       "      <td>113.597559</td>\n",
       "      <td>0.00</td>\n",
       "      <td>0.0000</td>\n",
       "      <td>0.00</td>\n",
       "      <td>0.0000</td>\n",
       "      <td>30000.00</td>\n",
       "      <td>3.0</td>\n",
       "    </tr>\n",
       "    <tr>\n",
       "      <th>saldo_medio_var13_medio_ult3</th>\n",
       "      <td>76020.0</td>\n",
       "      <td>0.344174</td>\n",
       "      <td>73.376513</td>\n",
       "      <td>0.00</td>\n",
       "      <td>0.0000</td>\n",
       "      <td>0.00</td>\n",
       "      <td>0.0000</td>\n",
       "      <td>18870.99</td>\n",
       "      <td>3.0</td>\n",
       "    </tr>\n",
       "    <tr>\n",
       "      <th>saldo_medio_var17_hace2</th>\n",
       "      <td>76020.0</td>\n",
       "      <td>91.171811</td>\n",
       "      <td>15392.475712</td>\n",
       "      <td>-0.03</td>\n",
       "      <td>0.0000</td>\n",
       "      <td>0.00</td>\n",
       "      <td>0.0000</td>\n",
       "      <td>4210084.23</td>\n",
       "      <td>88.0</td>\n",
       "    </tr>\n",
       "    <tr>\n",
       "      <th>saldo_medio_var17_hace3</th>\n",
       "      <td>76020.0</td>\n",
       "      <td>36.463184</td>\n",
       "      <td>8612.395212</td>\n",
       "      <td>0.00</td>\n",
       "      <td>0.0000</td>\n",
       "      <td>0.00</td>\n",
       "      <td>0.0000</td>\n",
       "      <td>2368558.95</td>\n",
       "      <td>18.0</td>\n",
       "    </tr>\n",
       "    <tr>\n",
       "      <th>saldo_medio_var17_ult1</th>\n",
       "      <td>76020.0</td>\n",
       "      <td>131.031566</td>\n",
       "      <td>14956.526226</td>\n",
       "      <td>0.00</td>\n",
       "      <td>0.0000</td>\n",
       "      <td>0.00</td>\n",
       "      <td>0.0000</td>\n",
       "      <td>3998687.46</td>\n",
       "      <td>119.0</td>\n",
       "    </tr>\n",
       "    <tr>\n",
       "      <th>saldo_medio_var17_ult3</th>\n",
       "      <td>76020.0</td>\n",
       "      <td>109.216944</td>\n",
       "      <td>13082.157458</td>\n",
       "      <td>0.00</td>\n",
       "      <td>0.0000</td>\n",
       "      <td>0.00</td>\n",
       "      <td>0.0000</td>\n",
       "      <td>3525776.88</td>\n",
       "      <td>119.0</td>\n",
       "    </tr>\n",
       "    <tr>\n",
       "      <th>saldo_medio_var29_hace2</th>\n",
       "      <td>76020.0</td>\n",
       "      <td>0.213071</td>\n",
       "      <td>41.820444</td>\n",
       "      <td>0.00</td>\n",
       "      <td>0.0000</td>\n",
       "      <td>0.00</td>\n",
       "      <td>0.0000</td>\n",
       "      <td>10430.01</td>\n",
       "      <td>5.0</td>\n",
       "    </tr>\n",
       "    <tr>\n",
       "      <th>saldo_medio_var29_hace3</th>\n",
       "      <td>76020.0</td>\n",
       "      <td>0.001910</td>\n",
       "      <td>0.526626</td>\n",
       "      <td>0.00</td>\n",
       "      <td>0.0000</td>\n",
       "      <td>0.00</td>\n",
       "      <td>0.0000</td>\n",
       "      <td>145.20</td>\n",
       "      <td>2.0</td>\n",
       "    </tr>\n",
       "    <tr>\n",
       "      <th>saldo_medio_var29_ult1</th>\n",
       "      <td>76020.0</td>\n",
       "      <td>0.253907</td>\n",
       "      <td>52.078775</td>\n",
       "      <td>0.00</td>\n",
       "      <td>0.0000</td>\n",
       "      <td>0.00</td>\n",
       "      <td>0.0000</td>\n",
       "      <td>13793.67</td>\n",
       "      <td>4.0</td>\n",
       "    </tr>\n",
       "    <tr>\n",
       "      <th>saldo_medio_var29_ult3</th>\n",
       "      <td>76020.0</td>\n",
       "      <td>0.186630</td>\n",
       "      <td>31.879418</td>\n",
       "      <td>0.00</td>\n",
       "      <td>0.0000</td>\n",
       "      <td>0.00</td>\n",
       "      <td>0.0000</td>\n",
       "      <td>7331.34</td>\n",
       "      <td>4.0</td>\n",
       "    </tr>\n",
       "    <tr>\n",
       "      <th>saldo_medio_var33_hace2</th>\n",
       "      <td>76020.0</td>\n",
       "      <td>7.935824</td>\n",
       "      <td>455.887218</td>\n",
       "      <td>0.00</td>\n",
       "      <td>0.0000</td>\n",
       "      <td>0.00</td>\n",
       "      <td>0.0000</td>\n",
       "      <td>50003.88</td>\n",
       "      <td>43.0</td>\n",
       "    </tr>\n",
       "    <tr>\n",
       "      <th>saldo_medio_var33_hace3</th>\n",
       "      <td>76020.0</td>\n",
       "      <td>1.365146</td>\n",
       "      <td>113.959637</td>\n",
       "      <td>0.00</td>\n",
       "      <td>0.0000</td>\n",
       "      <td>0.00</td>\n",
       "      <td>0.0000</td>\n",
       "      <td>20385.72</td>\n",
       "      <td>24.0</td>\n",
       "    </tr>\n",
       "    <tr>\n",
       "      <th>saldo_medio_var33_ult1</th>\n",
       "      <td>76020.0</td>\n",
       "      <td>12.215580</td>\n",
       "      <td>783.207399</td>\n",
       "      <td>0.00</td>\n",
       "      <td>0.0000</td>\n",
       "      <td>0.00</td>\n",
       "      <td>0.0000</td>\n",
       "      <td>138831.63</td>\n",
       "      <td>48.0</td>\n",
       "    </tr>\n",
       "    <tr>\n",
       "      <th>saldo_medio_var33_ult3</th>\n",
       "      <td>76020.0</td>\n",
       "      <td>8.784074</td>\n",
       "      <td>538.439211</td>\n",
       "      <td>0.00</td>\n",
       "      <td>0.0000</td>\n",
       "      <td>0.00</td>\n",
       "      <td>0.0000</td>\n",
       "      <td>91778.73</td>\n",
       "      <td>48.0</td>\n",
       "    </tr>\n",
       "    <tr>\n",
       "      <th>saldo_medio_var44_hace2</th>\n",
       "      <td>76020.0</td>\n",
       "      <td>31.505324</td>\n",
       "      <td>2013.125393</td>\n",
       "      <td>0.00</td>\n",
       "      <td>0.0000</td>\n",
       "      <td>0.00</td>\n",
       "      <td>0.0000</td>\n",
       "      <td>438329.22</td>\n",
       "      <td>99.0</td>\n",
       "    </tr>\n",
       "    <tr>\n",
       "      <th>saldo_medio_var44_hace3</th>\n",
       "      <td>76020.0</td>\n",
       "      <td>1.858575</td>\n",
       "      <td>147.786584</td>\n",
       "      <td>0.00</td>\n",
       "      <td>0.0000</td>\n",
       "      <td>0.00</td>\n",
       "      <td>0.0000</td>\n",
       "      <td>24650.01</td>\n",
       "      <td>33.0</td>\n",
       "    </tr>\n",
       "    <tr>\n",
       "      <th>saldo_medio_var44_ult1</th>\n",
       "      <td>76020.0</td>\n",
       "      <td>76.026165</td>\n",
       "      <td>4040.337842</td>\n",
       "      <td>0.00</td>\n",
       "      <td>0.0000</td>\n",
       "      <td>0.00</td>\n",
       "      <td>0.0000</td>\n",
       "      <td>681462.90</td>\n",
       "      <td>141.0</td>\n",
       "    </tr>\n",
       "    <tr>\n",
       "      <th>saldo_medio_var44_ult3</th>\n",
       "      <td>76020.0</td>\n",
       "      <td>56.614351</td>\n",
       "      <td>2852.579397</td>\n",
       "      <td>0.00</td>\n",
       "      <td>0.0000</td>\n",
       "      <td>0.00</td>\n",
       "      <td>0.0000</td>\n",
       "      <td>397884.30</td>\n",
       "      <td>141.0</td>\n",
       "    </tr>\n",
       "    <tr>\n",
       "      <th>var38</th>\n",
       "      <td>76020.0</td>\n",
       "      <td>117235.809430</td>\n",
       "      <td>182664.598503</td>\n",
       "      <td>5163.75</td>\n",
       "      <td>67870.6125</td>\n",
       "      <td>106409.16</td>\n",
       "      <td>118756.2525</td>\n",
       "      <td>22034738.76</td>\n",
       "      <td>57736.0</td>\n",
       "    </tr>\n",
       "    <tr>\n",
       "      <th>TARGET</th>\n",
       "      <td>76020.0</td>\n",
       "      <td>0.039569</td>\n",
       "      <td>0.194945</td>\n",
       "      <td>0.00</td>\n",
       "      <td>0.0000</td>\n",
       "      <td>0.00</td>\n",
       "      <td>0.0000</td>\n",
       "      <td>1.00</td>\n",
       "      <td>2.0</td>\n",
       "    </tr>\n",
       "  </tbody>\n",
       "</table>\n",
       "<p>371 rows × 9 columns</p>\n",
       "</div>"
      ],
      "text/plain": [
       "                                 count           mean            std  \\\n",
       "ID                             76020.0   75964.050723   43781.947379   \n",
       "var3                           76020.0   -1523.199277   39033.462364   \n",
       "var15                          76020.0      33.212865      12.956486   \n",
       "imp_ent_var16_ult1             76020.0      86.208265    1614.757313   \n",
       "imp_op_var39_comer_ult1        76020.0      72.363067     339.315831   \n",
       "imp_op_var39_comer_ult3        76020.0     119.529632     546.266294   \n",
       "imp_op_var40_comer_ult1        76020.0       3.559130      93.155749   \n",
       "imp_op_var40_comer_ult3        76020.0       6.472698     153.737066   \n",
       "imp_op_var40_efect_ult1        76020.0       0.412946      30.604864   \n",
       "imp_op_var40_efect_ult3        76020.0       0.567352      36.513513   \n",
       "imp_op_var40_ult1              76020.0       3.160715      95.268204   \n",
       "imp_op_var41_comer_ult1        76020.0      68.803937     319.605516   \n",
       "imp_op_var41_comer_ult3        76020.0     113.056934     512.154823   \n",
       "imp_op_var41_efect_ult1        76020.0      68.205140     531.897917   \n",
       "imp_op_var41_efect_ult3        76020.0     113.225058     950.086398   \n",
       "imp_op_var41_ult1              76020.0     137.242763     697.712596   \n",
       "imp_op_var39_efect_ult1        76020.0      68.618087     535.473750   \n",
       "imp_op_var39_efect_ult3        76020.0     113.792410     953.578624   \n",
       "imp_op_var39_ult1              76020.0     140.403479     712.767240   \n",
       "imp_sal_var16_ult1             76020.0       5.477676     465.391149   \n",
       "ind_var1_0                     76020.0       0.011458       0.106425   \n",
       "ind_var1                       76020.0       0.003762       0.061221   \n",
       "ind_var2_0                     76020.0       0.000000       0.000000   \n",
       "ind_var2                       76020.0       0.000000       0.000000   \n",
       "ind_var5_0                     76020.0       0.958024       0.200535   \n",
       "ind_var5                       76020.0       0.663760       0.472425   \n",
       "ind_var6_0                     76020.0       0.000105       0.010258   \n",
       "ind_var6                       76020.0       0.000026       0.005129   \n",
       "ind_var8_0                     76020.0       0.032833       0.178202   \n",
       "ind_var8                       76020.0       0.028598       0.166674   \n",
       "...                                ...            ...            ...   \n",
       "saldo_medio_var13_corto_hace2  76020.0    3639.419939   26359.174223   \n",
       "saldo_medio_var13_corto_hace3  76020.0     556.184178    7182.642532   \n",
       "saldo_medio_var13_corto_ult1   76020.0    4852.261814   31886.615189   \n",
       "saldo_medio_var13_corto_ult3   76020.0    3857.848542   25572.245055   \n",
       "saldo_medio_var13_largo_hace2  76020.0     771.227449   13082.155867   \n",
       "saldo_medio_var13_largo_hace3  76020.0     162.170439    4698.868075   \n",
       "saldo_medio_var13_largo_ult1   76020.0     956.950207   16006.980565   \n",
       "saldo_medio_var13_largo_ult3   76020.0     750.956273   12422.518373   \n",
       "saldo_medio_var13_medio_hace2  76020.0       0.175324      34.625518   \n",
       "saldo_medio_var13_medio_hace3  76020.0       0.000000       0.000000   \n",
       "saldo_medio_var13_medio_ult1   76020.0       0.513023     113.597559   \n",
       "saldo_medio_var13_medio_ult3   76020.0       0.344174      73.376513   \n",
       "saldo_medio_var17_hace2        76020.0      91.171811   15392.475712   \n",
       "saldo_medio_var17_hace3        76020.0      36.463184    8612.395212   \n",
       "saldo_medio_var17_ult1         76020.0     131.031566   14956.526226   \n",
       "saldo_medio_var17_ult3         76020.0     109.216944   13082.157458   \n",
       "saldo_medio_var29_hace2        76020.0       0.213071      41.820444   \n",
       "saldo_medio_var29_hace3        76020.0       0.001910       0.526626   \n",
       "saldo_medio_var29_ult1         76020.0       0.253907      52.078775   \n",
       "saldo_medio_var29_ult3         76020.0       0.186630      31.879418   \n",
       "saldo_medio_var33_hace2        76020.0       7.935824     455.887218   \n",
       "saldo_medio_var33_hace3        76020.0       1.365146     113.959637   \n",
       "saldo_medio_var33_ult1         76020.0      12.215580     783.207399   \n",
       "saldo_medio_var33_ult3         76020.0       8.784074     538.439211   \n",
       "saldo_medio_var44_hace2        76020.0      31.505324    2013.125393   \n",
       "saldo_medio_var44_hace3        76020.0       1.858575     147.786584   \n",
       "saldo_medio_var44_ult1         76020.0      76.026165    4040.337842   \n",
       "saldo_medio_var44_ult3         76020.0      56.614351    2852.579397   \n",
       "var38                          76020.0  117235.809430  182664.598503   \n",
       "TARGET                         76020.0       0.039569       0.194945   \n",
       "\n",
       "                                     min         25%        50%          75%  \\\n",
       "ID                                  1.00  38104.7500   76043.00  113748.7500   \n",
       "var3                          -999999.00      2.0000       2.00       2.0000   \n",
       "var15                               5.00     23.0000      28.00      40.0000   \n",
       "imp_ent_var16_ult1                  0.00      0.0000       0.00       0.0000   \n",
       "imp_op_var39_comer_ult1             0.00      0.0000       0.00       0.0000   \n",
       "imp_op_var39_comer_ult3             0.00      0.0000       0.00       0.0000   \n",
       "imp_op_var40_comer_ult1             0.00      0.0000       0.00       0.0000   \n",
       "imp_op_var40_comer_ult3             0.00      0.0000       0.00       0.0000   \n",
       "imp_op_var40_efect_ult1             0.00      0.0000       0.00       0.0000   \n",
       "imp_op_var40_efect_ult3             0.00      0.0000       0.00       0.0000   \n",
       "imp_op_var40_ult1                   0.00      0.0000       0.00       0.0000   \n",
       "imp_op_var41_comer_ult1             0.00      0.0000       0.00       0.0000   \n",
       "imp_op_var41_comer_ult3             0.00      0.0000       0.00       0.0000   \n",
       "imp_op_var41_efect_ult1             0.00      0.0000       0.00       0.0000   \n",
       "imp_op_var41_efect_ult3             0.00      0.0000       0.00       0.0000   \n",
       "imp_op_var41_ult1                   0.00      0.0000       0.00       0.0000   \n",
       "imp_op_var39_efect_ult1             0.00      0.0000       0.00       0.0000   \n",
       "imp_op_var39_efect_ult3             0.00      0.0000       0.00       0.0000   \n",
       "imp_op_var39_ult1                   0.00      0.0000       0.00       0.0000   \n",
       "imp_sal_var16_ult1                  0.00      0.0000       0.00       0.0000   \n",
       "ind_var1_0                          0.00      0.0000       0.00       0.0000   \n",
       "ind_var1                            0.00      0.0000       0.00       0.0000   \n",
       "ind_var2_0                          0.00      0.0000       0.00       0.0000   \n",
       "ind_var2                            0.00      0.0000       0.00       0.0000   \n",
       "ind_var5_0                          0.00      1.0000       1.00       1.0000   \n",
       "ind_var5                            0.00      0.0000       1.00       1.0000   \n",
       "ind_var6_0                          0.00      0.0000       0.00       0.0000   \n",
       "ind_var6                            0.00      0.0000       0.00       0.0000   \n",
       "ind_var8_0                          0.00      0.0000       0.00       0.0000   \n",
       "ind_var8                            0.00      0.0000       0.00       0.0000   \n",
       "...                                  ...         ...        ...          ...   \n",
       "saldo_medio_var13_corto_hace2       0.00      0.0000       0.00       0.0000   \n",
       "saldo_medio_var13_corto_hace3       0.00      0.0000       0.00       0.0000   \n",
       "saldo_medio_var13_corto_ult1        0.00      0.0000       0.00       0.0000   \n",
       "saldo_medio_var13_corto_ult3        0.00      0.0000       0.00       0.0000   \n",
       "saldo_medio_var13_largo_hace2       0.00      0.0000       0.00       0.0000   \n",
       "saldo_medio_var13_largo_hace3       0.00      0.0000       0.00       0.0000   \n",
       "saldo_medio_var13_largo_ult1        0.00      0.0000       0.00       0.0000   \n",
       "saldo_medio_var13_largo_ult3        0.00      0.0000       0.00       0.0000   \n",
       "saldo_medio_var13_medio_hace2       0.00      0.0000       0.00       0.0000   \n",
       "saldo_medio_var13_medio_hace3       0.00      0.0000       0.00       0.0000   \n",
       "saldo_medio_var13_medio_ult1        0.00      0.0000       0.00       0.0000   \n",
       "saldo_medio_var13_medio_ult3        0.00      0.0000       0.00       0.0000   \n",
       "saldo_medio_var17_hace2            -0.03      0.0000       0.00       0.0000   \n",
       "saldo_medio_var17_hace3             0.00      0.0000       0.00       0.0000   \n",
       "saldo_medio_var17_ult1              0.00      0.0000       0.00       0.0000   \n",
       "saldo_medio_var17_ult3              0.00      0.0000       0.00       0.0000   \n",
       "saldo_medio_var29_hace2             0.00      0.0000       0.00       0.0000   \n",
       "saldo_medio_var29_hace3             0.00      0.0000       0.00       0.0000   \n",
       "saldo_medio_var29_ult1              0.00      0.0000       0.00       0.0000   \n",
       "saldo_medio_var29_ult3              0.00      0.0000       0.00       0.0000   \n",
       "saldo_medio_var33_hace2             0.00      0.0000       0.00       0.0000   \n",
       "saldo_medio_var33_hace3             0.00      0.0000       0.00       0.0000   \n",
       "saldo_medio_var33_ult1              0.00      0.0000       0.00       0.0000   \n",
       "saldo_medio_var33_ult3              0.00      0.0000       0.00       0.0000   \n",
       "saldo_medio_var44_hace2             0.00      0.0000       0.00       0.0000   \n",
       "saldo_medio_var44_hace3             0.00      0.0000       0.00       0.0000   \n",
       "saldo_medio_var44_ult1              0.00      0.0000       0.00       0.0000   \n",
       "saldo_medio_var44_ult3              0.00      0.0000       0.00       0.0000   \n",
       "var38                            5163.75  67870.6125  106409.16  118756.2525   \n",
       "TARGET                              0.00      0.0000       0.00       0.0000   \n",
       "\n",
       "                                       max   unique  \n",
       "ID                               151838.00  76020.0  \n",
       "var3                                238.00    208.0  \n",
       "var15                               105.00    100.0  \n",
       "imp_ent_var16_ult1               210000.00    596.0  \n",
       "imp_op_var39_comer_ult1           12888.03   7551.0  \n",
       "imp_op_var39_comer_ult3           21024.81   9099.0  \n",
       "imp_op_var40_comer_ult1            8237.82    293.0  \n",
       "imp_op_var40_comer_ult3           11073.57    346.0  \n",
       "imp_op_var40_efect_ult1            6600.00     23.0  \n",
       "imp_op_var40_efect_ult3            6600.00     29.0  \n",
       "imp_op_var40_ult1                  8237.82    224.0  \n",
       "imp_op_var41_comer_ult1           12888.03   7421.0  \n",
       "imp_op_var41_comer_ult3           16566.81   8961.0  \n",
       "imp_op_var41_efect_ult1           45990.00    331.0  \n",
       "imp_op_var41_efect_ult3          131100.00    454.0  \n",
       "imp_op_var41_ult1                 47598.09   8032.0  \n",
       "imp_op_var39_efect_ult1           45990.00    336.0  \n",
       "imp_op_var39_efect_ult3          131100.00    462.0  \n",
       "imp_op_var39_ult1                 47598.09   8149.0  \n",
       "imp_sal_var16_ult1               105000.00     66.0  \n",
       "ind_var1_0                            1.00      2.0  \n",
       "ind_var1                              1.00      2.0  \n",
       "ind_var2_0                            0.00      1.0  \n",
       "ind_var2                              0.00      1.0  \n",
       "ind_var5_0                            1.00      2.0  \n",
       "ind_var5                              1.00      2.0  \n",
       "ind_var6_0                            1.00      2.0  \n",
       "ind_var6                              1.00      2.0  \n",
       "ind_var8_0                            1.00      2.0  \n",
       "ind_var8                              1.00      2.0  \n",
       "...                                    ...      ...  \n",
       "saldo_medio_var13_corto_hace2    450000.00   1628.0  \n",
       "saldo_medio_var13_corto_hace3    304838.70    968.0  \n",
       "saldo_medio_var13_corto_ult1     450000.00    943.0  \n",
       "saldo_medio_var13_corto_ult3     450000.00   2576.0  \n",
       "saldo_medio_var13_largo_hace2    840000.00    295.0  \n",
       "saldo_medio_var13_largo_hace3    534000.00    264.0  \n",
       "saldo_medio_var13_largo_ult1    1500000.00    233.0  \n",
       "saldo_medio_var13_largo_ult3    1034482.74    511.0  \n",
       "saldo_medio_var13_medio_hace2      7741.95      3.0  \n",
       "saldo_medio_var13_medio_hace3         0.00      1.0  \n",
       "saldo_medio_var13_medio_ult1      30000.00      3.0  \n",
       "saldo_medio_var13_medio_ult3      18870.99      3.0  \n",
       "saldo_medio_var17_hace2         4210084.23     88.0  \n",
       "saldo_medio_var17_hace3         2368558.95     18.0  \n",
       "saldo_medio_var17_ult1          3998687.46    119.0  \n",
       "saldo_medio_var17_ult3          3525776.88    119.0  \n",
       "saldo_medio_var29_hace2           10430.01      5.0  \n",
       "saldo_medio_var29_hace3             145.20      2.0  \n",
       "saldo_medio_var29_ult1            13793.67      4.0  \n",
       "saldo_medio_var29_ult3             7331.34      4.0  \n",
       "saldo_medio_var33_hace2           50003.88     43.0  \n",
       "saldo_medio_var33_hace3           20385.72     24.0  \n",
       "saldo_medio_var33_ult1           138831.63     48.0  \n",
       "saldo_medio_var33_ult3            91778.73     48.0  \n",
       "saldo_medio_var44_hace2          438329.22     99.0  \n",
       "saldo_medio_var44_hace3           24650.01     33.0  \n",
       "saldo_medio_var44_ult1           681462.90    141.0  \n",
       "saldo_medio_var44_ult3           397884.30    141.0  \n",
       "var38                          22034738.76  57736.0  \n",
       "TARGET                                1.00      2.0  \n",
       "\n",
       "[371 rows x 9 columns]"
      ]
     },
     "execution_count": 4,
     "metadata": {},
     "output_type": "execute_result"
    }
   ],
   "source": [
    "desc=df_train.describe()\n",
    "desc.loc['unique']=[len(df_train[i].unique()) for i in df_train.columns]\n",
    "desc=desc.T\n",
    "\n",
    "desc.to_csv('data_summary.csv')\n",
    "# Some features have unique col = 0, some features have max col = 9999999999 (maybe outlier values)\n",
    "desc"
   ]
  },
  {
   "cell_type": "markdown",
   "metadata": {},
   "source": [
    "# Data Preprocessing"
   ]
  },
  {
   "cell_type": "code",
   "execution_count": 5,
   "metadata": {
    "collapsed": true
   },
   "outputs": [],
   "source": [
    "# Remove duplicated columns\n",
    "remove=[]\n",
    "\n",
    "cols=df_train.columns\n",
    "for i in range(len(cols)-1):\n",
    "    for j in range(i+1, len(cols)):\n",
    "        if np.array_equal(df_train[cols[i]].values, df_train[cols[j]].values):\n",
    "            remove.append(cols[j])\n",
    "\n",
    "df_train.drop(remove, axis=1, inplace=True)\n",
    "df_test.drop(remove, axis=1, inplace=True)"
   ]
  },
  {
   "cell_type": "code",
   "execution_count": 6,
   "metadata": {
    "collapsed": false,
    "scrolled": true
   },
   "outputs": [
    {
     "name": "stdout",
     "output_type": "stream",
     "text": [
      "Columns to be removed: 62\n",
      "(76020, 309)\n",
      "(75818, 308)\n"
     ]
    }
   ],
   "source": [
    "print \"Columns to be removed:\", len(set(remove))\n",
    "print df_train.shape\n",
    "print df_test.shape"
   ]
  },
  {
   "cell_type": "code",
   "execution_count": 7,
   "metadata": {
    "collapsed": false
   },
   "outputs": [],
   "source": [
    "for col in df_train.columns:\n",
    "    df_train[col].std()"
   ]
  },
  {
   "cell_type": "code",
   "execution_count": 8,
   "metadata": {
    "collapsed": true
   },
   "outputs": [],
   "source": [
    "# Remove constant columns (std=0)\n",
    "remove=[]\n",
    "\n",
    "for col in df_train.columns:\n",
    "    if df_train[col].std()==0:\n",
    "        remove.append(col)\n",
    "\n",
    "df_train.drop(remove, axis=1, inplace=True)\n",
    "df_test.drop(remove, axis=1, inplace=True)"
   ]
  },
  {
   "cell_type": "code",
   "execution_count": 9,
   "metadata": {
    "collapsed": false,
    "scrolled": true
   },
   "outputs": [
    {
     "name": "stdout",
     "output_type": "stream",
     "text": [
      "Columns removed due to constant variance: 1\n",
      "(76020, 308)\n",
      "(75818, 307)\n"
     ]
    }
   ],
   "source": [
    "print \"Columns removed due to constant variance:\", len(set(remove))\n",
    "print df_train.shape\n",
    "print df_test.shape"
   ]
  },
  {
   "cell_type": "code",
   "execution_count": 10,
   "metadata": {
    "collapsed": false,
    "scrolled": false
   },
   "outputs": [
    {
     "data": {
      "text/html": [
       "<div>\n",
       "<table border=\"1\" class=\"dataframe\">\n",
       "  <thead>\n",
       "    <tr style=\"text-align: right;\">\n",
       "      <th></th>\n",
       "      <th>ID</th>\n",
       "      <th>var3</th>\n",
       "      <th>var15</th>\n",
       "      <th>imp_ent_var16_ult1</th>\n",
       "      <th>imp_op_var39_comer_ult1</th>\n",
       "      <th>imp_op_var39_comer_ult3</th>\n",
       "      <th>imp_op_var40_comer_ult1</th>\n",
       "      <th>imp_op_var40_comer_ult3</th>\n",
       "      <th>imp_op_var40_efect_ult1</th>\n",
       "      <th>imp_op_var40_efect_ult3</th>\n",
       "      <th>...</th>\n",
       "      <th>saldo_medio_var33_hace2</th>\n",
       "      <th>saldo_medio_var33_hace3</th>\n",
       "      <th>saldo_medio_var33_ult1</th>\n",
       "      <th>saldo_medio_var33_ult3</th>\n",
       "      <th>saldo_medio_var44_hace2</th>\n",
       "      <th>saldo_medio_var44_hace3</th>\n",
       "      <th>saldo_medio_var44_ult1</th>\n",
       "      <th>saldo_medio_var44_ult3</th>\n",
       "      <th>var38</th>\n",
       "      <th>TARGET</th>\n",
       "    </tr>\n",
       "  </thead>\n",
       "  <tbody>\n",
       "    <tr>\n",
       "      <th>0</th>\n",
       "      <td>1</td>\n",
       "      <td>2</td>\n",
       "      <td>23</td>\n",
       "      <td>0.0</td>\n",
       "      <td>0.0</td>\n",
       "      <td>0.0</td>\n",
       "      <td>0.0</td>\n",
       "      <td>0.0</td>\n",
       "      <td>0.0</td>\n",
       "      <td>0.0</td>\n",
       "      <td>...</td>\n",
       "      <td>0.0</td>\n",
       "      <td>0.0</td>\n",
       "      <td>0.0</td>\n",
       "      <td>0.0</td>\n",
       "      <td>0.0</td>\n",
       "      <td>0.0</td>\n",
       "      <td>0.0</td>\n",
       "      <td>0.0</td>\n",
       "      <td>39205.170000</td>\n",
       "      <td>0</td>\n",
       "    </tr>\n",
       "    <tr>\n",
       "      <th>1</th>\n",
       "      <td>3</td>\n",
       "      <td>2</td>\n",
       "      <td>34</td>\n",
       "      <td>0.0</td>\n",
       "      <td>0.0</td>\n",
       "      <td>0.0</td>\n",
       "      <td>0.0</td>\n",
       "      <td>0.0</td>\n",
       "      <td>0.0</td>\n",
       "      <td>0.0</td>\n",
       "      <td>...</td>\n",
       "      <td>0.0</td>\n",
       "      <td>0.0</td>\n",
       "      <td>0.0</td>\n",
       "      <td>0.0</td>\n",
       "      <td>0.0</td>\n",
       "      <td>0.0</td>\n",
       "      <td>0.0</td>\n",
       "      <td>0.0</td>\n",
       "      <td>49278.030000</td>\n",
       "      <td>0</td>\n",
       "    </tr>\n",
       "    <tr>\n",
       "      <th>2</th>\n",
       "      <td>4</td>\n",
       "      <td>2</td>\n",
       "      <td>23</td>\n",
       "      <td>0.0</td>\n",
       "      <td>0.0</td>\n",
       "      <td>0.0</td>\n",
       "      <td>0.0</td>\n",
       "      <td>0.0</td>\n",
       "      <td>0.0</td>\n",
       "      <td>0.0</td>\n",
       "      <td>...</td>\n",
       "      <td>0.0</td>\n",
       "      <td>0.0</td>\n",
       "      <td>0.0</td>\n",
       "      <td>0.0</td>\n",
       "      <td>0.0</td>\n",
       "      <td>0.0</td>\n",
       "      <td>0.0</td>\n",
       "      <td>0.0</td>\n",
       "      <td>67333.770000</td>\n",
       "      <td>0</td>\n",
       "    </tr>\n",
       "    <tr>\n",
       "      <th>3</th>\n",
       "      <td>8</td>\n",
       "      <td>2</td>\n",
       "      <td>37</td>\n",
       "      <td>0.0</td>\n",
       "      <td>195.0</td>\n",
       "      <td>195.0</td>\n",
       "      <td>0.0</td>\n",
       "      <td>0.0</td>\n",
       "      <td>0.0</td>\n",
       "      <td>0.0</td>\n",
       "      <td>...</td>\n",
       "      <td>0.0</td>\n",
       "      <td>0.0</td>\n",
       "      <td>0.0</td>\n",
       "      <td>0.0</td>\n",
       "      <td>0.0</td>\n",
       "      <td>0.0</td>\n",
       "      <td>0.0</td>\n",
       "      <td>0.0</td>\n",
       "      <td>64007.970000</td>\n",
       "      <td>0</td>\n",
       "    </tr>\n",
       "    <tr>\n",
       "      <th>4</th>\n",
       "      <td>10</td>\n",
       "      <td>2</td>\n",
       "      <td>39</td>\n",
       "      <td>0.0</td>\n",
       "      <td>0.0</td>\n",
       "      <td>0.0</td>\n",
       "      <td>0.0</td>\n",
       "      <td>0.0</td>\n",
       "      <td>0.0</td>\n",
       "      <td>0.0</td>\n",
       "      <td>...</td>\n",
       "      <td>0.0</td>\n",
       "      <td>0.0</td>\n",
       "      <td>0.0</td>\n",
       "      <td>0.0</td>\n",
       "      <td>0.0</td>\n",
       "      <td>0.0</td>\n",
       "      <td>0.0</td>\n",
       "      <td>0.0</td>\n",
       "      <td>117310.979016</td>\n",
       "      <td>0</td>\n",
       "    </tr>\n",
       "  </tbody>\n",
       "</table>\n",
       "<p>5 rows × 308 columns</p>\n",
       "</div>"
      ],
      "text/plain": [
       "   ID  var3  var15  imp_ent_var16_ult1  imp_op_var39_comer_ult1  \\\n",
       "0   1     2     23                 0.0                      0.0   \n",
       "1   3     2     34                 0.0                      0.0   \n",
       "2   4     2     23                 0.0                      0.0   \n",
       "3   8     2     37                 0.0                    195.0   \n",
       "4  10     2     39                 0.0                      0.0   \n",
       "\n",
       "   imp_op_var39_comer_ult3  imp_op_var40_comer_ult1  imp_op_var40_comer_ult3  \\\n",
       "0                      0.0                      0.0                      0.0   \n",
       "1                      0.0                      0.0                      0.0   \n",
       "2                      0.0                      0.0                      0.0   \n",
       "3                    195.0                      0.0                      0.0   \n",
       "4                      0.0                      0.0                      0.0   \n",
       "\n",
       "   imp_op_var40_efect_ult1  imp_op_var40_efect_ult3   ...    \\\n",
       "0                      0.0                      0.0   ...     \n",
       "1                      0.0                      0.0   ...     \n",
       "2                      0.0                      0.0   ...     \n",
       "3                      0.0                      0.0   ...     \n",
       "4                      0.0                      0.0   ...     \n",
       "\n",
       "   saldo_medio_var33_hace2  saldo_medio_var33_hace3  saldo_medio_var33_ult1  \\\n",
       "0                      0.0                      0.0                     0.0   \n",
       "1                      0.0                      0.0                     0.0   \n",
       "2                      0.0                      0.0                     0.0   \n",
       "3                      0.0                      0.0                     0.0   \n",
       "4                      0.0                      0.0                     0.0   \n",
       "\n",
       "   saldo_medio_var33_ult3  saldo_medio_var44_hace2  saldo_medio_var44_hace3  \\\n",
       "0                     0.0                      0.0                      0.0   \n",
       "1                     0.0                      0.0                      0.0   \n",
       "2                     0.0                      0.0                      0.0   \n",
       "3                     0.0                      0.0                      0.0   \n",
       "4                     0.0                      0.0                      0.0   \n",
       "\n",
       "   saldo_medio_var44_ult1  saldo_medio_var44_ult3          var38  TARGET  \n",
       "0                     0.0                     0.0   39205.170000       0  \n",
       "1                     0.0                     0.0   49278.030000       0  \n",
       "2                     0.0                     0.0   67333.770000       0  \n",
       "3                     0.0                     0.0   64007.970000       0  \n",
       "4                     0.0                     0.0  117310.979016       0  \n",
       "\n",
       "[5 rows x 308 columns]"
      ]
     },
     "execution_count": 10,
     "metadata": {},
     "output_type": "execute_result"
    }
   ],
   "source": [
    "df_train.head()"
   ]
  },
  {
   "cell_type": "code",
   "execution_count": 11,
   "metadata": {
    "collapsed": false
   },
   "outputs": [
    {
     "name": "stdout",
     "output_type": "stream",
     "text": [
      "(60816, 306)\n"
     ]
    }
   ],
   "source": [
    "# Split data in train and test\n",
    "X=df_train.drop(['ID','TARGET'], axis=1)\n",
    "y=df_train.TARGET.values\n",
    "\n",
    "test_id=df_test.ID\n",
    "test=df_test.drop(['ID'], axis=1)\n",
    "\n",
    "X_train, X_test, y_train, y_test=train_test_split(X,y, test_size=0.2, random_state=0)\n",
    "\n",
    "print(X_train.shape)"
   ]
  },
  {
   "cell_type": "code",
   "execution_count": 12,
   "metadata": {
    "collapsed": false
   },
   "outputs": [],
   "source": [
    "# Model selection\n",
    "def score_model(clf):\n",
    "    print (\"model: {} ...\".format(clf.__class__.__name__))\n",
    "    start = time.time()\n",
    "    scores = cross_val_score(clf, X_train, y_train, scoring='roc_auc', cv=3) \n",
    "    end = time.time()\n",
    "    print(\"time: {:.3f}s\".format(end - start))\n",
    "    print(\"roc_auc: {:.3f}\\n\".format(scores.mean()))"
   ]
  },
  {
   "cell_type": "code",
   "execution_count": 13,
   "metadata": {
    "collapsed": false
   },
   "outputs": [
    {
     "name": "stdout",
     "output_type": "stream",
     "text": [
      "model: DecisionTreeClassifier ...\n",
      "time: 5.011s\n",
      "roc_auc: 0.572\n",
      "\n",
      "model: GaussianNB ...\n",
      "time: 1.885s\n",
      "roc_auc: 0.515\n",
      "\n",
      "model: LogisticRegression ...\n",
      "time: 2.539s\n",
      "roc_auc: 0.606\n",
      "\n",
      "model: RandomForestClassifier ...\n",
      "time: 3.057s\n",
      "roc_auc: 0.683\n",
      "\n",
      "model: XGBClassifier ...\n",
      "time: 14.667s\n",
      "roc_auc: 0.836\n",
      "\n"
     ]
    }
   ],
   "source": [
    "score_model(DecisionTreeClassifier())\n",
    "score_model(GaussianNB())\n",
    "score_model(LogisticRegression())\n",
    "score_model(RandomForestClassifier())\n",
    "score_model(XGBClassifier())"
   ]
  },
  {
   "cell_type": "code",
   "execution_count": 14,
   "metadata": {
    "collapsed": false
   },
   "outputs": [],
   "source": [
    "# Feature selection\n",
    "clf=XGBClassifier()\n",
    "\n",
    "clf.fit(X_train,y_train)\n",
    "\n",
    "importances=clf.booster().get_fscore()\n",
    "\n",
    "df_importance=pd.Series(list(importances.values()), index=list(importances.keys()))\n",
    "df_importance.sort_values(inplace=True, ascending=False)"
   ]
  },
  {
   "cell_type": "code",
   "execution_count": 15,
   "metadata": {
    "collapsed": false,
    "scrolled": true
   },
   "outputs": [
    {
     "data": {
      "text/plain": [
       "<bound method AxesSubplot.invert_yaxis of <matplotlib.axes._subplots.AxesSubplot object at 0x11b2c1f50>>"
      ]
     },
     "execution_count": 15,
     "metadata": {},
     "output_type": "execute_result"
    },
    {
     "data": {
      "image/png": "[encoded data removed]",
      "text/plain": [
       "<matplotlib.figure.Figure at 0x10b66d210>"
      ]
     },
     "metadata": {},
     "output_type": "display_data"
    }
   ],
   "source": [
    "# Top importance features\n",
    "ax=df_importance.head(100).plot(kind='barh', figsize=(10,20))\n",
    "ax.invert_yaxis"
   ]
  },
  {
   "cell_type": "code",
   "execution_count": 16,
   "metadata": {
    "collapsed": false,
    "scrolled": true
   },
   "outputs": [
    {
     "data": {
      "text/html": [
       "<div>\n",
       "<table border=\"1\" class=\"dataframe\">\n",
       "  <thead>\n",
       "    <tr style=\"text-align: right;\">\n",
       "      <th></th>\n",
       "      <th>var3</th>\n",
       "      <th>var15</th>\n",
       "      <th>imp_ent_var16_ult1</th>\n",
       "      <th>imp_op_var39_comer_ult1</th>\n",
       "      <th>imp_op_var39_comer_ult3</th>\n",
       "      <th>imp_op_var40_comer_ult1</th>\n",
       "      <th>imp_op_var40_comer_ult3</th>\n",
       "      <th>imp_op_var40_efect_ult1</th>\n",
       "      <th>imp_op_var40_efect_ult3</th>\n",
       "      <th>imp_op_var40_ult1</th>\n",
       "      <th>...</th>\n",
       "      <th>saldo_medio_var29_ult3</th>\n",
       "      <th>saldo_medio_var33_hace2</th>\n",
       "      <th>saldo_medio_var33_hace3</th>\n",
       "      <th>saldo_medio_var33_ult1</th>\n",
       "      <th>saldo_medio_var33_ult3</th>\n",
       "      <th>saldo_medio_var44_hace2</th>\n",
       "      <th>saldo_medio_var44_hace3</th>\n",
       "      <th>saldo_medio_var44_ult1</th>\n",
       "      <th>saldo_medio_var44_ult3</th>\n",
       "      <th>var38</th>\n",
       "    </tr>\n",
       "  </thead>\n",
       "  <tbody>\n",
       "    <tr>\n",
       "      <th>39926</th>\n",
       "      <td>2</td>\n",
       "      <td>23</td>\n",
       "      <td>0.0</td>\n",
       "      <td>0.0</td>\n",
       "      <td>0.0</td>\n",
       "      <td>0.0</td>\n",
       "      <td>0.0</td>\n",
       "      <td>0.0</td>\n",
       "      <td>0.0</td>\n",
       "      <td>0.0</td>\n",
       "      <td>...</td>\n",
       "      <td>0.0</td>\n",
       "      <td>0.0</td>\n",
       "      <td>0.0</td>\n",
       "      <td>0.0</td>\n",
       "      <td>0.0</td>\n",
       "      <td>0.0</td>\n",
       "      <td>0.0</td>\n",
       "      <td>0.0</td>\n",
       "      <td>0.0</td>\n",
       "      <td>130119.36</td>\n",
       "    </tr>\n",
       "    <tr>\n",
       "      <th>28569</th>\n",
       "      <td>2</td>\n",
       "      <td>25</td>\n",
       "      <td>0.0</td>\n",
       "      <td>0.0</td>\n",
       "      <td>0.0</td>\n",
       "      <td>0.0</td>\n",
       "      <td>0.0</td>\n",
       "      <td>0.0</td>\n",
       "      <td>0.0</td>\n",
       "      <td>0.0</td>\n",
       "      <td>...</td>\n",
       "      <td>0.0</td>\n",
       "      <td>0.0</td>\n",
       "      <td>0.0</td>\n",
       "      <td>0.0</td>\n",
       "      <td>0.0</td>\n",
       "      <td>0.0</td>\n",
       "      <td>0.0</td>\n",
       "      <td>0.0</td>\n",
       "      <td>0.0</td>\n",
       "      <td>247015.23</td>\n",
       "    </tr>\n",
       "    <tr>\n",
       "      <th>36753</th>\n",
       "      <td>2</td>\n",
       "      <td>40</td>\n",
       "      <td>0.0</td>\n",
       "      <td>0.0</td>\n",
       "      <td>0.0</td>\n",
       "      <td>0.0</td>\n",
       "      <td>0.0</td>\n",
       "      <td>0.0</td>\n",
       "      <td>0.0</td>\n",
       "      <td>0.0</td>\n",
       "      <td>...</td>\n",
       "      <td>0.0</td>\n",
       "      <td>0.0</td>\n",
       "      <td>0.0</td>\n",
       "      <td>0.0</td>\n",
       "      <td>0.0</td>\n",
       "      <td>0.0</td>\n",
       "      <td>0.0</td>\n",
       "      <td>0.0</td>\n",
       "      <td>0.0</td>\n",
       "      <td>106671.21</td>\n",
       "    </tr>\n",
       "    <tr>\n",
       "      <th>46226</th>\n",
       "      <td>2</td>\n",
       "      <td>36</td>\n",
       "      <td>0.0</td>\n",
       "      <td>0.0</td>\n",
       "      <td>0.0</td>\n",
       "      <td>0.0</td>\n",
       "      <td>0.0</td>\n",
       "      <td>0.0</td>\n",
       "      <td>0.0</td>\n",
       "      <td>0.0</td>\n",
       "      <td>...</td>\n",
       "      <td>0.0</td>\n",
       "      <td>0.0</td>\n",
       "      <td>0.0</td>\n",
       "      <td>0.0</td>\n",
       "      <td>0.0</td>\n",
       "      <td>0.0</td>\n",
       "      <td>0.0</td>\n",
       "      <td>0.0</td>\n",
       "      <td>0.0</td>\n",
       "      <td>90184.86</td>\n",
       "    </tr>\n",
       "    <tr>\n",
       "      <th>67626</th>\n",
       "      <td>2</td>\n",
       "      <td>45</td>\n",
       "      <td>0.0</td>\n",
       "      <td>0.0</td>\n",
       "      <td>0.0</td>\n",
       "      <td>0.0</td>\n",
       "      <td>0.0</td>\n",
       "      <td>0.0</td>\n",
       "      <td>0.0</td>\n",
       "      <td>0.0</td>\n",
       "      <td>...</td>\n",
       "      <td>0.0</td>\n",
       "      <td>0.0</td>\n",
       "      <td>0.0</td>\n",
       "      <td>0.0</td>\n",
       "      <td>0.0</td>\n",
       "      <td>0.0</td>\n",
       "      <td>0.0</td>\n",
       "      <td>0.0</td>\n",
       "      <td>0.0</td>\n",
       "      <td>63649.02</td>\n",
       "    </tr>\n",
       "  </tbody>\n",
       "</table>\n",
       "<p>5 rows × 306 columns</p>\n",
       "</div>"
      ],
      "text/plain": [
       "       var3  var15  imp_ent_var16_ult1  imp_op_var39_comer_ult1  \\\n",
       "39926     2     23                 0.0                      0.0   \n",
       "28569     2     25                 0.0                      0.0   \n",
       "36753     2     40                 0.0                      0.0   \n",
       "46226     2     36                 0.0                      0.0   \n",
       "67626     2     45                 0.0                      0.0   \n",
       "\n",
       "       imp_op_var39_comer_ult3  imp_op_var40_comer_ult1  \\\n",
       "39926                      0.0                      0.0   \n",
       "28569                      0.0                      0.0   \n",
       "36753                      0.0                      0.0   \n",
       "46226                      0.0                      0.0   \n",
       "67626                      0.0                      0.0   \n",
       "\n",
       "       imp_op_var40_comer_ult3  imp_op_var40_efect_ult1  \\\n",
       "39926                      0.0                      0.0   \n",
       "28569                      0.0                      0.0   \n",
       "36753                      0.0                      0.0   \n",
       "46226                      0.0                      0.0   \n",
       "67626                      0.0                      0.0   \n",
       "\n",
       "       imp_op_var40_efect_ult3  imp_op_var40_ult1    ...      \\\n",
       "39926                      0.0                0.0    ...       \n",
       "28569                      0.0                0.0    ...       \n",
       "36753                      0.0                0.0    ...       \n",
       "46226                      0.0                0.0    ...       \n",
       "67626                      0.0                0.0    ...       \n",
       "\n",
       "       saldo_medio_var29_ult3  saldo_medio_var33_hace2  \\\n",
       "39926                     0.0                      0.0   \n",
       "28569                     0.0                      0.0   \n",
       "36753                     0.0                      0.0   \n",
       "46226                     0.0                      0.0   \n",
       "67626                     0.0                      0.0   \n",
       "\n",
       "       saldo_medio_var33_hace3  saldo_medio_var33_ult1  \\\n",
       "39926                      0.0                     0.0   \n",
       "28569                      0.0                     0.0   \n",
       "36753                      0.0                     0.0   \n",
       "46226                      0.0                     0.0   \n",
       "67626                      0.0                     0.0   \n",
       "\n",
       "       saldo_medio_var33_ult3  saldo_medio_var44_hace2  \\\n",
       "39926                     0.0                      0.0   \n",
       "28569                     0.0                      0.0   \n",
       "36753                     0.0                      0.0   \n",
       "46226                     0.0                      0.0   \n",
       "67626                     0.0                      0.0   \n",
       "\n",
       "       saldo_medio_var44_hace3  saldo_medio_var44_ult1  \\\n",
       "39926                      0.0                     0.0   \n",
       "28569                      0.0                     0.0   \n",
       "36753                      0.0                     0.0   \n",
       "46226                      0.0                     0.0   \n",
       "67626                      0.0                     0.0   \n",
       "\n",
       "       saldo_medio_var44_ult3      var38  \n",
       "39926                     0.0  130119.36  \n",
       "28569                     0.0  247015.23  \n",
       "36753                     0.0  106671.21  \n",
       "46226                     0.0   90184.86  \n",
       "67626                     0.0   63649.02  \n",
       "\n",
       "[5 rows x 306 columns]"
      ]
     },
     "execution_count": 16,
     "metadata": {},
     "output_type": "execute_result"
    }
   ],
   "source": [
    "X_train.head()"
   ]
  },
  {
   "cell_type": "code",
   "execution_count": 17,
   "metadata": {
    "collapsed": false,
    "scrolled": true
   },
   "outputs": [
    {
     "data": {
      "text/plain": [
       "(array([   127.,  21961.,  17583.,  10521.,   5761.,   2760.,   1245.,\n",
       "           564.,    264.,     30.]),\n",
       " array([   5.,   15.,   25.,   35.,   45.,   55.,   65.,   75.,   85.,\n",
       "          95.,  105.]),\n",
       " <a list of 10 Patch objects>)"
      ]
     },
     "execution_count": 17,
     "metadata": {},
     "output_type": "execute_result"
    },
    {
     "data": {
      "image/png": "[encoded data removed]",
      "text/plain": [
       "<matplotlib.figure.Figure at 0x11b40ab90>"
      ]
     },
     "metadata": {},
     "output_type": "display_data"
    }
   ],
   "source": [
    "#Looks like age variable\n",
    "plt.hist(X_train[\"var15\"], bins=10)"
   ]
  },
  {
   "cell_type": "code",
   "execution_count": 18,
   "metadata": {
    "collapsed": false
   },
   "outputs": [],
   "source": [
    "age_sat = pd.concat([df_train.groupby(\"var15\")[\"TARGET\"].agg({'TARGET' : 'sum'}),df_train.groupby(\"var15\")[\"TARGET\"].agg({'TARGET' : 'count'})],axis=1).reset_index()"
   ]
  },
  {
   "cell_type": "code",
   "execution_count": 19,
   "metadata": {
    "collapsed": false,
    "scrolled": true
   },
   "outputs": [
    {
     "data": {
      "text/plain": [
       "<matplotlib.text.Text at 0x1245ca210>"
      ]
     },
     "execution_count": 19,
     "metadata": {},
     "output_type": "execute_result"
    },
    {
     "data": {
      "image/png": "[encoded data removed]",
      "text/plain": [
       "<matplotlib.figure.Figure at 0x11efb3f10>"
      ]
     },
     "metadata": {},
     "output_type": "display_data"
    }
   ],
   "source": [
    "age_sat.columns = [\"var15\", \"Dis_sat_cust\",\"Total_cust\"]\n",
    "age_sat[\"Pct_dis_sat_cust\"] = age_sat[\"Dis_sat_cust\"] / (age_sat[\"Total_cust\"])\n",
    "age_sat[\"Pct_dis_sat_cust\"].plot()\n",
    "plt.title(\"Percent dis-satisfied customers by age group\")"
   ]
  },
  {
   "cell_type": "code",
   "execution_count": 20,
   "metadata": {
    "collapsed": false,
    "scrolled": true
   },
   "outputs": [
    {
     "data": {
      "text/plain": [
       "(array([  1.80000000e+01,   7.62000000e+02,   1.22300000e+04,\n",
       "          3.77200000e+04,   8.72100000e+03,   1.18500000e+03,\n",
       "          1.43000000e+02,   2.20000000e+01,   1.10000000e+01,\n",
       "          4.00000000e+00]),\n",
       " array([  8.54941834,   9.38528958,  10.22116083,  11.05703208,\n",
       "         11.89290332,  12.72877457,  13.56464582,  14.40051706,\n",
       "         15.23638831,  16.07225955,  16.9081308 ]),\n",
       " <a list of 10 Patch objects>)"
      ]
     },
     "execution_count": 20,
     "metadata": {},
     "output_type": "execute_result"
    },
    {
     "data": {
      "image/png": "[encoded data removed]",
      "text/plain": [
       "<matplotlib.figure.Figure at 0x11b226bd0>"
      ]
     },
     "metadata": {},
     "output_type": "display_data"
    }
   ],
   "source": [
    "plt.hist(np.log(X_train[\"var38\"]))"
   ]
  },
  {
   "cell_type": "code",
   "execution_count": 21,
   "metadata": {
    "collapsed": false,
    "scrolled": true
   },
   "outputs": [
    {
     "name": "stderr",
     "output_type": "stream",
     "text": [
      "/Users/ipm/anaconda/lib/python2.7/site-packages/pandas/core/indexing.py:465: SettingWithCopyWarning: \n",
      "A value is trying to be set on a copy of a slice from a DataFrame.\n",
      "Try using .loc[row_indexer,col_indexer] = value instead\n",
      "\n",
      "See the caveats in the documentation: http://pandas.pydata.org/pandas-docs/stable/indexing.html#indexing-view-versus-copy\n",
      "  self.obj[item] = s\n"
     ]
    },
    {
     "data": {
      "text/plain": [
       "(array([ 31750.,   3116.,   3567.,   8359.,   4102.,   3319.,   1773.,\n",
       "          2554.,   2203.,     73.]),\n",
       " array([ 0.        ,  0.63804877,  1.27609755,  1.91414632,  2.5521951 ,\n",
       "         3.19024387,  3.82829264,  4.46634142,  5.10439019,  5.74243897,\n",
       "         6.38048774]),\n",
       " <a list of 10 Patch objects>)"
      ]
     },
     "execution_count": 21,
     "metadata": {},
     "output_type": "execute_result"
    },
    {
     "data": {
      "image/png": "[encoded data removed]",
      "text/plain": [
       "<matplotlib.figure.Figure at 0x124b6cad0>"
      ]
     },
     "metadata": {},
     "output_type": "display_data"
    }
   ],
   "source": [
    "X_train.loc[X_train[\"saldo_var30\"] <= 1, \"saldo_var30\"] = 1\n",
    "plt.hist(np.log10(X_train[\"saldo_var30\"]))"
   ]
  },
  {
   "cell_type": "code",
   "execution_count": 22,
   "metadata": {
    "collapsed": false
   },
   "outputs": [
    {
     "data": {
      "text/plain": [
       "965"
      ]
     },
     "execution_count": 22,
     "metadata": {},
     "output_type": "execute_result"
    }
   ],
   "source": [
    "X_train[\"saldo_medio_var12_hace3\"].nunique()"
   ]
  },
  {
   "cell_type": "raw",
   "metadata": {},
   "source": [
    "import xgboost as xgb\n",
    "from xgboost.sklearn import XGBClassifier\n",
    "from sklearn import cross_validation, metrics   #Additional scklearn functions\n",
    "from sklearn.model_selection import GridSearchCV   #Perforing grid search\n",
    "\n",
    "\n",
    "# Tune Max depth and Min child weight\n",
    "param_test1 = {\n",
    " 'max_depth':range(3,10,2),\n",
    " 'min_child_weight':range(1,20,2)\n",
    "}\n",
    "gsearch1 = GridSearchCV(estimator = XGBClassifier(learning_rate =0.1, n_estimators=140, gamma=0, subsample=0.6, \n",
    "                                                  colsample_bytree=0.7,objective= 'binary:logistic', \n",
    "                                                  nthread=4, scale_pos_weight=1, seed=27), \n",
    "                                                  param_grid = param_test1, scoring='roc_auc',n_jobs=4,iid=False, cv=5)\n",
    "\n",
    "gsearch1.fit(X_train,y_train)\n",
    "\n",
    "gsearch1.grid_scores_, gsearch1.best_params_, gsearch1.best_score_"
   ]
  },
  {
   "cell_type": "code",
   "execution_count": 16,
   "metadata": {
    "collapsed": false
   },
   "outputs": [
    {
     "name": "stdout",
     "output_type": "stream",
     "text": [
      "XGBClassifier(base_score=0.5, colsample_bylevel=1, colsample_bytree=1,\n",
      "       gamma=0, learning_rate=0.1, max_delta_step=0, max_depth=3,\n",
      "       min_child_weight=1, missing=None, n_estimators=100, nthread=-1,\n",
      "       objective='binary:logistic', reg_alpha=0, reg_lambda=1,\n",
      "       scale_pos_weight=1, seed=0, silent=True, subsample=1)\n"
     ]
    }
   ],
   "source": [
    "# Tune Max depth and Min child weight\n",
    "param_test1 = {\n",
    " 'max_depth':range(5,8,1),\n",
    " 'min_child_weight':range(1,10,3)\n",
    "}\n",
    "estimator = XGBClassifier()\n",
    "print estimator"
   ]
  },
  {
   "cell_type": "code",
   "execution_count": 17,
   "metadata": {
    "collapsed": true
   },
   "outputs": [],
   "source": [
    "gsearch1 = GridSearchCV(estimator, param_grid = param_test1, scoring='roc_auc',n_jobs=4, cv=5)"
   ]
  },
  {
   "cell_type": "code",
   "execution_count": null,
   "metadata": {
    "collapsed": false
   },
   "outputs": [],
   "source": [
    "gsearch1.fit(X_train,y_train)"
   ]
  },
  {
   "cell_type": "code",
   "execution_count": null,
   "metadata": {
    "collapsed": false,
    "scrolled": true
   },
   "outputs": [],
   "source": [
    "gsearch1.grid_scores_, gsearch1.best_params_, gsearch1.best_score_"
   ]
  },
  {
   "cell_type": "code",
   "execution_count": null,
   "metadata": {
    "collapsed": true
   },
   "outputs": [],
   "source": [
    "## Tune Colsample by tree and subsample rate"
   ]
  },
  {
   "cell_type": "code",
   "execution_count": null,
   "metadata": {
    "collapsed": false
   },
   "outputs": [],
   "source": [
    "param_test2 = {\n",
    " 'colsample_bytree':[0.6,0.7,0.8,0.9],\n",
    " 'subsample':[0.6,0.7,0.8,0.9]\n",
    "}\n",
    "estimator2 = XGBClassifier(learning_rate =0.1, n_estimators=100, max_depth=5, min_child_weight=1, gamma=0,subsample=0.8,\n",
    " colsample_bytree=0.8,objective= 'binary:logistic',nthread=4,scale_pos_weight=1,seed=27)\n",
    "print estimator2"
   ]
  },
  {
   "cell_type": "code",
   "execution_count": null,
   "metadata": {
    "collapsed": true
   },
   "outputs": [],
   "source": [
    "gsearch2 = GridSearchCV(estimator2, param_grid = param_test2, scoring='roc_auc',n_jobs=4, cv=5)"
   ]
  },
  {
   "cell_type": "code",
   "execution_count": null,
   "metadata": {
    "collapsed": true
   },
   "outputs": [],
   "source": [
    "gsearch2.fit(X_train,y_train)"
   ]
  },
  {
   "cell_type": "code",
   "execution_count": null,
   "metadata": {
    "collapsed": true
   },
   "outputs": [],
   "source": [
    "gsearch2.grid_scores_, gsearch2.best_params_, gsearch2.best_score_"
   ]
  },
  {
   "cell_type": "code",
   "execution_count": null,
   "metadata": {
    "collapsed": true
   },
   "outputs": [],
   "source": [
    "## tune n_estimators parameter"
   ]
  },
  {
   "cell_type": "code",
   "execution_count": null,
   "metadata": {
    "collapsed": true
   },
   "outputs": [],
   "source": [
    "param_test3 = {\n",
    " n_estimators:range(100,1000,100)\n",
    "}\n",
    "estimator3 = XGBClassifier(learning_rate =0.1, n_estimators=100, max_depth=5, min_child_weight=1, gamma=0,subsample=0.8,\n",
    " colsample_bytree=0.8,objective= 'binary:logistic',nthread=4,scale_pos_weight=1,seed=27)\n",
    "print estimator3"
   ]
  },
  {
   "cell_type": "code",
   "execution_count": null,
   "metadata": {
    "collapsed": true
   },
   "outputs": [],
   "source": [
    "gsearch3 = GridSearchCV(estimator3, param_grid = param_test3, scoring='roc_auc',n_jobs=4, cv=5)"
   ]
  },
  {
   "cell_type": "code",
   "execution_count": null,
   "metadata": {
    "collapsed": true
   },
   "outputs": [],
   "source": [
    "gsearch3.fit(X_train,y_train)"
   ]
  },
  {
   "cell_type": "code",
   "execution_count": null,
   "metadata": {
    "collapsed": true
   },
   "outputs": [],
   "source": [
    "gsearch3.grid_scores_, gsearch3.best_params_, gsearch3.best_score_"
   ]
  },
  {
   "cell_type": "code",
   "execution_count": null,
   "metadata": {
    "collapsed": true
   },
   "outputs": [],
   "source": [
    "## Tune gamma parameter"
   ]
  },
  {
   "cell_type": "code",
   "execution_count": null,
   "metadata": {
    "collapsed": true
   },
   "outputs": [],
   "source": [
    "param_test4 = {\n",
    " gamma:range[0.1,0.25, 0.5, 0.75]\n",
    "}\n",
    "estimator4 = XGBClassifier(learning_rate =0.1, n_estimators=100, max_depth=5, min_child_weight=1, gamma=0,subsample=0.8,\n",
    " colsample_bytree=0.8,objective= 'binary:logistic',nthread=4,scale_pos_weight=1,seed=27)\n",
    "print estimator4"
   ]
  },
  {
   "cell_type": "code",
   "execution_count": null,
   "metadata": {
    "collapsed": true
   },
   "outputs": [],
   "source": [
    "gsearch4 = GridSearchCV(estimator4, param_grid = param_test4, scoring='roc_auc',n_jobs=4, cv=5)"
   ]
  },
  {
   "cell_type": "code",
   "execution_count": null,
   "metadata": {
    "collapsed": true
   },
   "outputs": [],
   "source": [
    "gsearch4.fit(X_train,y_train)"
   ]
  },
  {
   "cell_type": "code",
   "execution_count": null,
   "metadata": {
    "collapsed": true
   },
   "outputs": [],
   "source": [
    "gsearch4.grid_scores_, gsearch4.best_params_, gsearch4.best_score_"
   ]
  },
  {
   "cell_type": "code",
   "execution_count": null,
   "metadata": {
    "collapsed": true
   },
   "outputs": [],
   "source": [
    "## Tune learning_rate"
   ]
  },
  {
   "cell_type": "code",
   "execution_count": null,
   "metadata": {
    "collapsed": true
   },
   "outputs": [],
   "source": [
    "param_test5 = {\n",
    " learning rate:range[0.1,0.25, 0.5, 0.75]\n",
    "}\n",
    "estimator5 = XGBClassifier(learning_rate =0.1, n_estimators=100, max_depth=5, min_child_weight=1, gamma=0,subsample=0.8,\n",
    " colsample_bytree=0.8,objective= 'binary:logistic',nthread=4,scale_pos_weight=1,seed=27)\n",
    "print estimator5"
   ]
  },
  {
   "cell_type": "code",
   "execution_count": null,
   "metadata": {
    "collapsed": true
   },
   "outputs": [],
   "source": [
    "gsearch5 = GridSearchCV(estimator5, param_grid = param_test5, scoring='roc_auc',n_jobs=4, cv=5)"
   ]
  },
  {
   "cell_type": "code",
   "execution_count": null,
   "metadata": {
    "collapsed": true
   },
   "outputs": [],
   "source": [
    "gsearch5.fit(X_train,y_train)"
   ]
  },
  {
   "cell_type": "code",
   "execution_count": null,
   "metadata": {
    "collapsed": true
   },
   "outputs": [],
   "source": [
    "gsearch5.grid_scores_, gsearch5.best_params_, gsearch5.best_score_"
   ]
  },
  {
   "cell_type": "code",
   "execution_count": null,
   "metadata": {
    "collapsed": true
   },
   "outputs": [],
   "source": [
    "## Evaluation of the model"
   ]
  },
  {
   "cell_type": "code",
   "execution_count": null,
   "metadata": {
    "collapsed": false,
    "scrolled": false
   },
   "outputs": [],
   "source": [
    "eval_metrics = ['auc']\n",
    "eval_sets = [(X_train, y_train), (X_test, y_test)]\n",
    "\n",
    "clf=XGBClassifier(n_estimators=1000, learning_rate=0.01, max_depth=4, min_child_weight=4, gamma=0, colsample_bytree=0.7, subsample=0.6, reg_alpha=5e-05, objective='binary:logistic', scale_pos_weight=1, seed=27)\n",
    "\n",
    "clf.fit(X_train, y_train, eval_metric=eval_metrics, eval_set=eval_sets)"
   ]
  },
  {
   "cell_type": "code",
   "execution_count": null,
   "metadata": {
    "collapsed": false
   },
   "outputs": [],
   "source": [
    "# Create submission\n",
    "y_pred=clf.predict_proba(test)\n",
    "\n",
    "df_submit=pd.DataFrame({'ID': test_id, 'TARGET': y_pred[:,-1]})\n",
    "df_submit.to_csv('submission.csv', index=False)\n",
    "\n",
    "df_submit.head()"
   ]
  },
  {
   "cell_type": "code",
   "execution_count": null,
   "metadata": {
    "collapsed": false
   },
   "outputs": [],
   "source": [
    "eval_metrics = ['auc']\n",
    "eval_sets = [(X_train, y_train), (X_test, y_test)]\n",
    "\n",
    "clf=XGBClassifier(n_estimators=860, learning_rate=0.01, max_depth=5, min_child_weight=1, gamma=0, colsample_bytree=0.6, \n",
    "                  subsample=0.6, reg_alpha=5e-05, objective='binary:logistic', scale_pos_weight=1, seed=0)\n",
    "\n",
    "clf.fit(X_train, y_train, eval_metric=eval_metrics, eval_set=eval_sets)"
   ]
  },
  {
   "cell_type": "code",
   "execution_count": null,
   "metadata": {
    "collapsed": false
   },
   "outputs": [],
   "source": [
    "# Create submission\n",
    "y_pred=clf.predict_proba(test)\n",
    "\n",
    "df_submit=pd.DataFrame({'ID': test_id, 'TARGET': y_pred[:,-1]})\n",
    "df_submit.to_csv('submission1.csv', index=False)\n",
    "\n",
    "df_submit.head()"
   ]
  },
  {
   "cell_type": "code",
   "execution_count": null,
   "metadata": {
    "collapsed": false
   },
   "outputs": [],
   "source": [
    "param_test3 = {\n",
    " 'gamma':[i/10.0 for i in range(0,5)]\n",
    "}\n",
    "gsearch3 = GridSearchCV(estimator = XGBClassifier(max_depth=5, min_child_weight=1,seed=27), param_grid = param_test3, scoring='roc_auc',n_jobs=4, cv=5)\n",
    "gsearch3.fit(X_train, y_train)\n",
    "gsearch3.grid_scores_, gsearch3.best_params_, gsearch3.best_score_"
   ]
  },
  {
   "cell_type": "code",
   "execution_count": null,
   "metadata": {
    "collapsed": false
   },
   "outputs": [],
   "source": [
    "param_test4 = {\n",
    " 'colsample_bytree':[i/10.0 for i in range(3,8)],\n",
    " 'subsample':[i/10.0 for i in range(3,8)]\n",
    "}\n",
    "gsearch4 = GridSearchCV(estimator = XGBClassifier(max_depth=5, min_child_weight=1,gamma=0.2, seed=27), param_grid = param_test4, scoring='roc_auc',n_jobs=4, cv=5)\n",
    "gsearch4.fit(X_train, y_train)\n",
    "gsearch4.grid_scores_, gsearch4.best_params_, gsearch4.best_score_"
   ]
  },
  {
   "cell_type": "code",
   "execution_count": null,
   "metadata": {
    "collapsed": false
   },
   "outputs": [],
   "source": [
    "param_test5 = {\n",
    " 'reg_alpha':[1e-5, 1e-2, 0.1, 1, 100]\n",
    "}\n",
    "gsearch5 = GridSearchCV(estimator = XGBClassifier(max_depth=5, min_child_weight=1,gamma=0.2, colsample_bytree= 0.5, subsample= 0.7, seed=27), param_grid = param_test5, scoring='roc_auc',n_jobs=4, cv=5)\n",
    "gsearch5.fit(X_train, y_train)\n",
    "gsearch5.grid_scores_, gsearch5.best_params_, gsearch5.best_score_"
   ]
  },
  {
   "cell_type": "code",
   "execution_count": null,
   "metadata": {
    "collapsed": false
   },
   "outputs": [],
   "source": [
    "param_test6 = {\n",
    " 'learning_rate':[0.01, 0.1, 1, 10]\n",
    "}\n",
    "gsearch6 = GridSearchCV(estimator = XGBClassifier(max_depth=5, min_child_weight=1,gamma=0.2,reg_alpha=0.01, \n",
    "                                                  colsample_bytree= 0.5, subsample= 0.7, seed=27), \n",
    "                        param_grid = param_test6, scoring='roc_auc',n_jobs=4, cv=5)\n",
    "gsearch6.fit(X_train, y_train)\n",
    "gsearch6.grid_scores_, gsearch6.best_params_, gsearch6.best_score_"
   ]
  },
  {
   "cell_type": "code",
   "execution_count": null,
   "metadata": {
    "collapsed": false
   },
   "outputs": [],
   "source": [
    "eval_metrics = ['auc']\n",
    "eval_sets = [(X_train, y_train), (X_test, y_test)]\n",
    "\n",
    "clf_new=XGBClassifier(n_estimators=77, learning_rate=0.1, max_depth=5, min_child_weight=1, gamma=0.2, colsample_bytree=0.5, \n",
    "                  subsample=0.7, reg_alpha=0.01, objective='binary:logistic', scale_pos_weight=1, seed=27)\n",
    "\n",
    "clf_new.fit(X_train, y_train, eval_metric=eval_metrics, eval_set=eval_sets)"
   ]
  },
  {
   "cell_type": "code",
   "execution_count": null,
   "metadata": {
    "collapsed": false
   },
   "outputs": [],
   "source": [
    "# Create submission\n",
    "y_pred=clf_new.predict_proba(test)\n",
    "\n",
    "df_submit=pd.DataFrame({'ID': test_id, 'TARGET': y_pred[:,-1]})\n",
    "df_submit.to_csv('submission3.csv', index=False)\n",
    "\n",
    "df_submit.head()"
   ]
  },
  {
   "cell_type": "code",
   "execution_count": null,
   "metadata": {
    "collapsed": false
   },
   "outputs": [],
   "source": [
    "param_test7 = {\n",
    " 'learning_rate':[0.01, 0.1, 1, 10],\n",
    " 'reg_alpha':[1e-5, 1e-2, 0.1, 1, 100],\n",
    " 'colsample_bytree':[i/10.0 for i in range(3,8)],\n",
    " 'subsample':[i/10.0 for i in range(3,8)],\n",
    " 'gamma':[i/10.0 for i in range(0,5)],\n",
    " 'max_depth':range(5,8,1),\n",
    " 'min_child_weight':range(1,10,3) \n",
    "}\n",
    "gsearch7 = GridSearchCV(estimator = XGBClassifier(seed=27), param_grid = param_test7, scoring='roc_auc',n_jobs=4, cv=5)\n",
    "gsearch7.fit(X_train, y_train)\n",
    "gsearch7.grid_scores_, gsearch7.best_params_, gsearch7.best_score_"
   ]
  },
  {
   "cell_type": "code",
   "execution_count": null,
   "metadata": {
    "collapsed": true
   },
   "outputs": [],
   "source": []
  }
 ],
 "metadata": {
  "anaconda-cloud": {},
  "kernelspec": {
   "display_name": "Python [Root]",
   "language": "python",
   "name": "Python [Root]"
  },
  "language_info": {
   "codemirror_mode": {
    "name": "ipython",
    "version": 2
   },
   "file_extension": ".py",
   "mimetype": "text/x-python",
   "name": "python",
   "nbconvert_exporter": "python",
   "pygments_lexer": "ipython2",
   "version": "2.7.12"
  }
 },
 "nbformat": 4,
 "nbformat_minor": 0
}
