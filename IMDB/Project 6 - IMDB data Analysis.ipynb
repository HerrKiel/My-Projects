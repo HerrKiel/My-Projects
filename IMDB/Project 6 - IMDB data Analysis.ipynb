{
 "cells": [
  {
   "cell_type": "markdown",
   "metadata": {},
   "source": [
    "As a project for Data Science course, we have some data from imdb and have to decide if the movie is good or not. \n",
    "\n",
    "Are there any attributes of movie that decide how well a movie is going to do on the box office. Or do we have to wait for moview release and wait for the rank that a movie has received from the critics... \n",
    "\n",
    "I think, the movie's success is dependent on a lot of factors... A few of them come to my mind easily.. So let's test the hypothesis about the movie's success\n",
    "\n",
    "1. I think, movie's success is dependent on the actors\n",
    "2. I also think movie's success is dependent on the director\n",
    "3. Marketing\n",
    "4. year/month of movie release\n",
    "5. Storyline\n",
    "6. Tagline\n",
    "\n",
    "Let's explore and see what is important in predicting a successful movie .. :)\n"
   ]
  },
  {
   "cell_type": "code",
   "execution_count": 282,
   "metadata": {
    "collapsed": true
   },
   "outputs": [],
   "source": [
    "from imdbpie import Imdb\n",
    "import pandas as pd\n",
    "imdb = Imdb()\n",
    "imdb = Imdb(anonymize=True) # to proxy requests"
   ]
  },
  {
   "cell_type": "code",
   "execution_count": 283,
   "metadata": {
    "collapsed": true
   },
   "outputs": [],
   "source": [
    "df = imdb.top_250()"
   ]
  },
  {
   "cell_type": "code",
   "execution_count": 284,
   "metadata": {
    "collapsed": false
   },
   "outputs": [
    {
     "data": {
      "text/plain": [
       "{u'can_rate': True,\n",
       " u'image': {u'height': 1388,\n",
       "  u'url': u'https://images-na.ssl-images-amazon.com/images/M/MV5BODU4MjU4NjIwNl5BMl5BanBnXkFtZTgwMDU2MjEyMDE@._V1_.jpg',\n",
       "  u'width': 933},\n",
       " u'num_votes': 1730248,\n",
       " u'rating': 9.3,\n",
       " u'tconst': u'tt0111161',\n",
       " u'title': u'The Shawshank Redemption',\n",
       " u'type': u'feature',\n",
       " u'year': u'1994'}"
      ]
     },
     "execution_count": 284,
     "metadata": {},
     "output_type": "execute_result"
    }
   ],
   "source": [
    "df[0]"
   ]
  },
  {
   "cell_type": "code",
   "execution_count": 285,
   "metadata": {
    "collapsed": false
   },
   "outputs": [],
   "source": [
    "tconst = [df[i].get('tconst') for i in range(0,len(df))]"
   ]
  },
  {
   "cell_type": "code",
   "execution_count": 286,
   "metadata": {
    "collapsed": true
   },
   "outputs": [],
   "source": [
    "imdb_data = pd.DataFrame(\n",
    "    {'rating': rating,\n",
    "     'Movie_ref': tconst,\n",
    "     'title': title,\n",
    "     'image' : image,\n",
    "     'num_votes':num_votes,\n",
    "     'year':year,\n",
    "     'can_rate':can_rate,\n",
    "     'type':type1\n",
    "    })"
   ]
  },
  {
   "cell_type": "code",
   "execution_count": 384,
   "metadata": {
    "collapsed": false,
    "scrolled": true
   },
   "outputs": [
    {
     "data": {
      "text/html": [
       "<div>\n",
       "<table border=\"1\" class=\"dataframe\">\n",
       "  <thead>\n",
       "    <tr style=\"text-align: right;\">\n",
       "      <th></th>\n",
       "      <th>Movie_ref</th>\n",
       "      <th>can_rate</th>\n",
       "      <th>image</th>\n",
       "      <th>num_votes</th>\n",
       "      <th>rating</th>\n",
       "      <th>title</th>\n",
       "      <th>type</th>\n",
       "      <th>year</th>\n",
       "    </tr>\n",
       "  </thead>\n",
       "  <tbody>\n",
       "    <tr>\n",
       "      <th>0</th>\n",
       "      <td>tt0111161</td>\n",
       "      <td>True</td>\n",
       "      <td>{u'url': u'https://images-na.ssl-images-amazon...</td>\n",
       "      <td>1729142</td>\n",
       "      <td>9.3</td>\n",
       "      <td>&lt;Title: Castle in the Sky - tt0092067&gt;</td>\n",
       "      <td>feature</td>\n",
       "      <td>1994</td>\n",
       "    </tr>\n",
       "    <tr>\n",
       "      <th>1</th>\n",
       "      <td>tt0068646</td>\n",
       "      <td>True</td>\n",
       "      <td>{u'url': u'https://images-na.ssl-images-amazon...</td>\n",
       "      <td>1181594</td>\n",
       "      <td>9.2</td>\n",
       "      <td>&lt;Title: Castle in the Sky - tt0092067&gt;</td>\n",
       "      <td>feature</td>\n",
       "      <td>1972</td>\n",
       "    </tr>\n",
       "    <tr>\n",
       "      <th>2</th>\n",
       "      <td>tt0071562</td>\n",
       "      <td>True</td>\n",
       "      <td>{u'url': u'https://images-na.ssl-images-amazon...</td>\n",
       "      <td>810181</td>\n",
       "      <td>9.0</td>\n",
       "      <td>&lt;Title: Castle in the Sky - tt0092067&gt;</td>\n",
       "      <td>feature</td>\n",
       "      <td>1974</td>\n",
       "    </tr>\n",
       "    <tr>\n",
       "      <th>3</th>\n",
       "      <td>tt0468569</td>\n",
       "      <td>True</td>\n",
       "      <td>{u'url': u'https://images-na.ssl-images-amazon...</td>\n",
       "      <td>1714315</td>\n",
       "      <td>9.0</td>\n",
       "      <td>&lt;Title: Castle in the Sky - tt0092067&gt;</td>\n",
       "      <td>feature</td>\n",
       "      <td>2008</td>\n",
       "    </tr>\n",
       "    <tr>\n",
       "      <th>4</th>\n",
       "      <td>tt0050083</td>\n",
       "      <td>True</td>\n",
       "      <td>{u'url': u'https://images-na.ssl-images-amazon...</td>\n",
       "      <td>461399</td>\n",
       "      <td>8.9</td>\n",
       "      <td>&lt;Title: Castle in the Sky - tt0092067&gt;</td>\n",
       "      <td>feature</td>\n",
       "      <td>1957</td>\n",
       "    </tr>\n",
       "  </tbody>\n",
       "</table>\n",
       "</div>"
      ],
      "text/plain": [
       "   Movie_ref can_rate                                              image  \\\n",
       "0  tt0111161     True  {u'url': u'https://images-na.ssl-images-amazon...   \n",
       "1  tt0068646     True  {u'url': u'https://images-na.ssl-images-amazon...   \n",
       "2  tt0071562     True  {u'url': u'https://images-na.ssl-images-amazon...   \n",
       "3  tt0468569     True  {u'url': u'https://images-na.ssl-images-amazon...   \n",
       "4  tt0050083     True  {u'url': u'https://images-na.ssl-images-amazon...   \n",
       "\n",
       "   num_votes  rating                                   title     type  year  \n",
       "0    1729142     9.3  <Title: Castle in the Sky - tt0092067>  feature  1994  \n",
       "1    1181594     9.2  <Title: Castle in the Sky - tt0092067>  feature  1972  \n",
       "2     810181     9.0  <Title: Castle in the Sky - tt0092067>  feature  1974  \n",
       "3    1714315     9.0  <Title: Castle in the Sky - tt0092067>  feature  2008  \n",
       "4     461399     8.9  <Title: Castle in the Sky - tt0092067>  feature  1957  "
      ]
     },
     "execution_count": 384,
     "metadata": {},
     "output_type": "execute_result"
    }
   ],
   "source": [
    "imdb_data.head()"
   ]
  },
  {
   "cell_type": "code",
   "execution_count": 328,
   "metadata": {
    "collapsed": false,
    "scrolled": true
   },
   "outputs": [
    {
     "data": {
      "text/plain": [
       "<matplotlib.collections.PathCollection at 0x1257f7190>"
      ]
     },
     "execution_count": 328,
     "metadata": {},
     "output_type": "execute_result"
    },
    {
     "data": {
      "image/png": "[encoded data removed]",
      "text/plain": [
       "<matplotlib.figure.Figure at 0x12533f490>"
      ]
     },
     "metadata": {},
     "output_type": "display_data"
    }
   ],
   "source": [
    "import matplotlib.pyplot as plt\n",
    "%matplotlib inline\n",
    "plt.scatter(imdb_data.num_votes, imdb_data.rating)"
   ]
  },
  {
   "cell_type": "markdown",
   "metadata": {},
   "source": [
    "The higher the votes, the higher the rating... Good.. we have one good variable which will help in predicting the ratings"
   ]
  },
  {
   "cell_type": "code",
   "execution_count": 289,
   "metadata": {
    "collapsed": false,
    "scrolled": true
   },
   "outputs": [
    {
     "data": {
      "text/plain": [
       "(array([ 69.,  43.,  44.,  56.,  16.,   8.,  10.,   2.,   0.,   2.]),\n",
       " array([ 8.  ,  8.13,  8.26,  8.39,  8.52,  8.65,  8.78,  8.91,  9.04,\n",
       "         9.17,  9.3 ]),\n",
       " <a list of 10 Patch objects>)"
      ]
     },
     "execution_count": 289,
     "metadata": {},
     "output_type": "execute_result"
    },
    {
     "data": {
      "image/png": "[encoded data removed]",
      "text/plain": [
       "<matplotlib.figure.Figure at 0x123910150>"
      ]
     },
     "metadata": {},
     "output_type": "display_data"
    }
   ],
   "source": [
    "import matplotlib.pyplot as plt\n",
    "%matplotlib inline\n",
    "plt.hist(imdb_data.rating, bins =10)"
   ]
  },
  {
   "cell_type": "markdown",
   "metadata": {},
   "source": [
    "Oh.. No.... These are all top rated movies.. none of them are rated less than 8... So this will be a problem in regression problem to predict the ratings"
   ]
  },
  {
   "cell_type": "markdown",
   "metadata": {},
   "source": [
    "It doesn't look like we have a lot of features in this data... Can_rate and type are the 2 features which do not look much useful... So will have to exclude these features from analysis. Also we have the photo image which also might not be useful at all.. Hence, we might need to get some other data..."
   ]
  },
  {
   "cell_type": "markdown",
   "metadata": {},
   "source": [
    "It looks like we can get more information about these movies from imdb itself... so let's see what can we get'"
   ]
  },
  {
   "cell_type": "code",
   "execution_count": 291,
   "metadata": {
    "collapsed": false,
    "scrolled": false
   },
   "outputs": [
    {
     "name": "stdout",
     "output_type": "stream",
     "text": [
      "[<Person: u'Christian Bale' (u'nm0000288')>, <Person: u'Heath Ledger' (u'nm0005132')>, <Person: u'Aaron Eckhart' (u'nm0001173')>, <Person: u'Michael Caine' (u'nm0000323')>]\n",
      "PG-13\n",
      "https://images-na.ssl-images-amazon.com/images/M/MV5BMTMxNTMwODM0NF5BMl5BanBnXkFtZTcwODAyMTk2Mw@@._V1__SX214_.jpg\n",
      "[]\n",
      "[<Person: u'Christopher Nolan' (u'nm0634240')>]\n",
      "[u'Action', u'Crime', u'Drama', u'Thriller']\n",
      "[u'Set within a year after the events of Batman Begins, Batman, Lieutenant James Gordon, and new district attorney Harvey Dent successfully begin to round up the criminals that plague Gotham City until a mysterious and sadistic criminal mastermind known only as the Joker appears in Gotham, creating a new wave of chaos. Batman\\'s struggle against the Joker becomes deeply personal, forcing him to \"confront everything he believes\" and improve his technology to stop him. A love triangle develops between Bruce Wayne, Dent and Rachel Dawes.', u'The follow-up to Batman Begins, The Dark Knight reunites director Christopher Nolan and star Christian Bale, who reprises the role of Batman/Bruce Wayne in his continuing war on crime. With the help of Lt. Jim Gordon and District Attorney Harvey Dent, Batman sets out to destroy organized crime in Gotham for good. The triumvirate proves effective. But soon the three find themselves prey to a rising criminal mastermind known as The Joker, who thrusts Gotham into anarchy and forces Batman closer to crossing the fine line between hero and vigilante.', u'Gotham\\'s new district attorney has been elected. His name is Harvey Dent, and he has a radical new agenda that threatens to take down Gotham\\'s organized crime underworld once and for all with an iron fist. But the emergence of the rogue vigilante known as Batman has caused problems for Dent and his agenda. A new criminal mastermind known only as \"The Joker\" has arrived and aims to take Gotham out from under Harvey Dent\\'s iron fist. The Joker stages a masterfully planned bank robbery and robs the Gotham mob blind. He uses this money to stage a series of horrific and strategic attacks against the city and its people - each one carefully planned and aimed at Dent and Batman while causing the rest of the city to enter panic mode. Meanwhile, Batman thinks he might have found a lead to The Joker thanks to Wayne Enterprises\\' dealings with a shady Chinese banker, and that takes Batman and Alfred to Hong Kong. The Joker has no rules, but Batman has only one, and the Joker aims to make Batman break his only rule. But who will be the one to take him out - will it be rogue vigilante Batman or will it be elected official Harvey Dent, the new hero with a face?', u'One year after the events of Batman Begins, Batman, Gordon, and the new DA, Harvey Dent plan to launch an attack on the mob by arresting the shady accountant of the mob, Lau. Lau is abducted from his building by Batman and is thrown into jail. Lau divulges the secrets which results in almost all the mob bosses thrown in jail. The desperate mob bosses turn to the Joker, a sadistic psychopath with green hair, completely yellow teeth and a custom purple suit. The Joker kills a judge, the commissioner of police and tries to kill the Mayor and Harvey. The acts of Joker produces anarchy and chaos of in the people of Gotham forcing Batman to come to terms to which may seem to be his greatest test to fight injustice and come closer to the fine line between hero and vigilante.', u'The League of Shadows has been destroyed, but when a sadistic criminal mastermind who calls himself The Joker takes over the crime mob, The Batman must return to battle his greatest psychological threat yet. But with half the police force conspiring with this new menace, who can Bruce and Captain Gordon trust to help take him down?']\n",
      "9\n",
      "2008-07-18\n",
      "9120\n",
      "Why So Serious?\n",
      "2008\n",
      "[<Person: u'Jonathan Nolan' (u'nm0634300')>, <Person: u'Christopher Nolan' (u'nm0634240')>]\n"
     ]
    }
   ],
   "source": [
    "title = imdb.get_title_by_id(\"tt0468569\")\n",
    "print title.cast_summary\n",
    "print title.certification\n",
    "print title.cover_url\n",
    "print title.creators\n",
    "#print title.credits\n",
    "print title.directors_summary\n",
    "print title.genres\n",
    "#print title.plot_outline\n",
    "print title.plots\n",
    "#print title.poster_url\n",
    "print title.rating\n",
    "print title.release_date\n",
    "print title.runtime\n",
    "print title.tagline\n",
    "print title.year\n",
    "print title.writers_summary"
   ]
  },
  {
   "cell_type": "markdown",
   "metadata": {},
   "source": [
    "Let's get the additional data from imdb itself"
   ]
  },
  {
   "cell_type": "code",
   "execution_count": 292,
   "metadata": {
    "collapsed": false
   },
   "outputs": [],
   "source": [
    "Movie_title = []\n",
    "plots =[]\n",
    "Movie_ref = []\n",
    "cast_1 = []\n",
    "cast_2 = []\n",
    "cast_3 = []\n",
    "cast_4 = []\n",
    "certification = []\n",
    "cover_url = []\n",
    "creators = []\n",
    "directors_summary = []\n",
    "genres_1 = []\n",
    "genres_2 = []\n",
    "genres_3 = []\n",
    "genres_4 = []\n",
    "rating = []\n",
    "release_date = []\n",
    "runtime = []\n",
    "tagline = []\n",
    "year = []\n",
    "writers_summary = []\n",
    "for ref in tconst:\n",
    "    title = imdb.get_title_by_id(ref)\n",
    "    Movie_title.append(title.title)\n",
    "    plots.append(title.plots)\n",
    "    Movie_ref.append(ref)\n",
    "    cast_1.append(title.cast_summary[0])\n",
    "    cast_2.append(title.cast_summary[1] )\n",
    "    try:\n",
    "        if len(title.cast_summary[2]) > 0:\n",
    "            cast_3.append(title.cast_summary[2])\n",
    "        else:\n",
    "            cast_3.append(\" \")\n",
    "    except:\n",
    "        pass\n",
    "    try:\n",
    "        if len(title.cast_summary[3]) > 0:\n",
    "            cast_4.append(title.cast_summary[3] )\n",
    "        else:\n",
    "            cast_4.append(\" \")\n",
    "    except:\n",
    "        pass\n",
    "    certification.append(title.certification)\n",
    "    cover_url.append(title.cover_url)\n",
    "    creators.append(title.creators)\n",
    "    directors_summary.append(title.directors_summary)\n",
    "    genres_1.append(title.genres[0])\n",
    "    try:\n",
    "        if len(title.genres[1]) > 0:\n",
    "            genres_2.append(title.genres[1])\n",
    "        else:\n",
    "            genres_2.append(\" \")\n",
    "    except:\n",
    "        pass\n",
    "    try:\n",
    "        if len(title.genres[2]) > 0:\n",
    "            genres_3.append(title.genres[2])\n",
    "        else:\n",
    "            genres_3.append(\" \")\n",
    "    except:\n",
    "        pass\n",
    "    try:\n",
    "        if len(title.genres[3])>0:\n",
    "            genres_4.append(title.genres[3])\n",
    "        else:\n",
    "            genres_4.append(\" \")\n",
    "    except:\n",
    "        pass\n",
    "    rating.append(title.rating)\n",
    "    release_date.append(title.release_date)\n",
    "    runtime.append(title.runtime)\n",
    "    tagline.append(title.tagline)\n",
    "    year.append(title.year)\n",
    "    writers_summary.append(title.writers_summary)\n",
    "    #print Movie_title\n",
    "    #print cast_summary\n"
   ]
  },
  {
   "cell_type": "code",
   "execution_count": 293,
   "metadata": {
    "collapsed": false,
    "scrolled": true
   },
   "outputs": [
    {
     "name": "stdout",
     "output_type": "stream",
     "text": [
      "250\n",
      "250\n",
      "250\n",
      "250\n",
      "250\n",
      "0\n",
      "0\n",
      "250\n",
      "250\n",
      "250\n",
      "250\n",
      "250\n",
      "227\n",
      "150\n",
      "70\n",
      "250\n",
      "250\n",
      "250\n",
      "250\n",
      "250\n",
      "250\n"
     ]
    }
   ],
   "source": [
    "print len(Movie_title)\n",
    "print len(plots)\n",
    "print len(Movie_ref)\n",
    "print len(cast_1)\n",
    "print len(cast_2)\n",
    "print len(cast_3)\n",
    "print len(cast_4)\n",
    "print len(certification)\n",
    "print len(cover_url)\n",
    "print len(creators)\n",
    "print len(directors_summary)\n",
    "print len(genres_1)\n",
    "print len(genres_2)\n",
    "print len(genres_3)\n",
    "print len(genres_4)\n",
    "print len(rating)\n",
    "print len(release_date)\n",
    "print len(runtime)\n",
    "print len(tagline)\n",
    "print len(year)\n",
    "print len(writers_summary)"
   ]
  },
  {
   "cell_type": "markdown",
   "metadata": {},
   "source": [
    "It looks like we do not have all variables populated properly and when I try to merge it, I have a problem so lets select only those variables where data is fully populated"
   ]
  },
  {
   "cell_type": "code",
   "execution_count": 294,
   "metadata": {
    "collapsed": false,
    "scrolled": true
   },
   "outputs": [],
   "source": [
    "imdb_base = pd.DataFrame({'title': Movie_title,\n",
    "             'plots':plots,\n",
    "             'Movie_ref':Movie_ref,\n",
    "            'cast_1':cast_1,\n",
    "            'cast_2':cast_2,\n",
    "            'certification':certification,\n",
    "            'cover_url':cover_url,\n",
    "            'creators':creators,\n",
    "            'directors_summary':directors_summary,\n",
    "            'genres_1':genres_1,\n",
    "            'rating':rating,\n",
    "            'release_date':release_date,\n",
    "            'runtime':runtime,\n",
    "            'tagline':tagline,\n",
    "            'year':year\n",
    "            }) "
   ]
  },
  {
   "cell_type": "markdown",
   "metadata": {},
   "source": [
    "## Let's try to get the summary of the movie in one sentence"
   ]
  },
  {
   "cell_type": "code",
   "execution_count": 295,
   "metadata": {
    "collapsed": true
   },
   "outputs": [],
   "source": [
    "from nltk.probability import FreqDist\n",
    "from nltk.tokenize import RegexpTokenizer\n",
    "from nltk.corpus import stopwords\n",
    "import nltk.data\n",
    "\n",
    "class SimpleSummarizer:\n",
    "\n",
    "\tdef reorder_sentences( self, output_sentences, input ):\n",
    "\t\toutput_sentences.sort( lambda s1, s2:\n",
    "\t\t\tinput.find(s1) - input.find(s2) )\n",
    "\t\treturn output_sentences\n",
    "\t\n",
    "\tdef get_summarized(self, input, num_sentences ):\n",
    "\t\t# TODO: allow the caller to specify the tokenizer they want\n",
    "\t\t# TODO: allow the user to specify the sentence tokenizer they want\n",
    "\t\t\n",
    "\t\ttokenizer = RegexpTokenizer('\\w+')\n",
    "\t\t\n",
    "\t\t# get the frequency of each word in the input\n",
    "\t\tbase_words = [word.lower()\n",
    "\t\t\tfor word in tokenizer.tokenize(input)]\n",
    "\t\twords = [word for word in base_words if word not in stopwords.words()]\n",
    "\t\tword_frequencies = FreqDist(words)\n",
    "\t\t\n",
    "\t\t# now create a set of the most frequent words\n",
    "\t\tmost_frequent_words = [pair[0] for pair in\n",
    "\t\t\tword_frequencies.items()[:100]]\n",
    "\t\t\n",
    "\t\t# break the input up into sentences.  working_sentences is used\n",
    "\t\t# for the analysis, but actual_sentences is used in the results\n",
    "\t\t# so capitalization will be correct.\n",
    "\t\t\n",
    "\t\tsent_detector = nltk.data.load('tokenizers/punkt/english.pickle')\n",
    "\t\tactual_sentences = sent_detector.tokenize(input)\n",
    "\t\tworking_sentences = [sentence.lower()\n",
    "\t\t\tfor sentence in actual_sentences]\n",
    "\n",
    "\t\t# iterate over the most frequent words, and add the first sentence\n",
    "\t\t# that inclues each word to the result.\n",
    "\t\toutput_sentences = []\n",
    "\n",
    "\t\tfor word in most_frequent_words:\n",
    "\t\t\tfor i in range(0, len(working_sentences)):\n",
    "\t\t\t\tif (word in working_sentences[i]\n",
    "\t\t\t\t  and actual_sentences[i] not in output_sentences):\n",
    "\t\t\t\t\toutput_sentences.append(actual_sentences[i])\n",
    "\t\t\t\t\tbreak\n",
    "\t\t\t\tif len(output_sentences) >= num_sentences: break\n",
    "\t\t\tif len(output_sentences) >= num_sentences: break\n",
    "\t\t\t\n",
    "\t\t# sort the output sentences back to their original order\n",
    "\t\treturn self.reorder_sentences(output_sentences, input)\n",
    "\t\n",
    "\tdef summarize(self, input, num_sentences):\n",
    "\t\treturn \" \".join(self.get_summarized(input, num_sentences))"
   ]
  },
  {
   "cell_type": "code",
   "execution_count": 296,
   "metadata": {
    "collapsed": false
   },
   "outputs": [
    {
     "data": {
      "text/plain": [
       "u\"Andy becomes friends with prison 'fixer' Red, and Andy epitomizes why it is crucial to have dreams.\""
      ]
     },
     "execution_count": 296,
     "metadata": {},
     "output_type": "execute_result"
    }
   ],
   "source": [
    "ss=SimpleSummarizer()\n",
    "ss.summarize(''.join(imdb_base['plots'][0]),1)"
   ]
  },
  {
   "cell_type": "markdown",
   "metadata": {},
   "source": [
    "Looks like the summary function is working... we have got 1 sentence summary from movie storyline"
   ]
  },
  {
   "cell_type": "code",
   "execution_count": 297,
   "metadata": {
    "collapsed": false
   },
   "outputs": [],
   "source": [
    "movie_summary = []\n",
    "for i in range(0,len(imdb_base['plots'])):\n",
    "    movie_summary.append(ss.summarize(''.join(imdb_base['plots'][i]),1))"
   ]
  },
  {
   "cell_type": "code",
   "execution_count": 298,
   "metadata": {
    "collapsed": false,
    "scrolled": true
   },
   "outputs": [
    {
     "data": {
      "text/plain": [
       "250"
      ]
     },
     "execution_count": 298,
     "metadata": {},
     "output_type": "execute_result"
    }
   ],
   "source": [
    "len(movie_summary)"
   ]
  },
  {
   "cell_type": "code",
   "execution_count": 299,
   "metadata": {
    "collapsed": false,
    "scrolled": true
   },
   "outputs": [],
   "source": [
    "movie_summary = pd.DataFrame({'movie_summary': movie_summary})"
   ]
  },
  {
   "cell_type": "code",
   "execution_count": 300,
   "metadata": {
    "collapsed": false
   },
   "outputs": [
    {
     "data": {
      "text/html": [
       "<div>\n",
       "<table border=\"1\" class=\"dataframe\">\n",
       "  <thead>\n",
       "    <tr style=\"text-align: right;\">\n",
       "      <th></th>\n",
       "      <th>movie_summary</th>\n",
       "    </tr>\n",
       "  </thead>\n",
       "  <tbody>\n",
       "    <tr>\n",
       "      <th>0</th>\n",
       "      <td>Andy becomes friends with prison 'fixer' Red, ...</td>\n",
       "    </tr>\n",
       "    <tr>\n",
       "      <th>1</th>\n",
       "      <td>Micheal seems to be uninterested in being a pa...</td>\n",
       "    </tr>\n",
       "    <tr>\n",
       "      <th>2</th>\n",
       "      <td>With the murders of the heads of the other fou...</td>\n",
       "    </tr>\n",
       "    <tr>\n",
       "      <th>3</th>\n",
       "      <td>With the help of Lt. Jim Gordon and District A...</td>\n",
       "    </tr>\n",
       "    <tr>\n",
       "      <th>4</th>\n",
       "      <td>What begins as an open-and-shut case of murder...</td>\n",
       "    </tr>\n",
       "  </tbody>\n",
       "</table>\n",
       "</div>"
      ],
      "text/plain": [
       "                                       movie_summary\n",
       "0  Andy becomes friends with prison 'fixer' Red, ...\n",
       "1  Micheal seems to be uninterested in being a pa...\n",
       "2  With the murders of the heads of the other fou...\n",
       "3  With the help of Lt. Jim Gordon and District A...\n",
       "4  What begins as an open-and-shut case of murder..."
      ]
     },
     "execution_count": 300,
     "metadata": {},
     "output_type": "execute_result"
    }
   ],
   "source": [
    "movie_summary.head()"
   ]
  },
  {
   "cell_type": "code",
   "execution_count": 301,
   "metadata": {
    "collapsed": false,
    "scrolled": true
   },
   "outputs": [],
   "source": [
    "imdb_base1 = imdb_base.copy()\n",
    "#imdb_base1 = pd.merge(['imdb_base1','movie_summary'], axis=1) \n",
    "imdb_base1 = pd.merge(left=imdb_base1, right=movie_summary, how='outer', left_index=True,\n",
    "right_index=True)"
   ]
  },
  {
   "cell_type": "code",
   "execution_count": 302,
   "metadata": {
    "collapsed": false,
    "scrolled": true
   },
   "outputs": [
    {
     "data": {
      "text/html": [
       "<div>\n",
       "<table border=\"1\" class=\"dataframe\">\n",
       "  <thead>\n",
       "    <tr style=\"text-align: right;\">\n",
       "      <th></th>\n",
       "      <th>Movie_ref</th>\n",
       "      <th>cast_1</th>\n",
       "      <th>cast_2</th>\n",
       "      <th>certification</th>\n",
       "      <th>cover_url</th>\n",
       "      <th>creators</th>\n",
       "      <th>directors_summary</th>\n",
       "      <th>genres_1</th>\n",
       "      <th>plots</th>\n",
       "      <th>rating</th>\n",
       "      <th>release_date</th>\n",
       "      <th>runtime</th>\n",
       "      <th>tagline</th>\n",
       "      <th>title</th>\n",
       "      <th>year</th>\n",
       "      <th>movie_summary</th>\n",
       "    </tr>\n",
       "  </thead>\n",
       "  <tbody>\n",
       "    <tr>\n",
       "      <th>0</th>\n",
       "      <td>tt0111161</td>\n",
       "      <td>&lt;Person: Tim Robbins (nm0000209)&gt;</td>\n",
       "      <td>&lt;Person: Morgan Freeman (nm0000151)&gt;</td>\n",
       "      <td>R</td>\n",
       "      <td>https://images-na.ssl-images-amazon.com/images...</td>\n",
       "      <td>[]</td>\n",
       "      <td>[&lt;Person: Frank Darabont (nm0001104)&gt;]</td>\n",
       "      <td>Crime</td>\n",
       "      <td>[Chronicles the experiences of a formerly succ...</td>\n",
       "      <td>9.3</td>\n",
       "      <td>1994-10-14</td>\n",
       "      <td>8520</td>\n",
       "      <td>Fear can hold you prisoner. Hope can set you f...</td>\n",
       "      <td>The Shawshank Redemption</td>\n",
       "      <td>1994</td>\n",
       "      <td>Andy becomes friends with prison 'fixer' Red, ...</td>\n",
       "    </tr>\n",
       "    <tr>\n",
       "      <th>1</th>\n",
       "      <td>tt0068646</td>\n",
       "      <td>&lt;Person: Marlon Brando (nm0000008)&gt;</td>\n",
       "      <td>&lt;Person: Al Pacino (nm0000199)&gt;</td>\n",
       "      <td>R</td>\n",
       "      <td>https://images-na.ssl-images-amazon.com/images...</td>\n",
       "      <td>[]</td>\n",
       "      <td>[&lt;Person: Francis Ford Coppola (nm0000338)&gt;]</td>\n",
       "      <td>Crime</td>\n",
       "      <td>[When the aging head of a famous crime family ...</td>\n",
       "      <td>9.2</td>\n",
       "      <td>1972-03-24</td>\n",
       "      <td>10500</td>\n",
       "      <td>An offer you can't refuse.</td>\n",
       "      <td>The Godfather</td>\n",
       "      <td>1972</td>\n",
       "      <td>Micheal seems to be uninterested in being a pa...</td>\n",
       "    </tr>\n",
       "    <tr>\n",
       "      <th>2</th>\n",
       "      <td>tt0071562</td>\n",
       "      <td>&lt;Person: Al Pacino (nm0000199)&gt;</td>\n",
       "      <td>&lt;Person: Robert De Niro (nm0000134)&gt;</td>\n",
       "      <td>R</td>\n",
       "      <td>https://images-na.ssl-images-amazon.com/images...</td>\n",
       "      <td>[]</td>\n",
       "      <td>[&lt;Person: Francis Ford Coppola (nm0000338)&gt;]</td>\n",
       "      <td>Crime</td>\n",
       "      <td>[The continuing saga of the Corleone crime fam...</td>\n",
       "      <td>9.0</td>\n",
       "      <td>1974-12-20</td>\n",
       "      <td>12120</td>\n",
       "      <td>None</td>\n",
       "      <td>The Godfather: Part II</td>\n",
       "      <td>1974</td>\n",
       "      <td>With the murders of the heads of the other fou...</td>\n",
       "    </tr>\n",
       "    <tr>\n",
       "      <th>3</th>\n",
       "      <td>tt0468569</td>\n",
       "      <td>&lt;Person: Christian Bale (nm0000288)&gt;</td>\n",
       "      <td>&lt;Person: Heath Ledger (nm0005132)&gt;</td>\n",
       "      <td>PG-13</td>\n",
       "      <td>https://images-na.ssl-images-amazon.com/images...</td>\n",
       "      <td>[]</td>\n",
       "      <td>[&lt;Person: Christopher Nolan (nm0634240)&gt;]</td>\n",
       "      <td>Action</td>\n",
       "      <td>[Set within a year after the events of Batman ...</td>\n",
       "      <td>9.0</td>\n",
       "      <td>2008-07-18</td>\n",
       "      <td>9120</td>\n",
       "      <td>Why So Serious?</td>\n",
       "      <td>The Dark Knight</td>\n",
       "      <td>2008</td>\n",
       "      <td>With the help of Lt. Jim Gordon and District A...</td>\n",
       "    </tr>\n",
       "    <tr>\n",
       "      <th>4</th>\n",
       "      <td>tt0050083</td>\n",
       "      <td>&lt;Person: Henry Fonda (nm0000020)&gt;</td>\n",
       "      <td>&lt;Person: Lee J. Cobb (nm0002011)&gt;</td>\n",
       "      <td>Approved</td>\n",
       "      <td>https://images-na.ssl-images-amazon.com/images...</td>\n",
       "      <td>[]</td>\n",
       "      <td>[&lt;Person: Sidney Lumet (nm0001486)&gt;]</td>\n",
       "      <td>Crime</td>\n",
       "      <td>[The defense and the prosecution have rested a...</td>\n",
       "      <td>8.9</td>\n",
       "      <td>1957-04</td>\n",
       "      <td>5760</td>\n",
       "      <td>Life Is In Their Hands -- Death Is On Their Mi...</td>\n",
       "      <td>12 Angry Men</td>\n",
       "      <td>1957</td>\n",
       "      <td>What begins as an open-and-shut case of murder...</td>\n",
       "    </tr>\n",
       "  </tbody>\n",
       "</table>\n",
       "</div>"
      ],
      "text/plain": [
       "   Movie_ref                                cast_1  \\\n",
       "0  tt0111161     <Person: Tim Robbins (nm0000209)>   \n",
       "1  tt0068646   <Person: Marlon Brando (nm0000008)>   \n",
       "2  tt0071562       <Person: Al Pacino (nm0000199)>   \n",
       "3  tt0468569  <Person: Christian Bale (nm0000288)>   \n",
       "4  tt0050083     <Person: Henry Fonda (nm0000020)>   \n",
       "\n",
       "                                 cast_2 certification  \\\n",
       "0  <Person: Morgan Freeman (nm0000151)>             R   \n",
       "1       <Person: Al Pacino (nm0000199)>             R   \n",
       "2  <Person: Robert De Niro (nm0000134)>             R   \n",
       "3    <Person: Heath Ledger (nm0005132)>         PG-13   \n",
       "4     <Person: Lee J. Cobb (nm0002011)>      Approved   \n",
       "\n",
       "                                           cover_url creators  \\\n",
       "0  https://images-na.ssl-images-amazon.com/images...       []   \n",
       "1  https://images-na.ssl-images-amazon.com/images...       []   \n",
       "2  https://images-na.ssl-images-amazon.com/images...       []   \n",
       "3  https://images-na.ssl-images-amazon.com/images...       []   \n",
       "4  https://images-na.ssl-images-amazon.com/images...       []   \n",
       "\n",
       "                              directors_summary genres_1  \\\n",
       "0        [<Person: Frank Darabont (nm0001104)>]    Crime   \n",
       "1  [<Person: Francis Ford Coppola (nm0000338)>]    Crime   \n",
       "2  [<Person: Francis Ford Coppola (nm0000338)>]    Crime   \n",
       "3     [<Person: Christopher Nolan (nm0634240)>]   Action   \n",
       "4          [<Person: Sidney Lumet (nm0001486)>]    Crime   \n",
       "\n",
       "                                               plots  rating release_date  \\\n",
       "0  [Chronicles the experiences of a formerly succ...     9.3   1994-10-14   \n",
       "1  [When the aging head of a famous crime family ...     9.2   1972-03-24   \n",
       "2  [The continuing saga of the Corleone crime fam...     9.0   1974-12-20   \n",
       "3  [Set within a year after the events of Batman ...     9.0   2008-07-18   \n",
       "4  [The defense and the prosecution have rested a...     8.9      1957-04   \n",
       "\n",
       "   runtime                                            tagline  \\\n",
       "0     8520  Fear can hold you prisoner. Hope can set you f...   \n",
       "1    10500                         An offer you can't refuse.   \n",
       "2    12120                                               None   \n",
       "3     9120                                    Why So Serious?   \n",
       "4     5760  Life Is In Their Hands -- Death Is On Their Mi...   \n",
       "\n",
       "                      title  year  \\\n",
       "0  The Shawshank Redemption  1994   \n",
       "1             The Godfather  1972   \n",
       "2    The Godfather: Part II  1974   \n",
       "3           The Dark Knight  2008   \n",
       "4              12 Angry Men  1957   \n",
       "\n",
       "                                       movie_summary  \n",
       "0  Andy becomes friends with prison 'fixer' Red, ...  \n",
       "1  Micheal seems to be uninterested in being a pa...  \n",
       "2  With the murders of the heads of the other fou...  \n",
       "3  With the help of Lt. Jim Gordon and District A...  \n",
       "4  What begins as an open-and-shut case of murder...  "
      ]
     },
     "execution_count": 302,
     "metadata": {},
     "output_type": "execute_result"
    }
   ],
   "source": [
    "imdb_base1.head()"
   ]
  },
  {
   "cell_type": "code",
   "execution_count": 303,
   "metadata": {
    "collapsed": false,
    "scrolled": true
   },
   "outputs": [
    {
     "data": {
      "text/plain": [
       "<matplotlib.axes._subplots.AxesSubplot at 0x1242eebd0>"
      ]
     },
     "execution_count": 303,
     "metadata": {},
     "output_type": "execute_result"
    },
    {
     "data": {
      "image/png": "[encoded data removed]",
      "text/plain": [
       "<matplotlib.figure.Figure at 0x123d3b310>"
      ]
     },
     "metadata": {},
     "output_type": "display_data"
    }
   ],
   "source": [
    "import numpy as np\n",
    "import seaborn as sns\n",
    "\n",
    "sns.violinplot(imdb_base1.certification, imdb_base1.rating)"
   ]
  },
  {
   "cell_type": "markdown",
   "metadata": {},
   "source": [
    "We do not have enough data points for all types of movies.. Either we can merge these categories where we see 1/2 movies  or we can just dreate dummy variables for each of these categories. For now, lets just create dummy variables for all of them."
   ]
  },
  {
   "cell_type": "code",
   "execution_count": 304,
   "metadata": {
    "collapsed": false,
    "scrolled": true
   },
   "outputs": [
    {
     "data": {
      "text/plain": [
       "<matplotlib.axes._subplots.AxesSubplot at 0x1242864d0>"
      ]
     },
     "execution_count": 304,
     "metadata": {},
     "output_type": "execute_result"
    },
    {
     "data": {
      "image/png": "[encoded data removed]",
      "text/plain": [
       "<matplotlib.figure.Figure at 0x12479c0d0>"
      ]
     },
     "metadata": {},
     "output_type": "display_data"
    }
   ],
   "source": [
    "sns.violinplot(imdb_base1.genres_1, imdb_base1.rating)"
   ]
  },
  {
   "cell_type": "markdown",
   "metadata": {},
   "source": [
    "Lets create dummies for genre as well"
   ]
  },
  {
   "cell_type": "code",
   "execution_count": 305,
   "metadata": {
    "collapsed": false,
    "scrolled": true
   },
   "outputs": [
    {
     "data": {
      "text/plain": [
       "<matplotlib.axes._subplots.AxesSubplot at 0x123951110>"
      ]
     },
     "execution_count": 305,
     "metadata": {},
     "output_type": "execute_result"
    },
    {
     "data": {
      "image/png": "[encoded data removed]",
      "text/plain": [
       "<matplotlib.figure.Figure at 0x12482c090>"
      ]
     },
     "metadata": {},
     "output_type": "display_data"
    }
   ],
   "source": [
    "sns.violinplot(imdb_base1.year, imdb_base1.rating)"
   ]
  },
  {
   "cell_type": "markdown",
   "metadata": {},
   "source": [
    "There are more successful movies in recent years but we do not have more information on number of movies released in recent years, so we will not be using this variable in the model"
   ]
  },
  {
   "cell_type": "code",
   "execution_count": 306,
   "metadata": {
    "collapsed": false,
    "scrolled": true
   },
   "outputs": [
    {
     "data": {
      "text/plain": [
       "<matplotlib.collections.PathCollection at 0x12559b150>"
      ]
     },
     "execution_count": 306,
     "metadata": {},
     "output_type": "execute_result"
    },
    {
     "data": {
      "image/png": "[encoded data removed]",
      "text/plain": [
       "<matplotlib.figure.Figure at 0x12502e050>"
      ]
     },
     "metadata": {},
     "output_type": "display_data"
    }
   ],
   "source": [
    "plt.scatter(imdb_base1.runtime, imdb_base1.rating)"
   ]
  },
  {
   "cell_type": "markdown",
   "metadata": {},
   "source": [
    "We found in the previous analysis that num_votes was quite significant in predicting the rating... Let's get num_votes in this data too"
   ]
  },
  {
   "cell_type": "code",
   "execution_count": 334,
   "metadata": {
    "collapsed": false,
    "scrolled": true
   },
   "outputs": [
    {
     "data": {
      "text/plain": [
       "Index([u'Movie_ref', u'cast_1', u'cast_2', u'certification', u'cover_url',\n",
       "       u'creators', u'directors_summary', u'genres_1', u'plots', u'rating',\n",
       "       u'release_date', u'runtime', u'tagline', u'title', u'year'],\n",
       "      dtype='object')"
      ]
     },
     "execution_count": 334,
     "metadata": {},
     "output_type": "execute_result"
    }
   ],
   "source": [
    "imdb_base.columns"
   ]
  },
  {
   "cell_type": "code",
   "execution_count": 338,
   "metadata": {
    "collapsed": false,
    "scrolled": false
   },
   "outputs": [
    {
     "data": {
      "text/html": [
       "<div>\n",
       "<table border=\"1\" class=\"dataframe\">\n",
       "  <thead>\n",
       "    <tr style=\"text-align: right;\">\n",
       "      <th></th>\n",
       "      <th>Movie_ref_x</th>\n",
       "      <th>num_votes</th>\n",
       "      <th>Movie_ref_y</th>\n",
       "      <th>cast_1</th>\n",
       "      <th>cast_2</th>\n",
       "      <th>certification</th>\n",
       "      <th>cover_url</th>\n",
       "      <th>creators</th>\n",
       "      <th>directors_summary</th>\n",
       "      <th>genres_1</th>\n",
       "      <th>plots</th>\n",
       "      <th>rating</th>\n",
       "      <th>release_date</th>\n",
       "      <th>runtime</th>\n",
       "      <th>tagline</th>\n",
       "      <th>title</th>\n",
       "      <th>year</th>\n",
       "      <th>movie_summary</th>\n",
       "    </tr>\n",
       "  </thead>\n",
       "  <tbody>\n",
       "    <tr>\n",
       "      <th>0</th>\n",
       "      <td>tt0111161</td>\n",
       "      <td>1729142</td>\n",
       "      <td>tt0111161</td>\n",
       "      <td>&lt;Person: Tim Robbins (nm0000209)&gt;</td>\n",
       "      <td>&lt;Person: Morgan Freeman (nm0000151)&gt;</td>\n",
       "      <td>R</td>\n",
       "      <td>https://images-na.ssl-images-amazon.com/images...</td>\n",
       "      <td>[]</td>\n",
       "      <td>[&lt;Person: Frank Darabont (nm0001104)&gt;]</td>\n",
       "      <td>Crime</td>\n",
       "      <td>[Chronicles the experiences of a formerly succ...</td>\n",
       "      <td>9.3</td>\n",
       "      <td>1994-10-14</td>\n",
       "      <td>8520</td>\n",
       "      <td>Fear can hold you prisoner. Hope can set you f...</td>\n",
       "      <td>The Shawshank Redemption</td>\n",
       "      <td>1994</td>\n",
       "      <td>Andy becomes friends with prison 'fixer' Red, ...</td>\n",
       "    </tr>\n",
       "    <tr>\n",
       "      <th>1</th>\n",
       "      <td>tt0068646</td>\n",
       "      <td>1181594</td>\n",
       "      <td>tt0068646</td>\n",
       "      <td>&lt;Person: Marlon Brando (nm0000008)&gt;</td>\n",
       "      <td>&lt;Person: Al Pacino (nm0000199)&gt;</td>\n",
       "      <td>R</td>\n",
       "      <td>https://images-na.ssl-images-amazon.com/images...</td>\n",
       "      <td>[]</td>\n",
       "      <td>[&lt;Person: Francis Ford Coppola (nm0000338)&gt;]</td>\n",
       "      <td>Crime</td>\n",
       "      <td>[When the aging head of a famous crime family ...</td>\n",
       "      <td>9.2</td>\n",
       "      <td>1972-03-24</td>\n",
       "      <td>10500</td>\n",
       "      <td>An offer you can't refuse.</td>\n",
       "      <td>The Godfather</td>\n",
       "      <td>1972</td>\n",
       "      <td>Micheal seems to be uninterested in being a pa...</td>\n",
       "    </tr>\n",
       "    <tr>\n",
       "      <th>2</th>\n",
       "      <td>tt0071562</td>\n",
       "      <td>810181</td>\n",
       "      <td>tt0071562</td>\n",
       "      <td>&lt;Person: Al Pacino (nm0000199)&gt;</td>\n",
       "      <td>&lt;Person: Robert De Niro (nm0000134)&gt;</td>\n",
       "      <td>R</td>\n",
       "      <td>https://images-na.ssl-images-amazon.com/images...</td>\n",
       "      <td>[]</td>\n",
       "      <td>[&lt;Person: Francis Ford Coppola (nm0000338)&gt;]</td>\n",
       "      <td>Crime</td>\n",
       "      <td>[The continuing saga of the Corleone crime fam...</td>\n",
       "      <td>9.0</td>\n",
       "      <td>1974-12-20</td>\n",
       "      <td>12120</td>\n",
       "      <td>Missing</td>\n",
       "      <td>The Godfather: Part II</td>\n",
       "      <td>1974</td>\n",
       "      <td>With the murders of the heads of the other fou...</td>\n",
       "    </tr>\n",
       "    <tr>\n",
       "      <th>3</th>\n",
       "      <td>tt0468569</td>\n",
       "      <td>1714315</td>\n",
       "      <td>tt0468569</td>\n",
       "      <td>&lt;Person: Christian Bale (nm0000288)&gt;</td>\n",
       "      <td>&lt;Person: Heath Ledger (nm0005132)&gt;</td>\n",
       "      <td>PG-13</td>\n",
       "      <td>https://images-na.ssl-images-amazon.com/images...</td>\n",
       "      <td>[]</td>\n",
       "      <td>[&lt;Person: Christopher Nolan (nm0634240)&gt;]</td>\n",
       "      <td>Action</td>\n",
       "      <td>[Set within a year after the events of Batman ...</td>\n",
       "      <td>9.0</td>\n",
       "      <td>2008-07-18</td>\n",
       "      <td>9120</td>\n",
       "      <td>Why So Serious?</td>\n",
       "      <td>The Dark Knight</td>\n",
       "      <td>2008</td>\n",
       "      <td>With the help of Lt. Jim Gordon and District A...</td>\n",
       "    </tr>\n",
       "    <tr>\n",
       "      <th>4</th>\n",
       "      <td>tt0050083</td>\n",
       "      <td>461399</td>\n",
       "      <td>tt0050083</td>\n",
       "      <td>&lt;Person: Henry Fonda (nm0000020)&gt;</td>\n",
       "      <td>&lt;Person: Lee J. Cobb (nm0002011)&gt;</td>\n",
       "      <td>Approved</td>\n",
       "      <td>https://images-na.ssl-images-amazon.com/images...</td>\n",
       "      <td>[]</td>\n",
       "      <td>[&lt;Person: Sidney Lumet (nm0001486)&gt;]</td>\n",
       "      <td>Crime</td>\n",
       "      <td>[The defense and the prosecution have rested a...</td>\n",
       "      <td>8.9</td>\n",
       "      <td>1957-04</td>\n",
       "      <td>5760</td>\n",
       "      <td>Life Is In Their Hands -- Death Is On Their Mi...</td>\n",
       "      <td>12 Angry Men</td>\n",
       "      <td>1957</td>\n",
       "      <td>What begins as an open-and-shut case of murder...</td>\n",
       "    </tr>\n",
       "  </tbody>\n",
       "</table>\n",
       "</div>"
      ],
      "text/plain": [
       "  Movie_ref_x  num_votes Movie_ref_y                                cast_1  \\\n",
       "0   tt0111161    1729142   tt0111161     <Person: Tim Robbins (nm0000209)>   \n",
       "1   tt0068646    1181594   tt0068646   <Person: Marlon Brando (nm0000008)>   \n",
       "2   tt0071562     810181   tt0071562       <Person: Al Pacino (nm0000199)>   \n",
       "3   tt0468569    1714315   tt0468569  <Person: Christian Bale (nm0000288)>   \n",
       "4   tt0050083     461399   tt0050083     <Person: Henry Fonda (nm0000020)>   \n",
       "\n",
       "                                 cast_2 certification  \\\n",
       "0  <Person: Morgan Freeman (nm0000151)>             R   \n",
       "1       <Person: Al Pacino (nm0000199)>             R   \n",
       "2  <Person: Robert De Niro (nm0000134)>             R   \n",
       "3    <Person: Heath Ledger (nm0005132)>         PG-13   \n",
       "4     <Person: Lee J. Cobb (nm0002011)>      Approved   \n",
       "\n",
       "                                           cover_url creators  \\\n",
       "0  https://images-na.ssl-images-amazon.com/images...       []   \n",
       "1  https://images-na.ssl-images-amazon.com/images...       []   \n",
       "2  https://images-na.ssl-images-amazon.com/images...       []   \n",
       "3  https://images-na.ssl-images-amazon.com/images...       []   \n",
       "4  https://images-na.ssl-images-amazon.com/images...       []   \n",
       "\n",
       "                              directors_summary genres_1  \\\n",
       "0        [<Person: Frank Darabont (nm0001104)>]    Crime   \n",
       "1  [<Person: Francis Ford Coppola (nm0000338)>]    Crime   \n",
       "2  [<Person: Francis Ford Coppola (nm0000338)>]    Crime   \n",
       "3     [<Person: Christopher Nolan (nm0634240)>]   Action   \n",
       "4          [<Person: Sidney Lumet (nm0001486)>]    Crime   \n",
       "\n",
       "                                               plots  rating release_date  \\\n",
       "0  [Chronicles the experiences of a formerly succ...     9.3   1994-10-14   \n",
       "1  [When the aging head of a famous crime family ...     9.2   1972-03-24   \n",
       "2  [The continuing saga of the Corleone crime fam...     9.0   1974-12-20   \n",
       "3  [Set within a year after the events of Batman ...     9.0   2008-07-18   \n",
       "4  [The defense and the prosecution have rested a...     8.9      1957-04   \n",
       "\n",
       "   runtime                                            tagline  \\\n",
       "0     8520  Fear can hold you prisoner. Hope can set you f...   \n",
       "1    10500                         An offer you can't refuse.   \n",
       "2    12120                                            Missing   \n",
       "3     9120                                    Why So Serious?   \n",
       "4     5760  Life Is In Their Hands -- Death Is On Their Mi...   \n",
       "\n",
       "                      title  year  \\\n",
       "0  The Shawshank Redemption  1994   \n",
       "1             The Godfather  1972   \n",
       "2    The Godfather: Part II  1974   \n",
       "3           The Dark Knight  2008   \n",
       "4              12 Angry Men  1957   \n",
       "\n",
       "                                       movie_summary  \n",
       "0  Andy becomes friends with prison 'fixer' Red, ...  \n",
       "1  Micheal seems to be uninterested in being a pa...  \n",
       "2  With the murders of the heads of the other fou...  \n",
       "3  With the help of Lt. Jim Gordon and District A...  \n",
       "4  What begins as an open-and-shut case of murder...  "
      ]
     },
     "execution_count": 338,
     "metadata": {},
     "output_type": "execute_result"
    }
   ],
   "source": [
    "imdb_base_temp = imdb_data.drop(['can_rate', 'image', 'rating', 'type','year','title'], axis=1)\n",
    "imdb_final = pd.merge(left=imdb_base_temp, right=imdb_base1, how='inner', left_index=True,right_index=True)\n"
   ]
  },
  {
   "cell_type": "code",
   "execution_count": 347,
   "metadata": {
    "collapsed": false,
    "scrolled": false
   },
   "outputs": [
    {
     "data": {
      "text/html": [
       "<div>\n",
       "<table border=\"1\" class=\"dataframe\">\n",
       "  <thead>\n",
       "    <tr style=\"text-align: right;\">\n",
       "      <th></th>\n",
       "      <th>Movie_ref_x</th>\n",
       "      <th>num_votes</th>\n",
       "      <th>cast_1</th>\n",
       "      <th>cast_2</th>\n",
       "      <th>certification</th>\n",
       "      <th>cover_url</th>\n",
       "      <th>directors_summary</th>\n",
       "      <th>genres_1</th>\n",
       "      <th>plots</th>\n",
       "      <th>rating</th>\n",
       "      <th>runtime</th>\n",
       "      <th>tagline</th>\n",
       "      <th>title</th>\n",
       "      <th>year</th>\n",
       "      <th>movie_summary</th>\n",
       "    </tr>\n",
       "  </thead>\n",
       "  <tbody>\n",
       "    <tr>\n",
       "      <th>0</th>\n",
       "      <td>tt0111161</td>\n",
       "      <td>1729142</td>\n",
       "      <td>&lt;Person: Tim Robbins (nm0000209)&gt;</td>\n",
       "      <td>&lt;Person: Morgan Freeman (nm0000151)&gt;</td>\n",
       "      <td>R</td>\n",
       "      <td>https://images-na.ssl-images-amazon.com/images...</td>\n",
       "      <td>[&lt;Person: Frank Darabont (nm0001104)&gt;]</td>\n",
       "      <td>Crime</td>\n",
       "      <td>[Chronicles the experiences of a formerly succ...</td>\n",
       "      <td>9.3</td>\n",
       "      <td>8520</td>\n",
       "      <td>Fear can hold you prisoner. Hope can set you f...</td>\n",
       "      <td>The Shawshank Redemption</td>\n",
       "      <td>1994</td>\n",
       "      <td>Andy becomes friends with prison 'fixer' Red, ...</td>\n",
       "    </tr>\n",
       "    <tr>\n",
       "      <th>1</th>\n",
       "      <td>tt0068646</td>\n",
       "      <td>1181594</td>\n",
       "      <td>&lt;Person: Marlon Brando (nm0000008)&gt;</td>\n",
       "      <td>&lt;Person: Al Pacino (nm0000199)&gt;</td>\n",
       "      <td>R</td>\n",
       "      <td>https://images-na.ssl-images-amazon.com/images...</td>\n",
       "      <td>[&lt;Person: Francis Ford Coppola (nm0000338)&gt;]</td>\n",
       "      <td>Crime</td>\n",
       "      <td>[When the aging head of a famous crime family ...</td>\n",
       "      <td>9.2</td>\n",
       "      <td>10500</td>\n",
       "      <td>An offer you can't refuse.</td>\n",
       "      <td>The Godfather</td>\n",
       "      <td>1972</td>\n",
       "      <td>Micheal seems to be uninterested in being a pa...</td>\n",
       "    </tr>\n",
       "    <tr>\n",
       "      <th>2</th>\n",
       "      <td>tt0071562</td>\n",
       "      <td>810181</td>\n",
       "      <td>&lt;Person: Al Pacino (nm0000199)&gt;</td>\n",
       "      <td>&lt;Person: Robert De Niro (nm0000134)&gt;</td>\n",
       "      <td>R</td>\n",
       "      <td>https://images-na.ssl-images-amazon.com/images...</td>\n",
       "      <td>[&lt;Person: Francis Ford Coppola (nm0000338)&gt;]</td>\n",
       "      <td>Crime</td>\n",
       "      <td>[The continuing saga of the Corleone crime fam...</td>\n",
       "      <td>9.0</td>\n",
       "      <td>12120</td>\n",
       "      <td>Missing</td>\n",
       "      <td>The Godfather: Part II</td>\n",
       "      <td>1974</td>\n",
       "      <td>With the murders of the heads of the other fou...</td>\n",
       "    </tr>\n",
       "    <tr>\n",
       "      <th>3</th>\n",
       "      <td>tt0468569</td>\n",
       "      <td>1714315</td>\n",
       "      <td>&lt;Person: Christian Bale (nm0000288)&gt;</td>\n",
       "      <td>&lt;Person: Heath Ledger (nm0005132)&gt;</td>\n",
       "      <td>PG-13</td>\n",
       "      <td>https://images-na.ssl-images-amazon.com/images...</td>\n",
       "      <td>[&lt;Person: Christopher Nolan (nm0634240)&gt;]</td>\n",
       "      <td>Action</td>\n",
       "      <td>[Set within a year after the events of Batman ...</td>\n",
       "      <td>9.0</td>\n",
       "      <td>9120</td>\n",
       "      <td>Why So Serious?</td>\n",
       "      <td>The Dark Knight</td>\n",
       "      <td>2008</td>\n",
       "      <td>With the help of Lt. Jim Gordon and District A...</td>\n",
       "    </tr>\n",
       "    <tr>\n",
       "      <th>4</th>\n",
       "      <td>tt0050083</td>\n",
       "      <td>461399</td>\n",
       "      <td>&lt;Person: Henry Fonda (nm0000020)&gt;</td>\n",
       "      <td>&lt;Person: Lee J. Cobb (nm0002011)&gt;</td>\n",
       "      <td>Approved</td>\n",
       "      <td>https://images-na.ssl-images-amazon.com/images...</td>\n",
       "      <td>[&lt;Person: Sidney Lumet (nm0001486)&gt;]</td>\n",
       "      <td>Crime</td>\n",
       "      <td>[The defense and the prosecution have rested a...</td>\n",
       "      <td>8.9</td>\n",
       "      <td>5760</td>\n",
       "      <td>Life Is In Their Hands -- Death Is On Their Mi...</td>\n",
       "      <td>12 Angry Men</td>\n",
       "      <td>1957</td>\n",
       "      <td>What begins as an open-and-shut case of murder...</td>\n",
       "    </tr>\n",
       "  </tbody>\n",
       "</table>\n",
       "</div>"
      ],
      "text/plain": [
       "  Movie_ref_x  num_votes                                cast_1  \\\n",
       "0   tt0111161    1729142     <Person: Tim Robbins (nm0000209)>   \n",
       "1   tt0068646    1181594   <Person: Marlon Brando (nm0000008)>   \n",
       "2   tt0071562     810181       <Person: Al Pacino (nm0000199)>   \n",
       "3   tt0468569    1714315  <Person: Christian Bale (nm0000288)>   \n",
       "4   tt0050083     461399     <Person: Henry Fonda (nm0000020)>   \n",
       "\n",
       "                                 cast_2 certification  \\\n",
       "0  <Person: Morgan Freeman (nm0000151)>             R   \n",
       "1       <Person: Al Pacino (nm0000199)>             R   \n",
       "2  <Person: Robert De Niro (nm0000134)>             R   \n",
       "3    <Person: Heath Ledger (nm0005132)>         PG-13   \n",
       "4     <Person: Lee J. Cobb (nm0002011)>      Approved   \n",
       "\n",
       "                                           cover_url  \\\n",
       "0  https://images-na.ssl-images-amazon.com/images...   \n",
       "1  https://images-na.ssl-images-amazon.com/images...   \n",
       "2  https://images-na.ssl-images-amazon.com/images...   \n",
       "3  https://images-na.ssl-images-amazon.com/images...   \n",
       "4  https://images-na.ssl-images-amazon.com/images...   \n",
       "\n",
       "                              directors_summary genres_1  \\\n",
       "0        [<Person: Frank Darabont (nm0001104)>]    Crime   \n",
       "1  [<Person: Francis Ford Coppola (nm0000338)>]    Crime   \n",
       "2  [<Person: Francis Ford Coppola (nm0000338)>]    Crime   \n",
       "3     [<Person: Christopher Nolan (nm0634240)>]   Action   \n",
       "4          [<Person: Sidney Lumet (nm0001486)>]    Crime   \n",
       "\n",
       "                                               plots  rating  runtime  \\\n",
       "0  [Chronicles the experiences of a formerly succ...     9.3     8520   \n",
       "1  [When the aging head of a famous crime family ...     9.2    10500   \n",
       "2  [The continuing saga of the Corleone crime fam...     9.0    12120   \n",
       "3  [Set within a year after the events of Batman ...     9.0     9120   \n",
       "4  [The defense and the prosecution have rested a...     8.9     5760   \n",
       "\n",
       "                                             tagline  \\\n",
       "0  Fear can hold you prisoner. Hope can set you f...   \n",
       "1                         An offer you can't refuse.   \n",
       "2                                            Missing   \n",
       "3                                    Why So Serious?   \n",
       "4  Life Is In Their Hands -- Death Is On Their Mi...   \n",
       "\n",
       "                      title  year  \\\n",
       "0  The Shawshank Redemption  1994   \n",
       "1             The Godfather  1972   \n",
       "2    The Godfather: Part II  1974   \n",
       "3           The Dark Knight  2008   \n",
       "4              12 Angry Men  1957   \n",
       "\n",
       "                                       movie_summary  \n",
       "0  Andy becomes friends with prison 'fixer' Red, ...  \n",
       "1  Micheal seems to be uninterested in being a pa...  \n",
       "2  With the murders of the heads of the other fou...  \n",
       "3  With the help of Lt. Jim Gordon and District A...  \n",
       "4  What begins as an open-and-shut case of murder...  "
      ]
     },
     "execution_count": 347,
     "metadata": {},
     "output_type": "execute_result"
    }
   ],
   "source": [
    "imdb_final.drop(['creators', 'Movie_ref_y', 'release_date'], axis=1).head()"
   ]
  },
  {
   "cell_type": "code",
   "execution_count": 345,
   "metadata": {
    "collapsed": false
   },
   "outputs": [],
   "source": [
    "imdb_final.rating_flag = imdb_final.rating <=8.3"
   ]
  },
  {
   "cell_type": "code",
   "execution_count": 346,
   "metadata": {
    "collapsed": false
   },
   "outputs": [
    {
     "data": {
      "text/plain": [
       "True     156\n",
       "False     94\n",
       "Name: rating, dtype: int64"
      ]
     },
     "execution_count": 346,
     "metadata": {},
     "output_type": "execute_result"
    }
   ],
   "source": [
    "imdb_final.rating_flag.value_counts()"
   ]
  },
  {
   "cell_type": "code",
   "execution_count": 339,
   "metadata": {
    "collapsed": false,
    "scrolled": true
   },
   "outputs": [
    {
     "data": {
      "text/plain": [
       "<matplotlib.collections.PathCollection at 0x1259f7290>"
      ]
     },
     "execution_count": 339,
     "metadata": {},
     "output_type": "execute_result"
    },
    {
     "data": {
      "image/png": "[encoded data removed]",
      "text/plain": [
       "<matplotlib.figure.Figure at 0x1257f7ad0>"
      ]
     },
     "metadata": {},
     "output_type": "display_data"
    }
   ],
   "source": [
    "plt.scatter(imdb_final.runtime, imdb_final.rating)"
   ]
  },
  {
   "cell_type": "markdown",
   "metadata": {},
   "source": [
    "### Lets try to extract features from tagline"
   ]
  },
  {
   "cell_type": "code",
   "execution_count": 307,
   "metadata": {
    "collapsed": false
   },
   "outputs": [],
   "source": [
    "imdb_base1.tagline = imdb_base1.tagline.fillna(\"Missing\")"
   ]
  },
  {
   "cell_type": "code",
   "execution_count": 308,
   "metadata": {
    "collapsed": false,
    "scrolled": true
   },
   "outputs": [
    {
     "name": "stdout",
     "output_type": "stream",
     "text": [
      "CountVectorizer(analyzer='word', binary=False, decode_error=u'strict',\n",
      "        dtype=<type 'numpy.int64'>, encoding=u'utf-8', input=u'content',\n",
      "        lowercase=True, max_df=1.0, max_features=20, min_df=1,\n",
      "        ngram_range=(1, 3), preprocessor=None, stop_words='english',\n",
      "        strip_accents=None, token_pattern=u'(?u)\\\\b\\\\w\\\\w+\\\\b',\n",
      "        tokenizer=None, vocabulary=None)\n"
     ]
    },
    {
     "data": {
      "text/plain": [
       "CountVectorizer(analyzer='word', binary=False, decode_error=u'strict',\n",
       "        dtype=<type 'numpy.int64'>, encoding=u'utf-8', input=u'content',\n",
       "        lowercase=True, max_df=1.0, max_features=20, min_df=1,\n",
       "        ngram_range=(1, 3), preprocessor=None, stop_words='english',\n",
       "        strip_accents=None, token_pattern=u'(?u)\\\\b\\\\w\\\\w+\\\\b',\n",
       "        tokenizer=None, vocabulary=None)"
      ]
     },
     "execution_count": 308,
     "metadata": {},
     "output_type": "execute_result"
    }
   ],
   "source": [
    "from sklearn.feature_extraction.text import CountVectorizer\n",
    "from sklearn.feature_extraction.text import TfidfVectorizer\n",
    "cv = CountVectorizer(stop_words=\"english\", max_features=20, ngram_range=(1, 3), analyzer='word')\n",
    "print cv\n",
    "\n",
    "cv.fit(imdb_base1.tagline)"
   ]
  },
  {
   "cell_type": "code",
   "execution_count": 309,
   "metadata": {
    "collapsed": false,
    "scrolled": false
   },
   "outputs": [
    {
     "data": {
      "text/plain": [
       "[u'adventure',\n",
       " u'film',\n",
       " u'great',\n",
       " u'greatest',\n",
       " u'know',\n",
       " u'life',\n",
       " u'like',\n",
       " u'love',\n",
       " u'make',\n",
       " u'man',\n",
       " u'men',\n",
       " u'missing',\n",
       " u'new',\n",
       " u'picture',\n",
       " u'release',\n",
       " u'remember',\n",
       " u'screen',\n",
       " u'story',\n",
       " u'time',\n",
       " u'world']"
      ]
     },
     "execution_count": 309,
     "metadata": {},
     "output_type": "execute_result"
    }
   ],
   "source": [
    "cv.get_feature_names()"
   ]
  },
  {
   "cell_type": "code",
   "execution_count": 310,
   "metadata": {
    "collapsed": false
   },
   "outputs": [
    {
     "name": "stdout",
     "output_type": "stream",
     "text": [
      "CountVectorizer(analyzer='word', binary=False, decode_error=u'strict',\n",
      "        dtype=<type 'numpy.int64'>, encoding=u'utf-8', input=u'content',\n",
      "        lowercase=True, max_df=1.0, max_features=20, min_df=1,\n",
      "        ngram_range=(1, 3), preprocessor=None, stop_words='english',\n",
      "        strip_accents=None, token_pattern=u'(?u)\\\\b\\\\w\\\\w+\\\\b',\n",
      "        tokenizer=None, vocabulary=None)\n"
     ]
    },
    {
     "data": {
      "text/plain": [
       "CountVectorizer(analyzer='word', binary=False, decode_error=u'strict',\n",
       "        dtype=<type 'numpy.int64'>, encoding=u'utf-8', input=u'content',\n",
       "        lowercase=True, max_df=1.0, max_features=20, min_df=1,\n",
       "        ngram_range=(1, 3), preprocessor=None, stop_words='english',\n",
       "        strip_accents=None, token_pattern=u'(?u)\\\\b\\\\w\\\\w+\\\\b',\n",
       "        tokenizer=None, vocabulary=None)"
      ]
     },
     "execution_count": 310,
     "metadata": {},
     "output_type": "execute_result"
    }
   ],
   "source": [
    "from sklearn.feature_extraction.text import CountVectorizer\n",
    "from sklearn.feature_extraction.text import TfidfVectorizer\n",
    "cv1 = CountVectorizer(stop_words=\"english\", max_features=20, ngram_range=(1, 3), analyzer='word')\n",
    "print cv1\n",
    "cv1.fit(imdb_base1.movie_summary)"
   ]
  },
  {
   "cell_type": "code",
   "execution_count": 311,
   "metadata": {
    "collapsed": false
   },
   "outputs": [
    {
     "data": {
      "text/plain": [
       "[u'detective',\n",
       " u'family',\n",
       " u'father',\n",
       " u'finds',\n",
       " u'help',\n",
       " u'life',\n",
       " u'lives',\n",
       " u'love',\n",
       " u'man',\n",
       " u'men',\n",
       " u'new',\n",
       " u'old',\n",
       " u'people',\n",
       " u'soon',\n",
       " u'story',\n",
       " u'time',\n",
       " u'war',\n",
       " u'wife',\n",
       " u'world',\n",
       " u'years']"
      ]
     },
     "execution_count": 311,
     "metadata": {},
     "output_type": "execute_result"
    }
   ],
   "source": [
    "cv1.get_feature_names()"
   ]
  },
  {
   "cell_type": "code",
   "execution_count": 312,
   "metadata": {
    "collapsed": false
   },
   "outputs": [],
   "source": [
    "feat = list(set(cv.get_feature_names()) | set(cv1.get_feature_names()))"
   ]
  },
  {
   "cell_type": "code",
   "execution_count": 313,
   "metadata": {
    "collapsed": false,
    "scrolled": true
   },
   "outputs": [
    {
     "data": {
      "text/plain": [
       "32"
      ]
     },
     "execution_count": 313,
     "metadata": {},
     "output_type": "execute_result"
    }
   ],
   "source": [
    "len(feat)"
   ]
  },
  {
   "cell_type": "code",
   "execution_count": 319,
   "metadata": {
    "collapsed": false
   },
   "outputs": [],
   "source": [
    "cast_all = (set(imdb_base1.cast_1) | set(imdb_base1.cast_2))"
   ]
  },
  {
   "cell_type": "code",
   "execution_count": 365,
   "metadata": {
    "collapsed": true
   },
   "outputs": [],
   "source": [
    "X = imdb_final[['num_votes', 'cast_1' , 'cast_2', 'certification' , 'cover_url', 'directors_summary', 'genres_1' , 'plots', 'runtime', 'tagline', 'year', 'movie_summary']]\n",
    "X_new = imdb_final[['num_votes', 'certification' , 'genres_1' , 'runtime',  'year']]\n",
    "y = imdb_final[\"rating\"] <=8.3"
   ]
  },
  {
   "cell_type": "markdown",
   "metadata": {},
   "source": [
    "Run logistic regression on just numeric variables"
   ]
  },
  {
   "cell_type": "code",
   "execution_count": 356,
   "metadata": {
    "collapsed": false,
    "scrolled": true
   },
   "outputs": [
    {
     "name": "stderr",
     "output_type": "stream",
     "text": [
      "/Users/ipm/anaconda/lib/python2.7/site-packages/ipykernel/__main__.py:5: SettingWithCopyWarning: \n",
      "A value is trying to be set on a copy of a slice from a DataFrame.\n",
      "Try using .loc[row_indexer,col_indexer] = value instead\n",
      "\n",
      "See the caveats in the documentation: http://pandas.pydata.org/pandas-docs/stable/indexing.html#indexing-view-versus-copy\n",
      "/Users/ipm/anaconda/lib/python2.7/site-packages/ipykernel/__main__.py:8: SettingWithCopyWarning: \n",
      "A value is trying to be set on a copy of a slice from a DataFrame.\n",
      "Try using .loc[row_indexer,col_indexer] = value instead\n",
      "\n",
      "See the caveats in the documentation: http://pandas.pydata.org/pandas-docs/stable/indexing.html#indexing-view-versus-copy\n"
     ]
    }
   ],
   "source": [
    "from sklearn import preprocessing\n",
    "\n",
    "le = preprocessing.LabelEncoder()\n",
    "\n",
    "X_new[\"certification\"] = le.fit_transform(X_new[\"certification\"])\n",
    "cert = pd.get_dummies(X_new[\"certification\"], prefix=\"Cert\", drop_first=True)\n",
    "\n",
    "X_new[\"genres_1\"] = le.fit_transform(X_new[\"genres_1\"])\n",
    "genre = pd.get_dummies(X_new[\"genres_1\"], prefix=\"Genre\", drop_first=True)"
   ]
  },
  {
   "cell_type": "code",
   "execution_count": 361,
   "metadata": {
    "collapsed": false
   },
   "outputs": [],
   "source": [
    "imdb_final1 = pd.concat([genre, cert, X_new], axis=1)"
   ]
  },
  {
   "cell_type": "code",
   "execution_count": 364,
   "metadata": {
    "collapsed": false,
    "scrolled": true
   },
   "outputs": [
    {
     "data": {
      "text/html": [
       "<div>\n",
       "<table border=\"1\" class=\"dataframe\">\n",
       "  <thead>\n",
       "    <tr style=\"text-align: right;\">\n",
       "      <th></th>\n",
       "      <th>Genre_1</th>\n",
       "      <th>Genre_2</th>\n",
       "      <th>Genre_3</th>\n",
       "      <th>Genre_4</th>\n",
       "      <th>Genre_5</th>\n",
       "      <th>Genre_6</th>\n",
       "      <th>Genre_7</th>\n",
       "      <th>Genre_8</th>\n",
       "      <th>Genre_9</th>\n",
       "      <th>Genre_10</th>\n",
       "      <th>...</th>\n",
       "      <th>Cert_9</th>\n",
       "      <th>Cert_10</th>\n",
       "      <th>Cert_11</th>\n",
       "      <th>Cert_12</th>\n",
       "      <th>Cert_13</th>\n",
       "      <th>Cert_14</th>\n",
       "      <th>Cert_15</th>\n",
       "      <th>num_votes</th>\n",
       "      <th>runtime</th>\n",
       "      <th>year</th>\n",
       "    </tr>\n",
       "  </thead>\n",
       "  <tbody>\n",
       "    <tr>\n",
       "      <th>0</th>\n",
       "      <td>0.0</td>\n",
       "      <td>0.0</td>\n",
       "      <td>0.0</td>\n",
       "      <td>0.0</td>\n",
       "      <td>1.0</td>\n",
       "      <td>0.0</td>\n",
       "      <td>0.0</td>\n",
       "      <td>0.0</td>\n",
       "      <td>0.0</td>\n",
       "      <td>0.0</td>\n",
       "      <td>...</td>\n",
       "      <td>0.0</td>\n",
       "      <td>1.0</td>\n",
       "      <td>0.0</td>\n",
       "      <td>0.0</td>\n",
       "      <td>0.0</td>\n",
       "      <td>0.0</td>\n",
       "      <td>0.0</td>\n",
       "      <td>1729142</td>\n",
       "      <td>8520</td>\n",
       "      <td>1994</td>\n",
       "    </tr>\n",
       "    <tr>\n",
       "      <th>1</th>\n",
       "      <td>0.0</td>\n",
       "      <td>0.0</td>\n",
       "      <td>0.0</td>\n",
       "      <td>0.0</td>\n",
       "      <td>1.0</td>\n",
       "      <td>0.0</td>\n",
       "      <td>0.0</td>\n",
       "      <td>0.0</td>\n",
       "      <td>0.0</td>\n",
       "      <td>0.0</td>\n",
       "      <td>...</td>\n",
       "      <td>0.0</td>\n",
       "      <td>1.0</td>\n",
       "      <td>0.0</td>\n",
       "      <td>0.0</td>\n",
       "      <td>0.0</td>\n",
       "      <td>0.0</td>\n",
       "      <td>0.0</td>\n",
       "      <td>1181594</td>\n",
       "      <td>10500</td>\n",
       "      <td>1972</td>\n",
       "    </tr>\n",
       "    <tr>\n",
       "      <th>2</th>\n",
       "      <td>0.0</td>\n",
       "      <td>0.0</td>\n",
       "      <td>0.0</td>\n",
       "      <td>0.0</td>\n",
       "      <td>1.0</td>\n",
       "      <td>0.0</td>\n",
       "      <td>0.0</td>\n",
       "      <td>0.0</td>\n",
       "      <td>0.0</td>\n",
       "      <td>0.0</td>\n",
       "      <td>...</td>\n",
       "      <td>0.0</td>\n",
       "      <td>1.0</td>\n",
       "      <td>0.0</td>\n",
       "      <td>0.0</td>\n",
       "      <td>0.0</td>\n",
       "      <td>0.0</td>\n",
       "      <td>0.0</td>\n",
       "      <td>810181</td>\n",
       "      <td>12120</td>\n",
       "      <td>1974</td>\n",
       "    </tr>\n",
       "    <tr>\n",
       "      <th>3</th>\n",
       "      <td>0.0</td>\n",
       "      <td>0.0</td>\n",
       "      <td>0.0</td>\n",
       "      <td>0.0</td>\n",
       "      <td>0.0</td>\n",
       "      <td>0.0</td>\n",
       "      <td>0.0</td>\n",
       "      <td>0.0</td>\n",
       "      <td>0.0</td>\n",
       "      <td>0.0</td>\n",
       "      <td>...</td>\n",
       "      <td>0.0</td>\n",
       "      <td>0.0</td>\n",
       "      <td>0.0</td>\n",
       "      <td>0.0</td>\n",
       "      <td>0.0</td>\n",
       "      <td>0.0</td>\n",
       "      <td>0.0</td>\n",
       "      <td>1714315</td>\n",
       "      <td>9120</td>\n",
       "      <td>2008</td>\n",
       "    </tr>\n",
       "    <tr>\n",
       "      <th>4</th>\n",
       "      <td>0.0</td>\n",
       "      <td>0.0</td>\n",
       "      <td>0.0</td>\n",
       "      <td>0.0</td>\n",
       "      <td>1.0</td>\n",
       "      <td>0.0</td>\n",
       "      <td>0.0</td>\n",
       "      <td>0.0</td>\n",
       "      <td>0.0</td>\n",
       "      <td>0.0</td>\n",
       "      <td>...</td>\n",
       "      <td>0.0</td>\n",
       "      <td>0.0</td>\n",
       "      <td>0.0</td>\n",
       "      <td>0.0</td>\n",
       "      <td>0.0</td>\n",
       "      <td>0.0</td>\n",
       "      <td>0.0</td>\n",
       "      <td>461399</td>\n",
       "      <td>5760</td>\n",
       "      <td>1957</td>\n",
       "    </tr>\n",
       "  </tbody>\n",
       "</table>\n",
       "<p>5 rows × 29 columns</p>\n",
       "</div>"
      ],
      "text/plain": [
       "   Genre_1  Genre_2  Genre_3  Genre_4  Genre_5  Genre_6  Genre_7  Genre_8  \\\n",
       "0      0.0      0.0      0.0      0.0      1.0      0.0      0.0      0.0   \n",
       "1      0.0      0.0      0.0      0.0      1.0      0.0      0.0      0.0   \n",
       "2      0.0      0.0      0.0      0.0      1.0      0.0      0.0      0.0   \n",
       "3      0.0      0.0      0.0      0.0      0.0      0.0      0.0      0.0   \n",
       "4      0.0      0.0      0.0      0.0      1.0      0.0      0.0      0.0   \n",
       "\n",
       "   Genre_9  Genre_10  ...   Cert_9  Cert_10  Cert_11  Cert_12  Cert_13  \\\n",
       "0      0.0       0.0  ...      0.0      1.0      0.0      0.0      0.0   \n",
       "1      0.0       0.0  ...      0.0      1.0      0.0      0.0      0.0   \n",
       "2      0.0       0.0  ...      0.0      1.0      0.0      0.0      0.0   \n",
       "3      0.0       0.0  ...      0.0      0.0      0.0      0.0      0.0   \n",
       "4      0.0       0.0  ...      0.0      0.0      0.0      0.0      0.0   \n",
       "\n",
       "   Cert_14  Cert_15  num_votes  runtime  year  \n",
       "0      0.0      0.0    1729142     8520  1994  \n",
       "1      0.0      0.0    1181594    10500  1972  \n",
       "2      0.0      0.0     810181    12120  1974  \n",
       "3      0.0      0.0    1714315     9120  2008  \n",
       "4      0.0      0.0     461399     5760  1957  \n",
       "\n",
       "[5 rows x 29 columns]"
      ]
     },
     "execution_count": 364,
     "metadata": {},
     "output_type": "execute_result"
    }
   ],
   "source": [
    "imdb_final1.drop([\"certification\", \"genres_1\"], axis=1).head()"
   ]
  },
  {
   "cell_type": "code",
   "execution_count": 366,
   "metadata": {
    "collapsed": true
   },
   "outputs": [],
   "source": [
    "X = imdb_final1"
   ]
  },
  {
   "cell_type": "code",
   "execution_count": 367,
   "metadata": {
    "collapsed": false
   },
   "outputs": [
    {
     "name": "stdout",
     "output_type": "stream",
     "text": [
      "CV scores: [ 0.85714286  0.6746988   0.60240964]\n",
      "Average CVScore: 0.711 +/- 0.107\n"
     ]
    }
   ],
   "source": [
    "from sklearn.linear_model import LogisticRegression\n",
    "from sklearn.model_selection import cross_val_score\n",
    "\n",
    "model = LogisticRegression()\n",
    "# that's accuracy score for logistic regression\n",
    "scores = cross_val_score(model, X, y)\n",
    "\n",
    "print('CV scores: {}'.format(scores))\n",
    "print('Average CVScore: {:0.3f} +/- {:0.3f}'.format(scores.mean(), scores.std()))\n"
   ]
  },
  {
   "cell_type": "code",
   "execution_count": 369,
   "metadata": {
    "collapsed": false
   },
   "outputs": [
    {
     "name": "stdout",
     "output_type": "stream",
     "text": [
      "CV scores: [ 0.64179104  0.67164179  0.72727273]\n",
      "Average CVScore: 0.680 +/- 0.035\n"
     ]
    }
   ],
   "source": [
    "from sklearn.model_selection import train_test_split\n",
    "X_train, X_test, y_train, y_test = train_test_split(X, y, test_size=0.2, random_state=42)\n",
    "\n",
    "model = LogisticRegression()\n",
    "# that's accuracy score for logistic regression\n",
    "scores = cross_val_score(model, X_train, y_train)\n",
    "print('CV scores: {}'.format(scores))\n",
    "print('Average CVScore: {:0.3f} +/- {:0.3f}'.format(scores.mean(), scores.std()))"
   ]
  },
  {
   "cell_type": "code",
   "execution_count": 370,
   "metadata": {
    "collapsed": false,
    "scrolled": true
   },
   "outputs": [
    {
     "name": "stdout",
     "output_type": "stream",
     "text": [
      "('accuracy is', 0.78000000000000003)\n",
      "[[10 10]\n",
      " [ 1 29]]\n",
      "remember the distribution is uneven at:\n",
      "True     30\n",
      "False    20\n",
      "Name: rating, dtype: int64\n"
     ]
    }
   ],
   "source": [
    "from sklearn.metrics import accuracy_score, confusion_matrix\n",
    "model=LogisticRegression()\n",
    "model.fit(X_train, y_train)\n",
    "predictions=model.predict(X_test)\n",
    "print(\"accuracy is\", accuracy_score(y_test, predictions))\n",
    "print(confusion_matrix(y_test, predictions))\n",
    "print(\"remember the distribution is uneven at:\")\n",
    "print(y_test.value_counts())"
   ]
  },
  {
   "cell_type": "markdown",
   "metadata": {},
   "source": [
    "We have good accuracy of 78%.. Not bad with just 4 features"
   ]
  },
  {
   "cell_type": "markdown",
   "metadata": {},
   "source": [
    "Let's try adding features which we derived based on tagline. Let's add these features to regressin and see if we get any more accuracy over our base model"
   ]
  },
  {
   "cell_type": "code",
   "execution_count": 380,
   "metadata": {
    "collapsed": false
   },
   "outputs": [],
   "source": [
    "feat = pd.DataFrame(cv1.transform(imdb_base1.movie_summary).todense(), columns=cv.get_feature_names())"
   ]
  },
  {
   "cell_type": "code",
   "execution_count": 381,
   "metadata": {
    "collapsed": false,
    "scrolled": true
   },
   "outputs": [
    {
     "data": {
      "text/plain": [
       "Genre_1          0\n",
       "Genre_2          0\n",
       "Genre_3          0\n",
       "Genre_4          0\n",
       "Genre_5          0\n",
       "Genre_6          0\n",
       "Genre_7          0\n",
       "Genre_8          0\n",
       "Genre_9          0\n",
       "Genre_10         0\n",
       "Genre_11         0\n",
       "Cert_1           0\n",
       "Cert_2           0\n",
       "Cert_3           0\n",
       "Cert_4           0\n",
       "Cert_5           0\n",
       "Cert_6           0\n",
       "Cert_7           0\n",
       "Cert_8           0\n",
       "Cert_9           0\n",
       "Cert_10          0\n",
       "Cert_11          0\n",
       "Cert_12          0\n",
       "Cert_13          0\n",
       "Cert_14          0\n",
       "Cert_15          0\n",
       "num_votes        0\n",
       "certification    0\n",
       "genres_1         0\n",
       "runtime          0\n",
       "year             0\n",
       "adventure        0\n",
       "film             0\n",
       "great            0\n",
       "greatest         0\n",
       "know             0\n",
       "life             0\n",
       "like             0\n",
       "love             0\n",
       "make             0\n",
       "man              0\n",
       "men              0\n",
       "missing          0\n",
       "new              0\n",
       "picture          0\n",
       "release          0\n",
       "remember         0\n",
       "screen           0\n",
       "story            0\n",
       "time             0\n",
       "world            0\n",
       "dtype: int64"
      ]
     },
     "execution_count": 381,
     "metadata": {},
     "output_type": "execute_result"
    }
   ],
   "source": [
    "X_new1 = pd.concat([X, feat], axis=1)\n",
    "X_new1.isnull().sum()"
   ]
  },
  {
   "cell_type": "code",
   "execution_count": null,
   "metadata": {
    "collapsed": true
   },
   "outputs": [],
   "source": [
    "X_new1"
   ]
  },
  {
   "cell_type": "code",
   "execution_count": 382,
   "metadata": {
    "collapsed": false
   },
   "outputs": [
    {
     "name": "stdout",
     "output_type": "stream",
     "text": [
      "CV scores: [ 0.65671642  0.70149254  0.71212121]\n",
      "Average CVScore: 0.690 +/- 0.024\n"
     ]
    }
   ],
   "source": [
    "from sklearn.model_selection import train_test_split\n",
    "X_train, X_test, y_train, y_test = train_test_split(X_new1, y, test_size=0.2, random_state=42)\n",
    "\n",
    "model = LogisticRegression()\n",
    "# that's accuracy score for logistic regression\n",
    "scores = cross_val_score(model, X_train, y_train)\n",
    "print('CV scores: {}'.format(scores))\n",
    "print('Average CVScore: {:0.3f} +/- {:0.3f}'.format(scores.mean(), scores.std()))"
   ]
  },
  {
   "cell_type": "code",
   "execution_count": 383,
   "metadata": {
    "collapsed": false
   },
   "outputs": [
    {
     "name": "stdout",
     "output_type": "stream",
     "text": [
      "('accuracy is', 0.83999999999999997)\n",
      "[[13  7]\n",
      " [ 1 29]]\n",
      "remember the distribution is uneven at:\n",
      "True     30\n",
      "False    20\n",
      "Name: rating, dtype: int64\n"
     ]
    }
   ],
   "source": [
    "from sklearn.metrics import accuracy_score, confusion_matrix\n",
    "model=LogisticRegression()\n",
    "model.fit(X_train, y_train)\n",
    "predictions=model.predict(X_test)\n",
    "print(\"accuracy is\", accuracy_score(y_test, predictions))\n",
    "print(confusion_matrix(y_test, predictions))\n",
    "print(\"remember the distribution is uneven at:\")\n",
    "print(y_test.value_counts())"
   ]
  },
  {
   "cell_type": "markdown",
   "metadata": {},
   "source": [
    "Good ... The model accuracy has improved to 84%... Which mean's we are able to predict movies correctly if there are going to be having score >8.3"
   ]
  },
  {
   "cell_type": "markdown",
   "metadata": {},
   "source": [
    "Future Improvements : \n",
    "1. I would like to use features based on the movie pictures... The hypothesis I want to test, if the number of casts affect the success of the movie. \n",
    "2. I would also like to build the profiles for each director and actor and would like to see if the past performance of actor or director affects the performance of the next movie\n",
    "3. If I had more time, I would have collected/scraped more data from other websites to make the predictions more robust\n",
    "4. The data I used above had all movies with score >8. Ideally, I would like to have all movies having all scores and then predict the performance of the movie"
   ]
  },
  {
   "cell_type": "code",
   "execution_count": null,
   "metadata": {
    "collapsed": true
   },
   "outputs": [],
   "source": []
  }
 ],
 "metadata": {
  "kernelspec": {
   "display_name": "Python [Root]",
   "language": "python",
   "name": "Python [Root]"
  },
  "language_info": {
   "codemirror_mode": {
    "name": "ipython",
    "version": 2
   },
   "file_extension": ".py",
   "mimetype": "text/x-python",
   "name": "python",
   "nbconvert_exporter": "python",
   "pygments_lexer": "ipython2",
   "version": "2.7.12"
  }
 },
 "nbformat": 4,
 "nbformat_minor": 0
}
