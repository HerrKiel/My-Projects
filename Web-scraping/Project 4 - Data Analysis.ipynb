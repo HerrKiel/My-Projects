{
 "cells": [
  {
   "cell_type": "code",
   "execution_count": 148,
   "metadata": {
    "collapsed": true
   },
   "outputs": [],
   "source": [
    "# indeed.com url\n",
    "base_url = \"http://www.indeed.co.uk/jobs?q=data+scientist&l=London&start={}\""
   ]
  },
  {
   "cell_type": "code",
   "execution_count": 149,
   "metadata": {
    "collapsed": true
   },
   "outputs": [],
   "source": [
    "import requests\n",
    "from bs4 import BeautifulSoup\n",
    "import urllib2\n",
    "import pandas as pd\n",
    "import re"
   ]
  },
  {
   "cell_type": "code",
   "execution_count": 150,
   "metadata": {
    "collapsed": true
   },
   "outputs": [],
   "source": [
    "pd.set_option('max_colwidth',5000)    # to remove column limit"
   ]
  },
  {
   "cell_type": "code",
   "execution_count": 151,
   "metadata": {
    "collapsed": true
   },
   "outputs": [],
   "source": [
    "r = urllib2.urlopen(base_url).read()\n",
    "r = ''.join(r)\n",
    "soup = BeautifulSoup(r, \"lxml\")"
   ]
  },
  {
   "cell_type": "markdown",
   "metadata": {},
   "source": [
    "###### The objective of this project is to understand how to use vast amount of data available on internet and make use of that data to make sense out of it.\n",
    "In this project, I am trying to scrape indeed.com and indeed.co.uk website to scrape the data from the web and use this unstrctured data to make predictions if a specific job will have salary more than the median or not."
   ]
  },
  {
   "cell_type": "markdown",
   "metadata": {},
   "source": [
    "## Only London data scraping"
   ]
  },
  {
   "cell_type": "code",
   "execution_count": 153,
   "metadata": {
    "collapsed": false
   },
   "outputs": [
    {
     "data": {
      "text/html": [
       "<div>\n",
       "<table border=\"1\" class=\"dataframe\">\n",
       "  <thead>\n",
       "    <tr style=\"text-align: right;\">\n",
       "      <th></th>\n",
       "      <th>Comp_name</th>\n",
       "      <th>Job_addr</th>\n",
       "      <th>Job_link</th>\n",
       "      <th>Job_location</th>\n",
       "      <th>Job_posted</th>\n",
       "      <th>Job_title</th>\n",
       "      <th>Salary</th>\n",
       "      <th>description</th>\n",
       "    </tr>\n",
       "  </thead>\n",
       "  <tbody>\n",
       "    <tr>\n",
       "      <th>0</th>\n",
       "      <td>Streetbees</td>\n",
       "      <td>London</td>\n",
       "      <td>http://www.indeed.co.uk/jobs?q=data+scientist&amp;l=London&amp;start=1/rc/clk?jk=6162033faf5de846&amp;fccid=3fddb77a8d36e08f</td>\n",
       "      <td>London</td>\n",
       "      <td>6 days ago</td>\n",
       "      <td>Data Scientist</td>\n",
       "      <td>None</td>\n",
       "      <td>\\nThe Opportunity – Data Scientist. We are looking for a Data Scientist that will help us discover the information hidden in the vast amounts of data we collect,...</td>\n",
       "    </tr>\n",
       "    <tr>\n",
       "      <th>1</th>\n",
       "      <td>SWIFT</td>\n",
       "      <td>London</td>\n",
       "      <td>http://www.indeed.co.uk/jobs?q=data+scientist&amp;l=London&amp;start=1/cmp/Swift/jobs/Data-Analyst-d1e30685c0b64216?r=1&amp;fccid=a3d9de619b5ce3a3</td>\n",
       "      <td>London</td>\n",
       "      <td>4 days ago</td>\n",
       "      <td>Data Analyst / Data Scientist</td>\n",
       "      <td>None</td>\n",
       "      <td>\\nCompliance Data Analyst*. Industry based data analysis experience. Although no specific programming language skills required, the candidate must have sufficient...</td>\n",
       "    </tr>\n",
       "    <tr>\n",
       "      <th>2</th>\n",
       "      <td>Deutsche Bank</td>\n",
       "      <td>London</td>\n",
       "      <td>http://www.indeed.co.uk/jobs?q=data+scientist&amp;l=London&amp;start=1/rc/clk?jk=eaafeeeea9b6ea25&amp;fccid=f1d8e147024abb3f</td>\n",
       "      <td>London</td>\n",
       "      <td>14 days ago</td>\n",
       "      <td>Data Scientists</td>\n",
       "      <td>None</td>\n",
       "      <td>\\nDemonstrated experience in analytics platforms (SAS, R etc) for data mining and statistical analysis. Performing proactive risk assessments utilising subject...</td>\n",
       "    </tr>\n",
       "    <tr>\n",
       "      <th>3</th>\n",
       "      <td>33Six Consultancy</td>\n",
       "      <td>London</td>\n",
       "      <td>http://www.indeed.co.uk/jobs?q=data+scientist&amp;l=London&amp;start=1/cmp/33Six-Consultancy/jobs/Data-Scientist-0d9ea0cd69d66203?r=1&amp;fccid=7ab6bc841571f8b9</td>\n",
       "      <td>London</td>\n",
       "      <td>5 days ago</td>\n",
       "      <td>Data Scientist</td>\n",
       "      <td>£70,000 a year</td>\n",
       "      <td>\\n(Big Data desirable i.e. AWS, Hadoop, MongoDB). The ideal candidate will have a hybrid background in Data Engineering and Data Science and be very hands on to...</td>\n",
       "    </tr>\n",
       "    <tr>\n",
       "      <th>4</th>\n",
       "      <td>The Economist Group</td>\n",
       "      <td>London</td>\n",
       "      <td>http://www.indeed.co.uk/jobs?q=data+scientist&amp;l=London&amp;start=1/rc/clk?jk=b3eca9abb088ef24&amp;fccid=4e4e192b0ebfcfeb</td>\n",
       "      <td>London</td>\n",
       "      <td>7 hours ago</td>\n",
       "      <td>Data Scientist</td>\n",
       "      <td>None</td>\n",
       "      <td>\\nCurrently, we are seeking a Data Scientist to help our Circulation Team make use of data in all aspects of their work....</td>\n",
       "    </tr>\n",
       "  </tbody>\n",
       "</table>\n",
       "</div>"
      ],
      "text/plain": [
       "             Comp_name Job_addr  \\\n",
       "0           Streetbees   London   \n",
       "1                SWIFT   London   \n",
       "2        Deutsche Bank   London   \n",
       "3    33Six Consultancy   London   \n",
       "4  The Economist Group   London   \n",
       "\n",
       "                                                                                                                                               Job_link  \\\n",
       "0                                      http://www.indeed.co.uk/jobs?q=data+scientist&l=London&start=1/rc/clk?jk=6162033faf5de846&fccid=3fddb77a8d36e08f   \n",
       "1                http://www.indeed.co.uk/jobs?q=data+scientist&l=London&start=1/cmp/Swift/jobs/Data-Analyst-d1e30685c0b64216?r=1&fccid=a3d9de619b5ce3a3   \n",
       "2                                      http://www.indeed.co.uk/jobs?q=data+scientist&l=London&start=1/rc/clk?jk=eaafeeeea9b6ea25&fccid=f1d8e147024abb3f   \n",
       "3  http://www.indeed.co.uk/jobs?q=data+scientist&l=London&start=1/cmp/33Six-Consultancy/jobs/Data-Scientist-0d9ea0cd69d66203?r=1&fccid=7ab6bc841571f8b9   \n",
       "4                                      http://www.indeed.co.uk/jobs?q=data+scientist&l=London&start=1/rc/clk?jk=b3eca9abb088ef24&fccid=4e4e192b0ebfcfeb   \n",
       "\n",
       "  Job_location   Job_posted                      Job_title          Salary  \\\n",
       "0       London   6 days ago                 Data Scientist            None   \n",
       "1       London   4 days ago  Data Analyst / Data Scientist            None   \n",
       "2       London  14 days ago                Data Scientists            None   \n",
       "3       London   5 days ago                 Data Scientist  £70,000 a year   \n",
       "4       London  7 hours ago                 Data Scientist            None   \n",
       "\n",
       "                                                                                                                                                             description  \n",
       "0   \\nThe Opportunity – Data Scientist. We are looking for a Data Scientist that will help us discover the information hidden in the vast amounts of data we collect,...  \n",
       "1  \\nCompliance Data Analyst*. Industry based data analysis experience. Although no specific programming language skills required, the candidate must have sufficient...  \n",
       "2     \\nDemonstrated experience in analytics platforms (SAS, R etc) for data mining and statistical analysis. Performing proactive risk assessments utilising subject...  \n",
       "3    \\n(Big Data desirable i.e. AWS, Hadoop, MongoDB). The ideal candidate will have a hybrid background in Data Engineering and Data Science and be very hands on to...  \n",
       "4                                            \\nCurrently, we are seeking a Data Scientist to help our Circulation Team make use of data in all aspects of their work....  "
      ]
     },
     "execution_count": 153,
     "metadata": {},
     "output_type": "execute_result"
    }
   ],
   "source": [
    "#url = base_url.format(i)\n",
    "df = pd.DataFrame()\n",
    "for i in range(1,1288,10):      # Number of pages plus one \n",
    "    #base_url = \"http://www.indeed.co.uk/jobs?q=data+scientist&l=London&start={}\"\n",
    "    url = base_url.format(i)\n",
    "    r = requests.get(url)\n",
    "    soup = BeautifulSoup(r.content, \"lxml\")\n",
    "    targetElements = soup.findAll('div', attrs={'class' : '  row  result'})\n",
    "\n",
    "    for elem in targetElements:\n",
    "        try:\n",
    "            comp_name = elem.find('span', attrs={'itemprop':'name'}).getText().strip()\n",
    "        except:\n",
    "            pass\n",
    "        try:\n",
    "            job_title = elem.find('a', attrs={'class':'turnstileLink'}).attrs['title']\n",
    "        except:\n",
    "            pass\n",
    "        try:\n",
    "            job_link = \"%s%s\" % (url,elem.find('a').get('href'))\n",
    "        except:\n",
    "            pass\n",
    "        try:\n",
    "            job_addr = elem.find('span', attrs={'itemprop':'addressLocality'}).getText()\n",
    "        except:\n",
    "            pass\n",
    "        try:\n",
    "            job_posted = elem.find('span', attrs={'class': 'date'}).getText()\n",
    "        except:\n",
    "            pass\n",
    "        try:\n",
    "            job_location = elem.find('span', attrs={'itemprop': 'jobLocation'}).getText()\n",
    "        except:\n",
    "            pass\n",
    "        try:\n",
    "            description = elem.find('span', attrs={'itemprop' : 'description'}).getText()\n",
    "        except:\n",
    "            pass\n",
    "        salary = elem.find('nobr')\n",
    "        if salary != None:\n",
    "            salary = salary.getText()\n",
    "        df = df.append({'Comp_name': comp_name, 'Job_title': job_title, 'Job_link': job_link, 'Job_posted': job_posted,\n",
    "               'Job_addr' :job_addr, 'Job_location': job_location, 'description': description, 'Salary' : salary\n",
    "                          }, ignore_index=True)\n",
    "df.head()"
   ]
  },
  {
   "cell_type": "code",
   "execution_count": null,
   "metadata": {
    "collapsed": true
   },
   "outputs": [],
   "source": [
    "sum(df.Salary.isnull()"
   ]
  },
  {
   "cell_type": "code",
   "execution_count": null,
   "metadata": {
    "collapsed": true
   },
   "outputs": [],
   "source": [
    "df.to_csv(\"Salary.csv\", encoding=\"UTF-8\", index=False)"
   ]
  },
  {
   "cell_type": "markdown",
   "metadata": {},
   "source": [
    "##Data scraping for various cities in the USA"
   ]
  },
  {
   "cell_type": "code",
   "execution_count": null,
   "metadata": {
    "collapsed": true
   },
   "outputs": [],
   "source": [
    "url_template = \"http://www.indeed.com/jobs?q=data+scientist&l={}&start={}\"\n",
    "max_results_per_city = 2500 # Set this to a high-value (5000) to generate more results. \n",
    "# Crawling more results, will also take much longer. First test your code on a small number of results and then expand.\n",
    "\n",
    "df_US = pd.DataFrame()\n",
    "for city in set(['New+York', 'Chicago', 'San+Francisco', 'Austin', 'Seattle', \n",
    "    'Los+Angeles', 'Philadelphia', 'Atlanta', 'Dallas', 'Pittsburgh', \n",
    "    'Portland', 'Phoenix', 'Denver', 'Houston', 'Miami']):\n",
    "    for start in range(1, max_results_per_city, 10):\n",
    "        #base_url = \"http://www.indeed.co.uk/jobs?q=data+scientist&l=London&start={}\"\n",
    "        url = url_template.format(city,start)\n",
    "        r = requests.get(url, lxml)\n",
    "        soup = BeautifulSoup(r.content)\n",
    "        targetElements = soup.findAll('div', attrs={'class' : '  row  result'})\n",
    "        for elem in targetElements:\n",
    "            try:\n",
    "                comp_name = elem.find('span', attrs={'itemprop':'name'}).getText().strip()\n",
    "            except:\n",
    "                pass\n",
    "            try:\n",
    "                job_title = elem.find('a', attrs={'class':'turnstileLink'}).attrs['title']\n",
    "            except:\n",
    "                pass\n",
    "            try:\n",
    "                job_link = \"%s%s\" % (url,elem.find('a').get('href'))\n",
    "            except:\n",
    "                pass\n",
    "            try:\n",
    "                job_addr = elem.find('span', attrs={'itemprop':'addressLocality'}).getText()\n",
    "            except:\n",
    "                pass\n",
    "            try:\n",
    "                job_posted = elem.find('span', attrs={'class': 'date'}).getText()\n",
    "            except:\n",
    "                pass\n",
    "            try:\n",
    "                job_location = elem.find('span', attrs={'itemprop': 'jobLocation'}).getText()\n",
    "            except:\n",
    "                pass\n",
    "            try:\n",
    "                description = elem.find('span', attrs={'itemprop' : 'description'}).getText()\n",
    "            except:\n",
    "                pass\n",
    "            salary = elem.find('nobr')\n",
    "            if salary != None:\n",
    "                salary = salary.getText()\n",
    "            df_US = df_US.append({'Comp_name': comp_name, 'Job_title': job_title, 'Job_link': job_link, 'Job_posted': job_posted,\n",
    "                   'Job_addr' :job_addr, 'Job_location': job_location, 'description': description, 'Salary' : salary\n",
    "                              }, ignore_index=True)\n",
    "\n",
    "df_US.head()"
   ]
  },
  {
   "cell_type": "code",
   "execution_count": null,
   "metadata": {
    "collapsed": true
   },
   "outputs": [],
   "source": [
    "sum(df_US.Salary.isnull())"
   ]
  },
  {
   "cell_type": "code",
   "execution_count": null,
   "metadata": {
    "collapsed": true
   },
   "outputs": [],
   "source": [
    "df_US.to_csv(\"Salary_US.csv\", encoding=\"UTF-8\", index=False )"
   ]
  },
  {
   "cell_type": "code",
   "execution_count": null,
   "metadata": {
    "collapsed": true
   },
   "outputs": [],
   "source": [
    "df[\"Country\"] = \"UK\"\n",
    "df_US[\"Country\"] = \"USA\""
   ]
  },
  {
   "cell_type": "code",
   "execution_count": null,
   "metadata": {
    "collapsed": true
   },
   "outputs": [],
   "source": [
    "Combined_Salary = pd.concat([df, df_US], axis = 0)"
   ]
  },
  {
   "cell_type": "code",
   "execution_count": 2,
   "metadata": {
    "collapsed": true
   },
   "outputs": [],
   "source": [
    "import pandas as pd\n",
    "import numpy as np\n",
    "import re\n",
    "from sklearn.feature_extraction.text import CountVectorizer\n",
    "import seaborn as sns\n",
    "import matplotlib as plt\n",
    "%matplotlib inline"
   ]
  },
  {
   "cell_type": "code",
   "execution_count": 3,
   "metadata": {
    "collapsed": true
   },
   "outputs": [],
   "source": [
    "df_US = pd.read_csv(\"Salary_US.csv\")\n",
    "df = pd.read_csv(\"Salary.csv\")"
   ]
  },
  {
   "cell_type": "code",
   "execution_count": 4,
   "metadata": {
    "collapsed": true
   },
   "outputs": [],
   "source": [
    "df[\"Country\"] = \"UK\"\n",
    "df_US[\"Country\"] = \"USA\""
   ]
  },
  {
   "cell_type": "code",
   "execution_count": 5,
   "metadata": {
    "collapsed": false
   },
   "outputs": [
    {
     "data": {
      "text/plain": [
       "(29518, 8)"
      ]
     },
     "execution_count": 5,
     "metadata": {},
     "output_type": "execute_result"
    }
   ],
   "source": [
    "Combined_Salary = pd.concat([df, df_US], axis = 0)\n",
    "#Remove Job link as its showing the same job multiple times \n",
    "Combined_Salary = Combined_Salary.drop([\"Job_link\"],axis=1)\n",
    "Combined_Salary.shape"
   ]
  },
  {
   "cell_type": "code",
   "execution_count": 6,
   "metadata": {
    "collapsed": true
   },
   "outputs": [],
   "source": [
    "Combined_Salary1 = Combined_Salary.drop_duplicates()"
   ]
  },
  {
   "cell_type": "code",
   "execution_count": 7,
   "metadata": {
    "collapsed": false
   },
   "outputs": [
    {
     "data": {
      "text/plain": [
       "(3296, 8)"
      ]
     },
     "execution_count": 7,
     "metadata": {},
     "output_type": "execute_result"
    }
   ],
   "source": [
    "Combined_Salary1.shape"
   ]
  },
  {
   "cell_type": "code",
   "execution_count": 8,
   "metadata": {
    "collapsed": false,
    "scrolled": false
   },
   "outputs": [
    {
     "data": {
      "text/html": [
       "<div>\n",
       "<table border=\"1\" class=\"dataframe\">\n",
       "  <thead>\n",
       "    <tr style=\"text-align: right;\">\n",
       "      <th></th>\n",
       "      <th>Comp_name</th>\n",
       "      <th>Job_addr</th>\n",
       "      <th>Job_location</th>\n",
       "      <th>Job_posted</th>\n",
       "      <th>Job_title</th>\n",
       "      <th>Salary</th>\n",
       "      <th>description</th>\n",
       "      <th>Country</th>\n",
       "    </tr>\n",
       "  </thead>\n",
       "  <tbody>\n",
       "    <tr>\n",
       "      <th>0</th>\n",
       "      <td>University of Westminster</td>\n",
       "      <td>Westminster</td>\n",
       "      <td>Westminster</td>\n",
       "      <td>17 days ago</td>\n",
       "      <td>Data Scientist - Machine Learning</td>\n",
       "      <td>£32,000 - £40,000 a year</td>\n",
       "      <td>\\nIt will bring together web analytics data, c...</td>\n",
       "      <td>UK</td>\n",
       "    </tr>\n",
       "    <tr>\n",
       "      <th>1</th>\n",
       "      <td>CIBC</td>\n",
       "      <td>London</td>\n",
       "      <td>London</td>\n",
       "      <td>14 days ago</td>\n",
       "      <td>Associate - Quant Analytics</td>\n",
       "      <td>NaN</td>\n",
       "      <td>\\nThey will work in a small highly skilled tea...</td>\n",
       "      <td>UK</td>\n",
       "    </tr>\n",
       "    <tr>\n",
       "      <th>2</th>\n",
       "      <td>Digital Science</td>\n",
       "      <td>London N1</td>\n",
       "      <td>London N1</td>\n",
       "      <td>15 days ago</td>\n",
       "      <td>Data Scientist - Research</td>\n",
       "      <td>£45,000 a year</td>\n",
       "      <td>\\nProficiency with data processing and data ma...</td>\n",
       "      <td>UK</td>\n",
       "    </tr>\n",
       "    <tr>\n",
       "      <th>3</th>\n",
       "      <td>KPMG UK</td>\n",
       "      <td>London</td>\n",
       "      <td>London</td>\n",
       "      <td>6 days ago</td>\n",
       "      <td>Data Scientist - Data Engineering - TechSolutions</td>\n",
       "      <td>NaN</td>\n",
       "      <td>\\nLeading and managing small teams of data sci...</td>\n",
       "      <td>UK</td>\n",
       "    </tr>\n",
       "    <tr>\n",
       "      <th>4</th>\n",
       "      <td>InMotion</td>\n",
       "      <td>London</td>\n",
       "      <td>London</td>\n",
       "      <td>10 days ago</td>\n",
       "      <td>Data Scientist, Big Data Startup</td>\n",
       "      <td>NaN</td>\n",
       "      <td>\\nData scientist in a Start-up. A detail orien...</td>\n",
       "      <td>UK</td>\n",
       "    </tr>\n",
       "  </tbody>\n",
       "</table>\n",
       "</div>"
      ],
      "text/plain": [
       "                   Comp_name     Job_addr Job_location   Job_posted  \\\n",
       "0  University of Westminster  Westminster  Westminster  17 days ago   \n",
       "1                       CIBC       London       London  14 days ago   \n",
       "2            Digital Science    London N1    London N1  15 days ago   \n",
       "3                    KPMG UK       London       London   6 days ago   \n",
       "4                   InMotion       London       London  10 days ago   \n",
       "\n",
       "                                           Job_title  \\\n",
       "0                  Data Scientist - Machine Learning   \n",
       "1                        Associate - Quant Analytics   \n",
       "2                          Data Scientist - Research   \n",
       "3  Data Scientist - Data Engineering - TechSolutions   \n",
       "4                   Data Scientist, Big Data Startup   \n",
       "\n",
       "                     Salary  \\\n",
       "0  £32,000 - £40,000 a year   \n",
       "1                       NaN   \n",
       "2            £45,000 a year   \n",
       "3                       NaN   \n",
       "4                       NaN   \n",
       "\n",
       "                                         description Country  \n",
       "0  \\nIt will bring together web analytics data, c...      UK  \n",
       "1  \\nThey will work in a small highly skilled tea...      UK  \n",
       "2  \\nProficiency with data processing and data ma...      UK  \n",
       "3  \\nLeading and managing small teams of data sci...      UK  \n",
       "4  \\nData scientist in a Start-up. A detail orien...      UK  "
      ]
     },
     "execution_count": 8,
     "metadata": {},
     "output_type": "execute_result"
    }
   ],
   "source": [
    "Combined_Salary1.head()"
   ]
  },
  {
   "cell_type": "markdown",
   "metadata": {},
   "source": [
    "Started with 29518 rows of data in UK and USA. However, we have only 3296 observations without duplicates. This means, there is a job postings by various agencies, including the hiring company itself. On an average, it looks like 1 job is being advertised by 10 different agencies... "
   ]
  },
  {
   "cell_type": "code",
   "execution_count": 9,
   "metadata": {
    "collapsed": false
   },
   "outputs": [],
   "source": [
    "Final_df = Combined_Salary1[Combined_Salary1.Salary.notnull()]"
   ]
  },
  {
   "cell_type": "code",
   "execution_count": 10,
   "metadata": {
    "collapsed": false
   },
   "outputs": [
    {
     "data": {
      "text/plain": [
       "(371, 8)"
      ]
     },
     "execution_count": 10,
     "metadata": {},
     "output_type": "execute_result"
    }
   ],
   "source": [
    "Final_df.shape"
   ]
  },
  {
   "cell_type": "markdown",
   "metadata": {},
   "source": [
    "After removing the jobs, which do not have any salary, I am left with only 371 observations... Oh.. wow.. thats like only 1% of the observations I had started with.. "
   ]
  },
  {
   "cell_type": "code",
   "execution_count": 11,
   "metadata": {
    "collapsed": false,
    "scrolled": true
   },
   "outputs": [],
   "source": [
    "Final_df1 = Final_df.copy()\n",
    "Final_df1.ix[(Final_df1.Salary.astype('str').str.contains('year')), \"Job_segment\"] = \"Permanent\"\n",
    "Final_df1.ix[Final_df1[\"Job_segment\"] != 'Permanent', \"Job_segment\"] = \"Contract\""
   ]
  },
  {
   "cell_type": "code",
   "execution_count": 12,
   "metadata": {
    "collapsed": false
   },
   "outputs": [
    {
     "data": {
      "text/plain": [
       "Permanent    293\n",
       "Contract      78\n",
       "Name: Job_segment, dtype: int64"
      ]
     },
     "execution_count": 12,
     "metadata": {},
     "output_type": "execute_result"
    }
   ],
   "source": [
    "Final_df1.Job_segment.value_counts()"
   ]
  },
  {
   "cell_type": "code",
   "execution_count": 13,
   "metadata": {
    "collapsed": false,
    "scrolled": true
   },
   "outputs": [],
   "source": [
    "# Getting salaries for employees on contract jobs.... \n",
    "# There are 78 contract jobs where pay frequency is not annually so I am creating features to get the exact salary \n",
    "# of employees working on a contract jobs\n",
    "\n",
    "Final_df1.ix[(Final_df1.Salary.astype('str').str.contains('hour')), \"Pay_frequency\"] = \"Hourly\"\n",
    "Final_df1.ix[(Final_df1.Salary.astype('str').str.contains('day')), \"Pay_frequency\"] = \"Daily\"\n",
    "Final_df1.ix[(Final_df1.Salary.astype('str').str.contains('week')), \"Pay_frequency\"] = \"Weekly\"\n",
    "Final_df1.ix[(Final_df1.Salary.astype('str').str.contains('month')), \"Pay_frequency\"] = \"Monthly\"\n",
    "Final_df1.ix[(Final_df1.Salary.astype('str').str.contains('year')), \"Pay_frequency\"] = \"Yearly\""
   ]
  },
  {
   "cell_type": "code",
   "execution_count": 14,
   "metadata": {
    "collapsed": false
   },
   "outputs": [
    {
     "data": {
      "text/html": [
       "<div>\n",
       "<table border=\"1\" class=\"dataframe\">\n",
       "  <thead>\n",
       "    <tr style=\"text-align: right;\">\n",
       "      <th></th>\n",
       "      <th>Comp_name</th>\n",
       "      <th>Job_addr</th>\n",
       "      <th>Job_location</th>\n",
       "      <th>Job_posted</th>\n",
       "      <th>Job_title</th>\n",
       "      <th>Salary</th>\n",
       "      <th>description</th>\n",
       "      <th>Country</th>\n",
       "      <th>Job_segment</th>\n",
       "      <th>Pay_frequency</th>\n",
       "    </tr>\n",
       "  </thead>\n",
       "  <tbody>\n",
       "    <tr>\n",
       "      <th>0</th>\n",
       "      <td>University of Westminster</td>\n",
       "      <td>Westminster</td>\n",
       "      <td>Westminster</td>\n",
       "      <td>17 days ago</td>\n",
       "      <td>Data Scientist - Machine Learning</td>\n",
       "      <td>£32,000 - £40,000 a year</td>\n",
       "      <td>\\nIt will bring together web analytics data, c...</td>\n",
       "      <td>UK</td>\n",
       "      <td>Permanent</td>\n",
       "      <td>Yearly</td>\n",
       "    </tr>\n",
       "    <tr>\n",
       "      <th>2</th>\n",
       "      <td>Digital Science</td>\n",
       "      <td>London N1</td>\n",
       "      <td>London N1</td>\n",
       "      <td>15 days ago</td>\n",
       "      <td>Data Scientist - Research</td>\n",
       "      <td>£45,000 a year</td>\n",
       "      <td>\\nProficiency with data processing and data ma...</td>\n",
       "      <td>UK</td>\n",
       "      <td>Permanent</td>\n",
       "      <td>Yearly</td>\n",
       "    </tr>\n",
       "    <tr>\n",
       "      <th>5</th>\n",
       "      <td>33Six Consultancy</td>\n",
       "      <td>London</td>\n",
       "      <td>London</td>\n",
       "      <td>2 days ago</td>\n",
       "      <td>Data Scientist</td>\n",
       "      <td>£70,000 a year</td>\n",
       "      <td>\\n(Big Data desirable i.e. AWS, Hadoop, MongoD...</td>\n",
       "      <td>UK</td>\n",
       "      <td>Permanent</td>\n",
       "      <td>Yearly</td>\n",
       "    </tr>\n",
       "    <tr>\n",
       "      <th>16</th>\n",
       "      <td>Kheiron</td>\n",
       "      <td>London</td>\n",
       "      <td>London</td>\n",
       "      <td>14 days ago</td>\n",
       "      <td>Machine Learning Engineer</td>\n",
       "      <td>£100,000 a year</td>\n",
       "      <td>\\nWe strongly encourage our scientists to publ...</td>\n",
       "      <td>UK</td>\n",
       "      <td>Permanent</td>\n",
       "      <td>Yearly</td>\n",
       "    </tr>\n",
       "    <tr>\n",
       "      <th>18</th>\n",
       "      <td>Bettor Believe</td>\n",
       "      <td>London</td>\n",
       "      <td>London</td>\n",
       "      <td>1 hour ago</td>\n",
       "      <td>Quantitative Analyst, London - £70-110K plus b...</td>\n",
       "      <td>£70,000 - £110,000 a year</td>\n",
       "      <td>\\nThe team manage and model sports betting dat...</td>\n",
       "      <td>UK</td>\n",
       "      <td>Permanent</td>\n",
       "      <td>Yearly</td>\n",
       "    </tr>\n",
       "  </tbody>\n",
       "</table>\n",
       "</div>"
      ],
      "text/plain": [
       "                    Comp_name     Job_addr Job_location   Job_posted  \\\n",
       "0   University of Westminster  Westminster  Westminster  17 days ago   \n",
       "2             Digital Science    London N1    London N1  15 days ago   \n",
       "5           33Six Consultancy       London       London   2 days ago   \n",
       "16                    Kheiron       London       London  14 days ago   \n",
       "18             Bettor Believe       London       London   1 hour ago   \n",
       "\n",
       "                                            Job_title  \\\n",
       "0                   Data Scientist - Machine Learning   \n",
       "2                           Data Scientist - Research   \n",
       "5                                      Data Scientist   \n",
       "16                          Machine Learning Engineer   \n",
       "18  Quantitative Analyst, London - £70-110K plus b...   \n",
       "\n",
       "                       Salary  \\\n",
       "0    £32,000 - £40,000 a year   \n",
       "2              £45,000 a year   \n",
       "5              £70,000 a year   \n",
       "16            £100,000 a year   \n",
       "18  £70,000 - £110,000 a year   \n",
       "\n",
       "                                          description Country Job_segment  \\\n",
       "0   \\nIt will bring together web analytics data, c...      UK   Permanent   \n",
       "2   \\nProficiency with data processing and data ma...      UK   Permanent   \n",
       "5   \\n(Big Data desirable i.e. AWS, Hadoop, MongoD...      UK   Permanent   \n",
       "16  \\nWe strongly encourage our scientists to publ...      UK   Permanent   \n",
       "18  \\nThe team manage and model sports betting dat...      UK   Permanent   \n",
       "\n",
       "   Pay_frequency  \n",
       "0         Yearly  \n",
       "2         Yearly  \n",
       "5         Yearly  \n",
       "16        Yearly  \n",
       "18        Yearly  "
      ]
     },
     "execution_count": 14,
     "metadata": {},
     "output_type": "execute_result"
    }
   ],
   "source": [
    "Final_df1.head()"
   ]
  },
  {
   "cell_type": "code",
   "execution_count": 15,
   "metadata": {
    "collapsed": false,
    "scrolled": true
   },
   "outputs": [],
   "source": [
    "import re\n",
    "# a function for using regex to extract salary amount\n",
    "def extract_salary(Sal_string):\n",
    "    return re.findall('(\\d{0,3}\\,\\d{0,3})',Sal_string)\n",
    "\n",
    "# apply extract_salary to all salaries\n",
    "Final_df1['Salary']=Final_df1['Salary'].apply(extract_salary)\n",
    "# remove commas in salaries\n",
    "Final_df1['Salary']=[[i.replace(',','') for i in y] for y in Final_df1.Salary]"
   ]
  },
  {
   "cell_type": "code",
   "execution_count": 16,
   "metadata": {
    "collapsed": false,
    "scrolled": true
   },
   "outputs": [
    {
     "data": {
      "text/html": [
       "<div>\n",
       "<table border=\"1\" class=\"dataframe\">\n",
       "  <thead>\n",
       "    <tr style=\"text-align: right;\">\n",
       "      <th></th>\n",
       "      <th>Comp_name</th>\n",
       "      <th>Job_addr</th>\n",
       "      <th>Job_location</th>\n",
       "      <th>Job_posted</th>\n",
       "      <th>Job_title</th>\n",
       "      <th>Salary</th>\n",
       "      <th>description</th>\n",
       "      <th>Country</th>\n",
       "      <th>Job_segment</th>\n",
       "      <th>Pay_frequency</th>\n",
       "    </tr>\n",
       "  </thead>\n",
       "  <tbody>\n",
       "    <tr>\n",
       "      <th>0</th>\n",
       "      <td>University of Westminster</td>\n",
       "      <td>Westminster</td>\n",
       "      <td>Westminster</td>\n",
       "      <td>17 days ago</td>\n",
       "      <td>Data Scientist - Machine Learning</td>\n",
       "      <td>[32000, 40000]</td>\n",
       "      <td>\\nIt will bring together web analytics data, c...</td>\n",
       "      <td>UK</td>\n",
       "      <td>Permanent</td>\n",
       "      <td>Yearly</td>\n",
       "    </tr>\n",
       "    <tr>\n",
       "      <th>2</th>\n",
       "      <td>Digital Science</td>\n",
       "      <td>London N1</td>\n",
       "      <td>London N1</td>\n",
       "      <td>15 days ago</td>\n",
       "      <td>Data Scientist - Research</td>\n",
       "      <td>[45000]</td>\n",
       "      <td>\\nProficiency with data processing and data ma...</td>\n",
       "      <td>UK</td>\n",
       "      <td>Permanent</td>\n",
       "      <td>Yearly</td>\n",
       "    </tr>\n",
       "    <tr>\n",
       "      <th>5</th>\n",
       "      <td>33Six Consultancy</td>\n",
       "      <td>London</td>\n",
       "      <td>London</td>\n",
       "      <td>2 days ago</td>\n",
       "      <td>Data Scientist</td>\n",
       "      <td>[70000]</td>\n",
       "      <td>\\n(Big Data desirable i.e. AWS, Hadoop, MongoD...</td>\n",
       "      <td>UK</td>\n",
       "      <td>Permanent</td>\n",
       "      <td>Yearly</td>\n",
       "    </tr>\n",
       "    <tr>\n",
       "      <th>16</th>\n",
       "      <td>Kheiron</td>\n",
       "      <td>London</td>\n",
       "      <td>London</td>\n",
       "      <td>14 days ago</td>\n",
       "      <td>Machine Learning Engineer</td>\n",
       "      <td>[100000]</td>\n",
       "      <td>\\nWe strongly encourage our scientists to publ...</td>\n",
       "      <td>UK</td>\n",
       "      <td>Permanent</td>\n",
       "      <td>Yearly</td>\n",
       "    </tr>\n",
       "    <tr>\n",
       "      <th>18</th>\n",
       "      <td>Bettor Believe</td>\n",
       "      <td>London</td>\n",
       "      <td>London</td>\n",
       "      <td>1 hour ago</td>\n",
       "      <td>Quantitative Analyst, London - £70-110K plus b...</td>\n",
       "      <td>[70000, 110000]</td>\n",
       "      <td>\\nThe team manage and model sports betting dat...</td>\n",
       "      <td>UK</td>\n",
       "      <td>Permanent</td>\n",
       "      <td>Yearly</td>\n",
       "    </tr>\n",
       "  </tbody>\n",
       "</table>\n",
       "</div>"
      ],
      "text/plain": [
       "                    Comp_name     Job_addr Job_location   Job_posted  \\\n",
       "0   University of Westminster  Westminster  Westminster  17 days ago   \n",
       "2             Digital Science    London N1    London N1  15 days ago   \n",
       "5           33Six Consultancy       London       London   2 days ago   \n",
       "16                    Kheiron       London       London  14 days ago   \n",
       "18             Bettor Believe       London       London   1 hour ago   \n",
       "\n",
       "                                            Job_title           Salary  \\\n",
       "0                   Data Scientist - Machine Learning   [32000, 40000]   \n",
       "2                           Data Scientist - Research          [45000]   \n",
       "5                                      Data Scientist          [70000]   \n",
       "16                          Machine Learning Engineer         [100000]   \n",
       "18  Quantitative Analyst, London - £70-110K plus b...  [70000, 110000]   \n",
       "\n",
       "                                          description Country Job_segment  \\\n",
       "0   \\nIt will bring together web analytics data, c...      UK   Permanent   \n",
       "2   \\nProficiency with data processing and data ma...      UK   Permanent   \n",
       "5   \\n(Big Data desirable i.e. AWS, Hadoop, MongoD...      UK   Permanent   \n",
       "16  \\nWe strongly encourage our scientists to publ...      UK   Permanent   \n",
       "18  \\nThe team manage and model sports betting dat...      UK   Permanent   \n",
       "\n",
       "   Pay_frequency  \n",
       "0         Yearly  \n",
       "2         Yearly  \n",
       "5         Yearly  \n",
       "16        Yearly  \n",
       "18        Yearly  "
      ]
     },
     "execution_count": 16,
     "metadata": {},
     "output_type": "execute_result"
    }
   ],
   "source": [
    "Final_df1.head()"
   ]
  },
  {
   "cell_type": "markdown",
   "metadata": {
    "collapsed": true
   },
   "source": [
    "It looks like the data for US and UK is in differnet format and finding one solution \n",
    "for data cleaning is a little difficult so I am going to separate the data for UK and the USA. \n",
    "Also UK data is very small so I will be building model only on the US data"
   ]
  },
  {
   "cell_type": "code",
   "execution_count": 17,
   "metadata": {
    "collapsed": false,
    "scrolled": true
   },
   "outputs": [
    {
     "name": "stdout",
     "output_type": "stream",
     "text": [
      "(193, 10)\n",
      "(178, 10)\n"
     ]
    }
   ],
   "source": [
    "Final_UK = Final_df1.loc[Final_df1.Country == \"UK\"]\n",
    "print Final_UK.shape\n",
    "Final_USA = Final_df1.loc[Final_df1.Country == \"USA\"]\n",
    "print Final_USA.shape"
   ]
  },
  {
   "cell_type": "code",
   "execution_count": 18,
   "metadata": {
    "collapsed": false,
    "scrolled": false
   },
   "outputs": [
    {
     "name": "stdout",
     "output_type": "stream",
     "text": [
      "   index                   Comp_name     Job_addr Job_location    Job_posted  \\\n",
      "0      6           SearchBankingJobs  Houston, TX  Houston, TX   22 days ago   \n",
      "1     20  Baylor College of Medicine  Houston, TX  Houston, TX  30+ days ago   \n",
      "2     26  Baylor College of Medicine  Houston, TX  Houston, TX   29 days ago   \n",
      "3     40  Baylor College of Medicine  Houston, TX  Houston, TX  30+ days ago   \n",
      "4     74              Selby Jennings  Houston, TX  Houston, TX  30+ days ago   \n",
      "\n",
      "                            Job_title            Salary  \\\n",
      "0           Quantitative Risk Analyst  [150000, 205000]   \n",
      "1      Lead Bioinformatics Programmer   [83000, 102000]   \n",
      "2       Research Financial Analyst II           [65000]   \n",
      "3       Sr. Bioinformatics Programmer    [70000, 91000]   \n",
      "4  Senior Predictive Modeling Actuary   [70000, 130000]   \n",
      "\n",
      "                                         description Country Job_segment  \\\n",
      "0  \\nLead the review and care of relevant model a...     USA   Permanent   \n",
      "1  \\nPM, LIMS, QC, IT, Clinical feature requests....     USA   Permanent   \n",
      "2  \\nUsing data from Principal Investigators and ...     USA   Permanent   \n",
      "3  \\n3 years’ experience in scientific programmin...     USA   Permanent   \n",
      "4  \\nSenior Predictive Modeler A leading global i...     USA   Permanent   \n",
      "\n",
      "  Pay_frequency  \n",
      "0        Yearly  \n",
      "1        Yearly  \n",
      "2        Yearly  \n",
      "3        Yearly  \n",
      "4        Yearly  \n",
      "  Job_City Job_State\n",
      "0  Houston        TX\n",
      "1  Houston        TX\n",
      "2  Houston        TX\n",
      "3  Houston        TX\n",
      "4  Houston        TX\n"
     ]
    },
    {
     "data": {
      "text/html": [
       "<div>\n",
       "<table border=\"1\" class=\"dataframe\">\n",
       "  <thead>\n",
       "    <tr style=\"text-align: right;\">\n",
       "      <th></th>\n",
       "      <th>index</th>\n",
       "      <th>Comp_name</th>\n",
       "      <th>Job_addr</th>\n",
       "      <th>Job_location</th>\n",
       "      <th>Job_posted</th>\n",
       "      <th>Job_title</th>\n",
       "      <th>Salary</th>\n",
       "      <th>description</th>\n",
       "      <th>Country</th>\n",
       "      <th>Job_segment</th>\n",
       "      <th>Pay_frequency</th>\n",
       "      <th>Job_City</th>\n",
       "      <th>Job_State</th>\n",
       "    </tr>\n",
       "  </thead>\n",
       "  <tbody>\n",
       "    <tr>\n",
       "      <th>0</th>\n",
       "      <td>6</td>\n",
       "      <td>SearchBankingJobs</td>\n",
       "      <td>Houston, TX</td>\n",
       "      <td>Houston, TX</td>\n",
       "      <td>22 days ago</td>\n",
       "      <td>Quantitative Risk Analyst</td>\n",
       "      <td>[150000, 205000]</td>\n",
       "      <td>\\nLead the review and care of relevant model a...</td>\n",
       "      <td>USA</td>\n",
       "      <td>Permanent</td>\n",
       "      <td>Yearly</td>\n",
       "      <td>Houston</td>\n",
       "      <td>TX</td>\n",
       "    </tr>\n",
       "    <tr>\n",
       "      <th>1</th>\n",
       "      <td>20</td>\n",
       "      <td>Baylor College of Medicine</td>\n",
       "      <td>Houston, TX</td>\n",
       "      <td>Houston, TX</td>\n",
       "      <td>30+ days ago</td>\n",
       "      <td>Lead Bioinformatics Programmer</td>\n",
       "      <td>[83000, 102000]</td>\n",
       "      <td>\\nPM, LIMS, QC, IT, Clinical feature requests....</td>\n",
       "      <td>USA</td>\n",
       "      <td>Permanent</td>\n",
       "      <td>Yearly</td>\n",
       "      <td>Houston</td>\n",
       "      <td>TX</td>\n",
       "    </tr>\n",
       "    <tr>\n",
       "      <th>2</th>\n",
       "      <td>26</td>\n",
       "      <td>Baylor College of Medicine</td>\n",
       "      <td>Houston, TX</td>\n",
       "      <td>Houston, TX</td>\n",
       "      <td>29 days ago</td>\n",
       "      <td>Research Financial Analyst II</td>\n",
       "      <td>[65000]</td>\n",
       "      <td>\\nUsing data from Principal Investigators and ...</td>\n",
       "      <td>USA</td>\n",
       "      <td>Permanent</td>\n",
       "      <td>Yearly</td>\n",
       "      <td>Houston</td>\n",
       "      <td>TX</td>\n",
       "    </tr>\n",
       "    <tr>\n",
       "      <th>3</th>\n",
       "      <td>40</td>\n",
       "      <td>Baylor College of Medicine</td>\n",
       "      <td>Houston, TX</td>\n",
       "      <td>Houston, TX</td>\n",
       "      <td>30+ days ago</td>\n",
       "      <td>Sr. Bioinformatics Programmer</td>\n",
       "      <td>[70000, 91000]</td>\n",
       "      <td>\\n3 years’ experience in scientific programmin...</td>\n",
       "      <td>USA</td>\n",
       "      <td>Permanent</td>\n",
       "      <td>Yearly</td>\n",
       "      <td>Houston</td>\n",
       "      <td>TX</td>\n",
       "    </tr>\n",
       "    <tr>\n",
       "      <th>4</th>\n",
       "      <td>74</td>\n",
       "      <td>Selby Jennings</td>\n",
       "      <td>Houston, TX</td>\n",
       "      <td>Houston, TX</td>\n",
       "      <td>30+ days ago</td>\n",
       "      <td>Senior Predictive Modeling Actuary</td>\n",
       "      <td>[70000, 130000]</td>\n",
       "      <td>\\nSenior Predictive Modeler A leading global i...</td>\n",
       "      <td>USA</td>\n",
       "      <td>Permanent</td>\n",
       "      <td>Yearly</td>\n",
       "      <td>Houston</td>\n",
       "      <td>TX</td>\n",
       "    </tr>\n",
       "  </tbody>\n",
       "</table>\n",
       "</div>"
      ],
      "text/plain": [
       "   index                   Comp_name     Job_addr Job_location    Job_posted  \\\n",
       "0      6           SearchBankingJobs  Houston, TX  Houston, TX   22 days ago   \n",
       "1     20  Baylor College of Medicine  Houston, TX  Houston, TX  30+ days ago   \n",
       "2     26  Baylor College of Medicine  Houston, TX  Houston, TX   29 days ago   \n",
       "3     40  Baylor College of Medicine  Houston, TX  Houston, TX  30+ days ago   \n",
       "4     74              Selby Jennings  Houston, TX  Houston, TX  30+ days ago   \n",
       "\n",
       "                            Job_title            Salary  \\\n",
       "0           Quantitative Risk Analyst  [150000, 205000]   \n",
       "1      Lead Bioinformatics Programmer   [83000, 102000]   \n",
       "2       Research Financial Analyst II           [65000]   \n",
       "3       Sr. Bioinformatics Programmer    [70000, 91000]   \n",
       "4  Senior Predictive Modeling Actuary   [70000, 130000]   \n",
       "\n",
       "                                         description Country Job_segment  \\\n",
       "0  \\nLead the review and care of relevant model a...     USA   Permanent   \n",
       "1  \\nPM, LIMS, QC, IT, Clinical feature requests....     USA   Permanent   \n",
       "2  \\nUsing data from Principal Investigators and ...     USA   Permanent   \n",
       "3  \\n3 years’ experience in scientific programmin...     USA   Permanent   \n",
       "4  \\nSenior Predictive Modeler A leading global i...     USA   Permanent   \n",
       "\n",
       "  Pay_frequency Job_City Job_State  \n",
       "0        Yearly  Houston        TX  \n",
       "1        Yearly  Houston        TX  \n",
       "2        Yearly  Houston        TX  \n",
       "3        Yearly  Houston        TX  \n",
       "4        Yearly  Houston        TX  "
      ]
     },
     "execution_count": 18,
     "metadata": {},
     "output_type": "execute_result"
    }
   ],
   "source": [
    "USA1 = Final_USA.loc[~Final_USA.index.duplicated(keep='first')].reset_index()\n",
    "print USA1.head()\n",
    "USA2 = pd.DataFrame(USA1.Job_addr.str.split(',').tolist(),columns = ['Job_City','Job_State'])\n",
    "print USA2.head()\n",
    "USA3 =USA1.join(USA2)\n",
    "USA3.head(5)"
   ]
  },
  {
   "cell_type": "code",
   "execution_count": 19,
   "metadata": {
    "collapsed": false,
    "scrolled": false
   },
   "outputs": [
    {
     "data": {
      "text/html": [
       "<div>\n",
       "<table border=\"1\" class=\"dataframe\">\n",
       "  <thead>\n",
       "    <tr style=\"text-align: right;\">\n",
       "      <th></th>\n",
       "      <th>index</th>\n",
       "      <th>Comp_name</th>\n",
       "      <th>Job_addr</th>\n",
       "      <th>Job_location</th>\n",
       "      <th>Job_posted</th>\n",
       "      <th>Job_title</th>\n",
       "      <th>Salary</th>\n",
       "      <th>description</th>\n",
       "      <th>Country</th>\n",
       "      <th>Job_segment</th>\n",
       "      <th>Pay_frequency</th>\n",
       "      <th>Job_City</th>\n",
       "      <th>Job_State</th>\n",
       "      <th>Min_Salary</th>\n",
       "      <th>Max_Salary</th>\n",
       "    </tr>\n",
       "  </thead>\n",
       "  <tbody>\n",
       "    <tr>\n",
       "      <th>0</th>\n",
       "      <td>6</td>\n",
       "      <td>SearchBankingJobs</td>\n",
       "      <td>Houston, TX</td>\n",
       "      <td>Houston, TX</td>\n",
       "      <td>22 days ago</td>\n",
       "      <td>Quantitative Risk Analyst</td>\n",
       "      <td>[150000, 205000]</td>\n",
       "      <td>\\nLead the review and care of relevant model a...</td>\n",
       "      <td>USA</td>\n",
       "      <td>Permanent</td>\n",
       "      <td>Yearly</td>\n",
       "      <td>Houston</td>\n",
       "      <td>TX</td>\n",
       "      <td>150000</td>\n",
       "      <td>205000</td>\n",
       "    </tr>\n",
       "    <tr>\n",
       "      <th>1</th>\n",
       "      <td>20</td>\n",
       "      <td>Baylor College of Medicine</td>\n",
       "      <td>Houston, TX</td>\n",
       "      <td>Houston, TX</td>\n",
       "      <td>30+ days ago</td>\n",
       "      <td>Lead Bioinformatics Programmer</td>\n",
       "      <td>[83000, 102000]</td>\n",
       "      <td>\\nPM, LIMS, QC, IT, Clinical feature requests....</td>\n",
       "      <td>USA</td>\n",
       "      <td>Permanent</td>\n",
       "      <td>Yearly</td>\n",
       "      <td>Houston</td>\n",
       "      <td>TX</td>\n",
       "      <td>83000</td>\n",
       "      <td>102000</td>\n",
       "    </tr>\n",
       "    <tr>\n",
       "      <th>2</th>\n",
       "      <td>26</td>\n",
       "      <td>Baylor College of Medicine</td>\n",
       "      <td>Houston, TX</td>\n",
       "      <td>Houston, TX</td>\n",
       "      <td>29 days ago</td>\n",
       "      <td>Research Financial Analyst II</td>\n",
       "      <td>[65000]</td>\n",
       "      <td>\\nUsing data from Principal Investigators and ...</td>\n",
       "      <td>USA</td>\n",
       "      <td>Permanent</td>\n",
       "      <td>Yearly</td>\n",
       "      <td>Houston</td>\n",
       "      <td>TX</td>\n",
       "      <td>65000</td>\n",
       "      <td>None</td>\n",
       "    </tr>\n",
       "    <tr>\n",
       "      <th>3</th>\n",
       "      <td>40</td>\n",
       "      <td>Baylor College of Medicine</td>\n",
       "      <td>Houston, TX</td>\n",
       "      <td>Houston, TX</td>\n",
       "      <td>30+ days ago</td>\n",
       "      <td>Sr. Bioinformatics Programmer</td>\n",
       "      <td>[70000, 91000]</td>\n",
       "      <td>\\n3 years’ experience in scientific programmin...</td>\n",
       "      <td>USA</td>\n",
       "      <td>Permanent</td>\n",
       "      <td>Yearly</td>\n",
       "      <td>Houston</td>\n",
       "      <td>TX</td>\n",
       "      <td>70000</td>\n",
       "      <td>91000</td>\n",
       "    </tr>\n",
       "    <tr>\n",
       "      <th>4</th>\n",
       "      <td>74</td>\n",
       "      <td>Selby Jennings</td>\n",
       "      <td>Houston, TX</td>\n",
       "      <td>Houston, TX</td>\n",
       "      <td>30+ days ago</td>\n",
       "      <td>Senior Predictive Modeling Actuary</td>\n",
       "      <td>[70000, 130000]</td>\n",
       "      <td>\\nSenior Predictive Modeler A leading global i...</td>\n",
       "      <td>USA</td>\n",
       "      <td>Permanent</td>\n",
       "      <td>Yearly</td>\n",
       "      <td>Houston</td>\n",
       "      <td>TX</td>\n",
       "      <td>70000</td>\n",
       "      <td>130000</td>\n",
       "    </tr>\n",
       "  </tbody>\n",
       "</table>\n",
       "</div>"
      ],
      "text/plain": [
       "   index                   Comp_name     Job_addr Job_location    Job_posted  \\\n",
       "0      6           SearchBankingJobs  Houston, TX  Houston, TX   22 days ago   \n",
       "1     20  Baylor College of Medicine  Houston, TX  Houston, TX  30+ days ago   \n",
       "2     26  Baylor College of Medicine  Houston, TX  Houston, TX   29 days ago   \n",
       "3     40  Baylor College of Medicine  Houston, TX  Houston, TX  30+ days ago   \n",
       "4     74              Selby Jennings  Houston, TX  Houston, TX  30+ days ago   \n",
       "\n",
       "                            Job_title            Salary  \\\n",
       "0           Quantitative Risk Analyst  [150000, 205000]   \n",
       "1      Lead Bioinformatics Programmer   [83000, 102000]   \n",
       "2       Research Financial Analyst II           [65000]   \n",
       "3       Sr. Bioinformatics Programmer    [70000, 91000]   \n",
       "4  Senior Predictive Modeling Actuary   [70000, 130000]   \n",
       "\n",
       "                                         description Country Job_segment  \\\n",
       "0  \\nLead the review and care of relevant model a...     USA   Permanent   \n",
       "1  \\nPM, LIMS, QC, IT, Clinical feature requests....     USA   Permanent   \n",
       "2  \\nUsing data from Principal Investigators and ...     USA   Permanent   \n",
       "3  \\n3 years’ experience in scientific programmin...     USA   Permanent   \n",
       "4  \\nSenior Predictive Modeler A leading global i...     USA   Permanent   \n",
       "\n",
       "  Pay_frequency Job_City Job_State Min_Salary Max_Salary  \n",
       "0        Yearly  Houston        TX     150000     205000  \n",
       "1        Yearly  Houston        TX      83000     102000  \n",
       "2        Yearly  Houston        TX      65000       None  \n",
       "3        Yearly  Houston        TX      70000      91000  \n",
       "4        Yearly  Houston        TX      70000     130000  "
      ]
     },
     "execution_count": 19,
     "metadata": {},
     "output_type": "execute_result"
    }
   ],
   "source": [
    "USA1 = USA3.loc[~USA3.index.duplicated(keep='first')].reset_index()\n",
    "Sal = pd.DataFrame(USA3.Salary.tolist(), columns=['Min_Salary', 'Max_Salary'])\n",
    "USA4 =USA3.join(Sal)\n",
    "USA4.head()"
   ]
  },
  {
   "cell_type": "code",
   "execution_count": 20,
   "metadata": {
    "collapsed": false,
    "scrolled": false
   },
   "outputs": [],
   "source": [
    "USA4[\"Min_Salary\"] = USA4[\"Min_Salary\"].astype(\"float\")\n",
    "USA4[\"Max_Salary\"] = USA4[\"Max_Salary\"].astype(\"float\")\n",
    "#print USA4.dtypes\n",
    "# Replace missing values with 0\n",
    "USA4.Max_Salary = USA4.Max_Salary.fillna(0)\n",
    "USA4.Min_Salary = USA4.Min_Salary.fillna(0)"
   ]
  },
  {
   "cell_type": "code",
   "execution_count": 21,
   "metadata": {
    "collapsed": false,
    "scrolled": false
   },
   "outputs": [
    {
     "data": {
      "text/html": [
       "<div>\n",
       "<table border=\"1\" class=\"dataframe\">\n",
       "  <thead>\n",
       "    <tr style=\"text-align: right;\">\n",
       "      <th></th>\n",
       "      <th>index</th>\n",
       "      <th>Comp_name</th>\n",
       "      <th>Job_addr</th>\n",
       "      <th>Job_location</th>\n",
       "      <th>Job_posted</th>\n",
       "      <th>Job_title</th>\n",
       "      <th>Salary</th>\n",
       "      <th>description</th>\n",
       "      <th>Country</th>\n",
       "      <th>Job_segment</th>\n",
       "      <th>Pay_frequency</th>\n",
       "      <th>Job_City</th>\n",
       "      <th>Job_State</th>\n",
       "      <th>Min_Salary</th>\n",
       "      <th>Max_Salary</th>\n",
       "      <th>Salary_New</th>\n",
       "    </tr>\n",
       "  </thead>\n",
       "  <tbody>\n",
       "    <tr>\n",
       "      <th>0</th>\n",
       "      <td>6</td>\n",
       "      <td>SearchBankingJobs</td>\n",
       "      <td>Houston, TX</td>\n",
       "      <td>Houston, TX</td>\n",
       "      <td>22 days ago</td>\n",
       "      <td>Quantitative Risk Analyst</td>\n",
       "      <td>[150000, 205000]</td>\n",
       "      <td>\\nLead the review and care of relevant model a...</td>\n",
       "      <td>USA</td>\n",
       "      <td>Permanent</td>\n",
       "      <td>Yearly</td>\n",
       "      <td>Houston</td>\n",
       "      <td>TX</td>\n",
       "      <td>150000.0</td>\n",
       "      <td>205000.0</td>\n",
       "      <td>177500.0</td>\n",
       "    </tr>\n",
       "    <tr>\n",
       "      <th>1</th>\n",
       "      <td>20</td>\n",
       "      <td>Baylor College of Medicine</td>\n",
       "      <td>Houston, TX</td>\n",
       "      <td>Houston, TX</td>\n",
       "      <td>30+ days ago</td>\n",
       "      <td>Lead Bioinformatics Programmer</td>\n",
       "      <td>[83000, 102000]</td>\n",
       "      <td>\\nPM, LIMS, QC, IT, Clinical feature requests....</td>\n",
       "      <td>USA</td>\n",
       "      <td>Permanent</td>\n",
       "      <td>Yearly</td>\n",
       "      <td>Houston</td>\n",
       "      <td>TX</td>\n",
       "      <td>83000.0</td>\n",
       "      <td>102000.0</td>\n",
       "      <td>92500.0</td>\n",
       "    </tr>\n",
       "    <tr>\n",
       "      <th>2</th>\n",
       "      <td>26</td>\n",
       "      <td>Baylor College of Medicine</td>\n",
       "      <td>Houston, TX</td>\n",
       "      <td>Houston, TX</td>\n",
       "      <td>29 days ago</td>\n",
       "      <td>Research Financial Analyst II</td>\n",
       "      <td>[65000]</td>\n",
       "      <td>\\nUsing data from Principal Investigators and ...</td>\n",
       "      <td>USA</td>\n",
       "      <td>Permanent</td>\n",
       "      <td>Yearly</td>\n",
       "      <td>Houston</td>\n",
       "      <td>TX</td>\n",
       "      <td>65000.0</td>\n",
       "      <td>0.0</td>\n",
       "      <td>65000.0</td>\n",
       "    </tr>\n",
       "    <tr>\n",
       "      <th>3</th>\n",
       "      <td>40</td>\n",
       "      <td>Baylor College of Medicine</td>\n",
       "      <td>Houston, TX</td>\n",
       "      <td>Houston, TX</td>\n",
       "      <td>30+ days ago</td>\n",
       "      <td>Sr. Bioinformatics Programmer</td>\n",
       "      <td>[70000, 91000]</td>\n",
       "      <td>\\n3 years’ experience in scientific programmin...</td>\n",
       "      <td>USA</td>\n",
       "      <td>Permanent</td>\n",
       "      <td>Yearly</td>\n",
       "      <td>Houston</td>\n",
       "      <td>TX</td>\n",
       "      <td>70000.0</td>\n",
       "      <td>91000.0</td>\n",
       "      <td>80500.0</td>\n",
       "    </tr>\n",
       "    <tr>\n",
       "      <th>4</th>\n",
       "      <td>74</td>\n",
       "      <td>Selby Jennings</td>\n",
       "      <td>Houston, TX</td>\n",
       "      <td>Houston, TX</td>\n",
       "      <td>30+ days ago</td>\n",
       "      <td>Senior Predictive Modeling Actuary</td>\n",
       "      <td>[70000, 130000]</td>\n",
       "      <td>\\nSenior Predictive Modeler A leading global i...</td>\n",
       "      <td>USA</td>\n",
       "      <td>Permanent</td>\n",
       "      <td>Yearly</td>\n",
       "      <td>Houston</td>\n",
       "      <td>TX</td>\n",
       "      <td>70000.0</td>\n",
       "      <td>130000.0</td>\n",
       "      <td>100000.0</td>\n",
       "    </tr>\n",
       "  </tbody>\n",
       "</table>\n",
       "</div>"
      ],
      "text/plain": [
       "   index                   Comp_name     Job_addr Job_location    Job_posted  \\\n",
       "0      6           SearchBankingJobs  Houston, TX  Houston, TX   22 days ago   \n",
       "1     20  Baylor College of Medicine  Houston, TX  Houston, TX  30+ days ago   \n",
       "2     26  Baylor College of Medicine  Houston, TX  Houston, TX   29 days ago   \n",
       "3     40  Baylor College of Medicine  Houston, TX  Houston, TX  30+ days ago   \n",
       "4     74              Selby Jennings  Houston, TX  Houston, TX  30+ days ago   \n",
       "\n",
       "                            Job_title            Salary  \\\n",
       "0           Quantitative Risk Analyst  [150000, 205000]   \n",
       "1      Lead Bioinformatics Programmer   [83000, 102000]   \n",
       "2       Research Financial Analyst II           [65000]   \n",
       "3       Sr. Bioinformatics Programmer    [70000, 91000]   \n",
       "4  Senior Predictive Modeling Actuary   [70000, 130000]   \n",
       "\n",
       "                                         description Country Job_segment  \\\n",
       "0  \\nLead the review and care of relevant model a...     USA   Permanent   \n",
       "1  \\nPM, LIMS, QC, IT, Clinical feature requests....     USA   Permanent   \n",
       "2  \\nUsing data from Principal Investigators and ...     USA   Permanent   \n",
       "3  \\n3 years’ experience in scientific programmin...     USA   Permanent   \n",
       "4  \\nSenior Predictive Modeler A leading global i...     USA   Permanent   \n",
       "\n",
       "  Pay_frequency Job_City Job_State  Min_Salary  Max_Salary  Salary_New  \n",
       "0        Yearly  Houston        TX    150000.0    205000.0    177500.0  \n",
       "1        Yearly  Houston        TX     83000.0    102000.0     92500.0  \n",
       "2        Yearly  Houston        TX     65000.0         0.0     65000.0  \n",
       "3        Yearly  Houston        TX     70000.0     91000.0     80500.0  \n",
       "4        Yearly  Houston        TX     70000.0    130000.0    100000.0  "
      ]
     },
     "execution_count": 21,
     "metadata": {},
     "output_type": "execute_result"
    }
   ],
   "source": [
    "import numpy as np\n",
    "mask = USA4[\"Max_Salary\"] == 0\n",
    "USA4['Salary_New'] = np.where(mask, USA4.Min_Salary, USA4.Min_Salary + (USA4.Max_Salary - USA4.Min_Salary) / float(2))\n",
    "USA4.head()"
   ]
  },
  {
   "cell_type": "markdown",
   "metadata": {},
   "source": [
    "1. There are still some jobs with missing salary. We need to exclude those observations as well"
   ]
  },
  {
   "cell_type": "code",
   "execution_count": 22,
   "metadata": {
    "collapsed": false,
    "scrolled": true
   },
   "outputs": [
    {
     "data": {
      "text/html": [
       "<div>\n",
       "<table border=\"1\" class=\"dataframe\">\n",
       "  <thead>\n",
       "    <tr style=\"text-align: right;\">\n",
       "      <th></th>\n",
       "      <th>index</th>\n",
       "      <th>Comp_name</th>\n",
       "      <th>Job_addr</th>\n",
       "      <th>Job_location</th>\n",
       "      <th>Job_posted</th>\n",
       "      <th>Job_title</th>\n",
       "      <th>Salary</th>\n",
       "      <th>description</th>\n",
       "      <th>Country</th>\n",
       "      <th>Job_segment</th>\n",
       "      <th>Pay_frequency</th>\n",
       "      <th>Job_City</th>\n",
       "      <th>Job_State</th>\n",
       "      <th>Min_Salary</th>\n",
       "      <th>Max_Salary</th>\n",
       "      <th>Salary_New</th>\n",
       "    </tr>\n",
       "  </thead>\n",
       "  <tbody>\n",
       "    <tr>\n",
       "      <th>0</th>\n",
       "      <td>6</td>\n",
       "      <td>SearchBankingJobs</td>\n",
       "      <td>Houston, TX</td>\n",
       "      <td>Houston, TX</td>\n",
       "      <td>22 days ago</td>\n",
       "      <td>Quantitative Risk Analyst</td>\n",
       "      <td>[150000, 205000]</td>\n",
       "      <td>\\nLead the review and care of relevant model a...</td>\n",
       "      <td>USA</td>\n",
       "      <td>Permanent</td>\n",
       "      <td>Yearly</td>\n",
       "      <td>Houston</td>\n",
       "      <td>TX</td>\n",
       "      <td>150000.0</td>\n",
       "      <td>205000.0</td>\n",
       "      <td>177500.0</td>\n",
       "    </tr>\n",
       "    <tr>\n",
       "      <th>1</th>\n",
       "      <td>20</td>\n",
       "      <td>Baylor College of Medicine</td>\n",
       "      <td>Houston, TX</td>\n",
       "      <td>Houston, TX</td>\n",
       "      <td>30+ days ago</td>\n",
       "      <td>Lead Bioinformatics Programmer</td>\n",
       "      <td>[83000, 102000]</td>\n",
       "      <td>\\nPM, LIMS, QC, IT, Clinical feature requests....</td>\n",
       "      <td>USA</td>\n",
       "      <td>Permanent</td>\n",
       "      <td>Yearly</td>\n",
       "      <td>Houston</td>\n",
       "      <td>TX</td>\n",
       "      <td>83000.0</td>\n",
       "      <td>102000.0</td>\n",
       "      <td>92500.0</td>\n",
       "    </tr>\n",
       "    <tr>\n",
       "      <th>2</th>\n",
       "      <td>26</td>\n",
       "      <td>Baylor College of Medicine</td>\n",
       "      <td>Houston, TX</td>\n",
       "      <td>Houston, TX</td>\n",
       "      <td>29 days ago</td>\n",
       "      <td>Research Financial Analyst II</td>\n",
       "      <td>[65000]</td>\n",
       "      <td>\\nUsing data from Principal Investigators and ...</td>\n",
       "      <td>USA</td>\n",
       "      <td>Permanent</td>\n",
       "      <td>Yearly</td>\n",
       "      <td>Houston</td>\n",
       "      <td>TX</td>\n",
       "      <td>65000.0</td>\n",
       "      <td>0.0</td>\n",
       "      <td>65000.0</td>\n",
       "    </tr>\n",
       "    <tr>\n",
       "      <th>3</th>\n",
       "      <td>40</td>\n",
       "      <td>Baylor College of Medicine</td>\n",
       "      <td>Houston, TX</td>\n",
       "      <td>Houston, TX</td>\n",
       "      <td>30+ days ago</td>\n",
       "      <td>Sr. Bioinformatics Programmer</td>\n",
       "      <td>[70000, 91000]</td>\n",
       "      <td>\\n3 years’ experience in scientific programmin...</td>\n",
       "      <td>USA</td>\n",
       "      <td>Permanent</td>\n",
       "      <td>Yearly</td>\n",
       "      <td>Houston</td>\n",
       "      <td>TX</td>\n",
       "      <td>70000.0</td>\n",
       "      <td>91000.0</td>\n",
       "      <td>80500.0</td>\n",
       "    </tr>\n",
       "    <tr>\n",
       "      <th>4</th>\n",
       "      <td>74</td>\n",
       "      <td>Selby Jennings</td>\n",
       "      <td>Houston, TX</td>\n",
       "      <td>Houston, TX</td>\n",
       "      <td>30+ days ago</td>\n",
       "      <td>Senior Predictive Modeling Actuary</td>\n",
       "      <td>[70000, 130000]</td>\n",
       "      <td>\\nSenior Predictive Modeler A leading global i...</td>\n",
       "      <td>USA</td>\n",
       "      <td>Permanent</td>\n",
       "      <td>Yearly</td>\n",
       "      <td>Houston</td>\n",
       "      <td>TX</td>\n",
       "      <td>70000.0</td>\n",
       "      <td>130000.0</td>\n",
       "      <td>100000.0</td>\n",
       "    </tr>\n",
       "  </tbody>\n",
       "</table>\n",
       "</div>"
      ],
      "text/plain": [
       "   index                   Comp_name     Job_addr Job_location    Job_posted  \\\n",
       "0      6           SearchBankingJobs  Houston, TX  Houston, TX   22 days ago   \n",
       "1     20  Baylor College of Medicine  Houston, TX  Houston, TX  30+ days ago   \n",
       "2     26  Baylor College of Medicine  Houston, TX  Houston, TX   29 days ago   \n",
       "3     40  Baylor College of Medicine  Houston, TX  Houston, TX  30+ days ago   \n",
       "4     74              Selby Jennings  Houston, TX  Houston, TX  30+ days ago   \n",
       "\n",
       "                            Job_title            Salary  \\\n",
       "0           Quantitative Risk Analyst  [150000, 205000]   \n",
       "1      Lead Bioinformatics Programmer   [83000, 102000]   \n",
       "2       Research Financial Analyst II           [65000]   \n",
       "3       Sr. Bioinformatics Programmer    [70000, 91000]   \n",
       "4  Senior Predictive Modeling Actuary   [70000, 130000]   \n",
       "\n",
       "                                         description Country Job_segment  \\\n",
       "0  \\nLead the review and care of relevant model a...     USA   Permanent   \n",
       "1  \\nPM, LIMS, QC, IT, Clinical feature requests....     USA   Permanent   \n",
       "2  \\nUsing data from Principal Investigators and ...     USA   Permanent   \n",
       "3  \\n3 years’ experience in scientific programmin...     USA   Permanent   \n",
       "4  \\nSenior Predictive Modeler A leading global i...     USA   Permanent   \n",
       "\n",
       "  Pay_frequency Job_City Job_State  Min_Salary  Max_Salary  Salary_New  \n",
       "0        Yearly  Houston        TX    150000.0    205000.0    177500.0  \n",
       "1        Yearly  Houston        TX     83000.0    102000.0     92500.0  \n",
       "2        Yearly  Houston        TX     65000.0         0.0     65000.0  \n",
       "3        Yearly  Houston        TX     70000.0     91000.0     80500.0  \n",
       "4        Yearly  Houston        TX     70000.0    130000.0    100000.0  "
      ]
     },
     "execution_count": 22,
     "metadata": {},
     "output_type": "execute_result"
    }
   ],
   "source": [
    "USA4.loc[USA4.Min_Salary > 0]\n",
    "USA4.head()"
   ]
  },
  {
   "cell_type": "markdown",
   "metadata": {},
   "source": [
    "1. Assuming a candiate who is being paid once a month, will have work for 11 months and hence annual salary will be 11 times the monthly salary\n",
    "2. Assuming a candiate who is being paid once a day, will have work for 220 days and hence annual salary will be 220 times the daily salary\n",
    "3. Assuming a candiate who is being paid once a week, will have work for 48 weeks and hence annual salary will be 48 times the weekly salary\n",
    "4. Assuming a candiate who is being paid for each hour, will have work 6000 hours and hence annual salary will be 6000 times the hourly salary"
   ]
  },
  {
   "cell_type": "code",
   "execution_count": 23,
   "metadata": {
    "collapsed": true
   },
   "outputs": [],
   "source": [
    "mask_yearly = USA4.Pay_frequency == 'Yearly'\n",
    "mask_monthly = USA4.Pay_frequency == 'Monthly'\n",
    "mask_weekly = USA4.Pay_frequency == 'Weekly'\n",
    "mask_daily = USA4.Pay_frequency == 'Daily'\n",
    "mask_hourly = USA4.Pay_frequency == 'Hourly'\n",
    "\n",
    "USA4['Salary_New'] = np.where(mask_monthly, (USA4.Salary_New) * 11, USA4.Salary_New)\n",
    "USA4['Salary_New'] = np.where(mask_weekly, USA4.Salary_New * 48, USA4.Salary_New)\n",
    "USA4['Salary_New'] = np.where(mask_daily, USA4.Salary_New * 220, USA4.Salary_New)\n",
    "USA4['Salary_New'] = np.where(mask_hourly, USA4.Salary_New * 6000, USA4.Salary_New)"
   ]
  },
  {
   "cell_type": "code",
   "execution_count": 24,
   "metadata": {
    "collapsed": false,
    "scrolled": true
   },
   "outputs": [
    {
     "data": {
      "text/plain": [
       "0"
      ]
     },
     "execution_count": 24,
     "metadata": {},
     "output_type": "execute_result"
    }
   ],
   "source": [
    "USA4['Salary_New'].isnull().sum()"
   ]
  },
  {
   "cell_type": "markdown",
   "metadata": {},
   "source": [
    "No more missing values in salary"
   ]
  },
  {
   "cell_type": "code",
   "execution_count": 25,
   "metadata": {
    "collapsed": false,
    "scrolled": true
   },
   "outputs": [
    {
     "data": {
      "text/plain": [
       " NY    34\n",
       " CA    27\n",
       " TX    25\n",
       " WA    20\n",
       " IL    14\n",
       "Name: Job_State, dtype: int64"
      ]
     },
     "execution_count": 25,
     "metadata": {},
     "output_type": "execute_result"
    }
   ],
   "source": [
    "USA4.Job_State.value_counts().head()"
   ]
  },
  {
   "cell_type": "code",
   "execution_count": 26,
   "metadata": {
    "collapsed": false,
    "scrolled": true
   },
   "outputs": [],
   "source": [
    "USA4['Job_State'] = USA4['Job_State'].str[:3]"
   ]
  },
  {
   "cell_type": "code",
   "execution_count": 27,
   "metadata": {
    "collapsed": false,
    "scrolled": true
   },
   "outputs": [
    {
     "data": {
      "text/plain": [
       " NY    39\n",
       " CA    32\n",
       " TX    27\n",
       " WA    21\n",
       " IL    17\n",
       " PA    12\n",
       " GA     8\n",
       " FL     7\n",
       " AZ     7\n",
       " CO     5\n",
       " NJ     2\n",
       " OR     1\n",
       "Name: Job_State, dtype: int64"
      ]
     },
     "execution_count": 27,
     "metadata": {},
     "output_type": "execute_result"
    }
   ],
   "source": [
    "USA4.Job_State.value_counts()"
   ]
  },
  {
   "cell_type": "code",
   "execution_count": 44,
   "metadata": {
    "collapsed": false,
    "scrolled": true
   },
   "outputs": [
    {
     "data": {
      "text/plain": [
       "[<matplotlib.text.Text at 0x123009250>, <matplotlib.text.Text at 0x1231376d0>]"
      ]
     },
     "execution_count": 44,
     "metadata": {},
     "output_type": "execute_result"
    },
    {
     "data": {
      "image/png": "[encoded data removed]",
      "text/plain": [
       "<matplotlib.figure.Figure at 0x12249a390>"
      ]
     },
     "metadata": {},
     "output_type": "display_data"
    }
   ],
   "source": [
    "import seaborn as sns\n",
    "import matplotlib as plt\n",
    "%matplotlib inline\n",
    "\n",
    "#grouping salary by city to find average salary of each city\n",
    "StateGroup=USA4.groupby(['Job_State'])['Salary_New'].mean()\n",
    "StateGroup.sort_values(ascending=False, inplace=True)\n",
    "\n",
    "plt.rcParams['figure.figsize']=(10,8)\n",
    "fig = sns.barplot(x=StateGroup.index, y=StateGroup.values)\n",
    "fig.set(xlabel = 'State', ylabel ='Salary($)')"
   ]
  },
  {
   "cell_type": "code",
   "execution_count": 41,
   "metadata": {
    "collapsed": false,
    "scrolled": true
   },
   "outputs": [
    {
     "data": {
      "text/plain": [
       "[<matplotlib.text.Text at 0x11ee11890>, <matplotlib.text.Text at 0x11f00f250>]"
      ]
     },
     "execution_count": 41,
     "metadata": {},
     "output_type": "execute_result"
    },
    {
     "data": {
      "image/png": "[encoded data removed]",
      "text/plain": [
       "<matplotlib.figure.Figure at 0x11f6e5650>"
      ]
     },
     "metadata": {},
     "output_type": "display_data"
    }
   ],
   "source": [
    "#grouping salary by city to find average salary of each city for Permanent Jobs\n",
    "PermJobs = USA4[USA4.Job_segment == 'Permanent']\n",
    "PermJobs.head()\n",
    "\n",
    "StatePermGroup=PermJobs.groupby(['Job_State'])['Salary_New'].mean()\n",
    "\n",
    "StatePermGroup.sort_values(ascending=False, inplace=True)\n",
    "\n",
    "plt.rcParams['figure.figsize']=(10,8)\n",
    "fig = sns.barplot(x=StatePermGroup.index, y=StatePermGroup.values)\n",
    "fig.set(xlabel = 'State', ylabel ='Salary($)')\n"
   ]
  },
  {
   "cell_type": "code",
   "execution_count": 42,
   "metadata": {
    "collapsed": false,
    "scrolled": false
   },
   "outputs": [
    {
     "data": {
      "text/plain": [
       "[<matplotlib.text.Text at 0x11fd3fa50>, <matplotlib.text.Text at 0x11ee10350>]"
      ]
     },
     "execution_count": 42,
     "metadata": {},
     "output_type": "execute_result"
    },
    {
     "data": {
      "image/png": "[encoded data removed]",
      "text/plain": [
       "<matplotlib.figure.Figure at 0x11ee65b50>"
      ]
     },
     "metadata": {},
     "output_type": "display_data"
    }
   ],
   "source": [
    "\n",
    "#grouping salary by city to find average salary of each city for Contract Jobs\n",
    "ContJobs = USA4[USA4.Job_segment == 'Contract']\n",
    "ContJobs.head()\n",
    "\n",
    "ContJobsGroup=ContJobs.groupby(['Job_State'])['Salary_New'].mean()\n",
    "ContJobsGroup.sort_values(ascending=False, inplace=True)\n",
    "\n",
    "plt.rcParams['figure.figsize']=(10,8)\n",
    "fig = sns.barplot(x=ContJobsGroup.index, y=ContJobsGroup.values)\n",
    "fig.set(xlabel = 'State', ylabel ='Salary($)')"
   ]
  },
  {
   "cell_type": "markdown",
   "metadata": {},
   "source": [
    "There is significant difference between contract job salary and permanent job salary by state"
   ]
  },
  {
   "cell_type": "code",
   "execution_count": 45,
   "metadata": {
    "collapsed": false
   },
   "outputs": [
    {
     "name": "stdout",
     "output_type": "stream",
     "text": [
      "78242.75\n"
     ]
    }
   ],
   "source": [
    "print USA4.Salary_New.median()"
   ]
  },
  {
   "cell_type": "code",
   "execution_count": 46,
   "metadata": {
    "collapsed": true
   },
   "outputs": [],
   "source": [
    "def Sal_seg(x):\n",
    "    if x > USA4.Salary_New.median():\n",
    "        return 1\n",
    "    else:\n",
    "        return 0\n",
    "USA4.Sal_seg = USA4.Salary_New.apply(Sal_seg)"
   ]
  },
  {
   "cell_type": "code",
   "execution_count": 47,
   "metadata": {
    "collapsed": false
   },
   "outputs": [
    {
     "data": {
      "text/plain": [
       "1    89\n",
       "0    89\n",
       "Name: Salary_New, dtype: int64"
      ]
     },
     "execution_count": 47,
     "metadata": {},
     "output_type": "execute_result"
    }
   ],
   "source": [
    "USA4.Sal_seg.value_counts()"
   ]
  },
  {
   "cell_type": "code",
   "execution_count": 48,
   "metadata": {
    "collapsed": false,
    "scrolled": false
   },
   "outputs": [
    {
     "data": {
      "text/plain": [
       "Workbridge Associates                               16\n",
       "University of Texas at Austin                        9\n",
       "University of Washington Medical Center              9\n",
       "University of Washington                             7\n",
       "DEPT OF HEALTH/MENTAL HYGIENE                        6\n",
       "Jobspring Partners                                   5\n",
       "Selby Jennings                                       5\n",
       "Los Angeles County Department of Human Resources     5\n",
       "ADMIN FOR CHILDREN'S SVCS                            4\n",
       "University of Miami                                  4\n",
       "Name: Comp_name, dtype: int64"
      ]
     },
     "execution_count": 48,
     "metadata": {},
     "output_type": "execute_result"
    }
   ],
   "source": [
    "# Top 10 companies recruting for data science jobs in USA\n",
    "USA4.Comp_name.value_counts().head(10)"
   ]
  },
  {
   "cell_type": "markdown",
   "metadata": {},
   "source": [
    "Since there are not many companies hiring for data science jobs regularly, it doesn't look \n",
    "like company name will add more value to the predictive model. So I am going to ignore this variable "
   ]
  },
  {
   "cell_type": "markdown",
   "metadata": {},
   "source": [
    "Create dummy states to see, if the saleries differ for various states"
   ]
  },
  {
   "cell_type": "code",
   "execution_count": 140,
   "metadata": {
    "collapsed": false,
    "scrolled": false
   },
   "outputs": [
    {
     "data": {
      "text/html": [
       "<div>\n",
       "<table border=\"1\" class=\"dataframe\">\n",
       "  <thead>\n",
       "    <tr style=\"text-align: right;\">\n",
       "      <th></th>\n",
       "      <th>index</th>\n",
       "      <th>Comp_name</th>\n",
       "      <th>Job_addr</th>\n",
       "      <th>Job_location</th>\n",
       "      <th>Job_posted</th>\n",
       "      <th>Job_title</th>\n",
       "      <th>Salary</th>\n",
       "      <th>description</th>\n",
       "      <th>Country</th>\n",
       "      <th>Job_segment</th>\n",
       "      <th>...</th>\n",
       "      <th>State_ CO</th>\n",
       "      <th>State_ FL</th>\n",
       "      <th>State_ GA</th>\n",
       "      <th>State_ IL</th>\n",
       "      <th>State_ NJ</th>\n",
       "      <th>State_ NY</th>\n",
       "      <th>State_ OR</th>\n",
       "      <th>State_ PA</th>\n",
       "      <th>State_ TX</th>\n",
       "      <th>State_ WA</th>\n",
       "    </tr>\n",
       "  </thead>\n",
       "  <tbody>\n",
       "    <tr>\n",
       "      <th>0</th>\n",
       "      <td>6</td>\n",
       "      <td>SearchBankingJobs</td>\n",
       "      <td>Houston, TX</td>\n",
       "      <td>Houston, TX</td>\n",
       "      <td>22 days ago</td>\n",
       "      <td>Quantitative Risk Analyst</td>\n",
       "      <td>[150000, 205000]</td>\n",
       "      <td>\\nLead the review and care of relevant model a...</td>\n",
       "      <td>USA</td>\n",
       "      <td>Permanent</td>\n",
       "      <td>...</td>\n",
       "      <td>0.0</td>\n",
       "      <td>0.0</td>\n",
       "      <td>0.0</td>\n",
       "      <td>0.0</td>\n",
       "      <td>0.0</td>\n",
       "      <td>0.0</td>\n",
       "      <td>0.0</td>\n",
       "      <td>0.0</td>\n",
       "      <td>1.0</td>\n",
       "      <td>0.0</td>\n",
       "    </tr>\n",
       "    <tr>\n",
       "      <th>1</th>\n",
       "      <td>20</td>\n",
       "      <td>Baylor College of Medicine</td>\n",
       "      <td>Houston, TX</td>\n",
       "      <td>Houston, TX</td>\n",
       "      <td>30+ days ago</td>\n",
       "      <td>Lead Bioinformatics Programmer</td>\n",
       "      <td>[83000, 102000]</td>\n",
       "      <td>\\nPM, LIMS, QC, IT, Clinical feature requests....</td>\n",
       "      <td>USA</td>\n",
       "      <td>Permanent</td>\n",
       "      <td>...</td>\n",
       "      <td>0.0</td>\n",
       "      <td>0.0</td>\n",
       "      <td>0.0</td>\n",
       "      <td>0.0</td>\n",
       "      <td>0.0</td>\n",
       "      <td>0.0</td>\n",
       "      <td>0.0</td>\n",
       "      <td>0.0</td>\n",
       "      <td>1.0</td>\n",
       "      <td>0.0</td>\n",
       "    </tr>\n",
       "    <tr>\n",
       "      <th>2</th>\n",
       "      <td>26</td>\n",
       "      <td>Baylor College of Medicine</td>\n",
       "      <td>Houston, TX</td>\n",
       "      <td>Houston, TX</td>\n",
       "      <td>29 days ago</td>\n",
       "      <td>Research Financial Analyst II</td>\n",
       "      <td>[65000]</td>\n",
       "      <td>\\nUsing data from Principal Investigators and ...</td>\n",
       "      <td>USA</td>\n",
       "      <td>Permanent</td>\n",
       "      <td>...</td>\n",
       "      <td>0.0</td>\n",
       "      <td>0.0</td>\n",
       "      <td>0.0</td>\n",
       "      <td>0.0</td>\n",
       "      <td>0.0</td>\n",
       "      <td>0.0</td>\n",
       "      <td>0.0</td>\n",
       "      <td>0.0</td>\n",
       "      <td>1.0</td>\n",
       "      <td>0.0</td>\n",
       "    </tr>\n",
       "    <tr>\n",
       "      <th>3</th>\n",
       "      <td>40</td>\n",
       "      <td>Baylor College of Medicine</td>\n",
       "      <td>Houston, TX</td>\n",
       "      <td>Houston, TX</td>\n",
       "      <td>30+ days ago</td>\n",
       "      <td>Sr. Bioinformatics Programmer</td>\n",
       "      <td>[70000, 91000]</td>\n",
       "      <td>\\n3 years’ experience in scientific programmin...</td>\n",
       "      <td>USA</td>\n",
       "      <td>Permanent</td>\n",
       "      <td>...</td>\n",
       "      <td>0.0</td>\n",
       "      <td>0.0</td>\n",
       "      <td>0.0</td>\n",
       "      <td>0.0</td>\n",
       "      <td>0.0</td>\n",
       "      <td>0.0</td>\n",
       "      <td>0.0</td>\n",
       "      <td>0.0</td>\n",
       "      <td>1.0</td>\n",
       "      <td>0.0</td>\n",
       "    </tr>\n",
       "    <tr>\n",
       "      <th>4</th>\n",
       "      <td>74</td>\n",
       "      <td>Selby Jennings</td>\n",
       "      <td>Houston, TX</td>\n",
       "      <td>Houston, TX</td>\n",
       "      <td>30+ days ago</td>\n",
       "      <td>Senior Predictive Modeling Actuary</td>\n",
       "      <td>[70000, 130000]</td>\n",
       "      <td>\\nSenior Predictive Modeler A leading global i...</td>\n",
       "      <td>USA</td>\n",
       "      <td>Permanent</td>\n",
       "      <td>...</td>\n",
       "      <td>0.0</td>\n",
       "      <td>0.0</td>\n",
       "      <td>0.0</td>\n",
       "      <td>0.0</td>\n",
       "      <td>0.0</td>\n",
       "      <td>0.0</td>\n",
       "      <td>0.0</td>\n",
       "      <td>0.0</td>\n",
       "      <td>1.0</td>\n",
       "      <td>0.0</td>\n",
       "    </tr>\n",
       "  </tbody>\n",
       "</table>\n",
       "<p>5 rows × 27 columns</p>\n",
       "</div>"
      ],
      "text/plain": [
       "   index                   Comp_name     Job_addr Job_location    Job_posted  \\\n",
       "0      6           SearchBankingJobs  Houston, TX  Houston, TX   22 days ago   \n",
       "1     20  Baylor College of Medicine  Houston, TX  Houston, TX  30+ days ago   \n",
       "2     26  Baylor College of Medicine  Houston, TX  Houston, TX   29 days ago   \n",
       "3     40  Baylor College of Medicine  Houston, TX  Houston, TX  30+ days ago   \n",
       "4     74              Selby Jennings  Houston, TX  Houston, TX  30+ days ago   \n",
       "\n",
       "                            Job_title            Salary  \\\n",
       "0           Quantitative Risk Analyst  [150000, 205000]   \n",
       "1      Lead Bioinformatics Programmer   [83000, 102000]   \n",
       "2       Research Financial Analyst II           [65000]   \n",
       "3       Sr. Bioinformatics Programmer    [70000, 91000]   \n",
       "4  Senior Predictive Modeling Actuary   [70000, 130000]   \n",
       "\n",
       "                                         description Country Job_segment  \\\n",
       "0  \\nLead the review and care of relevant model a...     USA   Permanent   \n",
       "1  \\nPM, LIMS, QC, IT, Clinical feature requests....     USA   Permanent   \n",
       "2  \\nUsing data from Principal Investigators and ...     USA   Permanent   \n",
       "3  \\n3 years’ experience in scientific programmin...     USA   Permanent   \n",
       "4  \\nSenior Predictive Modeler A leading global i...     USA   Permanent   \n",
       "\n",
       "     ...     State_ CO State_ FL State_ GA  State_ IL  State_ NJ  State_ NY  \\\n",
       "0    ...           0.0       0.0       0.0        0.0        0.0        0.0   \n",
       "1    ...           0.0       0.0       0.0        0.0        0.0        0.0   \n",
       "2    ...           0.0       0.0       0.0        0.0        0.0        0.0   \n",
       "3    ...           0.0       0.0       0.0        0.0        0.0        0.0   \n",
       "4    ...           0.0       0.0       0.0        0.0        0.0        0.0   \n",
       "\n",
       "   State_ OR  State_ PA  State_ TX  State_ WA  \n",
       "0        0.0        0.0        1.0        0.0  \n",
       "1        0.0        0.0        1.0        0.0  \n",
       "2        0.0        0.0        1.0        0.0  \n",
       "3        0.0        0.0        1.0        0.0  \n",
       "4        0.0        0.0        1.0        0.0  \n",
       "\n",
       "[5 rows x 27 columns]"
      ]
     },
     "execution_count": 140,
     "metadata": {},
     "output_type": "execute_result"
    }
   ],
   "source": [
    "State_dummies = pd.get_dummies(USA4['Job_State'], prefix='State', drop_first=True)\n",
    "USA5=pd.concat([USA4,State_dummies], axis=1)\n",
    "USA5.head()"
   ]
  },
  {
   "cell_type": "code",
   "execution_count": 50,
   "metadata": {
    "collapsed": true
   },
   "outputs": [],
   "source": [
    "#Create a variable called Job segment to see if the salaries differ for contract jobs vs permanent jobs"
   ]
  },
  {
   "cell_type": "code",
   "execution_count": 51,
   "metadata": {
    "collapsed": false
   },
   "outputs": [
    {
     "data": {
      "text/html": [
       "<div>\n",
       "<table border=\"1\" class=\"dataframe\">\n",
       "  <thead>\n",
       "    <tr style=\"text-align: right;\">\n",
       "      <th></th>\n",
       "      <th>index</th>\n",
       "      <th>Comp_name</th>\n",
       "      <th>Job_addr</th>\n",
       "      <th>Job_location</th>\n",
       "      <th>Job_posted</th>\n",
       "      <th>Job_title</th>\n",
       "      <th>Salary</th>\n",
       "      <th>description</th>\n",
       "      <th>Country</th>\n",
       "      <th>Job_segment</th>\n",
       "      <th>...</th>\n",
       "      <th>State_ CO</th>\n",
       "      <th>State_ FL</th>\n",
       "      <th>State_ GA</th>\n",
       "      <th>State_ IL</th>\n",
       "      <th>State_ NJ</th>\n",
       "      <th>State_ NY</th>\n",
       "      <th>State_ OR</th>\n",
       "      <th>State_ PA</th>\n",
       "      <th>State_ TX</th>\n",
       "      <th>State_ WA</th>\n",
       "    </tr>\n",
       "  </thead>\n",
       "  <tbody>\n",
       "    <tr>\n",
       "      <th>0</th>\n",
       "      <td>6</td>\n",
       "      <td>SearchBankingJobs</td>\n",
       "      <td>Houston, TX</td>\n",
       "      <td>Houston, TX</td>\n",
       "      <td>22 days ago</td>\n",
       "      <td>Quantitative Risk Analyst</td>\n",
       "      <td>[150000, 205000]</td>\n",
       "      <td>\\nLead the review and care of relevant model a...</td>\n",
       "      <td>USA</td>\n",
       "      <td>1</td>\n",
       "      <td>...</td>\n",
       "      <td>0.0</td>\n",
       "      <td>0.0</td>\n",
       "      <td>0.0</td>\n",
       "      <td>0.0</td>\n",
       "      <td>0.0</td>\n",
       "      <td>0.0</td>\n",
       "      <td>0.0</td>\n",
       "      <td>0.0</td>\n",
       "      <td>1.0</td>\n",
       "      <td>0.0</td>\n",
       "    </tr>\n",
       "    <tr>\n",
       "      <th>1</th>\n",
       "      <td>20</td>\n",
       "      <td>Baylor College of Medicine</td>\n",
       "      <td>Houston, TX</td>\n",
       "      <td>Houston, TX</td>\n",
       "      <td>30+ days ago</td>\n",
       "      <td>Lead Bioinformatics Programmer</td>\n",
       "      <td>[83000, 102000]</td>\n",
       "      <td>\\nPM, LIMS, QC, IT, Clinical feature requests....</td>\n",
       "      <td>USA</td>\n",
       "      <td>1</td>\n",
       "      <td>...</td>\n",
       "      <td>0.0</td>\n",
       "      <td>0.0</td>\n",
       "      <td>0.0</td>\n",
       "      <td>0.0</td>\n",
       "      <td>0.0</td>\n",
       "      <td>0.0</td>\n",
       "      <td>0.0</td>\n",
       "      <td>0.0</td>\n",
       "      <td>1.0</td>\n",
       "      <td>0.0</td>\n",
       "    </tr>\n",
       "    <tr>\n",
       "      <th>2</th>\n",
       "      <td>26</td>\n",
       "      <td>Baylor College of Medicine</td>\n",
       "      <td>Houston, TX</td>\n",
       "      <td>Houston, TX</td>\n",
       "      <td>29 days ago</td>\n",
       "      <td>Research Financial Analyst II</td>\n",
       "      <td>[65000]</td>\n",
       "      <td>\\nUsing data from Principal Investigators and ...</td>\n",
       "      <td>USA</td>\n",
       "      <td>1</td>\n",
       "      <td>...</td>\n",
       "      <td>0.0</td>\n",
       "      <td>0.0</td>\n",
       "      <td>0.0</td>\n",
       "      <td>0.0</td>\n",
       "      <td>0.0</td>\n",
       "      <td>0.0</td>\n",
       "      <td>0.0</td>\n",
       "      <td>0.0</td>\n",
       "      <td>1.0</td>\n",
       "      <td>0.0</td>\n",
       "    </tr>\n",
       "    <tr>\n",
       "      <th>3</th>\n",
       "      <td>40</td>\n",
       "      <td>Baylor College of Medicine</td>\n",
       "      <td>Houston, TX</td>\n",
       "      <td>Houston, TX</td>\n",
       "      <td>30+ days ago</td>\n",
       "      <td>Sr. Bioinformatics Programmer</td>\n",
       "      <td>[70000, 91000]</td>\n",
       "      <td>\\n3 years’ experience in scientific programmin...</td>\n",
       "      <td>USA</td>\n",
       "      <td>1</td>\n",
       "      <td>...</td>\n",
       "      <td>0.0</td>\n",
       "      <td>0.0</td>\n",
       "      <td>0.0</td>\n",
       "      <td>0.0</td>\n",
       "      <td>0.0</td>\n",
       "      <td>0.0</td>\n",
       "      <td>0.0</td>\n",
       "      <td>0.0</td>\n",
       "      <td>1.0</td>\n",
       "      <td>0.0</td>\n",
       "    </tr>\n",
       "    <tr>\n",
       "      <th>4</th>\n",
       "      <td>74</td>\n",
       "      <td>Selby Jennings</td>\n",
       "      <td>Houston, TX</td>\n",
       "      <td>Houston, TX</td>\n",
       "      <td>30+ days ago</td>\n",
       "      <td>Senior Predictive Modeling Actuary</td>\n",
       "      <td>[70000, 130000]</td>\n",
       "      <td>\\nSenior Predictive Modeler A leading global i...</td>\n",
       "      <td>USA</td>\n",
       "      <td>1</td>\n",
       "      <td>...</td>\n",
       "      <td>0.0</td>\n",
       "      <td>0.0</td>\n",
       "      <td>0.0</td>\n",
       "      <td>0.0</td>\n",
       "      <td>0.0</td>\n",
       "      <td>0.0</td>\n",
       "      <td>0.0</td>\n",
       "      <td>0.0</td>\n",
       "      <td>1.0</td>\n",
       "      <td>0.0</td>\n",
       "    </tr>\n",
       "  </tbody>\n",
       "</table>\n",
       "<p>5 rows × 27 columns</p>\n",
       "</div>"
      ],
      "text/plain": [
       "   index                   Comp_name     Job_addr Job_location    Job_posted  \\\n",
       "0      6           SearchBankingJobs  Houston, TX  Houston, TX   22 days ago   \n",
       "1     20  Baylor College of Medicine  Houston, TX  Houston, TX  30+ days ago   \n",
       "2     26  Baylor College of Medicine  Houston, TX  Houston, TX   29 days ago   \n",
       "3     40  Baylor College of Medicine  Houston, TX  Houston, TX  30+ days ago   \n",
       "4     74              Selby Jennings  Houston, TX  Houston, TX  30+ days ago   \n",
       "\n",
       "                            Job_title            Salary  \\\n",
       "0           Quantitative Risk Analyst  [150000, 205000]   \n",
       "1      Lead Bioinformatics Programmer   [83000, 102000]   \n",
       "2       Research Financial Analyst II           [65000]   \n",
       "3       Sr. Bioinformatics Programmer    [70000, 91000]   \n",
       "4  Senior Predictive Modeling Actuary   [70000, 130000]   \n",
       "\n",
       "                                         description Country  Job_segment  \\\n",
       "0  \\nLead the review and care of relevant model a...     USA            1   \n",
       "1  \\nPM, LIMS, QC, IT, Clinical feature requests....     USA            1   \n",
       "2  \\nUsing data from Principal Investigators and ...     USA            1   \n",
       "3  \\n3 years’ experience in scientific programmin...     USA            1   \n",
       "4  \\nSenior Predictive Modeler A leading global i...     USA            1   \n",
       "\n",
       "     ...     State_ CO State_ FL State_ GA  State_ IL  State_ NJ  State_ NY  \\\n",
       "0    ...           0.0       0.0       0.0        0.0        0.0        0.0   \n",
       "1    ...           0.0       0.0       0.0        0.0        0.0        0.0   \n",
       "2    ...           0.0       0.0       0.0        0.0        0.0        0.0   \n",
       "3    ...           0.0       0.0       0.0        0.0        0.0        0.0   \n",
       "4    ...           0.0       0.0       0.0        0.0        0.0        0.0   \n",
       "\n",
       "   State_ OR  State_ PA  State_ TX  State_ WA  \n",
       "0        0.0        0.0        1.0        0.0  \n",
       "1        0.0        0.0        1.0        0.0  \n",
       "2        0.0        0.0        1.0        0.0  \n",
       "3        0.0        0.0        1.0        0.0  \n",
       "4        0.0        0.0        1.0        0.0  \n",
       "\n",
       "[5 rows x 27 columns]"
      ]
     },
     "execution_count": 51,
     "metadata": {},
     "output_type": "execute_result"
    }
   ],
   "source": [
    "USA5.Job_segment.replace({\"Permanent\" : 1, \"Contract\":0}, inplace=True)\n",
    "USA5.head()"
   ]
  },
  {
   "cell_type": "markdown",
   "metadata": {},
   "source": [
    "Extrcat features based on job title "
   ]
  },
  {
   "cell_type": "code",
   "execution_count": 52,
   "metadata": {
    "collapsed": false,
    "scrolled": true
   },
   "outputs": [
    {
     "data": {
      "text/plain": [
       "Data Scientist                   6\n",
       "Research Analyst                 3\n",
       "END DEVICE SUPPORT SPECIALIST    2\n",
       "Quantitative Analyst             2\n",
       "Tester Tech                      2\n",
       "Name: Job_title, dtype: int64"
      ]
     },
     "execution_count": 52,
     "metadata": {},
     "output_type": "execute_result"
    }
   ],
   "source": [
    "# Extract features from Job Title\n",
    "USA5.Job_title.value_counts().head()"
   ]
  },
  {
   "cell_type": "code",
   "execution_count": 112,
   "metadata": {
    "collapsed": false
   },
   "outputs": [
    {
     "name": "stdout",
     "output_type": "stream",
     "text": [
      "Index([u'analyst', u'associate', u'big', u'big data', u'clinical',\n",
      "       u'coordinator', u'data', u'data scientist', u'developer', u'director',\n",
      "       u'engineer', u'engineering', u'engineering scientist', u'health', u'ii',\n",
      "       u'laboratory', u'laboratory scientist', u'lead', u'learning',\n",
      "       u'machine', u'machine learning', u'quantitative', u'research',\n",
      "       u'research analyst', u'scientist', u'senior', u'software',\n",
      "       u'software engineer', u'specialist', u'statistical'],\n",
      "      dtype='object')\n"
     ]
    }
   ],
   "source": [
    "# Feature extraction from Job Title\n",
    "from sklearn.feature_extraction.text import CountVectorizer\n",
    "v = CountVectorizer(\n",
    "    ngram_range=[1,2],\n",
    "    binary=True,  # Create binary features\n",
    "    stop_words='english', # Ignore common words such as 'the', 'and'\n",
    "    max_features=30, # Only use the top 50 most common words\n",
    ")\n",
    "\n",
    "# This builds a matrix with a row per website (or data point) and column per word (using all words in the dataset)\n",
    "feat = v.fit_transform(USA5.Job_title).todense()\n",
    "feat = pd.DataFrame(feat, columns=v.get_feature_names())\n",
    "feat.head()\n",
    "print feat.columns"
   ]
  },
  {
   "cell_type": "code",
   "execution_count": 84,
   "metadata": {
    "collapsed": false
   },
   "outputs": [],
   "source": [
    "USA6 = pd.concat([USA5, X], axis =1)"
   ]
  },
  {
   "cell_type": "code",
   "execution_count": 107,
   "metadata": {
    "collapsed": false
   },
   "outputs": [
    {
     "data": {
      "text/html": [
       "<div>\n",
       "<table border=\"1\" class=\"dataframe\">\n",
       "  <thead>\n",
       "    <tr style=\"text-align: right;\">\n",
       "      <th></th>\n",
       "      <th>index</th>\n",
       "      <th>Comp_name</th>\n",
       "      <th>Job_addr</th>\n",
       "      <th>Job_location</th>\n",
       "      <th>Job_posted</th>\n",
       "      <th>Job_title</th>\n",
       "      <th>Salary</th>\n",
       "      <th>description</th>\n",
       "      <th>Country</th>\n",
       "      <th>Job_segment</th>\n",
       "      <th>...</th>\n",
       "      <th>senior</th>\n",
       "      <th>software engineer</th>\n",
       "      <th>specialist</th>\n",
       "      <th>statistical</th>\n",
       "      <th>Engineer</th>\n",
       "      <th>Medical</th>\n",
       "      <th>Junior</th>\n",
       "      <th>Senior</th>\n",
       "      <th>Data_science</th>\n",
       "      <th>target</th>\n",
       "    </tr>\n",
       "  </thead>\n",
       "  <tbody>\n",
       "    <tr>\n",
       "      <th>0</th>\n",
       "      <td>6</td>\n",
       "      <td>SearchBankingJobs</td>\n",
       "      <td>Houston, TX</td>\n",
       "      <td>Houston, TX</td>\n",
       "      <td>22 days ago</td>\n",
       "      <td>Quantitative Risk Analyst</td>\n",
       "      <td>[150000, 205000]</td>\n",
       "      <td>\\nLead the review and care of relevant model a...</td>\n",
       "      <td>USA</td>\n",
       "      <td>1</td>\n",
       "      <td>...</td>\n",
       "      <td>0</td>\n",
       "      <td>0</td>\n",
       "      <td>0</td>\n",
       "      <td>0</td>\n",
       "      <td>0</td>\n",
       "      <td>0</td>\n",
       "      <td>1</td>\n",
       "      <td>0</td>\n",
       "      <td>1</td>\n",
       "      <td>True</td>\n",
       "    </tr>\n",
       "    <tr>\n",
       "      <th>1</th>\n",
       "      <td>20</td>\n",
       "      <td>Baylor College of Medicine</td>\n",
       "      <td>Houston, TX</td>\n",
       "      <td>Houston, TX</td>\n",
       "      <td>30+ days ago</td>\n",
       "      <td>Lead Bioinformatics Programmer</td>\n",
       "      <td>[83000, 102000]</td>\n",
       "      <td>\\nPM, LIMS, QC, IT, Clinical feature requests....</td>\n",
       "      <td>USA</td>\n",
       "      <td>1</td>\n",
       "      <td>...</td>\n",
       "      <td>0</td>\n",
       "      <td>0</td>\n",
       "      <td>0</td>\n",
       "      <td>0</td>\n",
       "      <td>0</td>\n",
       "      <td>0</td>\n",
       "      <td>0</td>\n",
       "      <td>1</td>\n",
       "      <td>0</td>\n",
       "      <td>True</td>\n",
       "    </tr>\n",
       "  </tbody>\n",
       "</table>\n",
       "<p>2 rows × 57 columns</p>\n",
       "</div>"
      ],
      "text/plain": [
       "   index                   Comp_name     Job_addr Job_location    Job_posted  \\\n",
       "0      6           SearchBankingJobs  Houston, TX  Houston, TX   22 days ago   \n",
       "1     20  Baylor College of Medicine  Houston, TX  Houston, TX  30+ days ago   \n",
       "\n",
       "                        Job_title            Salary  \\\n",
       "0       Quantitative Risk Analyst  [150000, 205000]   \n",
       "1  Lead Bioinformatics Programmer   [83000, 102000]   \n",
       "\n",
       "                                         description Country  Job_segment  \\\n",
       "0  \\nLead the review and care of relevant model a...     USA            1   \n",
       "1  \\nPM, LIMS, QC, IT, Clinical feature requests....     USA            1   \n",
       "\n",
       "    ...   senior software engineer specialist  statistical  Engineer  Medical  \\\n",
       "0   ...        0                 0          0            0         0        0   \n",
       "1   ...        0                 0          0            0         0        0   \n",
       "\n",
       "   Junior  Senior  Data_science  target  \n",
       "0       1       0             1    True  \n",
       "1       0       1             0    True  \n",
       "\n",
       "[2 rows x 57 columns]"
      ]
     },
     "execution_count": 107,
     "metadata": {},
     "output_type": "execute_result"
    }
   ],
   "source": [
    "USA6.head(2)"
   ]
  },
  {
   "cell_type": "code",
   "execution_count": 109,
   "metadata": {
    "collapsed": false,
    "scrolled": false
   },
   "outputs": [
    {
     "data": {
      "text/plain": [
       "1    129\n",
       "0     49\n",
       "Name: Job_segment, dtype: int64"
      ]
     },
     "execution_count": 109,
     "metadata": {},
     "output_type": "execute_result"
    }
   ],
   "source": [
    "USA6[\"Job_segment\"] = USA6.Job_segment.replace({\"Permanent\" : 1, \"Contract\" : 0})\n",
    "USA6[\"Job_segment\"].value_counts()"
   ]
  },
  {
   "cell_type": "code",
   "execution_count": 97,
   "metadata": {
    "collapsed": false,
    "scrolled": true
   },
   "outputs": [],
   "source": [
    "USA6[\"target\"] = USA6.Salary_New >= USA6.Salary_New.median()"
   ]
  },
  {
   "cell_type": "code",
   "execution_count": 98,
   "metadata": {
    "collapsed": false
   },
   "outputs": [
    {
     "data": {
      "text/plain": [
       "Index([                u'index',             u'Comp_name',\n",
       "                    u'Job_addr',          u'Job_location',\n",
       "                  u'Job_posted',             u'Job_title',\n",
       "                      u'Salary',           u'description',\n",
       "                     u'Country',           u'Job_segment',\n",
       "               u'Pay_frequency',              u'Job_City',\n",
       "                   u'Job_State',            u'Min_Salary',\n",
       "                  u'Max_Salary',            u'Salary_New',\n",
       "                   u'State_ CA',             u'State_ CO',\n",
       "                   u'State_ FL',             u'State_ GA',\n",
       "                   u'State_ IL',             u'State_ NJ',\n",
       "                   u'State_ NY',             u'State_ OR',\n",
       "                   u'State_ PA',             u'State_ TX',\n",
       "                   u'State_ WA',               u'analyst',\n",
       "                   u'associate',              u'big data',\n",
       "                    u'clinical',           u'coordinator',\n",
       "              u'data scientist',             u'developer',\n",
       "                    u'director',              u'engineer',\n",
       "                 u'engineering', u'engineering scientist',\n",
       "                      u'health',            u'laboratory',\n",
       "        u'laboratory scientist',                  u'lead',\n",
       "            u'machine learning',          u'quantitative',\n",
       "                    u'research',      u'research analyst',\n",
       "                   u'scientist',                u'senior',\n",
       "           u'software engineer',            u'specialist',\n",
       "                 u'statistical',              u'Engineer',\n",
       "                     u'Medical',                u'Junior',\n",
       "                      u'Senior',          u'Data_science',\n",
       "                      u'target'],\n",
       "      dtype='object')"
      ]
     },
     "execution_count": 98,
     "metadata": {},
     "output_type": "execute_result"
    }
   ],
   "source": [
    "USA6.target.value_counts()\n",
    "USA6.columns"
   ]
  },
  {
   "cell_type": "code",
   "execution_count": 99,
   "metadata": {
    "collapsed": false
   },
   "outputs": [],
   "source": [
    "X=USA6[['Job_segment','State_ NY','State_ PA', 'State_ IL','State_ CA','associate', 'big data',\n",
    "       'data scientist', 'developer','director', 'machine learning', 'research', 'senior', 'statistical']]\n",
    "y = USA6.target"
   ]
  },
  {
   "cell_type": "code",
   "execution_count": 118,
   "metadata": {
    "collapsed": true
   },
   "outputs": [],
   "source": [
    "import statsmodels.formula.api as smf"
   ]
  },
  {
   "cell_type": "code",
   "execution_count": 119,
   "metadata": {
    "collapsed": false,
    "scrolled": false
   },
   "outputs": [
    {
     "data": {
      "text/plain": [
       "<matplotlib.axes._subplots.AxesSubplot at 0x124510710>"
      ]
     },
     "execution_count": 119,
     "metadata": {},
     "output_type": "execute_result"
    },
    {
     "data": {
      "image/png": "[encoded data removed]",
      "text/plain": [
       "<matplotlib.figure.Figure at 0x124510d10>"
      ]
     },
     "metadata": {},
     "output_type": "display_data"
    }
   ],
   "source": [
    "sns.heatmap(X.corr())"
   ]
  },
  {
   "cell_type": "code",
   "execution_count": 120,
   "metadata": {
    "collapsed": false
   },
   "outputs": [],
   "source": [
    "from sklearn.model_selection import train_test_split\n",
    "X_train, X_test, y_train, y_test = train_test_split(X,y, test_size=0.2, random_state=10)"
   ]
  },
  {
   "cell_type": "code",
   "execution_count": 121,
   "metadata": {
    "collapsed": false,
    "scrolled": false
   },
   "outputs": [
    {
     "name": "stdout",
     "output_type": "stream",
     "text": [
      "Warning: Maximum number of iterations has been exceeded.\n",
      "         Current function value: 0.520801\n",
      "         Iterations: 35\n"
     ]
    },
    {
     "name": "stderr",
     "output_type": "stream",
     "text": [
      "/Users/ipm/anaconda/lib/python2.7/site-packages/statsmodels/base/model.py:466: ConvergenceWarning: Maximum Likelihood optimization failed to converge. Check mle_retvals\n",
      "  \"Check mle_retvals\", ConvergenceWarning)\n"
     ]
    },
    {
     "data": {
      "text/html": [
       "<table class=\"simpletable\">\n",
       "<caption>Logit Regression Results</caption>\n",
       "<tr>\n",
       "  <th>Dep. Variable:</th>    <td>Salary_New</td>    <th>  No. Observations:  </th>  <td>   178</td>  \n",
       "</tr>\n",
       "<tr>\n",
       "  <th>Model:</th>               <td>Logit</td>      <th>  Df Residuals:      </th>  <td>   164</td>  \n",
       "</tr>\n",
       "<tr>\n",
       "  <th>Method:</th>               <td>MLE</td>       <th>  Df Model:          </th>  <td>    13</td>  \n",
       "</tr>\n",
       "<tr>\n",
       "  <th>Date:</th>          <td>Mon, 07 Nov 2016</td> <th>  Pseudo R-squ.:     </th>  <td>0.2486</td>  \n",
       "</tr>\n",
       "<tr>\n",
       "  <th>Time:</th>              <td>22:46:46</td>     <th>  Log-Likelihood:    </th> <td> -92.703</td> \n",
       "</tr>\n",
       "<tr>\n",
       "  <th>converged:</th>           <td>False</td>      <th>  LL-Null:           </th> <td> -123.38</td> \n",
       "</tr>\n",
       "<tr>\n",
       "  <th> </th>                      <td> </td>        <th>  LLR p-value:       </th> <td>3.003e-08</td>\n",
       "</tr>\n",
       "</table>\n",
       "<table class=\"simpletable\">\n",
       "<tr>\n",
       "          <td></td>            <th>coef</th>     <th>std err</th>      <th>z</th>      <th>P>|z|</th> <th>[95.0% Conf. Int.]</th> \n",
       "</tr>\n",
       "<tr>\n",
       "  <th>Job_segment</th>      <td>    0.8696</td> <td>    0.344</td> <td>    2.526</td> <td> 0.012</td> <td>    0.195     1.544</td>\n",
       "</tr>\n",
       "<tr>\n",
       "  <th>State_ NY</th>        <td>   -0.6402</td> <td>    0.474</td> <td>   -1.350</td> <td> 0.177</td> <td>   -1.570     0.290</td>\n",
       "</tr>\n",
       "<tr>\n",
       "  <th>State_ PA</th>        <td>    0.4726</td> <td>    0.804</td> <td>    0.588</td> <td> 0.557</td> <td>   -1.103     2.048</td>\n",
       "</tr>\n",
       "<tr>\n",
       "  <th>State_ IL</th>        <td>    0.7622</td> <td>    0.769</td> <td>    0.992</td> <td> 0.321</td> <td>   -0.744     2.269</td>\n",
       "</tr>\n",
       "<tr>\n",
       "  <th>State_ CA</th>        <td>   -0.4896</td> <td>    0.517</td> <td>   -0.947</td> <td> 0.344</td> <td>   -1.503     0.524</td>\n",
       "</tr>\n",
       "<tr>\n",
       "  <th>associate</th>        <td>  -30.5619</td> <td> 1.77e+06</td> <td>-1.73e-05</td> <td> 1.000</td> <td>-3.47e+06  3.47e+06</td>\n",
       "</tr>\n",
       "<tr>\n",
       "  <th>big data</th>         <td>   21.3971</td> <td> 3.86e+04</td> <td>    0.001</td> <td> 1.000</td> <td>-7.55e+04  7.56e+04</td>\n",
       "</tr>\n",
       "<tr>\n",
       "  <th>data scientist</th>   <td>    1.0577</td> <td>    0.696</td> <td>    1.520</td> <td> 0.128</td> <td>   -0.306     2.421</td>\n",
       "</tr>\n",
       "<tr>\n",
       "  <th>developer</th>        <td>   20.5372</td> <td> 1.67e+04</td> <td>    0.001</td> <td> 0.999</td> <td>-3.27e+04  3.28e+04</td>\n",
       "</tr>\n",
       "<tr>\n",
       "  <th>director</th>         <td>   -0.0784</td> <td>    0.947</td> <td>   -0.083</td> <td> 0.934</td> <td>   -1.934     1.777</td>\n",
       "</tr>\n",
       "<tr>\n",
       "  <th>machine learning</th> <td>   21.3717</td> <td> 2.51e+04</td> <td>    0.001</td> <td> 0.999</td> <td>-4.92e+04  4.92e+04</td>\n",
       "</tr>\n",
       "<tr>\n",
       "  <th>research</th>         <td>   -1.3517</td> <td>    0.429</td> <td>   -3.148</td> <td> 0.002</td> <td>   -2.193    -0.510</td>\n",
       "</tr>\n",
       "<tr>\n",
       "  <th>senior</th>           <td>    0.5721</td> <td>    0.581</td> <td>    0.984</td> <td> 0.325</td> <td>   -0.568     1.712</td>\n",
       "</tr>\n",
       "<tr>\n",
       "  <th>statistical</th>      <td>   -0.6836</td> <td>    0.892</td> <td>   -0.766</td> <td> 0.443</td> <td>   -2.432     1.064</td>\n",
       "</tr>\n",
       "</table>"
      ],
      "text/plain": [
       "<class 'statsmodels.iolib.summary.Summary'>\n",
       "\"\"\"\n",
       "                           Logit Regression Results                           \n",
       "==============================================================================\n",
       "Dep. Variable:             Salary_New   No. Observations:                  178\n",
       "Model:                          Logit   Df Residuals:                      164\n",
       "Method:                           MLE   Df Model:                           13\n",
       "Date:                Mon, 07 Nov 2016   Pseudo R-squ.:                  0.2486\n",
       "Time:                        22:46:46   Log-Likelihood:                -92.703\n",
       "converged:                      False   LL-Null:                       -123.38\n",
       "                                        LLR p-value:                 3.003e-08\n",
       "====================================================================================\n",
       "                       coef    std err          z      P>|z|      [95.0% Conf. Int.]\n",
       "------------------------------------------------------------------------------------\n",
       "Job_segment          0.8696      0.344      2.526      0.012         0.195     1.544\n",
       "State_ NY           -0.6402      0.474     -1.350      0.177        -1.570     0.290\n",
       "State_ PA            0.4726      0.804      0.588      0.557        -1.103     2.048\n",
       "State_ IL            0.7622      0.769      0.992      0.321        -0.744     2.269\n",
       "State_ CA           -0.4896      0.517     -0.947      0.344        -1.503     0.524\n",
       "associate          -30.5619   1.77e+06  -1.73e-05      1.000     -3.47e+06  3.47e+06\n",
       "big data            21.3971   3.86e+04      0.001      1.000     -7.55e+04  7.56e+04\n",
       "data scientist       1.0577      0.696      1.520      0.128        -0.306     2.421\n",
       "developer           20.5372   1.67e+04      0.001      0.999     -3.27e+04  3.28e+04\n",
       "director            -0.0784      0.947     -0.083      0.934        -1.934     1.777\n",
       "machine learning    21.3717   2.51e+04      0.001      0.999     -4.92e+04  4.92e+04\n",
       "research            -1.3517      0.429     -3.148      0.002        -2.193    -0.510\n",
       "senior               0.5721      0.581      0.984      0.325        -0.568     1.712\n",
       "statistical         -0.6836      0.892     -0.766      0.443        -2.432     1.064\n",
       "====================================================================================\n",
       "\"\"\""
      ]
     },
     "execution_count": 121,
     "metadata": {},
     "output_type": "execute_result"
    }
   ],
   "source": [
    "smf.Logit(y, X).fit().summary()"
   ]
  },
  {
   "cell_type": "markdown",
   "metadata": {},
   "source": [
    "Job segment which indicates if the job was a contract job or permanent job, seems to be significant.\n",
    "None of the other variables are significant"
   ]
  },
  {
   "cell_type": "code",
   "execution_count": 104,
   "metadata": {
    "collapsed": false
   },
   "outputs": [
    {
     "name": "stdout",
     "output_type": "stream",
     "text": [
      "Accuracy: 0.665134099617\n"
     ]
    }
   ],
   "source": [
    "from sklearn.linear_model import LogisticRegression\n",
    "from sklearn.model_selection import train_test_split, cross_val_predict, cross_val_score\n",
    "lm = LogisticRegression(penalty='l2', C=0.0001)\n",
    "scores = cross_val_score(lm, X, y)\n",
    "print \"Accuracy:\" , scores.mean()"
   ]
  },
  {
   "cell_type": "code",
   "execution_count": 105,
   "metadata": {
    "collapsed": false
   },
   "outputs": [
    {
     "name": "stdout",
     "output_type": "stream",
     "text": [
      "Accuracy: 0.605555555556\n"
     ]
    }
   ],
   "source": [
    "lm1 = LogisticRegression(penalty='l1', C=.1)\n",
    "scores1 = cross_val_score(lm1, X, y)\n",
    "print \"Accuracy:\" , scores1.mean()"
   ]
  },
  {
   "cell_type": "markdown",
   "metadata": {
    "collapsed": true
   },
   "source": [
    "The accuracy of Lasso is 66% and is better than Ridge. However, the number of observations are very low in the analaysis\n",
    "So the conclusion of the model that salary is only driven by Job segment might not be correct. \n",
    "\n",
    "We need more data to validate the conclusions of the model"
   ]
  },
  {
   "cell_type": "code",
   "execution_count": 113,
   "metadata": {
    "collapsed": false
   },
   "outputs": [],
   "source": [
    "# Drop certain variables as they are quite similar to some others, so manually selecting the variables \n",
    "feat.drop([\"ii\", \"data\", \"learning\",\"machine\", \"software\",\"big\"], axis =1, inplace=True)"
   ]
  },
  {
   "cell_type": "code",
   "execution_count": 114,
   "metadata": {
    "collapsed": true
   },
   "outputs": [],
   "source": [
    "feat1 = pd.DataFrame()\n",
    "feat1[\"Engineer\"] = feat[[\"engineering\",\"engineering scientist\",\"engineer\"]].max(axis=1)\n",
    "feat1[\"Medical\"] = feat[[\"laboratory scientist\",\"health\",\"laboratory\",\"clinical\"]].max(axis=1)\n",
    "feat1[\"Junior\"] = feat[[\"analyst\",\"associate\",\"coordinator\",\"developer\",\"software engineer\"]].max(axis=1)\n",
    "feat1[\"Senior\"] = feat[[\"specialist\",\"statistical\",\"senior\",\"scientist\",\"lead\",\"director\"]].max(axis=1)\n",
    "feat1[\"Data_science\"] = feat[[\"big data\",\"data scientist\",\"machine learning\",\"quantitative\",\"research\", \"research analyst\"]].max(axis=1)"
   ]
  },
  {
   "cell_type": "code",
   "execution_count": 144,
   "metadata": {
    "collapsed": false
   },
   "outputs": [
    {
     "name": "stdout",
     "output_type": "stream",
     "text": [
      "   Engineer  Medical  Junior  Senior  Data_science  Job_segment\n",
      "0         0        0       1       0             1            1\n",
      "1         0        0       0       1             0            1\n",
      "2         0        0       1       0             1            1\n",
      "3         0        0       0       0             0            1\n",
      "4         0        0       0       1             0            1\n"
     ]
    }
   ],
   "source": [
    "New_X = pd.concat([feat1, pd.DataFrame(USA6[\"Job_segment\"])], axis=1)\n",
    "print New_X.head()"
   ]
  },
  {
   "cell_type": "code",
   "execution_count": 145,
   "metadata": {
    "collapsed": true
   },
   "outputs": [],
   "source": [
    "X_train, X_test, y_train, y_test = train_test_split(New_X,y, test_size=0.2, random_state=10)"
   ]
  },
  {
   "cell_type": "code",
   "execution_count": 146,
   "metadata": {
    "collapsed": false
   },
   "outputs": [
    {
     "name": "stdout",
     "output_type": "stream",
     "text": [
      "Optimization terminated successfully.\n",
      "         Current function value: 0.607585\n",
      "         Iterations 6\n"
     ]
    },
    {
     "data": {
      "text/html": [
       "<table class=\"simpletable\">\n",
       "<caption>Logit Regression Results</caption>\n",
       "<tr>\n",
       "  <th>Dep. Variable:</th>    <td>Salary_New</td>    <th>  No. Observations:  </th>  <td>   178</td>  \n",
       "</tr>\n",
       "<tr>\n",
       "  <th>Model:</th>               <td>Logit</td>      <th>  Df Residuals:      </th>  <td>   172</td>  \n",
       "</tr>\n",
       "<tr>\n",
       "  <th>Method:</th>               <td>MLE</td>       <th>  Df Model:          </th>  <td>     5</td>  \n",
       "</tr>\n",
       "<tr>\n",
       "  <th>Date:</th>          <td>Mon, 07 Nov 2016</td> <th>  Pseudo R-squ.:     </th>  <td>0.1234</td>  \n",
       "</tr>\n",
       "<tr>\n",
       "  <th>Time:</th>              <td>22:55:30</td>     <th>  Log-Likelihood:    </th> <td> -108.15</td> \n",
       "</tr>\n",
       "<tr>\n",
       "  <th>converged:</th>           <td>True</td>       <th>  LL-Null:           </th> <td> -123.38</td> \n",
       "</tr>\n",
       "<tr>\n",
       "  <th> </th>                      <td> </td>        <th>  LLR p-value:       </th> <td>1.197e-05</td>\n",
       "</tr>\n",
       "</table>\n",
       "<table class=\"simpletable\">\n",
       "<tr>\n",
       "        <td></td>          <th>coef</th>     <th>std err</th>      <th>z</th>      <th>P>|z|</th> <th>[95.0% Conf. Int.]</th> \n",
       "</tr>\n",
       "<tr>\n",
       "  <th>Engineer</th>     <td>    1.4466</td> <td>    0.611</td> <td>    2.369</td> <td> 0.018</td> <td>    0.250     2.643</td>\n",
       "</tr>\n",
       "<tr>\n",
       "  <th>Medical</th>      <td>   -0.5360</td> <td>    0.564</td> <td>   -0.950</td> <td> 0.342</td> <td>   -1.641     0.570</td>\n",
       "</tr>\n",
       "<tr>\n",
       "  <th>Junior</th>       <td>   -0.9605</td> <td>    0.362</td> <td>   -2.657</td> <td> 0.008</td> <td>   -1.669    -0.252</td>\n",
       "</tr>\n",
       "<tr>\n",
       "  <th>Senior</th>       <td>   -0.7243</td> <td>    0.308</td> <td>   -2.350</td> <td> 0.019</td> <td>   -1.328    -0.120</td>\n",
       "</tr>\n",
       "<tr>\n",
       "  <th>Data_science</th> <td>    0.1087</td> <td>    0.356</td> <td>    0.305</td> <td> 0.760</td> <td>   -0.590     0.807</td>\n",
       "</tr>\n",
       "<tr>\n",
       "  <th>Job_segment</th>  <td>    1.2703</td> <td>    0.304</td> <td>    4.174</td> <td> 0.000</td> <td>    0.674     1.867</td>\n",
       "</tr>\n",
       "</table>"
      ],
      "text/plain": [
       "<class 'statsmodels.iolib.summary.Summary'>\n",
       "\"\"\"\n",
       "                           Logit Regression Results                           \n",
       "==============================================================================\n",
       "Dep. Variable:             Salary_New   No. Observations:                  178\n",
       "Model:                          Logit   Df Residuals:                      172\n",
       "Method:                           MLE   Df Model:                            5\n",
       "Date:                Mon, 07 Nov 2016   Pseudo R-squ.:                  0.1234\n",
       "Time:                        22:55:30   Log-Likelihood:                -108.15\n",
       "converged:                       True   LL-Null:                       -123.38\n",
       "                                        LLR p-value:                 1.197e-05\n",
       "================================================================================\n",
       "                   coef    std err          z      P>|z|      [95.0% Conf. Int.]\n",
       "--------------------------------------------------------------------------------\n",
       "Engineer         1.4466      0.611      2.369      0.018         0.250     2.643\n",
       "Medical         -0.5360      0.564     -0.950      0.342        -1.641     0.570\n",
       "Junior          -0.9605      0.362     -2.657      0.008        -1.669    -0.252\n",
       "Senior          -0.7243      0.308     -2.350      0.019        -1.328    -0.120\n",
       "Data_science     0.1087      0.356      0.305      0.760        -0.590     0.807\n",
       "Job_segment      1.2703      0.304      4.174      0.000         0.674     1.867\n",
       "================================================================================\n",
       "\"\"\""
      ]
     },
     "execution_count": 146,
     "metadata": {},
     "output_type": "execute_result"
    }
   ],
   "source": [
    "smf.Logit(y, New_X).fit().summary()"
   ]
  },
  {
   "cell_type": "code",
   "execution_count": 135,
   "metadata": {
    "collapsed": false
   },
   "outputs": [
    {
     "name": "stdout",
     "output_type": "stream",
     "text": [
      "Accuracy: 0.590229885057\n"
     ]
    }
   ],
   "source": [
    "lm = LogisticRegression(penalty='l2', C=0.00001)\n",
    "scores = cross_val_score(lm, New_X, y)\n",
    "print \"Accuracy:\" , scores.mean()"
   ]
  },
  {
   "cell_type": "code",
   "execution_count": 136,
   "metadata": {
    "collapsed": false
   },
   "outputs": [
    {
     "name": "stdout",
     "output_type": "stream",
     "text": [
      "Accuracy: 0.5\n"
     ]
    }
   ],
   "source": [
    "lm1 = LogisticRegression(penalty='l1', C=.0001)\n",
    "scores1 = cross_val_score(lm1, New_X, y)\n",
    "print \"Accuracy:\" , scores1.mean()"
   ]
  },
  {
   "cell_type": "markdown",
   "metadata": {},
   "source": [
    "If I leave the state out, the predictions are better. \n",
    "The Variable Data science suggest that the job title has data science, scientist, data scientist, research in the title, however the logistic regression suggests that this variable is insignificant, as p value is very high\n",
    "\n",
    "It looks like Job segment is the most significant variable in predicting if the job will hve salary more than 50K. Junior and senior job titles seem to be negatively coreleted for preficting the, if the employee will have high salary\n",
    "\n",
    "Logistic regression is performing a bit better here. However since the sample size is too low, the results can be checked with caustion.\n",
    "\n"
   ]
  }
 ],
 "metadata": {
  "anaconda-cloud": {},
  "kernelspec": {
   "display_name": "Python [Root]",
   "language": "python",
   "name": "Python [Root]"
  },
  "language_info": {
   "codemirror_mode": {
    "name": "ipython",
    "version": 2
   },
   "file_extension": ".py",
   "mimetype": "text/x-python",
   "name": "python",
   "nbconvert_exporter": "python",
   "pygments_lexer": "ipython2",
   "version": "2.7.12"
  }
 },
 "nbformat": 4,
 "nbformat_minor": 0
}
